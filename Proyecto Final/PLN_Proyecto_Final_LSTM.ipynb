{
  "nbformat": 4,
  "nbformat_minor": 0,
  "metadata": {
    "colab": {
      "provenance": [],
      "authorship_tag": "ABX9TyNeWsQrl2avl3v078nnTVwq",
      "include_colab_link": true
    },
    "kernelspec": {
      "name": "python3",
      "display_name": "Python 3"
    },
    "language_info": {
      "name": "python"
    }
  },
  "cells": [
    {
      "cell_type": "markdown",
      "metadata": {
        "id": "view-in-github",
        "colab_type": "text"
      },
      "source": [
        "<a href=\"https://colab.research.google.com/github/mottasilvia/UCU-NLP/blob/main/Proyecto%20Final/PLN_Proyecto_Final_LSTM.ipynb\" target=\"_parent\"><img src=\"https://colab.research.google.com/assets/colab-badge.svg\" alt=\"Open In Colab\"/></a>"
      ]
    },
    {
      "cell_type": "markdown",
      "source": [
        "PLN_Proyecto_Final_LSTM.ipynb"
      ],
      "metadata": {
        "id": "72aQAEff2x_t"
      }
    },
    {
      "cell_type": "markdown",
      "source": [
        "El objetivo de este notebook es clasificar mensajes de texto en diferentes categorías utilizando redes neuronales recurrentes (RNN) con Long Short-Term Memory (LSTM) y varios enfoques respecto a los embeddings: embeddings aleatorios entrenados desde cero y embeddings preentrenados de Word2Vec"
      ],
      "metadata": {
        "id": "SGybD4DhW-OR"
      }
    },
    {
      "cell_type": "markdown",
      "source": [
        "| **Clase**                    | **Precision (RNN)** | **Recall (RNN)** | **F1-score (RNN)** | **Support (RNN)** | **Precision (Word2Vec)** | **Recall (Word2Vec)** | **F1-score (Word2Vec)** | **Support (Word2Vec)** |\n",
        "|------------------------------|---------------------|------------------|--------------------|-------------------|-------------------------|----------------------|------------------------|------------------------|\n",
        "| agradecimiento o saludo      | 0.90                | 0.93             | 0.91               | 470               | 0.89                    | 0.93                 | 0.91                   | 470                    |\n",
        "| baja                         | 0.91                | 0.71             | 0.80               | 14                | 1.00                    | 0.43                 | 0.60                   | 14                     |\n",
        "| equivocado                   | 0.73                | 0.57             | 0.64               | 14                | 1.00                    | 0.14                 | 0.25                   | 14                     |\n",
        "| glicemia                     | 1.00                | 0.12             | 0.22               | 16                | 0.40                    | 0.12                 | 0.19                   | 16                     |\n",
        "| medicación o turno           | 0.58                | 0.56             | 0.57               | 39                | 0.35                    | 0.49                 | 0.41                   | 39                     |\n",
        "| optin                        | 0.96                | 0.90             | 0.93               | 368               | 0.98                    | 0.89                 | 0.93                   | 368                    |\n",
        "| otros                        | 0.65                | 0.69             | 0.67               | 62                | 0.78                    | 0.40                 | 0.53                   | 62                     |\n",
        "| respuesta                    | 0.82                | 0.87             | 0.84               | 422               | 0.75                    | 0.87                 | 0.81                   | 422                    |\n",
        "| nan                          | 0.50                | 0.33             | 0.40               | 6                 | 0.60                    | 0.50                 | 0.55                   | 6                      |\n",
        "| **accuracy**                 |                     |                  | 0.87               | 1411              |                         |                      | 0.84                   | 1411                   |\n",
        "| **macro avg**                | 0.78                | 0.63             | 0.67               | 1411              | 0.75                    | 0.53                 | 0.58                   | 1411                   |\n",
        "| **weighted avg**             | 0.87                | 0.87             | 0.86               | 1411              | 0.85                    | 0.84                 | 0.84                   | 1411                   |\n"
      ],
      "metadata": {
        "id": "FkYDFJAgXmNL"
      }
    },
    {
      "cell_type": "code",
      "source": [],
      "metadata": {
        "id": "oWSvPwaK2xg2"
      },
      "execution_count": null,
      "outputs": []
    },
    {
      "cell_type": "code",
      "source": [
        "# pandas, openpyxl y emoji\n",
        "!pip install pandas openpyxl emoji"
      ],
      "metadata": {
        "colab": {
          "base_uri": "https://localhost:8080/"
        },
        "id": "0nCP8JsXZXBs",
        "outputId": "c97ddbbd-6dc2-419f-ee47-b72257cce1d2",
        "collapsed": true
      },
      "execution_count": null,
      "outputs": [
        {
          "output_type": "stream",
          "name": "stdout",
          "text": [
            "Requirement already satisfied: pandas in /usr/local/lib/python3.10/dist-packages (2.0.3)\n",
            "Requirement already satisfied: openpyxl in /usr/local/lib/python3.10/dist-packages (3.1.5)\n",
            "Collecting emoji\n",
            "  Downloading emoji-2.12.1-py3-none-any.whl (431 kB)\n",
            "\u001b[2K     \u001b[90m━━━━━━━━━━━━━━━━━━━━━━━━━━━━━━━━━━━━━━━━\u001b[0m \u001b[32m431.4/431.4 kB\u001b[0m \u001b[31m6.0 MB/s\u001b[0m eta \u001b[36m0:00:00\u001b[0m\n",
            "\u001b[?25hRequirement already satisfied: python-dateutil>=2.8.2 in /usr/local/lib/python3.10/dist-packages (from pandas) (2.8.2)\n",
            "Requirement already satisfied: pytz>=2020.1 in /usr/local/lib/python3.10/dist-packages (from pandas) (2023.4)\n",
            "Requirement already satisfied: tzdata>=2022.1 in /usr/local/lib/python3.10/dist-packages (from pandas) (2024.1)\n",
            "Requirement already satisfied: numpy>=1.21.0 in /usr/local/lib/python3.10/dist-packages (from pandas) (1.25.2)\n",
            "Requirement already satisfied: et-xmlfile in /usr/local/lib/python3.10/dist-packages (from openpyxl) (1.1.0)\n",
            "Requirement already satisfied: typing-extensions>=4.7.0 in /usr/local/lib/python3.10/dist-packages (from emoji) (4.12.2)\n",
            "Requirement already satisfied: six>=1.5 in /usr/local/lib/python3.10/dist-packages (from python-dateutil>=2.8.2->pandas) (1.16.0)\n",
            "Installing collected packages: emoji\n",
            "Successfully installed emoji-2.12.1\n"
          ]
        }
      ]
    },
    {
      "cell_type": "code",
      "execution_count": null,
      "metadata": {
        "colab": {
          "base_uri": "https://localhost:8080/"
        },
        "id": "M1CKaS32ZNHx",
        "outputId": "eefef99f-6db4-4199-9703-a16a2b6f0032"
      },
      "outputs": [
        {
          "output_type": "stream",
          "name": "stdout",
          "text": [
            "Num GPUs Available:  0\n",
            "Please install GPU version of TF\n",
            "Drive already mounted at /content/drive; to attempt to forcibly remount, call drive.mount(\"/content/drive\", force_remount=True).\n",
            "Datos cargados:\n",
            "   id_participante  id_mensaje  \\\n",
            "0               43         223   \n",
            "1              265        1056   \n",
            "2              425        1575   \n",
            "3              429        1590   \n",
            "4              921        3030   \n",
            "\n",
            "                                             enviado       tipo subtipo  \\\n",
            "0   ¡Limpiar la casa, subir escaleras, trabajar e...  educativo       0   \n",
            "1   ¡Limpiar la casa, subir escaleras, trabajar e...  educativo       0   \n",
            "2   ¡Limpiar la casa, subir escaleras, trabajar e...  educativo       0   \n",
            "3   ¡Limpiar la casa, subir escaleras, trabajar e...  educativo       0   \n",
            "4   ¡Limpiar la casa, subir escaleras, trabajar e...  educativo       0   \n",
            "\n",
            "                                            recibido  \\\n",
            "0                                               👍🏽🫶🏽   \n",
            "1                                           Hola....   \n",
            "2                                       👏🏻👏🏻 gracias   \n",
            "3                                            Gracias   \n",
            "4  Hola .. si suele..cuando me...desvelo..o de ta...   \n",
            "\n",
            "                            clase  \n",
            "0                  agradecimiento  \n",
            "1                          saludo  \n",
            "2                  agradecimiento  \n",
            "3                  agradecimiento  \n",
            "4  respuesta a consejo o pregunta  \n",
            "Datos después de convertir emoticones a texto:\n",
            "   id_participante  id_mensaje  \\\n",
            "0               43         223   \n",
            "1              265        1056   \n",
            "2              425        1575   \n",
            "3              429        1590   \n",
            "4              921        3030   \n",
            "\n",
            "                                             enviado       tipo subtipo  \\\n",
            "0   ¡Limpiar la casa, subir escaleras, trabajar e...  educativo       0   \n",
            "1   ¡Limpiar la casa, subir escaleras, trabajar e...  educativo       0   \n",
            "2   ¡Limpiar la casa, subir escaleras, trabajar e...  educativo       0   \n",
            "3   ¡Limpiar la casa, subir escaleras, trabajar e...  educativo       0   \n",
            "4   ¡Limpiar la casa, subir escaleras, trabajar e...  educativo       0   \n",
            "\n",
            "                                            recibido  \\\n",
            "0  :thumbs_up_medium_skin_tone::heart_hands_mediu...   \n",
            "1                                           Hola....   \n",
            "2  :clapping_hands_light_skin_tone::clapping_hand...   \n",
            "3                                            Gracias   \n",
            "4  Hola .. si suele..cuando me...desvelo..o de ta...   \n",
            "\n",
            "                            clase  \n",
            "0                  agradecimiento  \n",
            "1                          saludo  \n",
            "2                  agradecimiento  \n",
            "3                  agradecimiento  \n",
            "4  respuesta a consejo o pregunta  \n",
            "Cantidad de filas antes de la limpieza: 7051\n",
            "Cantidad de filas después de la limpieza: 7049\n",
            "clase\n",
            "agradecimiento o saludo    2260\n",
            "baja                        113\n",
            "equivocado                   71\n",
            "glicemia                     87\n",
            "medicación o turno          195\n",
            "optin                      1832\n",
            "otros                       355\n",
            "respuesta                  2096\n",
            "Name: count, dtype: int64\n"
          ]
        }
      ],
      "source": [
        "# Importación de librerías y configuración inicial\n",
        "import numpy as np\n",
        "import pandas as pd\n",
        "from sklearn.feature_extraction.text import TfidfVectorizer\n",
        "from tqdm import tqdm\n",
        "from sklearn.model_selection import train_test_split\n",
        "from sklearn.ensemble import RandomForestClassifier\n",
        "from sklearn.metrics import accuracy_score, classification_report\n",
        "import tensorflow as tf\n",
        "from tensorflow.keras.preprocessing.text import Tokenizer\n",
        "from tensorflow.keras.models import Sequential\n",
        "from tensorflow.keras.layers import Embedding, LSTM, Dense, SpatialDropout1D, Bidirectional\n",
        "from tensorflow.keras.optimizers import Adam\n",
        "from tensorflow.keras.preprocessing.sequence import pad_sequences\n",
        "from sklearn.preprocessing import LabelEncoder\n",
        "from google.colab import drive\n",
        "import emoji\n",
        "import matplotlib.pyplot as plt\n",
        "import seaborn as sns\n",
        "\n",
        "# Verificar la disponibilidad de la GPU\n",
        "print(\"Num GPUs Available: \", len(tf.config.experimental.list_physical_devices('GPU')))\n",
        "if tf.test.gpu_device_name():\n",
        "    print('Default GPU Device: {}'.format(tf.test.gpu_device_name()))\n",
        "else:\n",
        "    print(\"Please install GPU version of TF\")\n",
        "\n",
        "# Montar Google Drive\n",
        "drive.mount('/content/drive')\n",
        "file_path = '/content/drive/MyDrive/UCU-NLP/mensajes_trabajo_final.xlsx'\n",
        "\n",
        "# Cargar el archivo Excel\n",
        "data = pd.read_excel(file_path)\n",
        "print(\"Datos cargados:\")\n",
        "print(data.head())\n",
        "\n",
        "# Diccionario de traducciones de emojis de inglés a español\n",
        "emoji_translations = {\n",
        "    \":grinning_face:\": \":cara_sonriendo:\",\n",
        "    # (añadir todas las traducciones necesarias)\n",
        "}\n",
        "\n",
        "# Función para convertir emoticones a texto y luego traducirlos al español\n",
        "def convertir_emoticones(texto):\n",
        "    if isinstance(texto, str):\n",
        "        texto_emoji = emoji.demojize(texto, delimiters=(\":\", \":\"))\n",
        "        for en, es in emoji_translations.items():\n",
        "            texto_emoji = texto_emoji.replace(en, es)\n",
        "        return texto_emoji\n",
        "    else:\n",
        "        return texto\n",
        "\n",
        "# Aplicar la función para convertir emoticones a la columna 'recibido'\n",
        "data['recibido'] = data['recibido'].apply(convertir_emoticones)\n",
        "print(\"Datos después de convertir emoticones a texto:\")\n",
        "print(data.head())\n",
        "\n",
        "# Eliminar las filas con valores nulos en la columna 'tipo'\n",
        "data_limpia = data.dropna(subset=['tipo'])\n",
        "print(f\"Cantidad de filas antes de la limpieza: {data.shape[0]}\")\n",
        "print(f\"Cantidad de filas después de la limpieza: {data_limpia.shape[0]}\")\n",
        "\n",
        "# Crear un nuevo DataFrame solo con las columnas 'recibido' y 'clase'\n",
        "df = data[['recibido', 'clase']]\n",
        "\n",
        "\n",
        "\n",
        "# Agrupar clases similares\n",
        "df.loc[df['clase'] == 'agradecimiento', 'clase'] = 'agradecimiento o saludo'\n",
        "df.loc[df['clase'] == 'saludo', 'clase'] = 'agradecimiento o saludo'\n",
        "df.loc[df['clase'] == 'medicación', 'clase'] = 'medicación o turno'\n",
        "df.loc[df['clase'] == 'turno', 'clase'] = 'medicación o turno'\n",
        "df.loc[df['clase'] == 'queja', 'clase'] = 'otros'\n",
        "df.loc[df['clase'] == 'pregunta', 'clase'] = 'otros'\n",
        "df.loc[df['clase'] == 'autorespuesta', 'clase'] = 'otros'\n",
        "df.loc[df['clase'] == 'respuesta a consejo o pregunta', 'clase'] = 'respuesta'\n",
        "\n",
        "\n",
        "# Visualización de la distribución de clases\n",
        "class_counts = df['clase'].value_counts().sort_index()\n",
        "print(class_counts)\n"
      ]
    },
    {
      "cell_type": "code",
      "source": [
        "\n",
        "colors = plt.get_cmap('tab20')\n",
        "fig, ax = plt.subplots(1, 2, figsize=(14, 8))\n",
        "ax[0].bar(class_counts.index, class_counts.values, color=colors(range(len(class_counts))))\n",
        "ax[0].set_title('Distribución de Clases - Gráfico de Barras')\n",
        "ax[0].set_xlabel('Clase')\n",
        "ax[0].set_ylabel('Frecuencia')\n",
        "ax[0].tick_params(axis='x', rotation=90)\n",
        "ax[1].pie(class_counts.values, labels=class_counts.index, autopct='%1.1f%%', colors=colors(range(len(class_counts))))\n",
        "ax[1].set_title('Distribución de Clases - Gráfico de Torta')\n",
        "plt.tight_layout()\n",
        "plt.show()\n",
        "\n",
        "\n",
        "# Verificar y convertir el tipo de dato de la columna 'recibido' a string si es necesario\n",
        "if df['recibido'].dtype != object:\n",
        "    df['recibido'] = df['recibido'].astype(str)\n",
        "non_string_values = df['recibido'][~df['recibido'].apply(lambda x: isinstance(x, str))]\n",
        "print(\"Non-string values in 'recibido':\", non_string_values)\n",
        "df['recibido'] = df['recibido'].apply(lambda x: x if isinstance(x, str) else '')\n",
        "\n",
        "# Vectorización del texto usando TF-IDF\n",
        "vectorizer = TfidfVectorizer()\n",
        "X_tfidf = vectorizer.fit_transform(df['recibido'])\n",
        "y = df['clase']\n",
        "X_train_tfidf, X_test_tfidf, y_train, y_test = train_test_split(X_tfidf, y, test_size=0.2, random_state=42)\n",
        "\n",
        "# Tokenización y secuencias para redes neuronales\n",
        "tokenizer = Tokenizer()\n",
        "tokenizer.fit_on_texts(df['recibido'])\n",
        "X_seq = tokenizer.texts_to_sequences(df['recibido'])\n",
        "max_length = max([len(x) for x in X_seq])\n",
        "X_padded = pad_sequences(X_seq, maxlen=max_length)\n",
        "X_train_seq, X_test_seq, y_train_seq, y_test_seq = train_test_split(X_padded, y, test_size=0.2, random_state=42)\n",
        "\n",
        "\n",
        "# Convertir etiquetas a numéricas\n",
        "le = LabelEncoder()\n",
        "y_train_seq = le.fit_transform(y_train_seq.astype(str)) # Asegurar que las etiquetas son de tipo string\n",
        "y_test_seq = le.transform(y_test_seq.astype(str)) # Asegurar que las etiquetas son de tipo string\n"
      ],
      "metadata": {
        "colab": {
          "base_uri": "https://localhost:8080/",
          "height": 596
        },
        "id": "rvIXmMZYafxL",
        "outputId": "69672006-1b9b-4bf4-91b3-f4357fe4612f"
      },
      "execution_count": null,
      "outputs": [
        {
          "output_type": "display_data",
          "data": {
            "text/plain": [
              "<Figure size 1400x800 with 2 Axes>"
            ],
            "image/png": "[encoded data removed]"
          },
          "metadata": {}
        },
        {
          "output_type": "stream",
          "name": "stdout",
          "text": [
            "Non-string values in 'recibido': 782    9\n",
            "Name: recibido, dtype: object\n"
          ]
        },
        {
          "output_type": "stream",
          "name": "stderr",
          "text": [
            "<ipython-input-5-e47911092d37>:19: SettingWithCopyWarning: \n",
            "A value is trying to be set on a copy of a slice from a DataFrame.\n",
            "Try using .loc[row_indexer,col_indexer] = value instead\n",
            "\n",
            "See the caveats in the documentation: https://pandas.pydata.org/pandas-docs/stable/user_guide/indexing.html#returning-a-view-versus-a-copy\n",
            "  df['recibido'] = df['recibido'].apply(lambda x: x if isinstance(x, str) else '')\n"
          ]
        }
      ]
    },
    {
      "cell_type": "markdown",
      "source": [
        "# Embeddings Aleatorios Entrenados desde Cero\n",
        "\n",
        "\n",
        "\n"
      ],
      "metadata": {
        "id": "xmfsP-yq47TC"
      }
    },
    {
      "cell_type": "code",
      "source": [
        "\n",
        "\n",
        "# Creación del modelo RNN (LSTM)\n",
        "def create_rnn_model():\n",
        "    model = Sequential()\n",
        "    model.add(Embedding(input_dim=len(tokenizer.word_index) + 1, output_dim=128, input_length=max_length))\n",
        "    model.add(SpatialDropout1D(0.2))\n",
        "    model.add(LSTM(100, dropout=0.2, recurrent_dropout=0.2))\n",
        "    model.add(Dense(9, activation='softmax'))\n",
        "    model.compile(loss='sparse_categorical_crossentropy', optimizer=Adam(), metrics=['accuracy'])\n",
        "    return model\n",
        "\n",
        "# Entrenamiento y evaluación del modelo RNN (LSTM)\n",
        "rnn_model = create_rnn_model()\n",
        "rnn_model.fit(X_train_seq, y_train_seq, epochs=5, batch_size=64, validation_split=0.1)\n",
        "y_pred_rnn = rnn_model.predict(X_test_seq)\n",
        "y_pred_rnn = np.argmax(y_pred_rnn, axis=1)\n",
        "print(\"RNN (LSTM) Model\")\n",
        "print(f\"Accuracy: {accuracy_score(y_test_seq, y_pred_rnn)}\")\n",
        "print(classification_report(y_test_seq, y_pred_rnn, target_names=le.classes_))\n"
      ],
      "metadata": {
        "colab": {
          "base_uri": "https://localhost:8080/",
          "height": 586
        },
        "id": "0Q7BNkp5aX2s",
        "outputId": "93493486-231e-4c3a-f142-dd5f18aeaec6"
      },
      "execution_count": null,
      "outputs": [
        {
          "output_type": "stream",
          "name": "stdout",
          "text": [
            "Epoch 1/5\n",
            "80/80 [==============================] - 96s 1s/step - loss: 1.2993 - accuracy: 0.5818 - val_loss: 0.7935 - val_accuracy: 0.7535\n",
            "Epoch 2/5\n",
            "80/80 [==============================] - 72s 897ms/step - loss: 0.6857 - accuracy: 0.7971 - val_loss: 0.6489 - val_accuracy: 0.8067\n",
            "Epoch 3/5\n",
            "80/80 [==============================] - 74s 923ms/step - loss: 0.5498 - accuracy: 0.8310 - val_loss: 0.5833 - val_accuracy: 0.8156\n",
            "Epoch 4/5\n",
            "80/80 [==============================] - 74s 932ms/step - loss: 0.4250 - accuracy: 0.8729 - val_loss: 0.5264 - val_accuracy: 0.8404\n",
            "Epoch 5/5\n",
            "80/80 [==============================] - 74s 924ms/step - loss: 0.3402 - accuracy: 0.9009 - val_loss: 0.4869 - val_accuracy: 0.8369\n",
            "45/45 [==============================] - 5s 101ms/step\n",
            "RNN (LSTM) Model\n",
            "Accuracy: 0.8660524450744153\n"
          ]
        },
        {
          "output_type": "error",
          "ename": "TypeError",
          "evalue": "object of type 'float' has no len()",
          "traceback": [
            "\u001b[0;31m---------------------------------------------------------------------------\u001b[0m",
            "\u001b[0;31mTypeError\u001b[0m                                 Traceback (most recent call last)",
            "\u001b[0;32m<ipython-input-6-f9b08a884fc8>\u001b[0m in \u001b[0;36m<cell line: 18>\u001b[0;34m()\u001b[0m\n\u001b[1;32m     16\u001b[0m \u001b[0mprint\u001b[0m\u001b[0;34m(\u001b[0m\u001b[0;34m\"RNN (LSTM) Model\"\u001b[0m\u001b[0;34m)\u001b[0m\u001b[0;34m\u001b[0m\u001b[0;34m\u001b[0m\u001b[0m\n\u001b[1;32m     17\u001b[0m \u001b[0mprint\u001b[0m\u001b[0;34m(\u001b[0m\u001b[0;34mf\"Accuracy: {accuracy_score(y_test_seq, y_pred_rnn)}\"\u001b[0m\u001b[0;34m)\u001b[0m\u001b[0;34m\u001b[0m\u001b[0;34m\u001b[0m\u001b[0m\n\u001b[0;32m---> 18\u001b[0;31m \u001b[0mprint\u001b[0m\u001b[0;34m(\u001b[0m\u001b[0mclassification_report\u001b[0m\u001b[0;34m(\u001b[0m\u001b[0my_test_seq\u001b[0m\u001b[0;34m,\u001b[0m \u001b[0my_pred_rnn\u001b[0m\u001b[0;34m,\u001b[0m \u001b[0mtarget_names\u001b[0m\u001b[0;34m=\u001b[0m\u001b[0mle\u001b[0m\u001b[0;34m.\u001b[0m\u001b[0mclasses_\u001b[0m\u001b[0;34m)\u001b[0m\u001b[0;34m)\u001b[0m\u001b[0;34m\u001b[0m\u001b[0;34m\u001b[0m\u001b[0m\n\u001b[0m",
            "\u001b[0;32m/usr/local/lib/python3.10/dist-packages/sklearn/metrics/_classification.py\u001b[0m in \u001b[0;36mclassification_report\u001b[0;34m(y_true, y_pred, labels, target_names, sample_weight, digits, output_dict, zero_division)\u001b[0m\n\u001b[1;32m   2361\u001b[0m     \u001b[0;32melse\u001b[0m\u001b[0;34m:\u001b[0m\u001b[0;34m\u001b[0m\u001b[0;34m\u001b[0m\u001b[0m\n\u001b[1;32m   2362\u001b[0m         \u001b[0mlongest_last_line_heading\u001b[0m \u001b[0;34m=\u001b[0m \u001b[0;34m\"weighted avg\"\u001b[0m\u001b[0;34m\u001b[0m\u001b[0;34m\u001b[0m\u001b[0m\n\u001b[0;32m-> 2363\u001b[0;31m         \u001b[0mname_width\u001b[0m \u001b[0;34m=\u001b[0m \u001b[0mmax\u001b[0m\u001b[0;34m(\u001b[0m\u001b[0mlen\u001b[0m\u001b[0;34m(\u001b[0m\u001b[0mcn\u001b[0m\u001b[0;34m)\u001b[0m \u001b[0;32mfor\u001b[0m \u001b[0mcn\u001b[0m \u001b[0;32min\u001b[0m \u001b[0mtarget_names\u001b[0m\u001b[0;34m)\u001b[0m\u001b[0;34m\u001b[0m\u001b[0;34m\u001b[0m\u001b[0m\n\u001b[0m\u001b[1;32m   2364\u001b[0m         \u001b[0mwidth\u001b[0m \u001b[0;34m=\u001b[0m \u001b[0mmax\u001b[0m\u001b[0;34m(\u001b[0m\u001b[0mname_width\u001b[0m\u001b[0;34m,\u001b[0m \u001b[0mlen\u001b[0m\u001b[0;34m(\u001b[0m\u001b[0mlongest_last_line_heading\u001b[0m\u001b[0;34m)\u001b[0m\u001b[0;34m,\u001b[0m \u001b[0mdigits\u001b[0m\u001b[0;34m)\u001b[0m\u001b[0;34m\u001b[0m\u001b[0;34m\u001b[0m\u001b[0m\n\u001b[1;32m   2365\u001b[0m         \u001b[0mhead_fmt\u001b[0m \u001b[0;34m=\u001b[0m \u001b[0;34m\"{:>{width}s} \"\u001b[0m \u001b[0;34m+\u001b[0m \u001b[0;34m\" {:>9}\"\u001b[0m \u001b[0;34m*\u001b[0m \u001b[0mlen\u001b[0m\u001b[0;34m(\u001b[0m\u001b[0mheaders\u001b[0m\u001b[0;34m)\u001b[0m\u001b[0;34m\u001b[0m\u001b[0;34m\u001b[0m\u001b[0m\n",
            "\u001b[0;32m/usr/local/lib/python3.10/dist-packages/sklearn/metrics/_classification.py\u001b[0m in \u001b[0;36m<genexpr>\u001b[0;34m(.0)\u001b[0m\n\u001b[1;32m   2361\u001b[0m     \u001b[0;32melse\u001b[0m\u001b[0;34m:\u001b[0m\u001b[0;34m\u001b[0m\u001b[0;34m\u001b[0m\u001b[0m\n\u001b[1;32m   2362\u001b[0m         \u001b[0mlongest_last_line_heading\u001b[0m \u001b[0;34m=\u001b[0m \u001b[0;34m\"weighted avg\"\u001b[0m\u001b[0;34m\u001b[0m\u001b[0;34m\u001b[0m\u001b[0m\n\u001b[0;32m-> 2363\u001b[0;31m         \u001b[0mname_width\u001b[0m \u001b[0;34m=\u001b[0m \u001b[0mmax\u001b[0m\u001b[0;34m(\u001b[0m\u001b[0mlen\u001b[0m\u001b[0;34m(\u001b[0m\u001b[0mcn\u001b[0m\u001b[0;34m)\u001b[0m \u001b[0;32mfor\u001b[0m \u001b[0mcn\u001b[0m \u001b[0;32min\u001b[0m \u001b[0mtarget_names\u001b[0m\u001b[0;34m)\u001b[0m\u001b[0;34m\u001b[0m\u001b[0;34m\u001b[0m\u001b[0m\n\u001b[0m\u001b[1;32m   2364\u001b[0m         \u001b[0mwidth\u001b[0m \u001b[0;34m=\u001b[0m \u001b[0mmax\u001b[0m\u001b[0;34m(\u001b[0m\u001b[0mname_width\u001b[0m\u001b[0;34m,\u001b[0m \u001b[0mlen\u001b[0m\u001b[0;34m(\u001b[0m\u001b[0mlongest_last_line_heading\u001b[0m\u001b[0;34m)\u001b[0m\u001b[0;34m,\u001b[0m \u001b[0mdigits\u001b[0m\u001b[0;34m)\u001b[0m\u001b[0;34m\u001b[0m\u001b[0;34m\u001b[0m\u001b[0m\n\u001b[1;32m   2365\u001b[0m         \u001b[0mhead_fmt\u001b[0m \u001b[0;34m=\u001b[0m \u001b[0;34m\"{:>{width}s} \"\u001b[0m \u001b[0;34m+\u001b[0m \u001b[0;34m\" {:>9}\"\u001b[0m \u001b[0;34m*\u001b[0m \u001b[0mlen\u001b[0m\u001b[0;34m(\u001b[0m\u001b[0mheaders\u001b[0m\u001b[0;34m)\u001b[0m\u001b[0;34m\u001b[0m\u001b[0;34m\u001b[0m\u001b[0m\n",
            "\u001b[0;31mTypeError\u001b[0m: object of type 'float' has no len()"
          ]
        }
      ]
    },
    {
      "cell_type": "code",
      "source": [
        "# Imprimir el reporte de clasificación\n",
        "print(\"RNN (LSTM) Model\")\n",
        "print(f\"Accuracy: {accuracy_score(y_test_seq, y_pred_rnn)}\")\n",
        "print(classification_report(y_test_seq, y_pred_rnn, target_names=le.classes_.astype(str))) # Asegurar que las etiquetas son de tipo string"
      ],
      "metadata": {
        "colab": {
          "base_uri": "https://localhost:8080/"
        },
        "id": "V6qsCRXLc4o4",
        "outputId": "005a58bc-31ce-44e2-b893-a140f68575e5"
      },
      "execution_count": null,
      "outputs": [
        {
          "output_type": "stream",
          "name": "stdout",
          "text": [
            "RNN (LSTM) Model\n",
            "Accuracy: 0.8660524450744153\n",
            "                         precision    recall  f1-score   support\n",
            "\n",
            "agradecimiento o saludo       0.90      0.93      0.91       470\n",
            "                   baja       0.91      0.71      0.80        14\n",
            "             equivocado       0.73      0.57      0.64        14\n",
            "               glicemia       1.00      0.12      0.22        16\n",
            "     medicación o turno       0.58      0.56      0.57        39\n",
            "                  optin       0.96      0.90      0.93       368\n",
            "                  otros       0.65      0.69      0.67        62\n",
            "              respuesta       0.82      0.87      0.84       422\n",
            "                    nan       0.50      0.33      0.40         6\n",
            "\n",
            "               accuracy                           0.87      1411\n",
            "              macro avg       0.78      0.63      0.67      1411\n",
            "           weighted avg       0.87      0.87      0.86      1411\n",
            "\n"
          ]
        }
      ]
    },
    {
      "cell_type": "markdown",
      "source": [],
      "metadata": {
        "id": "Wyt0iVw3c5cg"
      }
    },
    {
      "cell_type": "markdown",
      "source": [
        "# Embeddings preentrenados de Word2Vec"
      ],
      "metadata": {
        "id": "-n3tbWvJ6Pkn"
      }
    },
    {
      "cell_type": "markdown",
      "source": [
        "Word2Vec ha sido entrenado en un vasto corpus de noticias y proporciona representaciones vectoriales para 3 millones de palabras y frases."
      ],
      "metadata": {
        "id": "yr_hmtyAD4V_"
      }
    },
    {
      "cell_type": "code",
      "source": [
        "import gensim.downloader as api\n",
        "\n",
        "# Descargar el modelo preentrenado de Word2Vec\n",
        "word2vec = api.load(\"word2vec-google-news-300\")\n",
        "\n",
        "# Verificación\n",
        "print(f\"Word2Vec model loaded with {len(word2vec.index_to_key)} words\")\n"
      ],
      "metadata": {
        "colab": {
          "base_uri": "https://localhost:8080/"
        },
        "id": "j5Xd7Oyz7N1t",
        "outputId": "1a096083-ace1-43b6-ceba-1a1f9ea1ea8e"
      },
      "execution_count": null,
      "outputs": [
        {
          "output_type": "stream",
          "name": "stdout",
          "text": [
            "[==================================================] 100.0% 1662.8/1662.8MB downloaded\n",
            "Word2Vec model loaded with 3000000 words\n"
          ]
        }
      ]
    },
    {
      "cell_type": "code",
      "source": [
        "import numpy as np\n",
        "\n",
        "# Crear la matriz de embeddings\n",
        "embedding_dim = 300\n",
        "embedding_matrix = np.zeros((len(tokenizer.word_index) + 1, embedding_dim))\n",
        "for word, i in tokenizer.word_index.items():\n",
        "    if word in word2vec:\n",
        "        embedding_matrix[i] = word2vec[word]\n",
        "    else:\n",
        "        embedding_matrix[i] = np.random.randn(embedding_dim)  # Opcionalmente, se pueden usar vectores aleatorios\n",
        "\n",
        "# Verificación\n",
        "print(f\"Embedding matrix shape: {embedding_matrix.shape}\")\n"
      ],
      "metadata": {
        "colab": {
          "base_uri": "https://localhost:8080/"
        },
        "id": "uoH7v--l_slu",
        "outputId": "1a2b0ddb-f83d-43b3-cdaa-408844b60c1a"
      },
      "execution_count": null,
      "outputs": [
        {
          "output_type": "stream",
          "name": "stdout",
          "text": [
            "Embedding matrix shape: (3229, 300)\n"
          ]
        }
      ]
    },
    {
      "cell_type": "code",
      "source": [
        "from tensorflow.keras.models import Sequential\n",
        "from tensorflow.keras.layers import Embedding, LSTM, Dense, SpatialDropout1D\n",
        "from tensorflow.keras.optimizers import Adam\n",
        "\n",
        "# Definir el modelo con embeddings preentrenados\n",
        "def create_rnn_model_with_pretrained_embeddings():\n",
        "    model = Sequential()\n",
        "    model.add(Embedding(input_dim=len(tokenizer.word_index) + 1,\n",
        "                        output_dim=embedding_dim,\n",
        "                        weights=[embedding_matrix],\n",
        "                        input_length=max_length,\n",
        "                        trainable=False))  # Ajustar a True si deseas que los embeddings se actualicen durante el entrenamiento\n",
        "    model.add(SpatialDropout1D(0.2))\n",
        "    model.add(LSTM(100, dropout=0.2, recurrent_dropout=0.2))\n",
        "    model.add(Dense(9, activation='softmax'))\n",
        "    model.compile(loss='sparse_categorical_crossentropy', optimizer=Adam(), metrics=['accuracy'])\n",
        "    return model\n",
        "\n"
      ],
      "metadata": {
        "id": "1SxZOUfQ_zX1"
      },
      "execution_count": null,
      "outputs": []
    },
    {
      "cell_type": "code",
      "source": [
        "# Crear el modelo\n",
        "rnn_model_pretrained = create_rnn_model_with_pretrained_embeddings()"
      ],
      "metadata": {
        "id": "JdTIB64Z_5zl"
      },
      "execution_count": null,
      "outputs": []
    },
    {
      "cell_type": "code",
      "source": [
        "\n",
        "# Entrenar el modelo\n",
        "rnn_model_pretrained.fit(X_train_seq, y_train_seq, epochs=5, batch_size=64, validation_split=0.1)"
      ],
      "metadata": {
        "colab": {
          "base_uri": "https://localhost:8080/"
        },
        "id": "-9LImXY-_8qa",
        "outputId": "5d112b87-4078-4860-8f91-964f4d2996ab"
      },
      "execution_count": null,
      "outputs": [
        {
          "output_type": "stream",
          "name": "stdout",
          "text": [
            "Epoch 1/5\n",
            "80/80 [==============================] - 138s 2s/step - loss: 1.0674 - accuracy: 0.6791 - val_loss: 0.7641 - val_accuracy: 0.7624\n",
            "Epoch 2/5\n",
            "80/80 [==============================] - 125s 2s/step - loss: 0.7128 - accuracy: 0.7835 - val_loss: 0.6594 - val_accuracy: 0.7926\n",
            "Epoch 3/5\n",
            "80/80 [==============================] - 130s 2s/step - loss: 0.6068 - accuracy: 0.8097 - val_loss: 0.6098 - val_accuracy: 0.8014\n",
            "Epoch 4/5\n",
            "80/80 [==============================] - 147s 2s/step - loss: 0.5329 - accuracy: 0.8359 - val_loss: 0.5725 - val_accuracy: 0.8191\n",
            "Epoch 5/5\n",
            "80/80 [==============================] - 150s 2s/step - loss: 0.4832 - accuracy: 0.8473 - val_loss: 0.5754 - val_accuracy: 0.8103\n"
          ]
        },
        {
          "output_type": "execute_result",
          "data": {
            "text/plain": [
              "<keras.src.callbacks.History at 0x7a165e6d5960>"
            ]
          },
          "metadata": {},
          "execution_count": 14
        }
      ]
    },
    {
      "cell_type": "code",
      "source": [
        "# Evaluación del modelo\n",
        "y_pred_rnn = rnn_model_pretrained.predict(X_test_seq)\n",
        "y_pred_rnn = np.argmax(y_pred_rnn, axis=1)\n",
        "print(\"RNN (LSTM) Model with Pretrained Word2Vec Embeddings\")\n",
        "print(f\"Accuracy: {accuracy_score(y_test_seq, y_pred_rnn)}\")\n",
        "print(classification_report(y_test_seq, y_pred_rnn, target_names=le.classes_))\n"
      ],
      "metadata": {
        "colab": {
          "base_uri": "https://localhost:8080/",
          "height": 386
        },
        "id": "IPHm-mO1_1q9",
        "outputId": "f6752231-0c25-46d7-ddf5-3f2dad8ea85e",
        "collapsed": true
      },
      "execution_count": null,
      "outputs": [
        {
          "output_type": "stream",
          "name": "stdout",
          "text": [
            "45/45 [==============================] - 15s 328ms/step\n",
            "RNN (LSTM) Model with Pretrained Word2Vec Embeddings\n",
            "Accuracy: 0.8405386250885897\n"
          ]
        },
        {
          "output_type": "error",
          "ename": "TypeError",
          "evalue": "object of type 'float' has no len()",
          "traceback": [
            "\u001b[0;31m---------------------------------------------------------------------------\u001b[0m",
            "\u001b[0;31mTypeError\u001b[0m                                 Traceback (most recent call last)",
            "\u001b[0;32m<ipython-input-16-d085c16f2d28>\u001b[0m in \u001b[0;36m<cell line: 6>\u001b[0;34m()\u001b[0m\n\u001b[1;32m      4\u001b[0m \u001b[0mprint\u001b[0m\u001b[0;34m(\u001b[0m\u001b[0;34m\"RNN (LSTM) Model with Pretrained Word2Vec Embeddings\"\u001b[0m\u001b[0;34m)\u001b[0m\u001b[0;34m\u001b[0m\u001b[0;34m\u001b[0m\u001b[0m\n\u001b[1;32m      5\u001b[0m \u001b[0mprint\u001b[0m\u001b[0;34m(\u001b[0m\u001b[0;34mf\"Accuracy: {accuracy_score(y_test_seq, y_pred_rnn)}\"\u001b[0m\u001b[0;34m)\u001b[0m\u001b[0;34m\u001b[0m\u001b[0;34m\u001b[0m\u001b[0m\n\u001b[0;32m----> 6\u001b[0;31m \u001b[0mprint\u001b[0m\u001b[0;34m(\u001b[0m\u001b[0mclassification_report\u001b[0m\u001b[0;34m(\u001b[0m\u001b[0my_test_seq\u001b[0m\u001b[0;34m,\u001b[0m \u001b[0my_pred_rnn\u001b[0m\u001b[0;34m,\u001b[0m \u001b[0mtarget_names\u001b[0m\u001b[0;34m=\u001b[0m\u001b[0mle\u001b[0m\u001b[0;34m.\u001b[0m\u001b[0mclasses_\u001b[0m\u001b[0;34m)\u001b[0m\u001b[0;34m)\u001b[0m\u001b[0;34m\u001b[0m\u001b[0;34m\u001b[0m\u001b[0m\n\u001b[0m",
            "\u001b[0;32m/usr/local/lib/python3.10/dist-packages/sklearn/metrics/_classification.py\u001b[0m in \u001b[0;36mclassification_report\u001b[0;34m(y_true, y_pred, labels, target_names, sample_weight, digits, output_dict, zero_division)\u001b[0m\n\u001b[1;32m   2361\u001b[0m     \u001b[0;32melse\u001b[0m\u001b[0;34m:\u001b[0m\u001b[0;34m\u001b[0m\u001b[0;34m\u001b[0m\u001b[0m\n\u001b[1;32m   2362\u001b[0m         \u001b[0mlongest_last_line_heading\u001b[0m \u001b[0;34m=\u001b[0m \u001b[0;34m\"weighted avg\"\u001b[0m\u001b[0;34m\u001b[0m\u001b[0;34m\u001b[0m\u001b[0m\n\u001b[0;32m-> 2363\u001b[0;31m         \u001b[0mname_width\u001b[0m \u001b[0;34m=\u001b[0m \u001b[0mmax\u001b[0m\u001b[0;34m(\u001b[0m\u001b[0mlen\u001b[0m\u001b[0;34m(\u001b[0m\u001b[0mcn\u001b[0m\u001b[0;34m)\u001b[0m \u001b[0;32mfor\u001b[0m \u001b[0mcn\u001b[0m \u001b[0;32min\u001b[0m \u001b[0mtarget_names\u001b[0m\u001b[0;34m)\u001b[0m\u001b[0;34m\u001b[0m\u001b[0;34m\u001b[0m\u001b[0m\n\u001b[0m\u001b[1;32m   2364\u001b[0m         \u001b[0mwidth\u001b[0m \u001b[0;34m=\u001b[0m \u001b[0mmax\u001b[0m\u001b[0;34m(\u001b[0m\u001b[0mname_width\u001b[0m\u001b[0;34m,\u001b[0m \u001b[0mlen\u001b[0m\u001b[0;34m(\u001b[0m\u001b[0mlongest_last_line_heading\u001b[0m\u001b[0;34m)\u001b[0m\u001b[0;34m,\u001b[0m \u001b[0mdigits\u001b[0m\u001b[0;34m)\u001b[0m\u001b[0;34m\u001b[0m\u001b[0;34m\u001b[0m\u001b[0m\n\u001b[1;32m   2365\u001b[0m         \u001b[0mhead_fmt\u001b[0m \u001b[0;34m=\u001b[0m \u001b[0;34m\"{:>{width}s} \"\u001b[0m \u001b[0;34m+\u001b[0m \u001b[0;34m\" {:>9}\"\u001b[0m \u001b[0;34m*\u001b[0m \u001b[0mlen\u001b[0m\u001b[0;34m(\u001b[0m\u001b[0mheaders\u001b[0m\u001b[0;34m)\u001b[0m\u001b[0;34m\u001b[0m\u001b[0;34m\u001b[0m\u001b[0m\n",
            "\u001b[0;32m/usr/local/lib/python3.10/dist-packages/sklearn/metrics/_classification.py\u001b[0m in \u001b[0;36m<genexpr>\u001b[0;34m(.0)\u001b[0m\n\u001b[1;32m   2361\u001b[0m     \u001b[0;32melse\u001b[0m\u001b[0;34m:\u001b[0m\u001b[0;34m\u001b[0m\u001b[0;34m\u001b[0m\u001b[0m\n\u001b[1;32m   2362\u001b[0m         \u001b[0mlongest_last_line_heading\u001b[0m \u001b[0;34m=\u001b[0m \u001b[0;34m\"weighted avg\"\u001b[0m\u001b[0;34m\u001b[0m\u001b[0;34m\u001b[0m\u001b[0m\n\u001b[0;32m-> 2363\u001b[0;31m         \u001b[0mname_width\u001b[0m \u001b[0;34m=\u001b[0m \u001b[0mmax\u001b[0m\u001b[0;34m(\u001b[0m\u001b[0mlen\u001b[0m\u001b[0;34m(\u001b[0m\u001b[0mcn\u001b[0m\u001b[0;34m)\u001b[0m \u001b[0;32mfor\u001b[0m \u001b[0mcn\u001b[0m \u001b[0;32min\u001b[0m \u001b[0mtarget_names\u001b[0m\u001b[0;34m)\u001b[0m\u001b[0;34m\u001b[0m\u001b[0;34m\u001b[0m\u001b[0m\n\u001b[0m\u001b[1;32m   2364\u001b[0m         \u001b[0mwidth\u001b[0m \u001b[0;34m=\u001b[0m \u001b[0mmax\u001b[0m\u001b[0;34m(\u001b[0m\u001b[0mname_width\u001b[0m\u001b[0;34m,\u001b[0m \u001b[0mlen\u001b[0m\u001b[0;34m(\u001b[0m\u001b[0mlongest_last_line_heading\u001b[0m\u001b[0;34m)\u001b[0m\u001b[0;34m,\u001b[0m \u001b[0mdigits\u001b[0m\u001b[0;34m)\u001b[0m\u001b[0;34m\u001b[0m\u001b[0;34m\u001b[0m\u001b[0m\n\u001b[1;32m   2365\u001b[0m         \u001b[0mhead_fmt\u001b[0m \u001b[0;34m=\u001b[0m \u001b[0;34m\"{:>{width}s} \"\u001b[0m \u001b[0;34m+\u001b[0m \u001b[0;34m\" {:>9}\"\u001b[0m \u001b[0;34m*\u001b[0m \u001b[0mlen\u001b[0m\u001b[0;34m(\u001b[0m\u001b[0mheaders\u001b[0m\u001b[0;34m)\u001b[0m\u001b[0;34m\u001b[0m\u001b[0;34m\u001b[0m\u001b[0m\n",
            "\u001b[0;31mTypeError\u001b[0m: object of type 'float' has no len()"
          ]
        }
      ]
    },
    {
      "cell_type": "code",
      "source": [
        "# Evaluación del modelo\n",
        "y_pred_rnn = rnn_model_pretrained.predict(X_test_seq)\n",
        "y_pred_rnn = np.argmax(y_pred_rnn, axis=1)\n",
        "print(\"RNN (LSTM) Model with Pretrained Word2Vec Embeddings\")\n",
        "print(f\"Accuracy: {accuracy_score(y_test_seq, y_pred_rnn)}\")\n",
        "\n",
        "# Convert le.classes_ to a list of strings if it's not already\n",
        "if not isinstance(le.classes_[0], str):\n",
        "    target_names = [str(class_name) for class_name in le.classes_]\n",
        "else:\n",
        "    target_names = le.classes_\n",
        "\n",
        "print(classification_report(y_test_seq, y_pred_rnn, target_names=target_names))"
      ],
      "metadata": {
        "colab": {
          "base_uri": "https://localhost:8080/",
          "height": 386
        },
        "id": "zQVVpurGEBh7",
        "outputId": "60f0e425-a706-4715-a333-0d55fa7c74e7",
        "collapsed": true
      },
      "execution_count": null,
      "outputs": [
        {
          "output_type": "stream",
          "name": "stdout",
          "text": [
            "45/45 [==============================] - 9s 191ms/step\n",
            "RNN (LSTM) Model with Pretrained Word2Vec Embeddings\n",
            "Accuracy: 0.8405386250885897\n"
          ]
        },
        {
          "output_type": "error",
          "ename": "TypeError",
          "evalue": "object of type 'float' has no len()",
          "traceback": [
            "\u001b[0;31m---------------------------------------------------------------------------\u001b[0m",
            "\u001b[0;31mTypeError\u001b[0m                                 Traceback (most recent call last)",
            "\u001b[0;32m<ipython-input-17-a8a3e6ebbe8a>\u001b[0m in \u001b[0;36m<cell line: 13>\u001b[0;34m()\u001b[0m\n\u001b[1;32m     11\u001b[0m     \u001b[0mtarget_names\u001b[0m \u001b[0;34m=\u001b[0m \u001b[0mle\u001b[0m\u001b[0;34m.\u001b[0m\u001b[0mclasses_\u001b[0m\u001b[0;34m\u001b[0m\u001b[0;34m\u001b[0m\u001b[0m\n\u001b[1;32m     12\u001b[0m \u001b[0;34m\u001b[0m\u001b[0m\n\u001b[0;32m---> 13\u001b[0;31m \u001b[0mprint\u001b[0m\u001b[0;34m(\u001b[0m\u001b[0mclassification_report\u001b[0m\u001b[0;34m(\u001b[0m\u001b[0my_test_seq\u001b[0m\u001b[0;34m,\u001b[0m \u001b[0my_pred_rnn\u001b[0m\u001b[0;34m,\u001b[0m \u001b[0mtarget_names\u001b[0m\u001b[0;34m=\u001b[0m\u001b[0mtarget_names\u001b[0m\u001b[0;34m)\u001b[0m\u001b[0;34m)\u001b[0m\u001b[0;34m\u001b[0m\u001b[0;34m\u001b[0m\u001b[0m\n\u001b[0m",
            "\u001b[0;32m/usr/local/lib/python3.10/dist-packages/sklearn/metrics/_classification.py\u001b[0m in \u001b[0;36mclassification_report\u001b[0;34m(y_true, y_pred, labels, target_names, sample_weight, digits, output_dict, zero_division)\u001b[0m\n\u001b[1;32m   2361\u001b[0m     \u001b[0;32melse\u001b[0m\u001b[0;34m:\u001b[0m\u001b[0;34m\u001b[0m\u001b[0;34m\u001b[0m\u001b[0m\n\u001b[1;32m   2362\u001b[0m         \u001b[0mlongest_last_line_heading\u001b[0m \u001b[0;34m=\u001b[0m \u001b[0;34m\"weighted avg\"\u001b[0m\u001b[0;34m\u001b[0m\u001b[0;34m\u001b[0m\u001b[0m\n\u001b[0;32m-> 2363\u001b[0;31m         \u001b[0mname_width\u001b[0m \u001b[0;34m=\u001b[0m \u001b[0mmax\u001b[0m\u001b[0;34m(\u001b[0m\u001b[0mlen\u001b[0m\u001b[0;34m(\u001b[0m\u001b[0mcn\u001b[0m\u001b[0;34m)\u001b[0m \u001b[0;32mfor\u001b[0m \u001b[0mcn\u001b[0m \u001b[0;32min\u001b[0m \u001b[0mtarget_names\u001b[0m\u001b[0;34m)\u001b[0m\u001b[0;34m\u001b[0m\u001b[0;34m\u001b[0m\u001b[0m\n\u001b[0m\u001b[1;32m   2364\u001b[0m         \u001b[0mwidth\u001b[0m \u001b[0;34m=\u001b[0m \u001b[0mmax\u001b[0m\u001b[0;34m(\u001b[0m\u001b[0mname_width\u001b[0m\u001b[0;34m,\u001b[0m \u001b[0mlen\u001b[0m\u001b[0;34m(\u001b[0m\u001b[0mlongest_last_line_heading\u001b[0m\u001b[0;34m)\u001b[0m\u001b[0;34m,\u001b[0m \u001b[0mdigits\u001b[0m\u001b[0;34m)\u001b[0m\u001b[0;34m\u001b[0m\u001b[0;34m\u001b[0m\u001b[0m\n\u001b[1;32m   2365\u001b[0m         \u001b[0mhead_fmt\u001b[0m \u001b[0;34m=\u001b[0m \u001b[0;34m\"{:>{width}s} \"\u001b[0m \u001b[0;34m+\u001b[0m \u001b[0;34m\" {:>9}\"\u001b[0m \u001b[0;34m*\u001b[0m \u001b[0mlen\u001b[0m\u001b[0;34m(\u001b[0m\u001b[0mheaders\u001b[0m\u001b[0;34m)\u001b[0m\u001b[0;34m\u001b[0m\u001b[0;34m\u001b[0m\u001b[0m\n",
            "\u001b[0;32m/usr/local/lib/python3.10/dist-packages/sklearn/metrics/_classification.py\u001b[0m in \u001b[0;36m<genexpr>\u001b[0;34m(.0)\u001b[0m\n\u001b[1;32m   2361\u001b[0m     \u001b[0;32melse\u001b[0m\u001b[0;34m:\u001b[0m\u001b[0;34m\u001b[0m\u001b[0;34m\u001b[0m\u001b[0m\n\u001b[1;32m   2362\u001b[0m         \u001b[0mlongest_last_line_heading\u001b[0m \u001b[0;34m=\u001b[0m \u001b[0;34m\"weighted avg\"\u001b[0m\u001b[0;34m\u001b[0m\u001b[0;34m\u001b[0m\u001b[0m\n\u001b[0;32m-> 2363\u001b[0;31m         \u001b[0mname_width\u001b[0m \u001b[0;34m=\u001b[0m \u001b[0mmax\u001b[0m\u001b[0;34m(\u001b[0m\u001b[0mlen\u001b[0m\u001b[0;34m(\u001b[0m\u001b[0mcn\u001b[0m\u001b[0;34m)\u001b[0m \u001b[0;32mfor\u001b[0m \u001b[0mcn\u001b[0m \u001b[0;32min\u001b[0m \u001b[0mtarget_names\u001b[0m\u001b[0;34m)\u001b[0m\u001b[0;34m\u001b[0m\u001b[0;34m\u001b[0m\u001b[0m\n\u001b[0m\u001b[1;32m   2364\u001b[0m         \u001b[0mwidth\u001b[0m \u001b[0;34m=\u001b[0m \u001b[0mmax\u001b[0m\u001b[0;34m(\u001b[0m\u001b[0mname_width\u001b[0m\u001b[0;34m,\u001b[0m \u001b[0mlen\u001b[0m\u001b[0;34m(\u001b[0m\u001b[0mlongest_last_line_heading\u001b[0m\u001b[0;34m)\u001b[0m\u001b[0;34m,\u001b[0m \u001b[0mdigits\u001b[0m\u001b[0;34m)\u001b[0m\u001b[0;34m\u001b[0m\u001b[0;34m\u001b[0m\u001b[0m\n\u001b[1;32m   2365\u001b[0m         \u001b[0mhead_fmt\u001b[0m \u001b[0;34m=\u001b[0m \u001b[0;34m\"{:>{width}s} \"\u001b[0m \u001b[0;34m+\u001b[0m \u001b[0;34m\" {:>9}\"\u001b[0m \u001b[0;34m*\u001b[0m \u001b[0mlen\u001b[0m\u001b[0;34m(\u001b[0m\u001b[0mheaders\u001b[0m\u001b[0;34m)\u001b[0m\u001b[0;34m\u001b[0m\u001b[0;34m\u001b[0m\u001b[0m\n",
            "\u001b[0;31mTypeError\u001b[0m: object of type 'float' has no len()"
          ]
        }
      ]
    },
    {
      "cell_type": "code",
      "source": [
        "# Evaluación del modelo\n",
        "y_pred_rnn = rnn_model_pretrained.predict(X_test_seq)\n",
        "y_pred_rnn = np.argmax(y_pred_rnn, axis=1)\n",
        "print(\"RNN (LSTM) Model with Pretrained Word2Vec Embeddings\")\n",
        "print(f\"Accuracy: {accuracy_score(y_test_seq, y_pred_rnn)}\")\n",
        "\n",
        "# Ensure target_names is a list of strings\n",
        "target_names = [str(class_name) for class_name in le.classes_]\n",
        "\n",
        "print(classification_report(y_test_seq, y_pred_rnn, target_names=target_names))"
      ],
      "metadata": {
        "colab": {
          "base_uri": "https://localhost:8080/"
        },
        "id": "KV3tW2ksEMG7",
        "outputId": "c11dfc35-1c1e-452b-d762-1f997796e3b9"
      },
      "execution_count": null,
      "outputs": [
        {
          "output_type": "stream",
          "name": "stdout",
          "text": [
            "45/45 [==============================] - 21s 457ms/step\n",
            "RNN (LSTM) Model with Pretrained Word2Vec Embeddings\n",
            "Accuracy: 0.8405386250885897\n",
            "                         precision    recall  f1-score   support\n",
            "\n",
            "agradecimiento o saludo       0.89      0.93      0.91       470\n",
            "                   baja       1.00      0.43      0.60        14\n",
            "             equivocado       1.00      0.14      0.25        14\n",
            "               glicemia       0.40      0.12      0.19        16\n",
            "     medicación o turno       0.35      0.49      0.41        39\n",
            "                  optin       0.98      0.89      0.93       368\n",
            "                  otros       0.78      0.40      0.53        62\n",
            "              respuesta       0.75      0.87      0.81       422\n",
            "                    nan       0.60      0.50      0.55         6\n",
            "\n",
            "               accuracy                           0.84      1411\n",
            "              macro avg       0.75      0.53      0.58      1411\n",
            "           weighted avg       0.85      0.84      0.84      1411\n",
            "\n"
          ]
        }
      ]
    }
  ]
}