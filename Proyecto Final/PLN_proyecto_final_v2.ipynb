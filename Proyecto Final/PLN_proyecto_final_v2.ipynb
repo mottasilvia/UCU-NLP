{
  "nbformat": 4,
  "nbformat_minor": 0,
  "metadata": {
    "colab": {
      "provenance": [],
      "gpuType": "T4",
      "include_colab_link": true
    },
    "kernelspec": {
      "name": "python3",
      "display_name": "Python 3"
    },
    "language_info": {
      "name": "python"
    },
    "accelerator": "GPU"
  },
  "cells": [
    {
      "cell_type": "markdown",
      "metadata": {
        "id": "view-in-github",
        "colab_type": "text"
      },
      "source": [
        "<a href=\"https://colab.research.google.com/github/mottasilvia/UCU-NLP/blob/proyecto_final/PLN_proyecto_final_v2.ipynb\" target=\"_parent\"><img src=\"https://colab.research.google.com/assets/colab-badge.svg\" alt=\"Open In Colab\"/></a>"
      ]
    },
    {
      "cell_type": "markdown",
      "source": [
        "# Clasificación de Mensajes   Usando Diferentes Modelos"
      ],
      "metadata": {
        "id": "yng1Ha6ZAICP"
      }
    },
    {
      "cell_type": "markdown",
      "source": [
        "Este notebook se enfoca en la clasificación de mensajes utilizando diversos enfoques de aprendizaje automático, incluyendo Random Forest, redes neuronales recurrentes (RNN, LSTM, GRU). Aquí se presentan los resultados"
      ],
      "metadata": {
        "id": "HHHi20wwAcyX"
      }
    },
    {
      "cell_type": "markdown",
      "source": [
        "# RESULTADOS"
      ],
      "metadata": {
        "id": "KEiXzv7i68XM"
      }
    },
    {
      "cell_type": "markdown",
      "source": [
        "## Resultados de los Modelos\n",
        "\n",
        "| **Clase**                 | **Random Forest ** | | | | **RNN (LSTM)  ** | | | | **GRU** | | | |\n",
        "|---------------------------|------------------------------|----|----|----|-------------------|----|----|----|------------|----|----|----|\n",
        "|                           | **Precision**                | **Recall** | **F1-score** | **Support** | **Precision**    | **Recall** | **F1-score** | **Support** | **Precision** | **Recall** | **F1-score** | **Support** |\n",
        "| agradecimiento o saludo   | 0.90                         | 0.93      | 0.91       | 476       | 0.93              | 0.90      | 0.92       | 476       | 0.92        | 0.93      | 0.93       | 476     |\n",
        "| baja                      | 1.00                         | 0.62      | 0.77       | 16        | 1.00              | 0.62      | 0.77       | 16        | 0.77        | 0.62      | 0.69       | 16      |\n",
        "| equivocado                | 0.85                         | 0.65      | 0.73       | 17        | 0.88              | 0.41      | 0.56       | 17        | 0.86        | 0.71      | 0.77       | 17      |\n",
        "| glicemia                  | 1.00                         | 0.12      | 0.21       | 17        | 0.00              | 0.00      | 0.00       | 17        | 0.44        | 0.41      | 0.42       | 17      |\n",
        "| medicación o turno        | 1.00                         | 0.23      | 0.37       | 35        | 0.40              | 0.60      | 0.48       | 35        | 0.47        | 0.51      | 0.49       | 35      |\n",
        "| optin                     | 0.99                         | 0.93      | 0.96       | 364       | 0.99              | 0.94      | 0.96       | 364       | 0.97        | 0.94      | 0.95       | 364     |\n",
        "| otros                     | 0.83                         | 0.48      | 0.61       | 81        | 0.78              | 0.47      | 0.58       | 81        | 0.71        | 0.68      | 0.70       | 81      |\n",
        "| respuesta                 | 0.73                         | 0.90      | 0.81       | 396       | 0.76              | 0.92      | 0.83       | 396       | 0.83        | 0.86      | 0.84       | 396     |\n",
        "| **accuracy**              | **0.86**                     |          |            | 1402      | **0.86**          |          |            | 1402      | **0.88**    |          |            | 1402    |\n",
        "| **macro avg**             | 0.91                         | 0.61      | 0.67       | 1402      | 0.72              | 0.61      | 0.64       | 1402      | 0.75        | 0.71      | 0.73       | 1402    |\n",
        "| **weighted avg**          | 0.88                         | 0.86      | 0.85       | 1402      | 0.87              | 0.86      | 0.86       | 1402      | 0.88        | 0.88      | 0.88       | 1402    |\n"
      ],
      "metadata": {
        "id": "qpGLTeWdL9xj"
      }
    },
    {
      "cell_type": "markdown",
      "source": [
        "# CONCLUSIONES"
      ],
      "metadata": {
        "id": "58D3T45a8h_v"
      }
    },
    {
      "cell_type": "markdown",
      "source": [
        "1. **Comparación General**\n",
        " -Random Forest Classifier: Muestra un buen rendimiento general pero tiene dificultades con clases menos frecuentes.\n",
        "- RNN (LSTM) Model: Similar en precisión general al Random Forest, pero con una mejora en el recall para algunas clases específicas. Se beneficia del uso de embeddings aprendidos del corpus de entrenamiento.\n",
        "- GRU Model: Ofrece el mejor rendimiento general, con altos valores de precisión, recall y f1-score en la mayoría de las clases. Al igual que el LSTM, se beneficia de los embeddings aprendidos del corpus de entrenamiento.\n",
        "2. **Observaciones**\n",
        "- Los modelos RNN (LSTM) y GRU, al utilizar embeddings aprendidos del corpus de entrenamiento, pueden capturar mejor las relaciones contextuales dentro de los mensajes, lo que resulta en un rendimiento superior en comparación con el modelo Random Forest para ciertas clases.\n",
        "-A pesar de las mejoras en los modelos RNN y GRU, algunas clases con pocos ejemplos siguen siendo desafiantes y muestran la necesidad de más datos o técnicas de balanceo de clases.\n",
        "\n",
        "\n",
        ""
      ],
      "metadata": {
        "id": "Uqw8_uCm8WwP"
      }
    },
    {
      "cell_type": "markdown",
      "source": [
        "Importación de Librerías y Configuración Inicial"
      ],
      "metadata": {
        "id": "bRL1-Gcw8xQJ"
      }
    },
    {
      "cell_type": "code",
      "source": [
        "import numpy as np # linear algebra\n",
        "import pandas as pd # data processing, CSV file I/O (e.g. pd.read_csv)\n",
        "from sklearn.feature_extraction.text import TfidfVectorizer\n",
        "from tqdm import tqdm\n",
        "from sklearn.model_selection import train_test_split\n",
        "from sklearn.ensemble import RandomForestClassifier # Import the RandomForestClassifier\n",
        "from sklearn.metrics import accuracy_score, classification_report # Import necessary functions\n",
        "import tensorflow as tf\n",
        "from tensorflow.keras.preprocessing.text import Tokenizer\n",
        "from tensorflow.keras.models import Sequential # Import Sequential from tensorflow.keras\n",
        "from tensorflow.keras.preprocessing.text import Tokenizer\n",
        "from tensorflow.keras.preprocessing.sequence import pad_sequences\n",
        "from tensorflow.keras.models import Sequential\n",
        "from tensorflow.keras.layers import Embedding, LSTM, GRU, Dense, SpatialDropout1D\n",
        "from tensorflow.keras.optimizers import Adam\n",
        "from tensorflow.keras.layers import LSTM, GRU, SimpleRNN # Import recurrent layers from tensorflow.keras\n",
        "from tensorflow.keras.layers import Dense, Activation, Dropout # Import core layers from tensorflow.keras\n",
        "from tensorflow.keras.layers import BatchNormalization # Import BatchNormalization from tensorflow.keras\n",
        "from tensorflow.keras.utils import to_categorical # Import to_categorical for one-hot encoding\n",
        "from sklearn import preprocessing, decomposition, model_selection, metrics, pipeline\n",
        "from tensorflow.keras.layers import GlobalMaxPooling1D, Conv1D, MaxPooling1D, Flatten, Bidirectional, SpatialDropout1D # Import additional layers from tensorflow.keras\n",
        "from tensorflow.keras.preprocessing import sequence, text # Import preprocessing modules from tensorflow.keras\n",
        "from tensorflow.keras.callbacks import EarlyStopping # Import EarlyStopping from tensorflow.keras\n",
        "\n",
        "\n",
        "from sklearn.preprocessing import LabelEncoder\n",
        "from transformers import BertTokenizer, TFBertForSequenceClassification\n",
        "from transformers import InputExample, InputFeatures\n",
        "import tensorflow as tf\n",
        "\n",
        "\n",
        "import matplotlib.pyplot as plt\n",
        "import seaborn as sns\n",
        "%matplotlib inline\n",
        "from plotly import graph_objs as go\n",
        "import plotly.express as px\n",
        "import plotly.figure_factory as ff\n",
        "from sklearn.metrics import classification_report"
      ],
      "metadata": {
        "id": "8EHR_YVHCwHC"
      },
      "execution_count": 2,
      "outputs": []
    },
    {
      "cell_type": "code",
      "source": [
        "# Verificar la disponibilidad de la GPU\n",
        "print(\"Num GPUs Available: \", len(tf.config.experimental.list_physical_devices('GPU')))\n",
        "if tf.test.gpu_device_name():\n",
        "    print('Default GPU Device: {}'.format(tf.test.gpu_device_name()))\n",
        "else:\n",
        "    print(\"Please install GPU version of TF\")\n"
      ],
      "metadata": {
        "colab": {
          "base_uri": "https://localhost:8080/"
        },
        "id": "Hh7TSH6Ed2er",
        "outputId": "7a543a2c-deb3-418e-fa1a-514e4597ebdc"
      },
      "execution_count": 3,
      "outputs": [
        {
          "output_type": "stream",
          "name": "stdout",
          "text": [
            "Num GPUs Available:  1\n",
            "Default GPU Device: /device:GPU:0\n"
          ]
        }
      ]
    },
    {
      "cell_type": "code",
      "metadata": {
        "colab": {
          "base_uri": "https://localhost:8080/"
        },
        "id": "LqjQlE90bmXL",
        "outputId": "d769719f-74b0-45c6-c058-80d952149a25"
      },
      "source": [
        "# Detect hardware, return appropriate distribution strategy\n",
        "try:\n",
        "    # TPU detection. No parameters necessary if TPU_NAME environment variable is\n",
        "    # set: this is always the case on Kaggle.\n",
        "    tpu = tf.distribute.cluster_resolver.TPUClusterResolver()\n",
        "    print('Running on TPU ', tpu.master())\n",
        "except ValueError:\n",
        "    tpu = None\n",
        "\n",
        "if tpu:\n",
        "    tf.config.experimental_connect_to_cluster(tpu)\n",
        "    tf.tpu.experimental.initialize_tpu_system(tpu)\n",
        "    strategy = tf.distribute.experimental.TPUStrategy(tpu)\n",
        "else:\n",
        "    # Default distribution strategy in Tensorflow. Works on CPU and single GPU.\n",
        "    strategy = tf.distribute.get_strategy()\n",
        "\n",
        "print(\"REPLICAS: \", strategy.num_replicas_in_sync)"
      ],
      "execution_count": 4,
      "outputs": [
        {
          "output_type": "stream",
          "name": "stdout",
          "text": [
            "REPLICAS:  1\n"
          ]
        }
      ]
    },
    {
      "cell_type": "markdown",
      "source": [
        "Carga y Preprocesamiento de Datos"
      ],
      "metadata": {
        "id": "udCOgCYR83E1"
      }
    },
    {
      "cell_type": "code",
      "metadata": {
        "colab": {
          "base_uri": "https://localhost:8080/"
        },
        "id": "LATMW4Fyb5IM",
        "outputId": "0ddfc7ad-4af2-4301-9927-1cc2ad835117"
      },
      "source": [
        "from google.colab import drive\n",
        "drive.mount('/content/drive')\n",
        "carpeta_laboratorios = \"/\"\n",
        "path_laboratorios = '/content/drive/My Drive/'\n",
        "\n"
      ],
      "execution_count": 28,
      "outputs": [
        {
          "output_type": "stream",
          "name": "stdout",
          "text": [
            "Drive already mounted at /content/drive; to attempt to forcibly remount, call drive.mount(\"/content/drive\", force_remount=True).\n"
          ]
        }
      ]
    },
    {
      "cell_type": "code",
      "source": [
        "# pandas, openpyxl y emoji\n",
        "!pip install pandas openpyxl emoji\n",
        "\n",
        "import pandas as pd\n",
        "import emoji\n"
      ],
      "metadata": {
        "colab": {
          "base_uri": "https://localhost:8080/"
        },
        "id": "xmA8onxPXW_Z",
        "outputId": "18a428df-2bec-4ce7-c9b2-dc84233d8769"
      },
      "execution_count": 29,
      "outputs": [
        {
          "output_type": "stream",
          "name": "stdout",
          "text": [
            "Requirement already satisfied: pandas in /usr/local/lib/python3.10/dist-packages (2.0.3)\n",
            "Requirement already satisfied: openpyxl in /usr/local/lib/python3.10/dist-packages (3.1.5)\n",
            "Requirement already satisfied: emoji in /usr/local/lib/python3.10/dist-packages (2.12.1)\n",
            "Requirement already satisfied: python-dateutil>=2.8.2 in /usr/local/lib/python3.10/dist-packages (from pandas) (2.8.2)\n",
            "Requirement already satisfied: pytz>=2020.1 in /usr/local/lib/python3.10/dist-packages (from pandas) (2023.4)\n",
            "Requirement already satisfied: tzdata>=2022.1 in /usr/local/lib/python3.10/dist-packages (from pandas) (2024.1)\n",
            "Requirement already satisfied: numpy>=1.21.0 in /usr/local/lib/python3.10/dist-packages (from pandas) (1.25.2)\n",
            "Requirement already satisfied: et-xmlfile in /usr/local/lib/python3.10/dist-packages (from openpyxl) (1.1.0)\n",
            "Requirement already satisfied: typing-extensions>=4.7.0 in /usr/local/lib/python3.10/dist-packages (from emoji) (4.12.2)\n",
            "Requirement already satisfied: six>=1.5 in /usr/local/lib/python3.10/dist-packages (from python-dateutil>=2.8.2->pandas) (1.16.0)\n"
          ]
        }
      ]
    },
    {
      "cell_type": "markdown",
      "source": [
        "Conversión de Emoticonos a Texto"
      ],
      "metadata": {
        "id": "rOB3Qqm786EM"
      }
    },
    {
      "cell_type": "code",
      "source": [
        "# Diccionario de traducciones de emojis de inglés a español\n",
        "emoji_translations = {\n",
        "    \":grinning_face:\": \":cara_sonriendo:\",\n",
        "    \":grinning_face_with_big_eyes:\": \":cara_sonriendo_con_ojos_grandes:\",\n",
        "    \":grinning_face_with_smiling_eyes:\": \":cara_sonriendo_con_ojos_sonrientes:\",\n",
        "    \":beaming_face_with_smiling_eyes:\": \":cara_radiante_con_ojos_sonrientes:\",\n",
        "    \":grinning_squinting_face:\": \":cara_sonriendo_con_ojos_cerrados:\",\n",
        "    \":grinning_face_with_sweat:\": \":cara_sonriendo_con_sudor:\",\n",
        "    \":rolling_on_the_floor_laughing:\": \":riendo_en_el_suelo:\",\n",
        "    \":face_with_tears_of_joy:\": \":cara_con_lágrimas_de_alegría:\",\n",
        "    \":slightly_smiling_face:\": \":cara_ligeramente_sonriente:\",\n",
        "    \":upside_down_face:\": \":cara_al_revés:\",\n",
        "    \":winking_face:\": \":cara_guiñando:\",\n",
        "    \":smiling_face_with_smiling_eyes:\": \":cara_sonriendo_con_ojos_sonrientes:\",\n",
        "    \":smiling_face_with_halo:\": \":cara_sonriendo_con_auréola:\",\n",
        "    \":smiling_face_with_hearts:\": \":cara_sonriendo_con_corazones:\",\n",
        "    \":smiling_face_with_heart_eyes:\": \":cara_sonriendo_con_ojos_de_corazón:\",\n",
        "    \":star_struck:\": \":cara_deslumbrada:\",\n",
        "    \":face_blowing_a_kiss:\": \":cara_lanzando_un_beso:\",\n",
        "    \":kissing_face:\": \":cara_besando:\",\n",
        "    \":smiling_face:\": \":cara_sonriente:\",\n",
        "    \":kissing_face_with_closed_eyes:\": \":cara_besando_con_ojos_cerrados:\",\n",
        "    \":kissing_face_with_smiling_eyes:\": \":cara_besando_con_ojos_sonrientes:\",\n",
        "    \":face_savoring_food:\": \":cara_saboreando_comida:\",\n",
        "    \":face_with_tongue:\": \":cara_con_lengua:\",\n",
        "    \":winking_face_with_tongue:\": \":cara_guiñando_con_lengua:\",\n",
        "    \":zany_face:\": \":cara_loca:\",\n",
        "    \":squinting_face_with_tongue:\": \":cara_entrecerrada_con_lengua:\",\n",
        "    \":money_mouth_face:\": \":cara_con_boca_de_dinero:\",\n",
        "    \":hugging_face:\": \":cara_abrazando:\",\n",
        "    \":face_with_hand_over_mouth:\": \":cara_con_mano_sobre_la_boca:\",\n",
        "    \":shushing_face:\": \":cara_pidiendo_silencio:\",\n",
        "    \":thinking_face:\": \":cara_pensando:\",\n",
        "    \":zipper_mouth_face:\": \":cara_con_cierre_en_la_boca:\",\n",
        "    \":face_with_raised_eyebrow:\": \":cara_con_ceja_levantada:\",\n",
        "    \":neutral_face:\": \":cara_neutra:\",\n",
        "    \":expressionless_face:\": \":cara_sin_expresión:\",\n",
        "    \":face_without_mouth:\": \":cara_sin_boca:\",\n",
        "    \":smirking_face:\": \":cara_sonriente:\",\n",
        "    \":unamused_face:\": \":cara_no_divertida:\",\n",
        "    \":face_with_rolling_eyes:\": \":cara_con_ojos_en_blanco:\",\n",
        "    \":grimacing_face:\": \":cara_haciendo_mueca:\",\n",
        "    \":lying_face:\": \":cara_mintiendo:\",\n",
        "    \":relieved_face:\": \":cara_aliviada:\",\n",
        "    \":pensive_face:\": \":cara_pensativa:\",\n",
        "    \":sleepy_face:\": \":cara_somnolienta:\",\n",
        "    \":drooling_face:\": \":cara_babeando:\",\n",
        "    \":sleeping_face:\": \":cara_durmiendo:\",\n",
        "    \":face_with_medical_mask:\": \":cara_con_mascarilla:\",\n",
        "    \":face_with_thermometer:\": \":cara_con_termómetro:\",\n",
        "    \":face_with_head_bandage:\": \":cara_con_venda_en_la_cabeza:\",\n",
        "    \":nauseated_face:\": \":cara_nauseada:\",\n",
        "    \":face_vomiting:\": \":cara_vomitando:\",\n",
        "    \":sneezing_face:\": \":cara_estornudando:\",\n",
        "    \":hot_face:\": \":cara_caliente:\",\n",
        "    \":cold_face:\": \":cara_fría:\",\n",
        "    \":woozy_face:\": \":cara_mareada:\",\n",
        "    \":dizzy_face:\": \":cara_mareada:\",\n",
        "    \":exploding_head:\": \":cabeza_explosiva:\",\n",
        "    \":cowboy_hat_face:\": \":cara_con_sombrero_de_vaquero:\",\n",
        "    \":partying_face:\": \":cara_festiva:\",\n",
        "    \":smiling_face_with_sunglasses:\": \":cara_sonriendo_con_gafas_de_sol:\",\n",
        "    \":nerd_face:\": \":cara_de_nerd:\",\n",
        "    \":face_with_monocle:\": \":cara_con_monóculo:\",\n",
        "    \":confused_face:\": \":cara_confundida:\",\n",
        "    \":worried_face:\": \":cara_preocupada:\",\n",
        "    \":slightly_frowning_face:\": \":cara_ligeramente_fruncida:\",\n",
        "    \":frowning_face:\": \":cara_fruncida:\",\n",
        "    \":face_with_open_mouth:\": \":cara_con_boca_abierta:\",\n",
        "    \":hushed_face:\": \":cara_silenciosa:\",\n",
        "    \":astonished_face:\": \":cara_asombrada:\",\n",
        "    \":flushed_face:\": \":cara_sonrojada:\",\n",
        "    \":pleading_face:\": \":cara_suplicante:\",\n",
        "    \":frowning_face_with_open_mouth:\": \":cara_fruncida_con_boca_abierta:\",\n",
        "    \":anguished_face:\": \":cara_angustiada:\",\n",
        "    \":fearful_face:\": \":cara_temorosa:\",\n",
        "    \":cold_sweat:\": \":sudor_frío:\",\n",
        "    \":disappointed_but_relieved_face:\": \":cara_decepcionada_pero_aliviada:\",\n",
        "    \":crying_face:\": \":cara_llorando:\",\n",
        "    \":loudly_crying_face:\": \":cara_llorando_fuertemente:\",\n",
        "    \":face_screaming_in_fear:\": \":cara_gritando_de_miedo:\",\n",
        "    \":confounded_face:\": \":cara_confundida:\",\n",
        "    \":persevering_face:\": \":cara_perseverante:\",\n",
        "    \":disappointed_face:\": \":cara_decepcionada:\",\n",
        "    \":sweat:\": \":sudor:\",\n",
        "    \":weary_face:\": \":cara_cansada:\",\n",
        "    \":tired_face:\": \":cara_fatigada:\",\n",
        "    \":yawning_face:\": \":cara_bostezando:\",\n",
        "    \":face_with_steam_from_nose:\": \":cara_con_vapor_saliendo_de_la_nariz:\",\n",
        "    \":pouting_face:\": \":cara_haciendo_mueca:\",\n",
        "    \":angry_face:\": \":cara_enojada:\",\n",
        "    \":face_with_symbols_on_mouth:\": \":cara_con_símbolos_en_la_boca:\",\n",
        "    \":smiling_face_with_horns:\": \":cara_sonriendo_con_cuernos:\",\n",
        "    \":angry_face_with_horns:\": \":cara_enojada_con_cuernos:\",\n",
        "    \":skull:\": \":calavera:\",\n",
        "    \":skull_and_crossbones:\": \":calavera_y_huesos_cruzados:\",\n",
        "    \":pile_of_poo:\": \":montón_de_caca:\",\n",
        "    \":clown_face:\": \":cara_de_payaso:\",\n",
        "    \":ogre:\": \":ogro:\",\n",
        "    \":goblin:\": \":duende:\",\n",
        "    \":ghost:\": \":fantasma:\",\n",
        "    \":alien:\": \":extraterrestre:\",\n",
        "    \":alien_monster:\": \":monstruo_alienígena:\",\n",
        "    \":robot:\": \":robot:\",\n",
        "    \":grinning_cat:\": \":gato_sonriendo:\",\n",
        "    \":grinning_cat_with_smiling_eyes:\": \":gato_sonriendo_con_ojos_sonrientes:\",\n",
        "    \":cat_with_tears_of_joy:\": \":gato_con_lágrimas_de_alegría:\",\n",
        "    \":smiling_cat_with_heart_eyes:\": \":gato_sonriendo_con_ojos_de_corazón:\",\n",
        "    \":cat_with_wry_smile:\": \":gato_con_sonrisa_irónica:\",\n",
        "    \":kissing_cat:\": \":gato_besando:\",\n",
        "    \":weary_cat:\": \":gato_cansado:\",\n",
        "    \":crying_cat:\": \":gato_llorando:\",\n",
        "    \":pouting_cat:\": \":gato_fruncido:\",\n",
        "    \":thumbsup:\": \":pulgar_arriba:\",\n",
        "    \"thumbs_up_medium_skin_tone:\": \":pulgar_arriba:\",\n",
        "    \":thumbs_up:\": \":pulgar_arriba:\",\n",
        "    \"heart_hands_medium_skin_tone\": \":manos formando un corazón:\",\n",
        "    \"clapping_hands_light_skin_tone\": \":manos clamando:\"\n",
        "\n",
        "\n",
        "# Se puede  seguir agregando más traducciones según sea necesario\n",
        "}\n",
        "\n",
        "# Función para convertir emoticones a texto y luego traducirlos al español\n",
        "def convertir_emoticones(texto):\n",
        "    if isinstance(texto, str):  # Verifica si el input es una cadena\n",
        "        texto_emoji = emoji.demojize(texto, delimiters=(\":\", \":\"))\n",
        "        for en, es in emoji_translations.items():\n",
        "            texto_emoji = texto_emoji.replace(en, es)\n",
        "        return texto_emoji\n",
        "    else:\n",
        "        return texto\n"
      ],
      "metadata": {
        "id": "HAHnMElobKSQ"
      },
      "execution_count": 30,
      "outputs": []
    },
    {
      "cell_type": "code",
      "source": [
        "# ejecutar luego de subir archivo excel o tener vinculado Google Drive\n",
        "import os\n",
        "from google.colab import drive\n",
        "\n",
        "if os.path.isfile(\"/content/mensajes_trabajo_final.xlsx\"):\n",
        "  data = pd.read_excel(\"/content/mensajes_trabajo_final.xlsx\")\n",
        "else:\n",
        "  # Montar Google Drive\n",
        "  drive.mount('/content/drive')\n",
        "\n",
        "  # Cambia el path al archivo que hayas subido a tu Google Drive\n",
        "  file_path = '/content/drive/MyDrive/UCU-NLP/mensajes_trabajo_final.xlsx'\n",
        "\n",
        "  # Cargar el archivo Excel\n",
        "  data = pd.read_excel(file_path)\n",
        "\n",
        "# Mostrar las primeras filas del dataframe\n",
        "print(\"Datos cargados:\")\n",
        "print(data.head())"
      ],
      "metadata": {
        "colab": {
          "base_uri": "https://localhost:8080/"
        },
        "id": "aj1NcBhawXso",
        "outputId": "aa77a95a-08b5-4e1b-aa83-c30dcc0860a4"
      },
      "execution_count": 31,
      "outputs": [
        {
          "output_type": "stream",
          "name": "stdout",
          "text": [
            "Drive already mounted at /content/drive; to attempt to forcibly remount, call drive.mount(\"/content/drive\", force_remount=True).\n",
            "Datos cargados:\n",
            "   id_participante  id_mensaje  \\\n",
            "0               43         223   \n",
            "1              265        1056   \n",
            "2              425        1575   \n",
            "3              429        1590   \n",
            "4              921        3030   \n",
            "\n",
            "                                             enviado       tipo subtipo  \\\n",
            "0   ¡Limpiar la casa, subir escaleras, trabajar e...  educativo       0   \n",
            "1   ¡Limpiar la casa, subir escaleras, trabajar e...  educativo       0   \n",
            "2   ¡Limpiar la casa, subir escaleras, trabajar e...  educativo       0   \n",
            "3   ¡Limpiar la casa, subir escaleras, trabajar e...  educativo       0   \n",
            "4   ¡Limpiar la casa, subir escaleras, trabajar e...  educativo       0   \n",
            "\n",
            "                                            recibido  \\\n",
            "0                                               👍🏽🫶🏽   \n",
            "1                                           Hola....   \n",
            "2                                       👏🏻👏🏻 gracias   \n",
            "3                                            Gracias   \n",
            "4  Hola .. si suele..cuando me...desvelo..o de ta...   \n",
            "\n",
            "                            clase  \n",
            "0                  agradecimiento  \n",
            "1                          saludo  \n",
            "2                  agradecimiento  \n",
            "3                  agradecimiento  \n",
            "4  respuesta a consejo o pregunta  \n"
          ]
        }
      ]
    },
    {
      "cell_type": "code",
      "source": [],
      "metadata": {
        "id": "7AeOB9vwDphR"
      },
      "execution_count": null,
      "outputs": []
    },
    {
      "cell_type": "markdown",
      "source": [
        "Limpieza de Datos"
      ],
      "metadata": {
        "id": "zoHCo4G59Bsq"
      }
    },
    {
      "cell_type": "code",
      "source": [
        "import pandas as pd\n",
        "\n",
        "# Asumiendo que 'df' es tu DataFrame\n",
        "missing_values_count = df.isnull().sum()\n",
        "\n",
        "print(\"Número de valores faltantes por columna:\")\n",
        "print(missing_values_count)\n",
        "\n",
        "# Si quieres el total de valores faltantes en todo el DataFrame:\n",
        "total_missing = df.isnull().sum().sum()\n",
        "print(\"\\nTotal de valores faltantes en el DataFrame:\", total_missing)"
      ],
      "metadata": {
        "colab": {
          "base_uri": "https://localhost:8080/"
        },
        "id": "7f6EOCjqDqZB",
        "outputId": "fedb99be-0f75-4d4e-fff9-b94658497e24"
      },
      "execution_count": 32,
      "outputs": [
        {
          "output_type": "stream",
          "name": "stdout",
          "text": [
            "Número de valores faltantes por columna:\n",
            "recibido     0\n",
            "clase       42\n",
            "dtype: int64\n",
            "\n",
            "Total de valores faltantes en el DataFrame: 42\n"
          ]
        }
      ]
    },
    {
      "cell_type": "code",
      "source": [
        "import pandas as pd\n",
        "\n",
        "# Asumiendo que 'df' es tu DataFrame\n",
        "df_sin_faltantes = df.dropna()\n",
        "\n",
        "print(\"Dimensiones del DataFrame original:\", df.shape)\n",
        "print(\"Dimensiones del DataFrame sin valores faltantes:\", df_sin_faltantes.shape)"
      ],
      "metadata": {
        "colab": {
          "base_uri": "https://localhost:8080/"
        },
        "id": "0RYY7WmHEL6-",
        "outputId": "02c43c2b-346d-429c-f0e2-c8c74c49cc93"
      },
      "execution_count": 33,
      "outputs": [
        {
          "output_type": "stream",
          "name": "stdout",
          "text": [
            "Dimensiones del DataFrame original: (7051, 2)\n",
            "Dimensiones del DataFrame sin valores faltantes: (7009, 2)\n"
          ]
        }
      ]
    },
    {
      "cell_type": "code",
      "source": [
        "\n",
        "# Aplicar la función para convertir emoticones a la columna 'recibido'\n",
        "data['recibido'] = data['recibido'].apply(convertir_emoticones)\n",
        "\n",
        "# Mostrar las primeras filas después de la conversión\n",
        "print(\"Datos después de convertir emoticones a texto:\")\n",
        "print(data.head())\n",
        "\n",
        "# Eliminar las filas con valores nulos en la columna 'tipo'\n",
        "data_limpia = data.dropna(subset=['tipo'])\n",
        "\n",
        "# Mostrar la cantidad de filas antes y después de la limpieza\n",
        "print(f\"Cantidad de filas antes de la limpieza: {data.shape[0]}\")\n",
        "print(f\"Cantidad de filas después de la limpieza: {data_limpia.shape[0]}\")\n",
        "\n",
        "# Guardar los datos limpios en un nuevo archivo Excel\n",
        "#output_path = '/content/drive/MyDrive/UCU-NLP/mensajes_trabajo_final_limpios.xlsx'\n",
        "#data_limpia.to_excel(output_path, index=False)\n",
        "\n",
        "#print(f\"Datos limpios guardados en: {output_path}\")"
      ],
      "metadata": {
        "colab": {
          "base_uri": "https://localhost:8080/"
        },
        "id": "S9poFJNIWH2v",
        "outputId": "f6800534-03b7-4a4e-f99d-ef511ce6658e"
      },
      "execution_count": 26,
      "outputs": [
        {
          "output_type": "stream",
          "name": "stdout",
          "text": [
            "Datos después de convertir emoticones a texto:\n",
            "   id_participante  id_mensaje  \\\n",
            "0               43         223   \n",
            "1              265        1056   \n",
            "2              425        1575   \n",
            "3              429        1590   \n",
            "4              921        3030   \n",
            "\n",
            "                                             enviado       tipo subtipo  \\\n",
            "0   ¡Limpiar la casa, subir escaleras, trabajar e...  educativo       0   \n",
            "1   ¡Limpiar la casa, subir escaleras, trabajar e...  educativo       0   \n",
            "2   ¡Limpiar la casa, subir escaleras, trabajar e...  educativo       0   \n",
            "3   ¡Limpiar la casa, subir escaleras, trabajar e...  educativo       0   \n",
            "4   ¡Limpiar la casa, subir escaleras, trabajar e...  educativo       0   \n",
            "\n",
            "                                            recibido  \\\n",
            "0      ::pulgar_arriba:::manos formando un corazón::   \n",
            "1                                           Hola....   \n",
            "2       ::manos clamando::::manos clamando:: gracias   \n",
            "3                                            Gracias   \n",
            "4  Hola .. si suele..cuando me...desvelo..o de ta...   \n",
            "\n",
            "                            clase  \n",
            "0                  agradecimiento  \n",
            "1                          saludo  \n",
            "2                  agradecimiento  \n",
            "3                  agradecimiento  \n",
            "4  respuesta a consejo o pregunta  \n",
            "Cantidad de filas antes de la limpieza: 7051\n",
            "Cantidad de filas después de la limpieza: 7049\n"
          ]
        }
      ]
    },
    {
      "cell_type": "code",
      "source": [
        "import pandas as pd\n",
        "\n",
        "# Asumiendo que 'y' es una Serie de Pandas\n",
        "num_missing = y.isnull().sum()\n",
        "\n",
        "print(\"Número de valores faltantes en 'y':\", num_missing)"
      ],
      "metadata": {
        "colab": {
          "base_uri": "https://localhost:8080/"
        },
        "id": "VAycPHCODX2g",
        "outputId": "57c4d7b9-bca1-4fdd-c8a5-4040b4b58112"
      },
      "execution_count": 27,
      "outputs": [
        {
          "output_type": "stream",
          "name": "stdout",
          "text": [
            "Número de valores faltantes en 'y': 42\n"
          ]
        }
      ]
    },
    {
      "cell_type": "code",
      "source": [
        "# Crear un nuevo DataFrame solo con las columnas 'recibido' y 'clase'\n",
        "df = data[['recibido', 'clase']]\n",
        "\n",
        "df"
      ],
      "metadata": {
        "colab": {
          "base_uri": "https://localhost:8080/",
          "height": 423
        },
        "id": "CuASVZhFZprz",
        "outputId": "80d6cb32-0f4d-45c3-c4c4-34d1fbb3d4cc"
      },
      "execution_count": 34,
      "outputs": [
        {
          "output_type": "execute_result",
          "data": {
            "text/plain": [
              "                                               recibido  \\\n",
              "0                                                  👍🏽🫶🏽   \n",
              "1                                              Hola....   \n",
              "2                                          👏🏻👏🏻 gracias   \n",
              "3                                               Gracias   \n",
              "4     Hola .. si suele..cuando me...desvelo..o de ta...   \n",
              "...                                                 ...   \n",
              "7046                                                  👍   \n",
              "7047                               SÍ quiero recibirlos   \n",
              "7048                                            Gracias   \n",
              "7049                                      Bueno gracias   \n",
              "7050                Sii ya fui a haacerme los controles   \n",
              "\n",
              "                               clase  \n",
              "0                     agradecimiento  \n",
              "1                             saludo  \n",
              "2                     agradecimiento  \n",
              "3                     agradecimiento  \n",
              "4     respuesta a consejo o pregunta  \n",
              "...                              ...  \n",
              "7046                  agradecimiento  \n",
              "7047                           optin  \n",
              "7048                  agradecimiento  \n",
              "7049                  agradecimiento  \n",
              "7050  respuesta a consejo o pregunta  \n",
              "\n",
              "[7051 rows x 2 columns]"
            ],
            "text/html": [
              "\n",
              "  <div id=\"df-6c2fb74f-ec60-4faa-92e4-d86dac3e8ab9\" class=\"colab-df-container\">\n",
              "    <div>\n",
              "<style scoped>\n",
              "    .dataframe tbody tr th:only-of-type {\n",
              "        vertical-align: middle;\n",
              "    }\n",
              "\n",
              "    .dataframe tbody tr th {\n",
              "        vertical-align: top;\n",
              "    }\n",
              "\n",
              "    .dataframe thead th {\n",
              "        text-align: right;\n",
              "    }\n",
              "</style>\n",
              "<table border=\"1\" class=\"dataframe\">\n",
              "  <thead>\n",
              "    <tr style=\"text-align: right;\">\n",
              "      <th></th>\n",
              "      <th>recibido</th>\n",
              "      <th>clase</th>\n",
              "    </tr>\n",
              "  </thead>\n",
              "  <tbody>\n",
              "    <tr>\n",
              "      <th>0</th>\n",
              "      <td>👍🏽🫶🏽</td>\n",
              "      <td>agradecimiento</td>\n",
              "    </tr>\n",
              "    <tr>\n",
              "      <th>1</th>\n",
              "      <td>Hola....</td>\n",
              "      <td>saludo</td>\n",
              "    </tr>\n",
              "    <tr>\n",
              "      <th>2</th>\n",
              "      <td>👏🏻👏🏻 gracias</td>\n",
              "      <td>agradecimiento</td>\n",
              "    </tr>\n",
              "    <tr>\n",
              "      <th>3</th>\n",
              "      <td>Gracias</td>\n",
              "      <td>agradecimiento</td>\n",
              "    </tr>\n",
              "    <tr>\n",
              "      <th>4</th>\n",
              "      <td>Hola .. si suele..cuando me...desvelo..o de ta...</td>\n",
              "      <td>respuesta a consejo o pregunta</td>\n",
              "    </tr>\n",
              "    <tr>\n",
              "      <th>...</th>\n",
              "      <td>...</td>\n",
              "      <td>...</td>\n",
              "    </tr>\n",
              "    <tr>\n",
              "      <th>7046</th>\n",
              "      <td>👍</td>\n",
              "      <td>agradecimiento</td>\n",
              "    </tr>\n",
              "    <tr>\n",
              "      <th>7047</th>\n",
              "      <td>SÍ quiero recibirlos</td>\n",
              "      <td>optin</td>\n",
              "    </tr>\n",
              "    <tr>\n",
              "      <th>7048</th>\n",
              "      <td>Gracias</td>\n",
              "      <td>agradecimiento</td>\n",
              "    </tr>\n",
              "    <tr>\n",
              "      <th>7049</th>\n",
              "      <td>Bueno gracias</td>\n",
              "      <td>agradecimiento</td>\n",
              "    </tr>\n",
              "    <tr>\n",
              "      <th>7050</th>\n",
              "      <td>Sii ya fui a haacerme los controles</td>\n",
              "      <td>respuesta a consejo o pregunta</td>\n",
              "    </tr>\n",
              "  </tbody>\n",
              "</table>\n",
              "<p>7051 rows × 2 columns</p>\n",
              "</div>\n",
              "    <div class=\"colab-df-buttons\">\n",
              "\n",
              "  <div class=\"colab-df-container\">\n",
              "    <button class=\"colab-df-convert\" onclick=\"convertToInteractive('df-6c2fb74f-ec60-4faa-92e4-d86dac3e8ab9')\"\n",
              "            title=\"Convert this dataframe to an interactive table.\"\n",
              "            style=\"display:none;\">\n",
              "\n",
              "  <svg xmlns=\"http://www.w3.org/2000/svg\" height=\"24px\" viewBox=\"0 -960 960 960\">\n",
              "    <path d=\"M120-120v-720h720v720H120Zm60-500h600v-160H180v160Zm220 220h160v-160H400v160Zm0 220h160v-160H400v160ZM180-400h160v-160H180v160Zm440 0h160v-160H620v160ZM180-180h160v-160H180v160Zm440 0h160v-160H620v160Z\"/>\n",
              "  </svg>\n",
              "    </button>\n",
              "\n",
              "  <style>\n",
              "    .colab-df-container {\n",
              "      display:flex;\n",
              "      gap: 12px;\n",
              "    }\n",
              "\n",
              "    .colab-df-convert {\n",
              "      background-color: #E8F0FE;\n",
              "      border: none;\n",
              "      border-radius: 50%;\n",
              "      cursor: pointer;\n",
              "      display: none;\n",
              "      fill: #1967D2;\n",
              "      height: 32px;\n",
              "      padding: 0 0 0 0;\n",
              "      width: 32px;\n",
              "    }\n",
              "\n",
              "    .colab-df-convert:hover {\n",
              "      background-color: #E2EBFA;\n",
              "      box-shadow: 0px 1px 2px rgba(60, 64, 67, 0.3), 0px 1px 3px 1px rgba(60, 64, 67, 0.15);\n",
              "      fill: #174EA6;\n",
              "    }\n",
              "\n",
              "    .colab-df-buttons div {\n",
              "      margin-bottom: 4px;\n",
              "    }\n",
              "\n",
              "    [theme=dark] .colab-df-convert {\n",
              "      background-color: #3B4455;\n",
              "      fill: #D2E3FC;\n",
              "    }\n",
              "\n",
              "    [theme=dark] .colab-df-convert:hover {\n",
              "      background-color: #434B5C;\n",
              "      box-shadow: 0px 1px 3px 1px rgba(0, 0, 0, 0.15);\n",
              "      filter: drop-shadow(0px 1px 2px rgba(0, 0, 0, 0.3));\n",
              "      fill: #FFFFFF;\n",
              "    }\n",
              "  </style>\n",
              "\n",
              "    <script>\n",
              "      const buttonEl =\n",
              "        document.querySelector('#df-6c2fb74f-ec60-4faa-92e4-d86dac3e8ab9 button.colab-df-convert');\n",
              "      buttonEl.style.display =\n",
              "        google.colab.kernel.accessAllowed ? 'block' : 'none';\n",
              "\n",
              "      async function convertToInteractive(key) {\n",
              "        const element = document.querySelector('#df-6c2fb74f-ec60-4faa-92e4-d86dac3e8ab9');\n",
              "        const dataTable =\n",
              "          await google.colab.kernel.invokeFunction('convertToInteractive',\n",
              "                                                    [key], {});\n",
              "        if (!dataTable) return;\n",
              "\n",
              "        const docLinkHtml = 'Like what you see? Visit the ' +\n",
              "          '<a target=\"_blank\" href=https://colab.research.google.com/notebooks/data_table.ipynb>data table notebook</a>'\n",
              "          + ' to learn more about interactive tables.';\n",
              "        element.innerHTML = '';\n",
              "        dataTable['output_type'] = 'display_data';\n",
              "        await google.colab.output.renderOutput(dataTable, element);\n",
              "        const docLink = document.createElement('div');\n",
              "        docLink.innerHTML = docLinkHtml;\n",
              "        element.appendChild(docLink);\n",
              "      }\n",
              "    </script>\n",
              "  </div>\n",
              "\n",
              "\n",
              "<div id=\"df-4c192007-8ecd-475b-900c-1d2f6e2f4d93\">\n",
              "  <button class=\"colab-df-quickchart\" onclick=\"quickchart('df-4c192007-8ecd-475b-900c-1d2f6e2f4d93')\"\n",
              "            title=\"Suggest charts\"\n",
              "            style=\"display:none;\">\n",
              "\n",
              "<svg xmlns=\"http://www.w3.org/2000/svg\" height=\"24px\"viewBox=\"0 0 24 24\"\n",
              "     width=\"24px\">\n",
              "    <g>\n",
              "        <path d=\"M19 3H5c-1.1 0-2 .9-2 2v14c0 1.1.9 2 2 2h14c1.1 0 2-.9 2-2V5c0-1.1-.9-2-2-2zM9 17H7v-7h2v7zm4 0h-2V7h2v10zm4 0h-2v-4h2v4z\"/>\n",
              "    </g>\n",
              "</svg>\n",
              "  </button>\n",
              "\n",
              "<style>\n",
              "  .colab-df-quickchart {\n",
              "      --bg-color: #E8F0FE;\n",
              "      --fill-color: #1967D2;\n",
              "      --hover-bg-color: #E2EBFA;\n",
              "      --hover-fill-color: #174EA6;\n",
              "      --disabled-fill-color: #AAA;\n",
              "      --disabled-bg-color: #DDD;\n",
              "  }\n",
              "\n",
              "  [theme=dark] .colab-df-quickchart {\n",
              "      --bg-color: #3B4455;\n",
              "      --fill-color: #D2E3FC;\n",
              "      --hover-bg-color: #434B5C;\n",
              "      --hover-fill-color: #FFFFFF;\n",
              "      --disabled-bg-color: #3B4455;\n",
              "      --disabled-fill-color: #666;\n",
              "  }\n",
              "\n",
              "  .colab-df-quickchart {\n",
              "    background-color: var(--bg-color);\n",
              "    border: none;\n",
              "    border-radius: 50%;\n",
              "    cursor: pointer;\n",
              "    display: none;\n",
              "    fill: var(--fill-color);\n",
              "    height: 32px;\n",
              "    padding: 0;\n",
              "    width: 32px;\n",
              "  }\n",
              "\n",
              "  .colab-df-quickchart:hover {\n",
              "    background-color: var(--hover-bg-color);\n",
              "    box-shadow: 0 1px 2px rgba(60, 64, 67, 0.3), 0 1px 3px 1px rgba(60, 64, 67, 0.15);\n",
              "    fill: var(--button-hover-fill-color);\n",
              "  }\n",
              "\n",
              "  .colab-df-quickchart-complete:disabled,\n",
              "  .colab-df-quickchart-complete:disabled:hover {\n",
              "    background-color: var(--disabled-bg-color);\n",
              "    fill: var(--disabled-fill-color);\n",
              "    box-shadow: none;\n",
              "  }\n",
              "\n",
              "  .colab-df-spinner {\n",
              "    border: 2px solid var(--fill-color);\n",
              "    border-color: transparent;\n",
              "    border-bottom-color: var(--fill-color);\n",
              "    animation:\n",
              "      spin 1s steps(1) infinite;\n",
              "  }\n",
              "\n",
              "  @keyframes spin {\n",
              "    0% {\n",
              "      border-color: transparent;\n",
              "      border-bottom-color: var(--fill-color);\n",
              "      border-left-color: var(--fill-color);\n",
              "    }\n",
              "    20% {\n",
              "      border-color: transparent;\n",
              "      border-left-color: var(--fill-color);\n",
              "      border-top-color: var(--fill-color);\n",
              "    }\n",
              "    30% {\n",
              "      border-color: transparent;\n",
              "      border-left-color: var(--fill-color);\n",
              "      border-top-color: var(--fill-color);\n",
              "      border-right-color: var(--fill-color);\n",
              "    }\n",
              "    40% {\n",
              "      border-color: transparent;\n",
              "      border-right-color: var(--fill-color);\n",
              "      border-top-color: var(--fill-color);\n",
              "    }\n",
              "    60% {\n",
              "      border-color: transparent;\n",
              "      border-right-color: var(--fill-color);\n",
              "    }\n",
              "    80% {\n",
              "      border-color: transparent;\n",
              "      border-right-color: var(--fill-color);\n",
              "      border-bottom-color: var(--fill-color);\n",
              "    }\n",
              "    90% {\n",
              "      border-color: transparent;\n",
              "      border-bottom-color: var(--fill-color);\n",
              "    }\n",
              "  }\n",
              "</style>\n",
              "\n",
              "  <script>\n",
              "    async function quickchart(key) {\n",
              "      const quickchartButtonEl =\n",
              "        document.querySelector('#' + key + ' button');\n",
              "      quickchartButtonEl.disabled = true;  // To prevent multiple clicks.\n",
              "      quickchartButtonEl.classList.add('colab-df-spinner');\n",
              "      try {\n",
              "        const charts = await google.colab.kernel.invokeFunction(\n",
              "            'suggestCharts', [key], {});\n",
              "      } catch (error) {\n",
              "        console.error('Error during call to suggestCharts:', error);\n",
              "      }\n",
              "      quickchartButtonEl.classList.remove('colab-df-spinner');\n",
              "      quickchartButtonEl.classList.add('colab-df-quickchart-complete');\n",
              "    }\n",
              "    (() => {\n",
              "      let quickchartButtonEl =\n",
              "        document.querySelector('#df-4c192007-8ecd-475b-900c-1d2f6e2f4d93 button');\n",
              "      quickchartButtonEl.style.display =\n",
              "        google.colab.kernel.accessAllowed ? 'block' : 'none';\n",
              "    })();\n",
              "  </script>\n",
              "</div>\n",
              "\n",
              "  <div id=\"id_148eae15-e536-425d-983d-2e8a87cde6d4\">\n",
              "    <style>\n",
              "      .colab-df-generate {\n",
              "        background-color: #E8F0FE;\n",
              "        border: none;\n",
              "        border-radius: 50%;\n",
              "        cursor: pointer;\n",
              "        display: none;\n",
              "        fill: #1967D2;\n",
              "        height: 32px;\n",
              "        padding: 0 0 0 0;\n",
              "        width: 32px;\n",
              "      }\n",
              "\n",
              "      .colab-df-generate:hover {\n",
              "        background-color: #E2EBFA;\n",
              "        box-shadow: 0px 1px 2px rgba(60, 64, 67, 0.3), 0px 1px 3px 1px rgba(60, 64, 67, 0.15);\n",
              "        fill: #174EA6;\n",
              "      }\n",
              "\n",
              "      [theme=dark] .colab-df-generate {\n",
              "        background-color: #3B4455;\n",
              "        fill: #D2E3FC;\n",
              "      }\n",
              "\n",
              "      [theme=dark] .colab-df-generate:hover {\n",
              "        background-color: #434B5C;\n",
              "        box-shadow: 0px 1px 3px 1px rgba(0, 0, 0, 0.15);\n",
              "        filter: drop-shadow(0px 1px 2px rgba(0, 0, 0, 0.3));\n",
              "        fill: #FFFFFF;\n",
              "      }\n",
              "    </style>\n",
              "    <button class=\"colab-df-generate\" onclick=\"generateWithVariable('df')\"\n",
              "            title=\"Generate code using this dataframe.\"\n",
              "            style=\"display:none;\">\n",
              "\n",
              "  <svg xmlns=\"http://www.w3.org/2000/svg\" height=\"24px\"viewBox=\"0 0 24 24\"\n",
              "       width=\"24px\">\n",
              "    <path d=\"M7,19H8.4L18.45,9,17,7.55,7,17.6ZM5,21V16.75L18.45,3.32a2,2,0,0,1,2.83,0l1.4,1.43a1.91,1.91,0,0,1,.58,1.4,1.91,1.91,0,0,1-.58,1.4L9.25,21ZM18.45,9,17,7.55Zm-12,3A5.31,5.31,0,0,0,4.9,8.1,5.31,5.31,0,0,0,1,6.5,5.31,5.31,0,0,0,4.9,4.9,5.31,5.31,0,0,0,6.5,1,5.31,5.31,0,0,0,8.1,4.9,5.31,5.31,0,0,0,12,6.5,5.46,5.46,0,0,0,6.5,12Z\"/>\n",
              "  </svg>\n",
              "    </button>\n",
              "    <script>\n",
              "      (() => {\n",
              "      const buttonEl =\n",
              "        document.querySelector('#id_148eae15-e536-425d-983d-2e8a87cde6d4 button.colab-df-generate');\n",
              "      buttonEl.style.display =\n",
              "        google.colab.kernel.accessAllowed ? 'block' : 'none';\n",
              "\n",
              "      buttonEl.onclick = () => {\n",
              "        google.colab.notebook.generateWithVariable('df');\n",
              "      }\n",
              "      })();\n",
              "    </script>\n",
              "  </div>\n",
              "\n",
              "    </div>\n",
              "  </div>\n"
            ],
            "application/vnd.google.colaboratory.intrinsic+json": {
              "type": "dataframe",
              "variable_name": "df",
              "summary": "{\n  \"name\": \"df\",\n  \"rows\": 7051,\n  \"fields\": [\n    {\n      \"column\": \"recibido\",\n      \"properties\": {\n        \"dtype\": \"category\",\n        \"num_unique_values\": 2962,\n        \"samples\": [\n          \"\\u00d3key \\u0123racias\",\n          \"Hola buenas noches hace una semana me dieron m\\u00e1s aumento en los anteojos d\\u00e9 andar y leer\",\n          \"Nose cu\\u00e1nto es\"\n        ],\n        \"semantic_type\": \"\",\n        \"description\": \"\"\n      }\n    },\n    {\n      \"column\": \"clase\",\n      \"properties\": {\n        \"dtype\": \"category\",\n        \"num_unique_values\": 12,\n        \"samples\": [\n          \"glicemia\",\n          \"medicaci\\u00f3n\",\n          \"agradecimiento\"\n        ],\n        \"semantic_type\": \"\",\n        \"description\": \"\"\n      }\n    }\n  ]\n}"
            }
          },
          "metadata": {},
          "execution_count": 34
        }
      ]
    },
    {
      "cell_type": "code",
      "source": [
        "import pandas as pd\n",
        "\n",
        "# Asumiendo que 'df' es tu DataFrame\n",
        "df = df.dropna()\n",
        "\n",
        "print(\"Dimensiones del DataFrame original:\", df.shape)\n",
        "print(\"Dimensiones del DataFrame sin valores faltantes:\", df_sin_faltantes.shape)"
      ],
      "metadata": {
        "colab": {
          "base_uri": "https://localhost:8080/"
        },
        "id": "BpbtwrtjFHRU",
        "outputId": "f2ab3ba4-5b9f-413b-e69e-06bbccfa2832"
      },
      "execution_count": 36,
      "outputs": [
        {
          "output_type": "stream",
          "name": "stdout",
          "text": [
            "Dimensiones del DataFrame original: (7009, 2)\n",
            "Dimensiones del DataFrame sin valores faltantes: (7009, 2)\n"
          ]
        }
      ]
    },
    {
      "cell_type": "markdown",
      "source": [
        "Distribución de Mensajes por Clases"
      ],
      "metadata": {
        "id": "vmDCFfYY9Ilk"
      }
    },
    {
      "cell_type": "code",
      "source": [
        "import matplotlib.pyplot as plt\n",
        "\n",
        "# Calcular las frecuencias de cada clase\n",
        "class_counts = df['clase'].value_counts().sort_index()\n",
        "\n",
        "print(class_counts)\n",
        "\n",
        "# Colores consistentes para cada clase\n",
        "colors = plt.get_cmap('tab20')\n",
        "\n",
        "# Crear el subplot de 1 fila y 2 columnas con espacio adicional para la tabla\n",
        "fig, ax = plt.subplots(1, 2, figsize=(14, 8))\n",
        "\n",
        "# Gráfico de barras\n",
        "ax[0].bar(class_counts.index, class_counts.values, color=colors(range(len(class_counts))))\n",
        "ax[0].set_title('Distribución de Clases - Gráfico de Barras')\n",
        "ax[0].set_xlabel('Clase')\n",
        "ax[0].set_ylabel('Frecuencia')\n",
        "ax[0].tick_params(axis='x', rotation=90)  # Rotar las etiquetas del eje x\n",
        "\n",
        "# Gráfico de torta\n",
        "ax[1].pie(class_counts.values, labels=class_counts.index, autopct='%1.1f%%', colors=colors(range(len(class_counts))))\n",
        "ax[1].set_title('Distribución de Clases - Gráfico de Torta')\n",
        "\n",
        "\n",
        "# Ajustar el layout\n",
        "plt.tight_layout()\n",
        "plt.show()"
      ],
      "metadata": {
        "colab": {
          "base_uri": "https://localhost:8080/",
          "height": 968
        },
        "id": "P4u_Sz1byndk",
        "outputId": "f41837d7-56c3-4d67-abc6-6d5e54e6bc72"
      },
      "execution_count": 37,
      "outputs": [
        {
          "output_type": "stream",
          "name": "stdout",
          "text": [
            "clase\n",
            "agradecimiento                    2048\n",
            "autorespuesta                      111\n",
            "baja                               113\n",
            "equivocado                          71\n",
            "glicemia                            87\n",
            "medicación                          62\n",
            "optin                             1832\n",
            "pregunta                           222\n",
            "queja                               22\n",
            "respuesta a consejo o pregunta    2096\n",
            "saludo                             212\n",
            "turno                              133\n",
            "Name: count, dtype: int64\n"
          ]
        },
        {
          "output_type": "display_data",
          "data": {
            "text/plain": [
              "<Figure size 1400x800 with 2 Axes>"
            ],
            "image/png": "[encoded data removed]"
          },
          "metadata": {}
        }
      ]
    },
    {
      "cell_type": "markdown",
      "source": [
        "Agrupación de Clases\n"
      ],
      "metadata": {
        "id": "WM3y960t9QhL"
      }
    },
    {
      "cell_type": "code",
      "source": [
        "# agrupar clases#\n",
        "\n",
        "df.loc[df['clase'] == 'agradecimiento', 'clase'] = 'agradecimiento o saludo'\n",
        "df.loc[df['clase'] == 'saludo', 'clase'] = 'agradecimiento o saludo'\n",
        "df.loc[df['clase'] == 'medicación', 'clase'] = 'medicación o turno'\n",
        "df.loc[df['clase'] == 'turno', 'clase'] = 'medicación o turno'\n",
        "df.loc[df['clase'] == 'queja', 'clase'] = 'otros'\n",
        "df.loc[df['clase'] == 'pregunta', 'clase'] = 'otros'\n",
        "df.loc[df['clase'] == 'autorespuesta', 'clase'] = 'otros'\n",
        "df.loc[df['clase'] == 'respuesta a consejo o pregunta', 'clase'] = 'respuesta'"
      ],
      "metadata": {
        "id": "_q0t_zXA0M8K"
      },
      "execution_count": 38,
      "outputs": []
    },
    {
      "cell_type": "code",
      "source": [
        "# Calcular las frecuencias de cada clase\n",
        "class_counts = df['clase'].value_counts().sort_index()\n",
        "\n",
        "print(class_counts)\n",
        "\n",
        "# Colores consistentes para cada clase\n",
        "colors = plt.get_cmap('tab20')\n",
        "\n",
        "# Crear el subplot de 1 fila y 2 columnas con espacio adicional para la tabla\n",
        "fig, ax = plt.subplots(1, 2, figsize=(14, 8))\n",
        "\n",
        "# Gráfico de barras\n",
        "ax[0].bar(class_counts.index, class_counts.values, color=colors(range(len(class_counts))))\n",
        "ax[0].set_title('Distribución de Clases - Gráfico de Barras')\n",
        "ax[0].set_xlabel('Clase')\n",
        "ax[0].set_ylabel('Frecuencia')\n",
        "ax[0].tick_params(axis='x', rotation=90)  # Rotar las etiquetas del eje x\n",
        "\n",
        "# Gráfico de torta\n",
        "ax[1].pie(class_counts.values, labels=class_counts.index, autopct='%1.1f%%', colors=colors(range(len(class_counts))))\n",
        "ax[1].set_title('Distribución de Clases - Gráfico de Torta')\n",
        "\n",
        "\n",
        "# Ajustar el layout\n",
        "plt.tight_layout()\n",
        "plt.show()"
      ],
      "metadata": {
        "colab": {
          "base_uri": "https://localhost:8080/",
          "height": 885
        },
        "id": "9MFIzf6ACwt-",
        "outputId": "bbd27096-6775-4efd-dbf1-193eb795fe5f"
      },
      "execution_count": 39,
      "outputs": [
        {
          "output_type": "stream",
          "name": "stdout",
          "text": [
            "clase\n",
            "agradecimiento o saludo    2260\n",
            "baja                        113\n",
            "equivocado                   71\n",
            "glicemia                     87\n",
            "medicación o turno          195\n",
            "optin                      1832\n",
            "otros                       355\n",
            "respuesta                  2096\n",
            "Name: count, dtype: int64\n"
          ]
        },
        {
          "output_type": "display_data",
          "data": {
            "text/plain": [
              "<Figure size 1400x800 with 2 Axes>"
            ],
            "image/png": "[encoded data removed]"
          },
          "metadata": {}
        }
      ]
    },
    {
      "cell_type": "markdown",
      "source": [
        "Vectorización del Texto Usando TF-IDF"
      ],
      "metadata": {
        "id": "hh2aGBz29X1X"
      }
    },
    {
      "cell_type": "code",
      "source": [
        "# Check the data types of your DataFrame\n",
        "print(df.dtypes)\n",
        "\n",
        "# If 'recibido' is not of type object (string), convert it\n",
        "if df['recibido'].dtype != object:\n",
        "    df['recibido'] = df['recibido'].astype(str)\n",
        "\n",
        "# Check for any remaining non-string values in 'recibido'\n",
        "non_string_values = df['recibido'][~df['recibido'].apply(lambda x: isinstance(x, str))]\n",
        "print(\"Non-string values in 'recibido':\", non_string_values)\n",
        "\n",
        "# Handle the non-string values (e.g., replace with empty strings)\n",
        "df['recibido'] = df['recibido'].apply(lambda x: x if isinstance(x, str) else '')\n",
        "\n",
        "# Vectorización del texto usando TF-IDF\n",
        "vectorizer = TfidfVectorizer()\n",
        "X_tfidf = vectorizer.fit_transform(df['recibido'])\n",
        "y = df['clase']"
      ],
      "metadata": {
        "colab": {
          "base_uri": "https://localhost:8080/"
        },
        "id": "FEVPf_-RAVZd",
        "outputId": "f9605891-8963-42d1-ffe2-97e743c95ed5"
      },
      "execution_count": 40,
      "outputs": [
        {
          "output_type": "stream",
          "name": "stdout",
          "text": [
            "recibido    object\n",
            "clase       object\n",
            "dtype: object\n",
            "Non-string values in 'recibido': 782    9\n",
            "Name: recibido, dtype: object\n"
          ]
        }
      ]
    },
    {
      "cell_type": "code",
      "source": [
        "X_tfidf"
      ],
      "metadata": {
        "colab": {
          "base_uri": "https://localhost:8080/"
        },
        "id": "tN3EA8ddAkBB",
        "outputId": "5d31bf6e-13df-4978-d366-8a453bf02a2f"
      },
      "execution_count": 41,
      "outputs": [
        {
          "output_type": "execute_result",
          "data": {
            "text/plain": [
              "<7009x2998 sparse matrix of type '<class 'numpy.float64'>'\n",
              "\twith 28465 stored elements in Compressed Sparse Row format>"
            ]
          },
          "metadata": {},
          "execution_count": 41
        }
      ]
    },
    {
      "cell_type": "markdown",
      "source": [
        "# División de Datos en Conjuntos de Entrenamiento y Prueba\n",
        "\n",
        "\n"
      ],
      "metadata": {
        "id": "PSG2dwwn9a_e"
      }
    },
    {
      "cell_type": "code",
      "source": [
        "# Dividir los datos en conjuntos de entrenamiento y prueba\n",
        "X_train_tfidf, X_test_tfidf, y_train, y_test = train_test_split(X_tfidf, y, test_size=0.2, random_state=42)\n"
      ],
      "metadata": {
        "id": "RmlxMR32BVlT"
      },
      "execution_count": 42,
      "outputs": []
    },
    {
      "cell_type": "markdown",
      "source": [
        "Entrenamiento y Evaluación del Modelo Random Forest"
      ],
      "metadata": {
        "id": "0JzR0lSP9gWi"
      }
    },
    {
      "cell_type": "code",
      "source": [
        "# 1. Random Forest\n",
        "rf_model = RandomForestClassifier(n_estimators=100, random_state=42)\n",
        "rf_model.fit(X_train_tfidf, y_train)\n",
        "y_pred_rf = rf_model.predict(X_test_tfidf)\n",
        "print(\"Random Forest Classifier\")\n",
        "print(f\"Accuracy: {accuracy_score(y_test, y_pred_rf)}\")\n",
        "print(classification_report(y_test, y_pred_rf))"
      ],
      "metadata": {
        "colab": {
          "base_uri": "https://localhost:8080/"
        },
        "id": "kx1dC4L2BY6s",
        "outputId": "0475eb50-7294-4573-d25f-269e00c6f699"
      },
      "execution_count": 43,
      "outputs": [
        {
          "output_type": "stream",
          "name": "stdout",
          "text": [
            "Random Forest Classifier\n",
            "Accuracy: 0.8609129814550642\n",
            "                         precision    recall  f1-score   support\n",
            "\n",
            "agradecimiento o saludo       0.90      0.93      0.91       476\n",
            "                   baja       1.00      0.62      0.77        16\n",
            "             equivocado       0.85      0.65      0.73        17\n",
            "               glicemia       1.00      0.12      0.21        17\n",
            "     medicación o turno       1.00      0.23      0.37        35\n",
            "                  optin       0.99      0.93      0.96       364\n",
            "                  otros       0.83      0.48      0.61        81\n",
            "              respuesta       0.73      0.90      0.81       396\n",
            "\n",
            "               accuracy                           0.86      1402\n",
            "              macro avg       0.91      0.61      0.67      1402\n",
            "           weighted avg       0.88      0.86      0.85      1402\n",
            "\n"
          ]
        }
      ]
    },
    {
      "cell_type": "markdown",
      "source": [
        "## Procesamiento para redes neuronales (RNN, LSTM, GRU)"
      ],
      "metadata": {
        "id": "ornettleCQJF"
      }
    },
    {
      "cell_type": "markdown",
      "source": [
        "Tokenización y Secuencias"
      ],
      "metadata": {
        "id": "scsAeT_y9lhm"
      }
    },
    {
      "cell_type": "code",
      "source": [
        "# Tokenización y secuencias\n",
        "tokenizer = Tokenizer()\n",
        "tokenizer.fit_on_texts(df['recibido'])\n",
        "X_seq = tokenizer.texts_to_sequences(df['recibido'])\n",
        "max_length = max([len(x) for x in X_seq])\n",
        "X_padded = pad_sequences(X_seq, maxlen=max_length)\n",
        "\n",
        "# Dividir los datos en conjuntos de entrenamiento y prueba\n",
        "X_train_seq, X_test_seq, y_train_seq, y_test_seq = train_test_split(X_padded, y, test_size=0.2, random_state=42)\n",
        "\n",
        "# Convertir etiquetas a numéricas\n",
        "from sklearn.preprocessing import LabelEncoder\n",
        "le = LabelEncoder()\n",
        "y_train_seq = le.fit_transform(y_train_seq)\n",
        "y_test_seq = le.transform(y_test_seq)"
      ],
      "metadata": {
        "id": "nXiLJXr4CPhY"
      },
      "execution_count": 44,
      "outputs": []
    },
    {
      "cell_type": "markdown",
      "source": [
        "Embeddings Aprendidos del Corpus de Entrenamiento"
      ],
      "metadata": {
        "id": "GEZyMNF5C2Lh"
      }
    },
    {
      "cell_type": "code",
      "source": [
        "# Modelos RNN, LSTM y GRU\n",
        "def create_rnn_model():\n",
        "    model = Sequential()\n",
        "    model.add(Embedding(input_dim=len(tokenizer.word_index) + 1, output_dim=128, input_length=max_length))\n",
        "    model.add(SpatialDropout1D(0.2))\n",
        "    model.add(LSTM(100, dropout=0.2, recurrent_dropout=0.2))\n",
        "    model.add(Dense(8, activation='softmax'))\n",
        "    model.compile(loss='sparse_categorical_crossentropy', optimizer=Adam(), metrics=['accuracy'])\n",
        "    return model\n",
        "\n",
        "def create_gru_model():\n",
        "    model = Sequential()\n",
        "    model.add(Embedding(input_dim=len(tokenizer.word_index) + 1, output_dim=128, input_length=max_length))\n",
        "    model.add(SpatialDropout1D(0.2))\n",
        "    model.add(GRU(100, dropout=0.2, recurrent_dropout=0.2))\n",
        "    model.add(Dense(8, activation='softmax'))\n",
        "    model.compile(loss='sparse_categorical_crossentropy', optimizer=Adam(), metrics=['accuracy'])\n",
        "    return model\n",
        "\n",
        "# Entrenamiento y evaluación del modelo RNN (LSTM)\n",
        "rnn_model = create_rnn_model()\n",
        "rnn_model.fit(X_train_seq, y_train_seq, epochs=5, batch_size=64, validation_split=0.1)\n",
        "y_pred_rnn = rnn_model.predict(X_test_seq)\n",
        "y_pred_rnn = np.argmax(y_pred_rnn, axis=1)\n",
        "print(\"RNN (LSTM) Model\")\n",
        "print(f\"Accuracy: {accuracy_score(y_test_seq, y_pred_rnn)}\")\n",
        "print(classification_report(y_test_seq, y_pred_rnn, target_names=le.classes_))\n",
        "\n",
        "# Entrenamiento y evaluación del modelo GRU\n",
        "gru_model = create_gru_model()\n",
        "gru_model.fit(X_train_seq, y_train_seq, epochs=5, batch_size=64, validation_split=0.1)\n",
        "y_pred_gru = gru_model.predict(X_test_seq)\n",
        "y_pred_gru = np.argmax(y_pred_gru, axis=1)\n",
        "print(\"GRU Model\")\n",
        "print(f\"Accuracy: {accuracy_score(y_test_seq, y_pred_gru)}\")\n",
        "print(classification_report(y_test_seq, y_pred_gru, target_names=le.classes_))\n",
        "\n",
        "\n",
        "\n",
        "\n",
        "\n",
        "\n",
        "\n",
        "\n",
        "\n",
        "\n",
        "\n",
        "\n",
        "\n",
        "output_path = '/content/drive/MyDrive/UCU-NLP/resultados_clasificacion.xlsx'\n",
        "results.to_excel(output_path, index=False)\n",
        "\n",
        "print(f\"Resultados guardados en: {output_path}\")"
      ],
      "metadata": {
        "colab": {
          "base_uri": "https://localhost:8080/",
          "height": 1000
        },
        "id": "RqXlOKwWDH2a",
        "outputId": "4195ef67-4a34-4528-f4e2-068b3a9d4c80"
      },
      "execution_count": 46,
      "outputs": [
        {
          "output_type": "stream",
          "name": "stderr",
          "text": [
            "WARNING:tensorflow:Layer lstm_1 will not use cuDNN kernels since it doesn't meet the criteria. It will use a generic GPU kernel as fallback when running on GPU.\n"
          ]
        },
        {
          "output_type": "stream",
          "name": "stdout",
          "text": [
            "Epoch 1/5\n",
            "79/79 [==============================] - 92s 1s/step - loss: 1.2439 - accuracy: 0.5961 - val_loss: 0.7474 - val_accuracy: 0.7950\n",
            "Epoch 2/5\n",
            "79/79 [==============================] - 80s 1s/step - loss: 0.6530 - accuracy: 0.8068 - val_loss: 0.5681 - val_accuracy: 0.8128\n",
            "Epoch 3/5\n",
            "79/79 [==============================] - 78s 995ms/step - loss: 0.5115 - accuracy: 0.8413 - val_loss: 0.4895 - val_accuracy: 0.8324\n",
            "Epoch 4/5\n",
            "79/79 [==============================] - 77s 979ms/step - loss: 0.4066 - accuracy: 0.8757 - val_loss: 0.4382 - val_accuracy: 0.8592\n",
            "Epoch 5/5\n",
            "79/79 [==============================] - 78s 988ms/step - loss: 0.3248 - accuracy: 0.8995 - val_loss: 0.4166 - val_accuracy: 0.8681\n",
            "44/44 [==============================] - 3s 75ms/step\n"
          ]
        },
        {
          "output_type": "stream",
          "name": "stderr",
          "text": [
            "/usr/local/lib/python3.10/dist-packages/sklearn/metrics/_classification.py:1344: UndefinedMetricWarning: Precision and F-score are ill-defined and being set to 0.0 in labels with no predicted samples. Use `zero_division` parameter to control this behavior.\n",
            "  _warn_prf(average, modifier, msg_start, len(result))\n",
            "/usr/local/lib/python3.10/dist-packages/sklearn/metrics/_classification.py:1344: UndefinedMetricWarning: Precision and F-score are ill-defined and being set to 0.0 in labels with no predicted samples. Use `zero_division` parameter to control this behavior.\n",
            "  _warn_prf(average, modifier, msg_start, len(result))\n",
            "/usr/local/lib/python3.10/dist-packages/sklearn/metrics/_classification.py:1344: UndefinedMetricWarning: Precision and F-score are ill-defined and being set to 0.0 in labels with no predicted samples. Use `zero_division` parameter to control this behavior.\n",
            "  _warn_prf(average, modifier, msg_start, len(result))\n",
            "WARNING:tensorflow:Layer gru_1 will not use cuDNN kernels since it doesn't meet the criteria. It will use a generic GPU kernel as fallback when running on GPU.\n"
          ]
        },
        {
          "output_type": "stream",
          "name": "stdout",
          "text": [
            "RNN (LSTM) Model\n",
            "Accuracy: 0.8630527817403709\n",
            "                         precision    recall  f1-score   support\n",
            "\n",
            "agradecimiento o saludo       0.93      0.90      0.92       476\n",
            "                   baja       1.00      0.62      0.77        16\n",
            "             equivocado       0.88      0.41      0.56        17\n",
            "               glicemia       0.00      0.00      0.00        17\n",
            "     medicación o turno       0.40      0.60      0.48        35\n",
            "                  optin       0.99      0.94      0.96       364\n",
            "                  otros       0.78      0.47      0.58        81\n",
            "              respuesta       0.76      0.92      0.83       396\n",
            "\n",
            "               accuracy                           0.86      1402\n",
            "              macro avg       0.72      0.61      0.64      1402\n",
            "           weighted avg       0.87      0.86      0.86      1402\n",
            "\n",
            "Epoch 1/5\n",
            "79/79 [==============================] - 78s 951ms/step - loss: 1.1980 - accuracy: 0.6520 - val_loss: 0.6911 - val_accuracy: 0.7647\n",
            "Epoch 2/5\n",
            "79/79 [==============================] - 72s 913ms/step - loss: 0.5950 - accuracy: 0.8109 - val_loss: 0.4926 - val_accuracy: 0.8467\n",
            "Epoch 3/5\n",
            "79/79 [==============================] - 73s 923ms/step - loss: 0.4319 - accuracy: 0.8629 - val_loss: 0.4371 - val_accuracy: 0.8592\n",
            "Epoch 4/5\n",
            "79/79 [==============================] - 70s 886ms/step - loss: 0.3397 - accuracy: 0.8960 - val_loss: 0.4110 - val_accuracy: 0.8663\n",
            "Epoch 5/5\n",
            "79/79 [==============================] - 70s 893ms/step - loss: 0.2818 - accuracy: 0.9128 - val_loss: 0.4176 - val_accuracy: 0.8699\n",
            "44/44 [==============================] - 4s 83ms/step\n",
            "GRU Model\n",
            "Accuracy: 0.8751783166904422\n",
            "                         precision    recall  f1-score   support\n",
            "\n",
            "agradecimiento o saludo       0.92      0.93      0.93       476\n",
            "                   baja       0.77      0.62      0.69        16\n",
            "             equivocado       0.86      0.71      0.77        17\n",
            "               glicemia       0.44      0.41      0.42        17\n",
            "     medicación o turno       0.47      0.51      0.49        35\n",
            "                  optin       0.97      0.94      0.95       364\n",
            "                  otros       0.71      0.68      0.70        81\n",
            "              respuesta       0.83      0.86      0.84       396\n",
            "\n",
            "               accuracy                           0.88      1402\n",
            "              macro avg       0.75      0.71      0.73      1402\n",
            "           weighted avg       0.88      0.88      0.88      1402\n",
            "\n"
          ]
        },
        {
          "output_type": "error",
          "ename": "ValueError",
          "evalue": "y contains previously unseen labels: ['agradecimiento o saludo' 'baja' 'equivocado' 'glicemia'\n 'medicación o turno' 'optin' 'otros' 'respuesta']",
          "traceback": [
            "\u001b[0;31m---------------------------------------------------------------------------\u001b[0m",
            "\u001b[0;31mValueError\u001b[0m                                Traceback (most recent call last)",
            "\u001b[0;32m<ipython-input-46-eeaa088c6268>\u001b[0m in \u001b[0;36m<cell line: 49>\u001b[0;34m()\u001b[0m\n\u001b[1;32m     49\u001b[0m results = pd.DataFrame({\n\u001b[1;32m     50\u001b[0m     \u001b[0;34m'y_test'\u001b[0m\u001b[0;34m:\u001b[0m \u001b[0mle\u001b[0m\u001b[0;34m.\u001b[0m\u001b[0minverse_transform\u001b[0m\u001b[0;34m(\u001b[0m\u001b[0my_test_seq\u001b[0m\u001b[0;34m)\u001b[0m\u001b[0;34m,\u001b[0m\u001b[0;34m\u001b[0m\u001b[0;34m\u001b[0m\u001b[0m\n\u001b[0;32m---> 51\u001b[0;31m     \u001b[0;34m'y_pred_rf'\u001b[0m\u001b[0;34m:\u001b[0m \u001b[0mle\u001b[0m\u001b[0;34m.\u001b[0m\u001b[0minverse_transform\u001b[0m\u001b[0;34m(\u001b[0m\u001b[0mrf_model\u001b[0m\u001b[0;34m.\u001b[0m\u001b[0mpredict\u001b[0m\u001b[0;34m(\u001b[0m\u001b[0mX_test_tfidf\u001b[0m\u001b[0;34m)\u001b[0m\u001b[0;34m)\u001b[0m\u001b[0;34m,\u001b[0m\u001b[0;34m\u001b[0m\u001b[0;34m\u001b[0m\u001b[0m\n\u001b[0m\u001b[1;32m     52\u001b[0m     \u001b[0;34m'y_pred_rnn'\u001b[0m\u001b[0;34m:\u001b[0m \u001b[0mle\u001b[0m\u001b[0;34m.\u001b[0m\u001b[0minverse_transform\u001b[0m\u001b[0;34m(\u001b[0m\u001b[0my_pred_rnn\u001b[0m\u001b[0;34m)\u001b[0m\u001b[0;34m,\u001b[0m\u001b[0;34m\u001b[0m\u001b[0;34m\u001b[0m\u001b[0m\n\u001b[1;32m     53\u001b[0m     \u001b[0;34m'y_pred_gru'\u001b[0m\u001b[0;34m:\u001b[0m \u001b[0mle\u001b[0m\u001b[0;34m.\u001b[0m\u001b[0minverse_transform\u001b[0m\u001b[0;34m(\u001b[0m\u001b[0my_pred_gru\u001b[0m\u001b[0;34m)\u001b[0m\u001b[0;34m\u001b[0m\u001b[0;34m\u001b[0m\u001b[0m\n",
            "\u001b[0;32m/usr/local/lib/python3.10/dist-packages/sklearn/preprocessing/_label.py\u001b[0m in \u001b[0;36minverse_transform\u001b[0;34m(self, y)\u001b[0m\n\u001b[1;32m    160\u001b[0m         \u001b[0mdiff\u001b[0m \u001b[0;34m=\u001b[0m \u001b[0mnp\u001b[0m\u001b[0;34m.\u001b[0m\u001b[0msetdiff1d\u001b[0m\u001b[0;34m(\u001b[0m\u001b[0my\u001b[0m\u001b[0;34m,\u001b[0m \u001b[0mnp\u001b[0m\u001b[0;34m.\u001b[0m\u001b[0marange\u001b[0m\u001b[0;34m(\u001b[0m\u001b[0mlen\u001b[0m\u001b[0;34m(\u001b[0m\u001b[0mself\u001b[0m\u001b[0;34m.\u001b[0m\u001b[0mclasses_\u001b[0m\u001b[0;34m)\u001b[0m\u001b[0;34m)\u001b[0m\u001b[0;34m)\u001b[0m\u001b[0;34m\u001b[0m\u001b[0;34m\u001b[0m\u001b[0m\n\u001b[1;32m    161\u001b[0m         \u001b[0;32mif\u001b[0m \u001b[0mlen\u001b[0m\u001b[0;34m(\u001b[0m\u001b[0mdiff\u001b[0m\u001b[0;34m)\u001b[0m\u001b[0;34m:\u001b[0m\u001b[0;34m\u001b[0m\u001b[0;34m\u001b[0m\u001b[0m\n\u001b[0;32m--> 162\u001b[0;31m             \u001b[0;32mraise\u001b[0m \u001b[0mValueError\u001b[0m\u001b[0;34m(\u001b[0m\u001b[0;34m\"y contains previously unseen labels: %s\"\u001b[0m \u001b[0;34m%\u001b[0m \u001b[0mstr\u001b[0m\u001b[0;34m(\u001b[0m\u001b[0mdiff\u001b[0m\u001b[0;34m)\u001b[0m\u001b[0;34m)\u001b[0m\u001b[0;34m\u001b[0m\u001b[0;34m\u001b[0m\u001b[0m\n\u001b[0m\u001b[1;32m    163\u001b[0m         \u001b[0my\u001b[0m \u001b[0;34m=\u001b[0m \u001b[0mnp\u001b[0m\u001b[0;34m.\u001b[0m\u001b[0masarray\u001b[0m\u001b[0;34m(\u001b[0m\u001b[0my\u001b[0m\u001b[0;34m)\u001b[0m\u001b[0;34m\u001b[0m\u001b[0;34m\u001b[0m\u001b[0m\n\u001b[1;32m    164\u001b[0m         \u001b[0;32mreturn\u001b[0m \u001b[0mself\u001b[0m\u001b[0;34m.\u001b[0m\u001b[0mclasses_\u001b[0m\u001b[0;34m[\u001b[0m\u001b[0my\u001b[0m\u001b[0;34m]\u001b[0m\u001b[0;34m\u001b[0m\u001b[0;34m\u001b[0m\u001b[0m\n",
            "\u001b[0;31mValueError\u001b[0m: y contains previously unseen labels: ['agradecimiento o saludo' 'baja' 'equivocado' 'glicemia'\n 'medicación o turno' 'optin' 'otros' 'respuesta']"
          ]
        }
      ]
    },
    {
      "cell_type": "code",
      "source": [
        "# Get the original labels for y_test_seq\n",
        "y_test_original = le.inverse_transform(y_test_seq)\n",
        "\n",
        "# Guardar los resultados en un archivo Excel\n",
        "results = pd.DataFrame({\n",
        "    'y_test': y_test_original, # Use original labels\n",
        "    'y_pred_rf': rf_model.predict(X_test_tfidf),  # No need to inverse transform here\n",
        "    'y_pred_rnn': le.inverse_transform(y_pred_rnn),\n",
        "    'y_pred_gru': le.inverse_transform(y_pred_gru)\n",
        "})\n",
        "\n"
      ],
      "metadata": {
        "id": "IyG4gLlALtIl"
      },
      "execution_count": null,
      "outputs": []
    },
    {
      "cell_type": "code",
      "source": [
        "\n",
        "output_path = '/content/drive/MyDrive/UCU-NLP/resultados_clasificacion.xlsx'\n",
        "results.to_excel(output_path, index=False)\n",
        "\n",
        "print(f\"Resultados guardados en: {output_path}\")"
      ],
      "metadata": {
        "colab": {
          "base_uri": "https://localhost:8080/"
        },
        "id": "rwhGN4M5L2Ri",
        "outputId": "4662b98f-2fdd-47b6-85af-7b4ed82d1c57"
      },
      "execution_count": null,
      "outputs": [
        {
          "output_type": "stream",
          "name": "stdout",
          "text": [
            "Resultados guardados en: /content/drive/MyDrive/UCU-NLP/resultados_clasificacion.xlsx\n"
          ]
        }
      ]
    },
    {
      "cell_type": "code",
      "source": [
        "# Evaluación de los modelos\n",
        "print(\"Random Forest Classifier\")\n",
        "print(f\"Accuracy: {accuracy_score(y_test, y_pred_rf)}\")\n",
        "print(classification_report(y_test, y_pred_rf))\n",
        "\n",
        "\n",
        "print(\"RNN (LSTM) Model\")\n",
        "print(f\"Accuracy: {accuracy_score(y_test_seq, y_pred_rnn)}\")\n",
        "print(classification_report(y_test_seq, y_pred_rnn, target_names=le.classes_))\n",
        "\n",
        "print(\"GRU Model\")\n",
        "print(f\"Accuracy: {accuracy_score(y_test_seq, y_pred_gru)}\")\n",
        "print(classification_report(y_test_seq, y_pred_gru, target_names=le.classes_))\n"
      ],
      "metadata": {
        "id": "RiqaiF-QNaN5",
        "outputId": "1a1cfb7c-b191-4ef4-8803-b4d9daa30e4f",
        "colab": {
          "base_uri": "https://localhost:8080/"
        }
      },
      "execution_count": 47,
      "outputs": [
        {
          "output_type": "stream",
          "name": "stdout",
          "text": [
            "Random Forest Classifier\n",
            "Accuracy: 0.8609129814550642\n",
            "                         precision    recall  f1-score   support\n",
            "\n",
            "agradecimiento o saludo       0.90      0.93      0.91       476\n",
            "                   baja       1.00      0.62      0.77        16\n",
            "             equivocado       0.85      0.65      0.73        17\n",
            "               glicemia       1.00      0.12      0.21        17\n",
            "     medicación o turno       1.00      0.23      0.37        35\n",
            "                  optin       0.99      0.93      0.96       364\n",
            "                  otros       0.83      0.48      0.61        81\n",
            "              respuesta       0.73      0.90      0.81       396\n",
            "\n",
            "               accuracy                           0.86      1402\n",
            "              macro avg       0.91      0.61      0.67      1402\n",
            "           weighted avg       0.88      0.86      0.85      1402\n",
            "\n",
            "RNN (LSTM) Model\n",
            "Accuracy: 0.8630527817403709\n",
            "                         precision    recall  f1-score   support\n",
            "\n",
            "agradecimiento o saludo       0.93      0.90      0.92       476\n",
            "                   baja       1.00      0.62      0.77        16\n",
            "             equivocado       0.88      0.41      0.56        17\n",
            "               glicemia       0.00      0.00      0.00        17\n",
            "     medicación o turno       0.40      0.60      0.48        35\n",
            "                  optin       0.99      0.94      0.96       364\n",
            "                  otros       0.78      0.47      0.58        81\n",
            "              respuesta       0.76      0.92      0.83       396\n",
            "\n",
            "               accuracy                           0.86      1402\n",
            "              macro avg       0.72      0.61      0.64      1402\n",
            "           weighted avg       0.87      0.86      0.86      1402\n",
            "\n",
            "GRU Model\n",
            "Accuracy: 0.8751783166904422\n",
            "                         precision    recall  f1-score   support\n",
            "\n",
            "agradecimiento o saludo       0.92      0.93      0.93       476\n",
            "                   baja       0.77      0.62      0.69        16\n",
            "             equivocado       0.86      0.71      0.77        17\n",
            "               glicemia       0.44      0.41      0.42        17\n",
            "     medicación o turno       0.47      0.51      0.49        35\n",
            "                  optin       0.97      0.94      0.95       364\n",
            "                  otros       0.71      0.68      0.70        81\n",
            "              respuesta       0.83      0.86      0.84       396\n",
            "\n",
            "               accuracy                           0.88      1402\n",
            "              macro avg       0.75      0.71      0.73      1402\n",
            "           weighted avg       0.88      0.88      0.88      1402\n",
            "\n"
          ]
        },
        {
          "output_type": "stream",
          "name": "stderr",
          "text": [
            "/usr/local/lib/python3.10/dist-packages/sklearn/metrics/_classification.py:1344: UndefinedMetricWarning: Precision and F-score are ill-defined and being set to 0.0 in labels with no predicted samples. Use `zero_division` parameter to control this behavior.\n",
            "  _warn_prf(average, modifier, msg_start, len(result))\n",
            "/usr/local/lib/python3.10/dist-packages/sklearn/metrics/_classification.py:1344: UndefinedMetricWarning: Precision and F-score are ill-defined and being set to 0.0 in labels with no predicted samples. Use `zero_division` parameter to control this behavior.\n",
            "  _warn_prf(average, modifier, msg_start, len(result))\n",
            "/usr/local/lib/python3.10/dist-packages/sklearn/metrics/_classification.py:1344: UndefinedMetricWarning: Precision and F-score are ill-defined and being set to 0.0 in labels with no predicted samples. Use `zero_division` parameter to control this behavior.\n",
            "  _warn_prf(average, modifier, msg_start, len(result))\n"
          ]
        }
      ]
    },
    {
      "cell_type": "markdown",
      "source": [],
      "metadata": {
        "id": "FqRdqZc84Yfv"
      }
    },
    {
      "cell_type": "code",
      "source": [],
      "metadata": {
        "id": "zk7CG7iK4Yz9"
      },
      "execution_count": null,
      "outputs": []
    }
  ]
}