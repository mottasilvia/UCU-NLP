{
  "cells": [
    {
      "cell_type": "markdown",
      "metadata": {
        "id": "view-in-github",
        "colab_type": "text"
      },
      "source": [
        "<a href=\"https://colab.research.google.com/github/mottasilvia/UCU-NLP/blob/main/Proyecto%20Final/RAG_con_OpenAI_y_Langchain.ipynb\" target=\"_parent\"><img src=\"https://colab.research.google.com/assets/colab-badge.svg\" alt=\"Open In Colab\"/></a>"
      ]
    },
    {
      "cell_type": "markdown",
      "source": [
        "# Implementación de RAG con OpenAI y LangChain"
      ],
      "metadata": {
        "id": "GV2T8dQl_-7n"
      }
    },
    {
      "cell_type": "markdown",
      "metadata": {
        "id": "u9kPquzuyBZK"
      },
      "source": [
        "\n",
        "\n",
        "Este notebook tiene como objetivo construir un sistema de Recuperación de Información Guiada por la Pregunta (RAG) utilizando LangChain, ChromaDB y la API de OpenAI. El sistema permite cargar documentos PDF, procesarlos, dividirlos en fragmentos manejables, crear representaciones vectoriales de estos fragmentos y luego realizar consultas sobre ellos para recuperar información relevante.\n",
        "\n",
        "Índice del Contenido\n",
        "\n",
        "    Instalación de Bibliotecas Necesarias\n",
        "    Configuración del Entorno\n",
        "    Carga y Procesamiento de Documentos PDF\n",
        "    División de Documentos en Fragmentos\n",
        "    Creación de Embeddings y Base de Datos Vectorial con OpenAI\n",
        "    Consultas en la Base de Datos Vectorial\n",
        "    Recuperación Contextual y Compresión\n",
        "    Cadena de QA con Recuperación de Contexto (RAG)\n",
        "    Implementación de un Prompt Personalizado para el RAG\n",
        "    Ejecución de Consultas de Prueba y Almacenamiento de Resultados\n"
      ]
    },
    {
      "cell_type": "markdown",
      "source": [
        "# Instalación de Bibliotecas Necesarias"
      ],
      "metadata": {
        "id": "9j2LIzXOADnk"
      }
    },
    {
      "cell_type": "code",
      "execution_count": null,
      "metadata": {
        "id": "1sS8nZ7NyBZN",
        "colab": {
          "base_uri": "https://localhost:8080/"
        },
        "outputId": "939f966e-e450-4c96-95a7-ea3941f35de2",
        "collapsed": true
      },
      "outputs": [
        {
          "output_type": "stream",
          "name": "stdout",
          "text": [
            "Requirement already satisfied: langchain in /usr/local/lib/python3.10/dist-packages (0.2.9)\n",
            "Requirement already satisfied: trulens_eval in /usr/local/lib/python3.10/dist-packages (0.33.0)\n",
            "Requirement already satisfied: chromadb in /usr/local/lib/python3.10/dist-packages (0.5.4)\n",
            "Requirement already satisfied: openai in /usr/local/lib/python3.10/dist-packages (1.35.15)\n",
            "Requirement already satisfied: PyYAML>=5.3 in /usr/local/lib/python3.10/dist-packages (from langchain) (6.0.1)\n",
            "Requirement already satisfied: SQLAlchemy<3,>=1.4 in /usr/local/lib/python3.10/dist-packages (from langchain) (2.0.31)\n",
            "Requirement already satisfied: aiohttp<4.0.0,>=3.8.3 in /usr/local/lib/python3.10/dist-packages (from langchain) (3.9.5)\n",
            "Requirement already satisfied: async-timeout<5.0.0,>=4.0.0 in /usr/local/lib/python3.10/dist-packages (from langchain) (4.0.3)\n",
            "Requirement already satisfied: langchain-core<0.3.0,>=0.2.20 in /usr/local/lib/python3.10/dist-packages (from langchain) (0.2.21)\n",
            "Requirement already satisfied: langchain-text-splitters<0.3.0,>=0.2.0 in /usr/local/lib/python3.10/dist-packages (from langchain) (0.2.2)\n",
            "Requirement already satisfied: langsmith<0.2.0,>=0.1.17 in /usr/local/lib/python3.10/dist-packages (from langchain) (0.1.90)\n",
            "Requirement already satisfied: numpy<2,>=1 in /usr/local/lib/python3.10/dist-packages (from langchain) (1.25.2)\n",
            "Requirement already satisfied: pydantic<3,>=1 in /usr/local/lib/python3.10/dist-packages (from langchain) (2.8.2)\n",
            "Requirement already satisfied: requests<3,>=2 in /usr/local/lib/python3.10/dist-packages (from langchain) (2.31.0)\n",
            "Requirement already satisfied: tenacity!=8.4.0,<9.0.0,>=8.1.0 in /usr/local/lib/python3.10/dist-packages (from langchain) (8.5.0)\n",
            "Requirement already satisfied: frozendict>=2.3.8 in /usr/local/lib/python3.10/dist-packages (from trulens_eval) (2.4.4)\n",
            "Requirement already satisfied: munch>=3.0.0 in /usr/local/lib/python3.10/dist-packages (from trulens_eval) (4.0.0)\n",
            "Requirement already satisfied: dill>=0.3.7 in /usr/local/lib/python3.10/dist-packages (from trulens_eval) (0.3.8)\n",
            "Requirement already satisfied: tqdm>=4.66.1 in /usr/local/lib/python3.10/dist-packages (from trulens_eval) (4.66.4)\n",
            "Requirement already satisfied: nltk>=3.8.1 in /usr/local/lib/python3.10/dist-packages (from trulens_eval) (3.8.1)\n",
            "Requirement already satisfied: nest-asyncio>=1.5.8 in /usr/local/lib/python3.10/dist-packages (from trulens_eval) (1.6.0)\n",
            "Requirement already satisfied: typing-extensions>=4.9.0 in /usr/local/lib/python3.10/dist-packages (from trulens_eval) (4.12.2)\n",
            "Requirement already satisfied: psutil>=5.9.8 in /usr/local/lib/python3.10/dist-packages (from trulens_eval) (6.0.0)\n",
            "Requirement already satisfied: pip>=24.0 in /usr/local/lib/python3.10/dist-packages (from trulens_eval) (24.1.2)\n",
            "Requirement already satisfied: packaging>=23.2 in /usr/local/lib/python3.10/dist-packages (from trulens_eval) (24.1)\n",
            "Requirement already satisfied: python-dotenv>=1.0.0 in /usr/local/lib/python3.10/dist-packages (from trulens_eval) (1.0.1)\n",
            "Requirement already satisfied: merkle-json>=1.0.0 in /usr/local/lib/python3.10/dist-packages (from trulens_eval) (1.0.0)\n",
            "Requirement already satisfied: langchain-community>=0.0.38 in /usr/local/lib/python3.10/dist-packages (from trulens_eval) (0.2.7)\n",
            "Requirement already satisfied: typing-inspect>=0.8.0 in /usr/local/lib/python3.10/dist-packages (from trulens_eval) (0.9.0)\n",
            "Requirement already satisfied: millify>=0.1.1 in /usr/local/lib/python3.10/dist-packages (from trulens_eval) (0.1.1)\n",
            "Requirement already satisfied: humanize>=4.6.0 in /usr/local/lib/python3.10/dist-packages (from trulens_eval) (4.7.0)\n",
            "Requirement already satisfied: streamlit>=1.33.0 in /usr/local/lib/python3.10/dist-packages (from trulens_eval) (1.36.0)\n",
            "Requirement already satisfied: streamlit-aggrid==0.3.4 in /usr/local/lib/python3.10/dist-packages (from trulens_eval) (0.3.4)\n",
            "Requirement already satisfied: streamlit-extras>=0.4.0 in /usr/local/lib/python3.10/dist-packages (from trulens_eval) (0.4.3)\n",
            "Requirement already satisfied: streamlit-pills>=0.3.0 in /usr/local/lib/python3.10/dist-packages (from trulens_eval) (0.3.0)\n",
            "Requirement already satisfied: rich>=13.6.0 in /usr/local/lib/python3.10/dist-packages (from trulens_eval) (13.7.1)\n",
            "Requirement already satisfied: alembic>=1.11.2 in /usr/local/lib/python3.10/dist-packages (from trulens_eval) (1.13.2)\n",
            "Requirement already satisfied: pandas>=1.2 in /usr/local/lib/python3.10/dist-packages (from streamlit-aggrid==0.3.4->trulens_eval) (2.0.3)\n",
            "Requirement already satisfied: python-decouple<4.0,>=3.6 in /usr/local/lib/python3.10/dist-packages (from streamlit-aggrid==0.3.4->trulens_eval) (3.8)\n",
            "Requirement already satisfied: build>=1.0.3 in /usr/local/lib/python3.10/dist-packages (from chromadb) (1.2.1)\n",
            "Requirement already satisfied: chroma-hnswlib==0.7.5 in /usr/local/lib/python3.10/dist-packages (from chromadb) (0.7.5)\n",
            "Requirement already satisfied: fastapi>=0.95.2 in /usr/local/lib/python3.10/dist-packages (from chromadb) (0.111.1)\n",
            "Requirement already satisfied: uvicorn>=0.18.3 in /usr/local/lib/python3.10/dist-packages (from uvicorn[standard]>=0.18.3->chromadb) (0.30.1)\n",
            "Requirement already satisfied: posthog>=2.4.0 in /usr/local/lib/python3.10/dist-packages (from chromadb) (3.5.0)\n",
            "Requirement already satisfied: onnxruntime>=1.14.1 in /usr/local/lib/python3.10/dist-packages (from chromadb) (1.18.1)\n",
            "Requirement already satisfied: opentelemetry-api>=1.2.0 in /usr/local/lib/python3.10/dist-packages (from chromadb) (1.25.0)\n",
            "Requirement already satisfied: opentelemetry-exporter-otlp-proto-grpc>=1.2.0 in /usr/local/lib/python3.10/dist-packages (from chromadb) (1.25.0)\n",
            "Requirement already satisfied: opentelemetry-instrumentation-fastapi>=0.41b0 in /usr/local/lib/python3.10/dist-packages (from chromadb) (0.46b0)\n",
            "Requirement already satisfied: opentelemetry-sdk>=1.2.0 in /usr/local/lib/python3.10/dist-packages (from chromadb) (1.25.0)\n",
            "Requirement already satisfied: tokenizers>=0.13.2 in /usr/local/lib/python3.10/dist-packages (from chromadb) (0.19.1)\n",
            "Requirement already satisfied: pypika>=0.48.9 in /usr/local/lib/python3.10/dist-packages (from chromadb) (0.48.9)\n",
            "Requirement already satisfied: overrides>=7.3.1 in /usr/local/lib/python3.10/dist-packages (from chromadb) (7.7.0)\n",
            "Requirement already satisfied: importlib-resources in /usr/local/lib/python3.10/dist-packages (from chromadb) (6.4.0)\n",
            "Requirement already satisfied: grpcio>=1.58.0 in /usr/local/lib/python3.10/dist-packages (from chromadb) (1.64.1)\n",
            "Requirement already satisfied: bcrypt>=4.0.1 in /usr/local/lib/python3.10/dist-packages (from chromadb) (4.1.3)\n",
            "Requirement already satisfied: typer>=0.9.0 in /usr/local/lib/python3.10/dist-packages (from chromadb) (0.12.3)\n",
            "Requirement already satisfied: kubernetes>=28.1.0 in /usr/local/lib/python3.10/dist-packages (from chromadb) (30.1.0)\n",
            "Requirement already satisfied: mmh3>=4.0.1 in /usr/local/lib/python3.10/dist-packages (from chromadb) (4.1.0)\n",
            "Requirement already satisfied: orjson>=3.9.12 in /usr/local/lib/python3.10/dist-packages (from chromadb) (3.10.6)\n",
            "Requirement already satisfied: httpx>=0.27.0 in /usr/local/lib/python3.10/dist-packages (from chromadb) (0.27.0)\n",
            "Requirement already satisfied: anyio<5,>=3.5.0 in /usr/local/lib/python3.10/dist-packages (from openai) (3.7.1)\n",
            "Requirement already satisfied: distro<2,>=1.7.0 in /usr/lib/python3/dist-packages (from openai) (1.7.0)\n",
            "Requirement already satisfied: sniffio in /usr/local/lib/python3.10/dist-packages (from openai) (1.3.1)\n",
            "Requirement already satisfied: aiosignal>=1.1.2 in /usr/local/lib/python3.10/dist-packages (from aiohttp<4.0.0,>=3.8.3->langchain) (1.3.1)\n",
            "Requirement already satisfied: attrs>=17.3.0 in /usr/local/lib/python3.10/dist-packages (from aiohttp<4.0.0,>=3.8.3->langchain) (23.2.0)\n",
            "Requirement already satisfied: frozenlist>=1.1.1 in /usr/local/lib/python3.10/dist-packages (from aiohttp<4.0.0,>=3.8.3->langchain) (1.4.1)\n",
            "Requirement already satisfied: multidict<7.0,>=4.5 in /usr/local/lib/python3.10/dist-packages (from aiohttp<4.0.0,>=3.8.3->langchain) (6.0.5)\n",
            "Requirement already satisfied: yarl<2.0,>=1.0 in /usr/local/lib/python3.10/dist-packages (from aiohttp<4.0.0,>=3.8.3->langchain) (1.9.4)\n",
            "Requirement already satisfied: Mako in /usr/local/lib/python3.10/dist-packages (from alembic>=1.11.2->trulens_eval) (1.3.5)\n",
            "Requirement already satisfied: idna>=2.8 in /usr/local/lib/python3.10/dist-packages (from anyio<5,>=3.5.0->openai) (3.7)\n",
            "Requirement already satisfied: exceptiongroup in /usr/local/lib/python3.10/dist-packages (from anyio<5,>=3.5.0->openai) (1.2.2)\n",
            "Requirement already satisfied: pyproject_hooks in /usr/local/lib/python3.10/dist-packages (from build>=1.0.3->chromadb) (1.1.0)\n",
            "Requirement already satisfied: tomli>=1.1.0 in /usr/local/lib/python3.10/dist-packages (from build>=1.0.3->chromadb) (2.0.1)\n",
            "Requirement already satisfied: starlette<0.38.0,>=0.37.2 in /usr/local/lib/python3.10/dist-packages (from fastapi>=0.95.2->chromadb) (0.37.2)\n",
            "Requirement already satisfied: fastapi-cli>=0.0.2 in /usr/local/lib/python3.10/dist-packages (from fastapi>=0.95.2->chromadb) (0.0.4)\n",
            "Requirement already satisfied: jinja2>=2.11.2 in /usr/local/lib/python3.10/dist-packages (from fastapi>=0.95.2->chromadb) (3.1.4)\n",
            "Requirement already satisfied: python-multipart>=0.0.7 in /usr/local/lib/python3.10/dist-packages (from fastapi>=0.95.2->chromadb) (0.0.9)\n",
            "Requirement already satisfied: email_validator>=2.0.0 in /usr/local/lib/python3.10/dist-packages (from fastapi>=0.95.2->chromadb) (2.2.0)\n",
            "Requirement already satisfied: certifi in /usr/local/lib/python3.10/dist-packages (from httpx>=0.27.0->chromadb) (2024.7.4)\n",
            "Requirement already satisfied: httpcore==1.* in /usr/local/lib/python3.10/dist-packages (from httpx>=0.27.0->chromadb) (1.0.5)\n",
            "Requirement already satisfied: h11<0.15,>=0.13 in /usr/local/lib/python3.10/dist-packages (from httpcore==1.*->httpx>=0.27.0->chromadb) (0.14.0)\n",
            "Requirement already satisfied: six>=1.9.0 in /usr/local/lib/python3.10/dist-packages (from kubernetes>=28.1.0->chromadb) (1.16.0)\n",
            "Requirement already satisfied: python-dateutil>=2.5.3 in /usr/local/lib/python3.10/dist-packages (from kubernetes>=28.1.0->chromadb) (2.8.2)\n",
            "Requirement already satisfied: google-auth>=1.0.1 in /usr/local/lib/python3.10/dist-packages (from kubernetes>=28.1.0->chromadb) (2.27.0)\n",
            "Requirement already satisfied: websocket-client!=0.40.0,!=0.41.*,!=0.42.*,>=0.32.0 in /usr/local/lib/python3.10/dist-packages (from kubernetes>=28.1.0->chromadb) (1.8.0)\n",
            "Requirement already satisfied: requests-oauthlib in /usr/local/lib/python3.10/dist-packages (from kubernetes>=28.1.0->chromadb) (1.3.1)\n",
            "Requirement already satisfied: oauthlib>=3.2.2 in /usr/local/lib/python3.10/dist-packages (from kubernetes>=28.1.0->chromadb) (3.2.2)\n",
            "Requirement already satisfied: urllib3>=1.24.2 in /usr/local/lib/python3.10/dist-packages (from kubernetes>=28.1.0->chromadb) (2.0.7)\n",
            "Requirement already satisfied: dataclasses-json<0.7,>=0.5.7 in /usr/local/lib/python3.10/dist-packages (from langchain-community>=0.0.38->trulens_eval) (0.6.7)\n",
            "Requirement already satisfied: jsonpatch<2.0,>=1.33 in /usr/local/lib/python3.10/dist-packages (from langchain-core<0.3.0,>=0.2.20->langchain) (1.33)\n",
            "Requirement already satisfied: click in /usr/local/lib/python3.10/dist-packages (from nltk>=3.8.1->trulens_eval) (8.1.7)\n",
            "Requirement already satisfied: joblib in /usr/local/lib/python3.10/dist-packages (from nltk>=3.8.1->trulens_eval) (1.4.2)\n",
            "Requirement already satisfied: regex>=2021.8.3 in /usr/local/lib/python3.10/dist-packages (from nltk>=3.8.1->trulens_eval) (2024.5.15)\n",
            "Requirement already satisfied: coloredlogs in /usr/local/lib/python3.10/dist-packages (from onnxruntime>=1.14.1->chromadb) (15.0.1)\n",
            "Requirement already satisfied: flatbuffers in /usr/local/lib/python3.10/dist-packages (from onnxruntime>=1.14.1->chromadb) (24.3.25)\n",
            "Requirement already satisfied: protobuf in /usr/local/lib/python3.10/dist-packages (from onnxruntime>=1.14.1->chromadb) (3.20.3)\n",
            "Requirement already satisfied: sympy in /usr/local/lib/python3.10/dist-packages (from onnxruntime>=1.14.1->chromadb) (1.13.0)\n",
            "Requirement already satisfied: deprecated>=1.2.6 in /usr/local/lib/python3.10/dist-packages (from opentelemetry-api>=1.2.0->chromadb) (1.2.14)\n",
            "Requirement already satisfied: importlib-metadata<=7.1,>=6.0 in /usr/local/lib/python3.10/dist-packages (from opentelemetry-api>=1.2.0->chromadb) (7.1.0)\n",
            "Requirement already satisfied: googleapis-common-protos~=1.52 in /usr/local/lib/python3.10/dist-packages (from opentelemetry-exporter-otlp-proto-grpc>=1.2.0->chromadb) (1.63.2)\n",
            "Requirement already satisfied: opentelemetry-exporter-otlp-proto-common==1.25.0 in /usr/local/lib/python3.10/dist-packages (from opentelemetry-exporter-otlp-proto-grpc>=1.2.0->chromadb) (1.25.0)\n",
            "Requirement already satisfied: opentelemetry-proto==1.25.0 in /usr/local/lib/python3.10/dist-packages (from opentelemetry-exporter-otlp-proto-grpc>=1.2.0->chromadb) (1.25.0)\n",
            "Requirement already satisfied: opentelemetry-instrumentation-asgi==0.46b0 in /usr/local/lib/python3.10/dist-packages (from opentelemetry-instrumentation-fastapi>=0.41b0->chromadb) (0.46b0)\n",
            "Requirement already satisfied: opentelemetry-instrumentation==0.46b0 in /usr/local/lib/python3.10/dist-packages (from opentelemetry-instrumentation-fastapi>=0.41b0->chromadb) (0.46b0)\n",
            "Requirement already satisfied: opentelemetry-semantic-conventions==0.46b0 in /usr/local/lib/python3.10/dist-packages (from opentelemetry-instrumentation-fastapi>=0.41b0->chromadb) (0.46b0)\n",
            "Requirement already satisfied: opentelemetry-util-http==0.46b0 in /usr/local/lib/python3.10/dist-packages (from opentelemetry-instrumentation-fastapi>=0.41b0->chromadb) (0.46b0)\n",
            "Requirement already satisfied: setuptools>=16.0 in /usr/local/lib/python3.10/dist-packages (from opentelemetry-instrumentation==0.46b0->opentelemetry-instrumentation-fastapi>=0.41b0->chromadb) (67.7.2)\n",
            "Requirement already satisfied: wrapt<2.0.0,>=1.0.0 in /usr/local/lib/python3.10/dist-packages (from opentelemetry-instrumentation==0.46b0->opentelemetry-instrumentation-fastapi>=0.41b0->chromadb) (1.14.1)\n",
            "Requirement already satisfied: asgiref~=3.0 in /usr/local/lib/python3.10/dist-packages (from opentelemetry-instrumentation-asgi==0.46b0->opentelemetry-instrumentation-fastapi>=0.41b0->chromadb) (3.8.1)\n",
            "Requirement already satisfied: monotonic>=1.5 in /usr/local/lib/python3.10/dist-packages (from posthog>=2.4.0->chromadb) (1.6)\n",
            "Requirement already satisfied: backoff>=1.10.0 in /usr/local/lib/python3.10/dist-packages (from posthog>=2.4.0->chromadb) (2.2.1)\n",
            "Requirement already satisfied: annotated-types>=0.4.0 in /usr/local/lib/python3.10/dist-packages (from pydantic<3,>=1->langchain) (0.7.0)\n",
            "Requirement already satisfied: pydantic-core==2.20.1 in /usr/local/lib/python3.10/dist-packages (from pydantic<3,>=1->langchain) (2.20.1)\n",
            "Requirement already satisfied: charset-normalizer<4,>=2 in /usr/local/lib/python3.10/dist-packages (from requests<3,>=2->langchain) (3.3.2)\n",
            "Requirement already satisfied: markdown-it-py>=2.2.0 in /usr/local/lib/python3.10/dist-packages (from rich>=13.6.0->trulens_eval) (3.0.0)\n",
            "Requirement already satisfied: pygments<3.0.0,>=2.13.0 in /usr/local/lib/python3.10/dist-packages (from rich>=13.6.0->trulens_eval) (2.16.1)\n",
            "Requirement already satisfied: greenlet!=0.4.17 in /usr/local/lib/python3.10/dist-packages (from SQLAlchemy<3,>=1.4->langchain) (3.0.3)\n",
            "Requirement already satisfied: altair<6,>=4.0 in /usr/local/lib/python3.10/dist-packages (from streamlit>=1.33.0->trulens_eval) (4.2.2)\n",
            "Requirement already satisfied: blinker<2,>=1.0.0 in /usr/lib/python3/dist-packages (from streamlit>=1.33.0->trulens_eval) (1.4)\n",
            "Requirement already satisfied: cachetools<6,>=4.0 in /usr/local/lib/python3.10/dist-packages (from streamlit>=1.33.0->trulens_eval) (5.4.0)\n",
            "Requirement already satisfied: pillow<11,>=7.1.0 in /usr/local/lib/python3.10/dist-packages (from streamlit>=1.33.0->trulens_eval) (9.4.0)\n",
            "Requirement already satisfied: pyarrow>=7.0 in /usr/local/lib/python3.10/dist-packages (from streamlit>=1.33.0->trulens_eval) (14.0.2)\n",
            "Requirement already satisfied: toml<2,>=0.10.1 in /usr/local/lib/python3.10/dist-packages (from streamlit>=1.33.0->trulens_eval) (0.10.2)\n",
            "Requirement already satisfied: gitpython!=3.1.19,<4,>=3.0.7 in /usr/local/lib/python3.10/dist-packages (from streamlit>=1.33.0->trulens_eval) (3.1.43)\n",
            "Requirement already satisfied: pydeck<1,>=0.8.0b4 in /usr/local/lib/python3.10/dist-packages (from streamlit>=1.33.0->trulens_eval) (0.9.1)\n",
            "Requirement already satisfied: tornado<7,>=6.0.3 in /usr/local/lib/python3.10/dist-packages (from streamlit>=1.33.0->trulens_eval) (6.3.3)\n",
            "Requirement already satisfied: watchdog<5,>=2.1.5 in /usr/local/lib/python3.10/dist-packages (from streamlit>=1.33.0->trulens_eval) (4.0.1)\n",
            "Requirement already satisfied: entrypoints>=0.4 in /usr/local/lib/python3.10/dist-packages (from streamlit-extras>=0.4.0->trulens_eval) (0.4)\n",
            "Requirement already satisfied: htbuilder>=0.6.2 in /usr/local/lib/python3.10/dist-packages (from streamlit-extras>=0.4.0->trulens_eval) (0.6.2)\n",
            "Requirement already satisfied: markdownlit>=0.0.5 in /usr/local/lib/python3.10/dist-packages (from streamlit-extras>=0.4.0->trulens_eval) (0.0.7)\n",
            "Requirement already satisfied: prometheus-client>=0.14.0 in /usr/local/lib/python3.10/dist-packages (from streamlit-extras>=0.4.0->trulens_eval) (0.20.0)\n",
            "Requirement already satisfied: st-annotated-text>=3.0.0 in /usr/local/lib/python3.10/dist-packages (from streamlit-extras>=0.4.0->trulens_eval) (4.0.1)\n",
            "Requirement already satisfied: st-theme>=1.0.1 in /usr/local/lib/python3.10/dist-packages (from streamlit-extras>=0.4.0->trulens_eval) (1.2.3)\n",
            "Requirement already satisfied: streamlit-camera-input-live>=0.2.0 in /usr/local/lib/python3.10/dist-packages (from streamlit-extras>=0.4.0->trulens_eval) (0.2.0)\n",
            "Requirement already satisfied: streamlit-card>=0.0.4 in /usr/local/lib/python3.10/dist-packages (from streamlit-extras>=0.4.0->trulens_eval) (1.0.2)\n",
            "Requirement already satisfied: streamlit-embedcode>=0.1.2 in /usr/local/lib/python3.10/dist-packages (from streamlit-extras>=0.4.0->trulens_eval) (0.1.2)\n",
            "Requirement already satisfied: streamlit-faker>=0.0.2 in /usr/local/lib/python3.10/dist-packages (from streamlit-extras>=0.4.0->trulens_eval) (0.0.3)\n",
            "Requirement already satisfied: streamlit-image-coordinates<0.2.0,>=0.1.1 in /usr/local/lib/python3.10/dist-packages (from streamlit-extras>=0.4.0->trulens_eval) (0.1.9)\n",
            "Requirement already satisfied: streamlit-keyup>=0.1.9 in /usr/local/lib/python3.10/dist-packages (from streamlit-extras>=0.4.0->trulens_eval) (0.2.4)\n",
            "Requirement already satisfied: streamlit-toggle-switch>=1.0.2 in /usr/local/lib/python3.10/dist-packages (from streamlit-extras>=0.4.0->trulens_eval) (1.0.2)\n",
            "Requirement already satisfied: streamlit-vertical-slider>=2.5.5 in /usr/local/lib/python3.10/dist-packages (from streamlit-extras>=0.4.0->trulens_eval) (2.5.5)\n",
            "Requirement already satisfied: validators>=0.20.0 in /usr/local/lib/python3.10/dist-packages (from streamlit-extras>=0.4.0->trulens_eval) (0.33.0)\n",
            "Requirement already satisfied: huggingface-hub<1.0,>=0.16.4 in /usr/local/lib/python3.10/dist-packages (from tokenizers>=0.13.2->chromadb) (0.23.5)\n",
            "Requirement already satisfied: shellingham>=1.3.0 in /usr/local/lib/python3.10/dist-packages (from typer>=0.9.0->chromadb) (1.5.4)\n",
            "Requirement already satisfied: mypy-extensions>=0.3.0 in /usr/local/lib/python3.10/dist-packages (from typing-inspect>=0.8.0->trulens_eval) (1.0.0)\n",
            "Requirement already satisfied: httptools>=0.5.0 in /usr/local/lib/python3.10/dist-packages (from uvicorn[standard]>=0.18.3->chromadb) (0.6.1)\n",
            "Requirement already satisfied: uvloop!=0.15.0,!=0.15.1,>=0.14.0 in /usr/local/lib/python3.10/dist-packages (from uvicorn[standard]>=0.18.3->chromadb) (0.19.0)\n",
            "Requirement already satisfied: watchfiles>=0.13 in /usr/local/lib/python3.10/dist-packages (from uvicorn[standard]>=0.18.3->chromadb) (0.22.0)\n",
            "Requirement already satisfied: websockets>=10.4 in /usr/local/lib/python3.10/dist-packages (from uvicorn[standard]>=0.18.3->chromadb) (12.0)\n",
            "Requirement already satisfied: jsonschema>=3.0 in /usr/local/lib/python3.10/dist-packages (from altair<6,>=4.0->streamlit>=1.33.0->trulens_eval) (4.19.2)\n",
            "Requirement already satisfied: toolz in /usr/local/lib/python3.10/dist-packages (from altair<6,>=4.0->streamlit>=1.33.0->trulens_eval) (0.12.1)\n",
            "Requirement already satisfied: marshmallow<4.0.0,>=3.18.0 in /usr/local/lib/python3.10/dist-packages (from dataclasses-json<0.7,>=0.5.7->langchain-community>=0.0.38->trulens_eval) (3.21.3)\n",
            "Requirement already satisfied: dnspython>=2.0.0 in /usr/local/lib/python3.10/dist-packages (from email_validator>=2.0.0->fastapi>=0.95.2->chromadb) (2.6.1)\n",
            "Requirement already satisfied: gitdb<5,>=4.0.1 in /usr/local/lib/python3.10/dist-packages (from gitpython!=3.1.19,<4,>=3.0.7->streamlit>=1.33.0->trulens_eval) (4.0.11)\n",
            "Requirement already satisfied: pyasn1-modules>=0.2.1 in /usr/local/lib/python3.10/dist-packages (from google-auth>=1.0.1->kubernetes>=28.1.0->chromadb) (0.4.0)\n",
            "Requirement already satisfied: rsa<5,>=3.1.4 in /usr/local/lib/python3.10/dist-packages (from google-auth>=1.0.1->kubernetes>=28.1.0->chromadb) (4.9)\n",
            "Requirement already satisfied: more-itertools in /usr/local/lib/python3.10/dist-packages (from htbuilder>=0.6.2->streamlit-extras>=0.4.0->trulens_eval) (10.1.0)\n",
            "Requirement already satisfied: filelock in /usr/local/lib/python3.10/dist-packages (from huggingface-hub<1.0,>=0.16.4->tokenizers>=0.13.2->chromadb) (3.15.4)\n",
            "Requirement already satisfied: fsspec>=2023.5.0 in /usr/local/lib/python3.10/dist-packages (from huggingface-hub<1.0,>=0.16.4->tokenizers>=0.13.2->chromadb) (2023.6.0)\n",
            "Requirement already satisfied: zipp>=0.5 in /usr/local/lib/python3.10/dist-packages (from importlib-metadata<=7.1,>=6.0->opentelemetry-api>=1.2.0->chromadb) (3.19.2)\n",
            "Requirement already satisfied: MarkupSafe>=2.0 in /usr/local/lib/python3.10/dist-packages (from jinja2>=2.11.2->fastapi>=0.95.2->chromadb) (2.1.5)\n",
            "Requirement already satisfied: jsonpointer>=1.9 in /usr/local/lib/python3.10/dist-packages (from jsonpatch<2.0,>=1.33->langchain-core<0.3.0,>=0.2.20->langchain) (3.0.0)\n",
            "Requirement already satisfied: mdurl~=0.1 in /usr/local/lib/python3.10/dist-packages (from markdown-it-py>=2.2.0->rich>=13.6.0->trulens_eval) (0.1.2)\n",
            "Requirement already satisfied: markdown in /usr/local/lib/python3.10/dist-packages (from markdownlit>=0.0.5->streamlit-extras>=0.4.0->trulens_eval) (3.6)\n",
            "Requirement already satisfied: lxml in /usr/local/lib/python3.10/dist-packages (from markdownlit>=0.0.5->streamlit-extras>=0.4.0->trulens_eval) (4.9.4)\n",
            "Requirement already satisfied: favicon in /usr/local/lib/python3.10/dist-packages (from markdownlit>=0.0.5->streamlit-extras>=0.4.0->trulens_eval) (0.7.0)\n",
            "Requirement already satisfied: pymdown-extensions in /usr/local/lib/python3.10/dist-packages (from markdownlit>=0.0.5->streamlit-extras>=0.4.0->trulens_eval) (10.8.1)\n",
            "Requirement already satisfied: pytz>=2020.1 in /usr/local/lib/python3.10/dist-packages (from pandas>=1.2->streamlit-aggrid==0.3.4->trulens_eval) (2023.4)\n",
            "Requirement already satisfied: tzdata>=2022.1 in /usr/local/lib/python3.10/dist-packages (from pandas>=1.2->streamlit-aggrid==0.3.4->trulens_eval) (2024.1)\n",
            "Requirement already satisfied: faker in /usr/local/lib/python3.10/dist-packages (from streamlit-faker>=0.0.2->streamlit-extras>=0.4.0->trulens_eval) (26.0.0)\n",
            "Requirement already satisfied: matplotlib in /usr/local/lib/python3.10/dist-packages (from streamlit-faker>=0.0.2->streamlit-extras>=0.4.0->trulens_eval) (3.7.1)\n",
            "Requirement already satisfied: humanfriendly>=9.1 in /usr/local/lib/python3.10/dist-packages (from coloredlogs->onnxruntime>=1.14.1->chromadb) (10.0)\n",
            "Requirement already satisfied: mpmath<1.4,>=1.1.0 in /usr/local/lib/python3.10/dist-packages (from sympy->onnxruntime>=1.14.1->chromadb) (1.3.0)\n",
            "Requirement already satisfied: smmap<6,>=3.0.1 in /usr/local/lib/python3.10/dist-packages (from gitdb<5,>=4.0.1->gitpython!=3.1.19,<4,>=3.0.7->streamlit>=1.33.0->trulens_eval) (5.0.1)\n",
            "Requirement already satisfied: jsonschema-specifications>=2023.03.6 in /usr/local/lib/python3.10/dist-packages (from jsonschema>=3.0->altair<6,>=4.0->streamlit>=1.33.0->trulens_eval) (2023.12.1)\n",
            "Requirement already satisfied: referencing>=0.28.4 in /usr/local/lib/python3.10/dist-packages (from jsonschema>=3.0->altair<6,>=4.0->streamlit>=1.33.0->trulens_eval) (0.35.1)\n",
            "Requirement already satisfied: rpds-py>=0.7.1 in /usr/local/lib/python3.10/dist-packages (from jsonschema>=3.0->altair<6,>=4.0->streamlit>=1.33.0->trulens_eval) (0.19.0)\n",
            "Requirement already satisfied: pyasn1<0.7.0,>=0.4.6 in /usr/local/lib/python3.10/dist-packages (from pyasn1-modules>=0.2.1->google-auth>=1.0.1->kubernetes>=28.1.0->chromadb) (0.6.0)\n",
            "Requirement already satisfied: beautifulsoup4>=4.7.0 in /usr/local/lib/python3.10/dist-packages (from favicon->markdownlit>=0.0.5->streamlit-extras>=0.4.0->trulens_eval) (4.12.3)\n",
            "Requirement already satisfied: contourpy>=1.0.1 in /usr/local/lib/python3.10/dist-packages (from matplotlib->streamlit-faker>=0.0.2->streamlit-extras>=0.4.0->trulens_eval) (1.2.1)\n",
            "Requirement already satisfied: cycler>=0.10 in /usr/local/lib/python3.10/dist-packages (from matplotlib->streamlit-faker>=0.0.2->streamlit-extras>=0.4.0->trulens_eval) (0.12.1)\n",
            "Requirement already satisfied: fonttools>=4.22.0 in /usr/local/lib/python3.10/dist-packages (from matplotlib->streamlit-faker>=0.0.2->streamlit-extras>=0.4.0->trulens_eval) (4.53.1)\n",
            "Requirement already satisfied: kiwisolver>=1.0.1 in /usr/local/lib/python3.10/dist-packages (from matplotlib->streamlit-faker>=0.0.2->streamlit-extras>=0.4.0->trulens_eval) (1.4.5)\n",
            "Requirement already satisfied: pyparsing>=2.3.1 in /usr/local/lib/python3.10/dist-packages (from matplotlib->streamlit-faker>=0.0.2->streamlit-extras>=0.4.0->trulens_eval) (3.1.2)\n",
            "Requirement already satisfied: soupsieve>1.2 in /usr/local/lib/python3.10/dist-packages (from beautifulsoup4>=4.7.0->favicon->markdownlit>=0.0.5->streamlit-extras>=0.4.0->trulens_eval) (2.5)\n",
            "\u001b[33mWARNING: Running pip as the 'root' user can result in broken permissions and conflicting behaviour with the system package manager, possibly rendering your system unusable.It is recommended to use a virtual environment instead: https://pip.pypa.io/warnings/venv. Use the --root-user-action option if you know what you are doing and want to suppress this warning.\u001b[0m\u001b[33m\n",
            "\u001b[0mRequirement already satisfied: tqdm in /usr/local/lib/python3.10/dist-packages (4.66.4)\n",
            "\u001b[33mWARNING: Running pip as the 'root' user can result in broken permissions and conflicting behaviour with the system package manager, possibly rendering your system unusable.It is recommended to use a virtual environment instead: https://pip.pypa.io/warnings/venv. Use the --root-user-action option if you know what you are doing and want to suppress this warning.\u001b[0m\u001b[33m\n",
            "\u001b[0mCollecting PyMuPDF\n",
            "  Using cached PyMuPDF-1.24.7-cp310-none-manylinux2014_x86_64.whl.metadata (3.4 kB)\n",
            "Collecting PyMuPDFb==1.24.6 (from PyMuPDF)\n",
            "  Downloading PyMuPDFb-1.24.6-py3-none-manylinux2014_x86_64.manylinux_2_17_x86_64.whl.metadata (1.4 kB)\n",
            "Downloading PyMuPDF-1.24.7-cp310-none-manylinux2014_x86_64.whl (3.5 MB)\n",
            "\u001b[2K   \u001b[90m━━━━━━━━━━━━━━━━━━━━━━━━━━━━━━━━━━━━━━━━\u001b[0m \u001b[32m3.5/3.5 MB\u001b[0m \u001b[31m28.9 MB/s\u001b[0m eta \u001b[36m0:00:00\u001b[0m\n",
            "\u001b[?25hDownloading PyMuPDFb-1.24.6-py3-none-manylinux2014_x86_64.manylinux_2_17_x86_64.whl (15.7 MB)\n",
            "\u001b[2K   \u001b[90m━━━━━━━━━━━━━━━━━━━━━━━━━━━━━━━━━━━━━━━━\u001b[0m \u001b[32m15.7/15.7 MB\u001b[0m \u001b[31m122.1 MB/s\u001b[0m eta \u001b[36m0:00:00\u001b[0m\n",
            "\u001b[?25hInstalling collected packages: PyMuPDFb, PyMuPDF\n",
            "Successfully installed PyMuPDF-1.24.7 PyMuPDFb-1.24.6\n",
            "\u001b[33mWARNING: Running pip as the 'root' user can result in broken permissions and conflicting behaviour with the system package manager, possibly rendering your system unusable.It is recommended to use a virtual environment instead: https://pip.pypa.io/warnings/venv. Use the --root-user-action option if you know what you are doing and want to suppress this warning.\u001b[0m\u001b[33m\n",
            "\u001b[0mRequirement already satisfied: pypdf in /usr/local/lib/python3.10/dist-packages (4.3.0)\n",
            "Requirement already satisfied: typing_extensions>=4.0 in /usr/local/lib/python3.10/dist-packages (from pypdf) (4.12.2)\n",
            "\u001b[33mWARNING: Running pip as the 'root' user can result in broken permissions and conflicting behaviour with the system package manager, possibly rendering your system unusable.It is recommended to use a virtual environment instead: https://pip.pypa.io/warnings/venv. Use the --root-user-action option if you know what you are doing and want to suppress this warning.\u001b[0m\u001b[33m\n",
            "\u001b[0mCollecting sentence-transformers\n",
            "  Downloading sentence_transformers-3.0.1-py3-none-any.whl.metadata (10 kB)\n",
            "Requirement already satisfied: transformers<5.0.0,>=4.34.0 in /usr/local/lib/python3.10/dist-packages (from sentence-transformers) (4.42.4)\n",
            "Requirement already satisfied: tqdm in /usr/local/lib/python3.10/dist-packages (from sentence-transformers) (4.66.4)\n",
            "Requirement already satisfied: torch>=1.11.0 in /usr/local/lib/python3.10/dist-packages (from sentence-transformers) (2.3.1+cu121)\n",
            "Requirement already satisfied: numpy in /usr/local/lib/python3.10/dist-packages (from sentence-transformers) (1.25.2)\n",
            "Requirement already satisfied: scikit-learn in /usr/local/lib/python3.10/dist-packages (from sentence-transformers) (1.2.2)\n",
            "Requirement already satisfied: scipy in /usr/local/lib/python3.10/dist-packages (from sentence-transformers) (1.11.4)\n",
            "Requirement already satisfied: huggingface-hub>=0.15.1 in /usr/local/lib/python3.10/dist-packages (from sentence-transformers) (0.23.5)\n",
            "Requirement already satisfied: Pillow in /usr/local/lib/python3.10/dist-packages (from sentence-transformers) (9.4.0)\n",
            "Requirement already satisfied: filelock in /usr/local/lib/python3.10/dist-packages (from huggingface-hub>=0.15.1->sentence-transformers) (3.15.4)\n",
            "Requirement already satisfied: fsspec>=2023.5.0 in /usr/local/lib/python3.10/dist-packages (from huggingface-hub>=0.15.1->sentence-transformers) (2023.6.0)\n",
            "Requirement already satisfied: packaging>=20.9 in /usr/local/lib/python3.10/dist-packages (from huggingface-hub>=0.15.1->sentence-transformers) (24.1)\n",
            "Requirement already satisfied: pyyaml>=5.1 in /usr/local/lib/python3.10/dist-packages (from huggingface-hub>=0.15.1->sentence-transformers) (6.0.1)\n",
            "Requirement already satisfied: requests in /usr/local/lib/python3.10/dist-packages (from huggingface-hub>=0.15.1->sentence-transformers) (2.31.0)\n",
            "Requirement already satisfied: typing-extensions>=3.7.4.3 in /usr/local/lib/python3.10/dist-packages (from huggingface-hub>=0.15.1->sentence-transformers) (4.12.2)\n",
            "Requirement already satisfied: sympy in /usr/local/lib/python3.10/dist-packages (from torch>=1.11.0->sentence-transformers) (1.13.0)\n",
            "Requirement already satisfied: networkx in /usr/local/lib/python3.10/dist-packages (from torch>=1.11.0->sentence-transformers) (3.3)\n",
            "Requirement already satisfied: jinja2 in /usr/local/lib/python3.10/dist-packages (from torch>=1.11.0->sentence-transformers) (3.1.4)\n",
            "Collecting nvidia-cuda-nvrtc-cu12==12.1.105 (from torch>=1.11.0->sentence-transformers)\n",
            "  Downloading nvidia_cuda_nvrtc_cu12-12.1.105-py3-none-manylinux1_x86_64.whl.metadata (1.5 kB)\n",
            "Collecting nvidia-cuda-runtime-cu12==12.1.105 (from torch>=1.11.0->sentence-transformers)\n",
            "  Downloading nvidia_cuda_runtime_cu12-12.1.105-py3-none-manylinux1_x86_64.whl.metadata (1.5 kB)\n",
            "Collecting nvidia-cuda-cupti-cu12==12.1.105 (from torch>=1.11.0->sentence-transformers)\n",
            "  Downloading nvidia_cuda_cupti_cu12-12.1.105-py3-none-manylinux1_x86_64.whl.metadata (1.6 kB)\n",
            "Collecting nvidia-cudnn-cu12==8.9.2.26 (from torch>=1.11.0->sentence-transformers)\n",
            "  Downloading nvidia_cudnn_cu12-8.9.2.26-py3-none-manylinux1_x86_64.whl.metadata (1.6 kB)\n",
            "Collecting nvidia-cublas-cu12==12.1.3.1 (from torch>=1.11.0->sentence-transformers)\n",
            "  Downloading nvidia_cublas_cu12-12.1.3.1-py3-none-manylinux1_x86_64.whl.metadata (1.5 kB)\n",
            "Collecting nvidia-cufft-cu12==11.0.2.54 (from torch>=1.11.0->sentence-transformers)\n",
            "  Downloading nvidia_cufft_cu12-11.0.2.54-py3-none-manylinux1_x86_64.whl.metadata (1.5 kB)\n",
            "Collecting nvidia-curand-cu12==10.3.2.106 (from torch>=1.11.0->sentence-transformers)\n",
            "  Downloading nvidia_curand_cu12-10.3.2.106-py3-none-manylinux1_x86_64.whl.metadata (1.5 kB)\n",
            "Collecting nvidia-cusolver-cu12==11.4.5.107 (from torch>=1.11.0->sentence-transformers)\n",
            "  Downloading nvidia_cusolver_cu12-11.4.5.107-py3-none-manylinux1_x86_64.whl.metadata (1.6 kB)\n",
            "Collecting nvidia-cusparse-cu12==12.1.0.106 (from torch>=1.11.0->sentence-transformers)\n",
            "  Downloading nvidia_cusparse_cu12-12.1.0.106-py3-none-manylinux1_x86_64.whl.metadata (1.6 kB)\n",
            "Collecting nvidia-nccl-cu12==2.20.5 (from torch>=1.11.0->sentence-transformers)\n",
            "  Downloading nvidia_nccl_cu12-2.20.5-py3-none-manylinux2014_x86_64.whl.metadata (1.8 kB)\n",
            "Collecting nvidia-nvtx-cu12==12.1.105 (from torch>=1.11.0->sentence-transformers)\n",
            "  Downloading nvidia_nvtx_cu12-12.1.105-py3-none-manylinux1_x86_64.whl.metadata (1.7 kB)\n",
            "Requirement already satisfied: triton==2.3.1 in /usr/local/lib/python3.10/dist-packages (from torch>=1.11.0->sentence-transformers) (2.3.1)\n",
            "Collecting nvidia-nvjitlink-cu12 (from nvidia-cusolver-cu12==11.4.5.107->torch>=1.11.0->sentence-transformers)\n",
            "  Downloading nvidia_nvjitlink_cu12-12.5.82-py3-none-manylinux2014_x86_64.whl.metadata (1.5 kB)\n",
            "Requirement already satisfied: regex!=2019.12.17 in /usr/local/lib/python3.10/dist-packages (from transformers<5.0.0,>=4.34.0->sentence-transformers) (2024.5.15)\n",
            "Requirement already satisfied: safetensors>=0.4.1 in /usr/local/lib/python3.10/dist-packages (from transformers<5.0.0,>=4.34.0->sentence-transformers) (0.4.3)\n",
            "Requirement already satisfied: tokenizers<0.20,>=0.19 in /usr/local/lib/python3.10/dist-packages (from transformers<5.0.0,>=4.34.0->sentence-transformers) (0.19.1)\n",
            "Requirement already satisfied: joblib>=1.1.1 in /usr/local/lib/python3.10/dist-packages (from scikit-learn->sentence-transformers) (1.4.2)\n",
            "Requirement already satisfied: threadpoolctl>=2.0.0 in /usr/local/lib/python3.10/dist-packages (from scikit-learn->sentence-transformers) (3.5.0)\n",
            "Requirement already satisfied: MarkupSafe>=2.0 in /usr/local/lib/python3.10/dist-packages (from jinja2->torch>=1.11.0->sentence-transformers) (2.1.5)\n",
            "Requirement already satisfied: charset-normalizer<4,>=2 in /usr/local/lib/python3.10/dist-packages (from requests->huggingface-hub>=0.15.1->sentence-transformers) (3.3.2)\n",
            "Requirement already satisfied: idna<4,>=2.5 in /usr/local/lib/python3.10/dist-packages (from requests->huggingface-hub>=0.15.1->sentence-transformers) (3.7)\n",
            "Requirement already satisfied: urllib3<3,>=1.21.1 in /usr/local/lib/python3.10/dist-packages (from requests->huggingface-hub>=0.15.1->sentence-transformers) (2.0.7)\n",
            "Requirement already satisfied: certifi>=2017.4.17 in /usr/local/lib/python3.10/dist-packages (from requests->huggingface-hub>=0.15.1->sentence-transformers) (2024.7.4)\n",
            "Requirement already satisfied: mpmath<1.4,>=1.1.0 in /usr/local/lib/python3.10/dist-packages (from sympy->torch>=1.11.0->sentence-transformers) (1.3.0)\n",
            "Downloading sentence_transformers-3.0.1-py3-none-any.whl (227 kB)\n",
            "\u001b[2K   \u001b[90m━━━━━━━━━━━━━━━━━━━━━━━━━━━━━━━━━━━━━━━━\u001b[0m \u001b[32m227.1/227.1 kB\u001b[0m \u001b[31m4.1 MB/s\u001b[0m eta \u001b[36m0:00:00\u001b[0m\n",
            "\u001b[?25hDownloading nvidia_cublas_cu12-12.1.3.1-py3-none-manylinux1_x86_64.whl (410.6 MB)\n",
            "\u001b[2K   \u001b[90m━━━━━━━━━━━━━━━━━━━━━━━━━━━━━━━━━━━━━━━━\u001b[0m \u001b[32m410.6/410.6 MB\u001b[0m \u001b[31m2.8 MB/s\u001b[0m eta \u001b[36m0:00:00\u001b[0m\n",
            "\u001b[?25hDownloading nvidia_cuda_cupti_cu12-12.1.105-py3-none-manylinux1_x86_64.whl (14.1 MB)\n",
            "\u001b[2K   \u001b[90m━━━━━━━━━━━━━━━━━━━━━━━━━━━━━━━━━━━━━━━━\u001b[0m \u001b[32m14.1/14.1 MB\u001b[0m \u001b[31m98.2 MB/s\u001b[0m eta \u001b[36m0:00:00\u001b[0m\n",
            "\u001b[?25hDownloading nvidia_cuda_nvrtc_cu12-12.1.105-py3-none-manylinux1_x86_64.whl (23.7 MB)\n",
            "\u001b[2K   \u001b[90m━━━━━━━━━━━━━━━━━━━━━━━━━━━━━━━━━━━━━━━━\u001b[0m \u001b[32m23.7/23.7 MB\u001b[0m \u001b[31m95.1 MB/s\u001b[0m eta \u001b[36m0:00:00\u001b[0m\n",
            "\u001b[?25hDownloading nvidia_cuda_runtime_cu12-12.1.105-py3-none-manylinux1_x86_64.whl (823 kB)\n",
            "\u001b[2K   \u001b[90m━━━━━━━━━━━━━━━━━━━━━━━━━━━━━━━━━━━━━━━━\u001b[0m \u001b[32m823.6/823.6 kB\u001b[0m \u001b[31m43.4 MB/s\u001b[0m eta \u001b[36m0:00:00\u001b[0m\n",
            "\u001b[?25hDownloading nvidia_cudnn_cu12-8.9.2.26-py3-none-manylinux1_x86_64.whl (731.7 MB)\n",
            "\u001b[2K   \u001b[90m━━━━━━━━━━━━━━━━━━━━━━━━━━━━━━━━━━━━━━━━\u001b[0m \u001b[32m731.7/731.7 MB\u001b[0m \u001b[31m2.0 MB/s\u001b[0m eta \u001b[36m0:00:00\u001b[0m\n",
            "\u001b[?25hDownloading nvidia_cufft_cu12-11.0.2.54-py3-none-manylinux1_x86_64.whl (121.6 MB)\n",
            "\u001b[2K   \u001b[90m━━━━━━━━━━━━━━━━━━━━━━━━━━━━━━━━━━━━━━━━\u001b[0m \u001b[32m121.6/121.6 MB\u001b[0m \u001b[31m20.2 MB/s\u001b[0m eta \u001b[36m0:00:00\u001b[0m\n",
            "\u001b[?25hDownloading nvidia_curand_cu12-10.3.2.106-py3-none-manylinux1_x86_64.whl (56.5 MB)\n",
            "\u001b[2K   \u001b[90m━━━━━━━━━━━━━━━━━━━━━━━━━━━━━━━━━━━━━━━━\u001b[0m \u001b[32m56.5/56.5 MB\u001b[0m \u001b[31m45.7 MB/s\u001b[0m eta \u001b[36m0:00:00\u001b[0m\n",
            "\u001b[?25hDownloading nvidia_cusolver_cu12-11.4.5.107-py3-none-manylinux1_x86_64.whl (124.2 MB)\n",
            "\u001b[2K   \u001b[90m━━━━━━━━━━━━━━━━━━━━━━━━━━━━━━━━━━━━━━━━\u001b[0m \u001b[32m124.2/124.2 MB\u001b[0m \u001b[31m9.9 MB/s\u001b[0m eta \u001b[36m0:00:00\u001b[0m\n",
            "\u001b[?25hDownloading nvidia_cusparse_cu12-12.1.0.106-py3-none-manylinux1_x86_64.whl (196.0 MB)\n",
            "\u001b[2K   \u001b[90m━━━━━━━━━━━━━━━━━━━━━━━━━━━━━━━━━━━━━━━━\u001b[0m \u001b[32m196.0/196.0 MB\u001b[0m \u001b[31m4.5 MB/s\u001b[0m eta \u001b[36m0:00:00\u001b[0m\n",
            "\u001b[?25hDownloading nvidia_nccl_cu12-2.20.5-py3-none-manylinux2014_x86_64.whl (176.2 MB)\n",
            "\u001b[2K   \u001b[90m━━━━━━━━━━━━━━━━━━━━━━━━━━━━━━━━━━━━━━━━\u001b[0m \u001b[32m176.2/176.2 MB\u001b[0m \u001b[31m8.9 MB/s\u001b[0m eta \u001b[36m0:00:00\u001b[0m\n",
            "\u001b[?25hDownloading nvidia_nvtx_cu12-12.1.105-py3-none-manylinux1_x86_64.whl (99 kB)\n",
            "\u001b[2K   \u001b[90m━━━━━━━━━━━━━━━━━━━━━━━━━━━━━━━━━━━━━━━━\u001b[0m \u001b[32m99.1/99.1 kB\u001b[0m \u001b[31m5.8 MB/s\u001b[0m eta \u001b[36m0:00:00\u001b[0m\n",
            "\u001b[?25hDownloading nvidia_nvjitlink_cu12-12.5.82-py3-none-manylinux2014_x86_64.whl (21.3 MB)\n",
            "\u001b[2K   \u001b[90m━━━━━━━━━━━━━━━━━━━━━━━━━━━━━━━━━━━━━━━━\u001b[0m \u001b[32m21.3/21.3 MB\u001b[0m \u001b[31m89.5 MB/s\u001b[0m eta \u001b[36m0:00:00\u001b[0m\n",
            "\u001b[?25hInstalling collected packages: nvidia-nvtx-cu12, nvidia-nvjitlink-cu12, nvidia-nccl-cu12, nvidia-curand-cu12, nvidia-cufft-cu12, nvidia-cuda-runtime-cu12, nvidia-cuda-nvrtc-cu12, nvidia-cuda-cupti-cu12, nvidia-cublas-cu12, nvidia-cusparse-cu12, nvidia-cudnn-cu12, nvidia-cusolver-cu12, sentence-transformers\n",
            "Successfully installed nvidia-cublas-cu12-12.1.3.1 nvidia-cuda-cupti-cu12-12.1.105 nvidia-cuda-nvrtc-cu12-12.1.105 nvidia-cuda-runtime-cu12-12.1.105 nvidia-cudnn-cu12-8.9.2.26 nvidia-cufft-cu12-11.0.2.54 nvidia-curand-cu12-10.3.2.106 nvidia-cusolver-cu12-11.4.5.107 nvidia-cusparse-cu12-12.1.0.106 nvidia-nccl-cu12-2.20.5 nvidia-nvjitlink-cu12-12.5.82 nvidia-nvtx-cu12-12.1.105 sentence-transformers-3.0.1\n",
            "\u001b[33mWARNING: Running pip as the 'root' user can result in broken permissions and conflicting behaviour with the system package manager, possibly rendering your system unusable.It is recommended to use a virtual environment instead: https://pip.pypa.io/warnings/venv. Use the --root-user-action option if you know what you are doing and want to suppress this warning.\u001b[0m\u001b[33m\n",
            "\u001b[0mCollecting langchain_chroma\n",
            "  Downloading langchain_chroma-0.1.2-py3-none-any.whl.metadata (1.3 kB)\n",
            "Requirement already satisfied: chromadb<0.6.0,>=0.4.0 in /usr/local/lib/python3.10/dist-packages (from langchain_chroma) (0.5.4)\n",
            "Requirement already satisfied: fastapi<1,>=0.95.2 in /usr/local/lib/python3.10/dist-packages (from langchain_chroma) (0.111.1)\n",
            "Requirement already satisfied: langchain-core<0.3,>=0.1.40 in /usr/local/lib/python3.10/dist-packages (from langchain_chroma) (0.2.21)\n",
            "Requirement already satisfied: numpy<2,>=1 in /usr/local/lib/python3.10/dist-packages (from langchain_chroma) (1.25.2)\n",
            "Requirement already satisfied: build>=1.0.3 in /usr/local/lib/python3.10/dist-packages (from chromadb<0.6.0,>=0.4.0->langchain_chroma) (1.2.1)\n",
            "Requirement already satisfied: pydantic>=1.9 in /usr/local/lib/python3.10/dist-packages (from chromadb<0.6.0,>=0.4.0->langchain_chroma) (2.8.2)\n",
            "Requirement already satisfied: chroma-hnswlib==0.7.5 in /usr/local/lib/python3.10/dist-packages (from chromadb<0.6.0,>=0.4.0->langchain_chroma) (0.7.5)\n",
            "Requirement already satisfied: uvicorn>=0.18.3 in /usr/local/lib/python3.10/dist-packages (from uvicorn[standard]>=0.18.3->chromadb<0.6.0,>=0.4.0->langchain_chroma) (0.30.1)\n",
            "Requirement already satisfied: posthog>=2.4.0 in /usr/local/lib/python3.10/dist-packages (from chromadb<0.6.0,>=0.4.0->langchain_chroma) (3.5.0)\n",
            "Requirement already satisfied: typing-extensions>=4.5.0 in /usr/local/lib/python3.10/dist-packages (from chromadb<0.6.0,>=0.4.0->langchain_chroma) (4.12.2)\n",
            "Requirement already satisfied: onnxruntime>=1.14.1 in /usr/local/lib/python3.10/dist-packages (from chromadb<0.6.0,>=0.4.0->langchain_chroma) (1.18.1)\n",
            "Requirement already satisfied: opentelemetry-api>=1.2.0 in /usr/local/lib/python3.10/dist-packages (from chromadb<0.6.0,>=0.4.0->langchain_chroma) (1.25.0)\n",
            "Requirement already satisfied: opentelemetry-exporter-otlp-proto-grpc>=1.2.0 in /usr/local/lib/python3.10/dist-packages (from chromadb<0.6.0,>=0.4.0->langchain_chroma) (1.25.0)\n",
            "Requirement already satisfied: opentelemetry-instrumentation-fastapi>=0.41b0 in /usr/local/lib/python3.10/dist-packages (from chromadb<0.6.0,>=0.4.0->langchain_chroma) (0.46b0)\n",
            "Requirement already satisfied: opentelemetry-sdk>=1.2.0 in /usr/local/lib/python3.10/dist-packages (from chromadb<0.6.0,>=0.4.0->langchain_chroma) (1.25.0)\n",
            "Requirement already satisfied: tokenizers>=0.13.2 in /usr/local/lib/python3.10/dist-packages (from chromadb<0.6.0,>=0.4.0->langchain_chroma) (0.19.1)\n",
            "Requirement already satisfied: pypika>=0.48.9 in /usr/local/lib/python3.10/dist-packages (from chromadb<0.6.0,>=0.4.0->langchain_chroma) (0.48.9)\n",
            "Requirement already satisfied: tqdm>=4.65.0 in /usr/local/lib/python3.10/dist-packages (from chromadb<0.6.0,>=0.4.0->langchain_chroma) (4.66.4)\n",
            "Requirement already satisfied: overrides>=7.3.1 in /usr/local/lib/python3.10/dist-packages (from chromadb<0.6.0,>=0.4.0->langchain_chroma) (7.7.0)\n",
            "Requirement already satisfied: importlib-resources in /usr/local/lib/python3.10/dist-packages (from chromadb<0.6.0,>=0.4.0->langchain_chroma) (6.4.0)\n",
            "Requirement already satisfied: grpcio>=1.58.0 in /usr/local/lib/python3.10/dist-packages (from chromadb<0.6.0,>=0.4.0->langchain_chroma) (1.64.1)\n",
            "Requirement already satisfied: bcrypt>=4.0.1 in /usr/local/lib/python3.10/dist-packages (from chromadb<0.6.0,>=0.4.0->langchain_chroma) (4.1.3)\n",
            "Requirement already satisfied: typer>=0.9.0 in /usr/local/lib/python3.10/dist-packages (from chromadb<0.6.0,>=0.4.0->langchain_chroma) (0.12.3)\n",
            "Requirement already satisfied: kubernetes>=28.1.0 in /usr/local/lib/python3.10/dist-packages (from chromadb<0.6.0,>=0.4.0->langchain_chroma) (30.1.0)\n",
            "Requirement already satisfied: tenacity>=8.2.3 in /usr/local/lib/python3.10/dist-packages (from chromadb<0.6.0,>=0.4.0->langchain_chroma) (8.5.0)\n",
            "Requirement already satisfied: PyYAML>=6.0.0 in /usr/local/lib/python3.10/dist-packages (from chromadb<0.6.0,>=0.4.0->langchain_chroma) (6.0.1)\n",
            "Requirement already satisfied: mmh3>=4.0.1 in /usr/local/lib/python3.10/dist-packages (from chromadb<0.6.0,>=0.4.0->langchain_chroma) (4.1.0)\n",
            "Requirement already satisfied: orjson>=3.9.12 in /usr/local/lib/python3.10/dist-packages (from chromadb<0.6.0,>=0.4.0->langchain_chroma) (3.10.6)\n",
            "Requirement already satisfied: httpx>=0.27.0 in /usr/local/lib/python3.10/dist-packages (from chromadb<0.6.0,>=0.4.0->langchain_chroma) (0.27.0)\n",
            "Requirement already satisfied: starlette<0.38.0,>=0.37.2 in /usr/local/lib/python3.10/dist-packages (from fastapi<1,>=0.95.2->langchain_chroma) (0.37.2)\n",
            "Requirement already satisfied: fastapi-cli>=0.0.2 in /usr/local/lib/python3.10/dist-packages (from fastapi<1,>=0.95.2->langchain_chroma) (0.0.4)\n",
            "Requirement already satisfied: jinja2>=2.11.2 in /usr/local/lib/python3.10/dist-packages (from fastapi<1,>=0.95.2->langchain_chroma) (3.1.4)\n",
            "Requirement already satisfied: python-multipart>=0.0.7 in /usr/local/lib/python3.10/dist-packages (from fastapi<1,>=0.95.2->langchain_chroma) (0.0.9)\n",
            "Requirement already satisfied: email_validator>=2.0.0 in /usr/local/lib/python3.10/dist-packages (from fastapi<1,>=0.95.2->langchain_chroma) (2.2.0)\n",
            "Requirement already satisfied: jsonpatch<2.0,>=1.33 in /usr/local/lib/python3.10/dist-packages (from langchain-core<0.3,>=0.1.40->langchain_chroma) (1.33)\n",
            "Requirement already satisfied: langsmith<0.2.0,>=0.1.75 in /usr/local/lib/python3.10/dist-packages (from langchain-core<0.3,>=0.1.40->langchain_chroma) (0.1.90)\n",
            "Requirement already satisfied: packaging<25,>=23.2 in /usr/local/lib/python3.10/dist-packages (from langchain-core<0.3,>=0.1.40->langchain_chroma) (24.1)\n",
            "Requirement already satisfied: pyproject_hooks in /usr/local/lib/python3.10/dist-packages (from build>=1.0.3->chromadb<0.6.0,>=0.4.0->langchain_chroma) (1.1.0)\n",
            "Requirement already satisfied: tomli>=1.1.0 in /usr/local/lib/python3.10/dist-packages (from build>=1.0.3->chromadb<0.6.0,>=0.4.0->langchain_chroma) (2.0.1)\n",
            "Requirement already satisfied: dnspython>=2.0.0 in /usr/local/lib/python3.10/dist-packages (from email_validator>=2.0.0->fastapi<1,>=0.95.2->langchain_chroma) (2.6.1)\n",
            "Requirement already satisfied: idna>=2.0.0 in /usr/local/lib/python3.10/dist-packages (from email_validator>=2.0.0->fastapi<1,>=0.95.2->langchain_chroma) (3.7)\n",
            "Requirement already satisfied: anyio in /usr/local/lib/python3.10/dist-packages (from httpx>=0.27.0->chromadb<0.6.0,>=0.4.0->langchain_chroma) (3.7.1)\n",
            "Requirement already satisfied: certifi in /usr/local/lib/python3.10/dist-packages (from httpx>=0.27.0->chromadb<0.6.0,>=0.4.0->langchain_chroma) (2024.7.4)\n",
            "Requirement already satisfied: httpcore==1.* in /usr/local/lib/python3.10/dist-packages (from httpx>=0.27.0->chromadb<0.6.0,>=0.4.0->langchain_chroma) (1.0.5)\n",
            "Requirement already satisfied: sniffio in /usr/local/lib/python3.10/dist-packages (from httpx>=0.27.0->chromadb<0.6.0,>=0.4.0->langchain_chroma) (1.3.1)\n",
            "Requirement already satisfied: h11<0.15,>=0.13 in /usr/local/lib/python3.10/dist-packages (from httpcore==1.*->httpx>=0.27.0->chromadb<0.6.0,>=0.4.0->langchain_chroma) (0.14.0)\n",
            "Requirement already satisfied: MarkupSafe>=2.0 in /usr/local/lib/python3.10/dist-packages (from jinja2>=2.11.2->fastapi<1,>=0.95.2->langchain_chroma) (2.1.5)\n",
            "Requirement already satisfied: jsonpointer>=1.9 in /usr/local/lib/python3.10/dist-packages (from jsonpatch<2.0,>=1.33->langchain-core<0.3,>=0.1.40->langchain_chroma) (3.0.0)\n",
            "Requirement already satisfied: six>=1.9.0 in /usr/local/lib/python3.10/dist-packages (from kubernetes>=28.1.0->chromadb<0.6.0,>=0.4.0->langchain_chroma) (1.16.0)\n",
            "Requirement already satisfied: python-dateutil>=2.5.3 in /usr/local/lib/python3.10/dist-packages (from kubernetes>=28.1.0->chromadb<0.6.0,>=0.4.0->langchain_chroma) (2.8.2)\n",
            "Requirement already satisfied: google-auth>=1.0.1 in /usr/local/lib/python3.10/dist-packages (from kubernetes>=28.1.0->chromadb<0.6.0,>=0.4.0->langchain_chroma) (2.27.0)\n",
            "Requirement already satisfied: websocket-client!=0.40.0,!=0.41.*,!=0.42.*,>=0.32.0 in /usr/local/lib/python3.10/dist-packages (from kubernetes>=28.1.0->chromadb<0.6.0,>=0.4.0->langchain_chroma) (1.8.0)\n",
            "Requirement already satisfied: requests in /usr/local/lib/python3.10/dist-packages (from kubernetes>=28.1.0->chromadb<0.6.0,>=0.4.0->langchain_chroma) (2.31.0)\n",
            "Requirement already satisfied: requests-oauthlib in /usr/local/lib/python3.10/dist-packages (from kubernetes>=28.1.0->chromadb<0.6.0,>=0.4.0->langchain_chroma) (1.3.1)\n",
            "Requirement already satisfied: oauthlib>=3.2.2 in /usr/local/lib/python3.10/dist-packages (from kubernetes>=28.1.0->chromadb<0.6.0,>=0.4.0->langchain_chroma) (3.2.2)\n",
            "Requirement already satisfied: urllib3>=1.24.2 in /usr/local/lib/python3.10/dist-packages (from kubernetes>=28.1.0->chromadb<0.6.0,>=0.4.0->langchain_chroma) (2.0.7)\n",
            "Requirement already satisfied: coloredlogs in /usr/local/lib/python3.10/dist-packages (from onnxruntime>=1.14.1->chromadb<0.6.0,>=0.4.0->langchain_chroma) (15.0.1)\n",
            "Requirement already satisfied: flatbuffers in /usr/local/lib/python3.10/dist-packages (from onnxruntime>=1.14.1->chromadb<0.6.0,>=0.4.0->langchain_chroma) (24.3.25)\n",
            "Requirement already satisfied: protobuf in /usr/local/lib/python3.10/dist-packages (from onnxruntime>=1.14.1->chromadb<0.6.0,>=0.4.0->langchain_chroma) (3.20.3)\n",
            "Requirement already satisfied: sympy in /usr/local/lib/python3.10/dist-packages (from onnxruntime>=1.14.1->chromadb<0.6.0,>=0.4.0->langchain_chroma) (1.13.0)\n",
            "Requirement already satisfied: deprecated>=1.2.6 in /usr/local/lib/python3.10/dist-packages (from opentelemetry-api>=1.2.0->chromadb<0.6.0,>=0.4.0->langchain_chroma) (1.2.14)\n",
            "Requirement already satisfied: importlib-metadata<=7.1,>=6.0 in /usr/local/lib/python3.10/dist-packages (from opentelemetry-api>=1.2.0->chromadb<0.6.0,>=0.4.0->langchain_chroma) (7.1.0)\n",
            "Requirement already satisfied: googleapis-common-protos~=1.52 in /usr/local/lib/python3.10/dist-packages (from opentelemetry-exporter-otlp-proto-grpc>=1.2.0->chromadb<0.6.0,>=0.4.0->langchain_chroma) (1.63.2)\n",
            "Requirement already satisfied: opentelemetry-exporter-otlp-proto-common==1.25.0 in /usr/local/lib/python3.10/dist-packages (from opentelemetry-exporter-otlp-proto-grpc>=1.2.0->chromadb<0.6.0,>=0.4.0->langchain_chroma) (1.25.0)\n",
            "Requirement already satisfied: opentelemetry-proto==1.25.0 in /usr/local/lib/python3.10/dist-packages (from opentelemetry-exporter-otlp-proto-grpc>=1.2.0->chromadb<0.6.0,>=0.4.0->langchain_chroma) (1.25.0)\n",
            "Requirement already satisfied: opentelemetry-instrumentation-asgi==0.46b0 in /usr/local/lib/python3.10/dist-packages (from opentelemetry-instrumentation-fastapi>=0.41b0->chromadb<0.6.0,>=0.4.0->langchain_chroma) (0.46b0)\n",
            "Requirement already satisfied: opentelemetry-instrumentation==0.46b0 in /usr/local/lib/python3.10/dist-packages (from opentelemetry-instrumentation-fastapi>=0.41b0->chromadb<0.6.0,>=0.4.0->langchain_chroma) (0.46b0)\n",
            "Requirement already satisfied: opentelemetry-semantic-conventions==0.46b0 in /usr/local/lib/python3.10/dist-packages (from opentelemetry-instrumentation-fastapi>=0.41b0->chromadb<0.6.0,>=0.4.0->langchain_chroma) (0.46b0)\n",
            "Requirement already satisfied: opentelemetry-util-http==0.46b0 in /usr/local/lib/python3.10/dist-packages (from opentelemetry-instrumentation-fastapi>=0.41b0->chromadb<0.6.0,>=0.4.0->langchain_chroma) (0.46b0)\n",
            "Requirement already satisfied: setuptools>=16.0 in /usr/local/lib/python3.10/dist-packages (from opentelemetry-instrumentation==0.46b0->opentelemetry-instrumentation-fastapi>=0.41b0->chromadb<0.6.0,>=0.4.0->langchain_chroma) (67.7.2)\n",
            "Requirement already satisfied: wrapt<2.0.0,>=1.0.0 in /usr/local/lib/python3.10/dist-packages (from opentelemetry-instrumentation==0.46b0->opentelemetry-instrumentation-fastapi>=0.41b0->chromadb<0.6.0,>=0.4.0->langchain_chroma) (1.14.1)\n",
            "Requirement already satisfied: asgiref~=3.0 in /usr/local/lib/python3.10/dist-packages (from opentelemetry-instrumentation-asgi==0.46b0->opentelemetry-instrumentation-fastapi>=0.41b0->chromadb<0.6.0,>=0.4.0->langchain_chroma) (3.8.1)\n",
            "Requirement already satisfied: monotonic>=1.5 in /usr/local/lib/python3.10/dist-packages (from posthog>=2.4.0->chromadb<0.6.0,>=0.4.0->langchain_chroma) (1.6)\n",
            "Requirement already satisfied: backoff>=1.10.0 in /usr/local/lib/python3.10/dist-packages (from posthog>=2.4.0->chromadb<0.6.0,>=0.4.0->langchain_chroma) (2.2.1)\n",
            "Requirement already satisfied: annotated-types>=0.4.0 in /usr/local/lib/python3.10/dist-packages (from pydantic>=1.9->chromadb<0.6.0,>=0.4.0->langchain_chroma) (0.7.0)\n",
            "Requirement already satisfied: pydantic-core==2.20.1 in /usr/local/lib/python3.10/dist-packages (from pydantic>=1.9->chromadb<0.6.0,>=0.4.0->langchain_chroma) (2.20.1)\n",
            "Requirement already satisfied: huggingface-hub<1.0,>=0.16.4 in /usr/local/lib/python3.10/dist-packages (from tokenizers>=0.13.2->chromadb<0.6.0,>=0.4.0->langchain_chroma) (0.23.5)\n",
            "Requirement already satisfied: click>=8.0.0 in /usr/local/lib/python3.10/dist-packages (from typer>=0.9.0->chromadb<0.6.0,>=0.4.0->langchain_chroma) (8.1.7)\n",
            "Requirement already satisfied: shellingham>=1.3.0 in /usr/local/lib/python3.10/dist-packages (from typer>=0.9.0->chromadb<0.6.0,>=0.4.0->langchain_chroma) (1.5.4)\n",
            "Requirement already satisfied: rich>=10.11.0 in /usr/local/lib/python3.10/dist-packages (from typer>=0.9.0->chromadb<0.6.0,>=0.4.0->langchain_chroma) (13.7.1)\n",
            "Requirement already satisfied: httptools>=0.5.0 in /usr/local/lib/python3.10/dist-packages (from uvicorn[standard]>=0.18.3->chromadb<0.6.0,>=0.4.0->langchain_chroma) (0.6.1)\n",
            "Requirement already satisfied: python-dotenv>=0.13 in /usr/local/lib/python3.10/dist-packages (from uvicorn[standard]>=0.18.3->chromadb<0.6.0,>=0.4.0->langchain_chroma) (1.0.1)\n",
            "Requirement already satisfied: uvloop!=0.15.0,!=0.15.1,>=0.14.0 in /usr/local/lib/python3.10/dist-packages (from uvicorn[standard]>=0.18.3->chromadb<0.6.0,>=0.4.0->langchain_chroma) (0.19.0)\n",
            "Requirement already satisfied: watchfiles>=0.13 in /usr/local/lib/python3.10/dist-packages (from uvicorn[standard]>=0.18.3->chromadb<0.6.0,>=0.4.0->langchain_chroma) (0.22.0)\n",
            "Requirement already satisfied: websockets>=10.4 in /usr/local/lib/python3.10/dist-packages (from uvicorn[standard]>=0.18.3->chromadb<0.6.0,>=0.4.0->langchain_chroma) (12.0)\n",
            "Requirement already satisfied: exceptiongroup in /usr/local/lib/python3.10/dist-packages (from anyio->httpx>=0.27.0->chromadb<0.6.0,>=0.4.0->langchain_chroma) (1.2.2)\n",
            "Requirement already satisfied: cachetools<6.0,>=2.0.0 in /usr/local/lib/python3.10/dist-packages (from google-auth>=1.0.1->kubernetes>=28.1.0->chromadb<0.6.0,>=0.4.0->langchain_chroma) (5.4.0)\n",
            "Requirement already satisfied: pyasn1-modules>=0.2.1 in /usr/local/lib/python3.10/dist-packages (from google-auth>=1.0.1->kubernetes>=28.1.0->chromadb<0.6.0,>=0.4.0->langchain_chroma) (0.4.0)\n",
            "Requirement already satisfied: rsa<5,>=3.1.4 in /usr/local/lib/python3.10/dist-packages (from google-auth>=1.0.1->kubernetes>=28.1.0->chromadb<0.6.0,>=0.4.0->langchain_chroma) (4.9)\n",
            "Requirement already satisfied: filelock in /usr/local/lib/python3.10/dist-packages (from huggingface-hub<1.0,>=0.16.4->tokenizers>=0.13.2->chromadb<0.6.0,>=0.4.0->langchain_chroma) (3.15.4)\n",
            "Requirement already satisfied: fsspec>=2023.5.0 in /usr/local/lib/python3.10/dist-packages (from huggingface-hub<1.0,>=0.16.4->tokenizers>=0.13.2->chromadb<0.6.0,>=0.4.0->langchain_chroma) (2023.6.0)\n",
            "Requirement already satisfied: zipp>=0.5 in /usr/local/lib/python3.10/dist-packages (from importlib-metadata<=7.1,>=6.0->opentelemetry-api>=1.2.0->chromadb<0.6.0,>=0.4.0->langchain_chroma) (3.19.2)\n",
            "Requirement already satisfied: charset-normalizer<4,>=2 in /usr/local/lib/python3.10/dist-packages (from requests->kubernetes>=28.1.0->chromadb<0.6.0,>=0.4.0->langchain_chroma) (3.3.2)\n",
            "Requirement already satisfied: markdown-it-py>=2.2.0 in /usr/local/lib/python3.10/dist-packages (from rich>=10.11.0->typer>=0.9.0->chromadb<0.6.0,>=0.4.0->langchain_chroma) (3.0.0)\n",
            "Requirement already satisfied: pygments<3.0.0,>=2.13.0 in /usr/local/lib/python3.10/dist-packages (from rich>=10.11.0->typer>=0.9.0->chromadb<0.6.0,>=0.4.0->langchain_chroma) (2.16.1)\n",
            "Requirement already satisfied: humanfriendly>=9.1 in /usr/local/lib/python3.10/dist-packages (from coloredlogs->onnxruntime>=1.14.1->chromadb<0.6.0,>=0.4.0->langchain_chroma) (10.0)\n",
            "Requirement already satisfied: mpmath<1.4,>=1.1.0 in /usr/local/lib/python3.10/dist-packages (from sympy->onnxruntime>=1.14.1->chromadb<0.6.0,>=0.4.0->langchain_chroma) (1.3.0)\n",
            "Requirement already satisfied: mdurl~=0.1 in /usr/local/lib/python3.10/dist-packages (from markdown-it-py>=2.2.0->rich>=10.11.0->typer>=0.9.0->chromadb<0.6.0,>=0.4.0->langchain_chroma) (0.1.2)\n",
            "Requirement already satisfied: pyasn1<0.7.0,>=0.4.6 in /usr/local/lib/python3.10/dist-packages (from pyasn1-modules>=0.2.1->google-auth>=1.0.1->kubernetes>=28.1.0->chromadb<0.6.0,>=0.4.0->langchain_chroma) (0.6.0)\n",
            "Downloading langchain_chroma-0.1.2-py3-none-any.whl (9.3 kB)\n",
            "Installing collected packages: langchain_chroma\n",
            "Successfully installed langchain_chroma-0.1.2\n",
            "\u001b[33mWARNING: Running pip as the 'root' user can result in broken permissions and conflicting behaviour with the system package manager, possibly rendering your system unusable.It is recommended to use a virtual environment instead: https://pip.pypa.io/warnings/venv. Use the --root-user-action option if you know what you are doing and want to suppress this warning.\u001b[0m\u001b[33m\n",
            "\u001b[0mCollecting tiktoken\n",
            "  Downloading tiktoken-0.7.0-cp310-cp310-manylinux_2_17_x86_64.manylinux2014_x86_64.whl.metadata (6.6 kB)\n",
            "Requirement already satisfied: regex>=2022.1.18 in /usr/local/lib/python3.10/dist-packages (from tiktoken) (2024.5.15)\n",
            "Requirement already satisfied: requests>=2.26.0 in /usr/local/lib/python3.10/dist-packages (from tiktoken) (2.31.0)\n",
            "Requirement already satisfied: charset-normalizer<4,>=2 in /usr/local/lib/python3.10/dist-packages (from requests>=2.26.0->tiktoken) (3.3.2)\n",
            "Requirement already satisfied: idna<4,>=2.5 in /usr/local/lib/python3.10/dist-packages (from requests>=2.26.0->tiktoken) (3.7)\n",
            "Requirement already satisfied: urllib3<3,>=1.21.1 in /usr/local/lib/python3.10/dist-packages (from requests>=2.26.0->tiktoken) (2.0.7)\n",
            "Requirement already satisfied: certifi>=2017.4.17 in /usr/local/lib/python3.10/dist-packages (from requests>=2.26.0->tiktoken) (2024.7.4)\n",
            "Downloading tiktoken-0.7.0-cp310-cp310-manylinux_2_17_x86_64.manylinux2014_x86_64.whl (1.1 MB)\n",
            "\u001b[2K   \u001b[90m━━━━━━━━━━━━━━━━━━━━━━━━━━━━━━━━━━━━━━━━\u001b[0m \u001b[32m1.1/1.1 MB\u001b[0m \u001b[31m13.1 MB/s\u001b[0m eta \u001b[36m0:00:00\u001b[0m\n",
            "\u001b[?25hInstalling collected packages: tiktoken\n",
            "Successfully installed tiktoken-0.7.0\n",
            "\u001b[33mWARNING: Running pip as the 'root' user can result in broken permissions and conflicting behaviour with the system package manager, possibly rendering your system unusable.It is recommended to use a virtual environment instead: https://pip.pypa.io/warnings/venv. Use the --root-user-action option if you know what you are doing and want to suppress this warning.\u001b[0m\u001b[33m\n",
            "\u001b[0m"
          ]
        }
      ],
      "source": [
        "! pip install langchain trulens_eval chromadb openai\n",
        "!pip install tqdm\n",
        "!pip install PyMuPDF\n",
        "!pip install pypdf\n",
        "!pip install sentence-transformers\n",
        "!pip install langchain_chroma\n",
        "!pip install tiktoken\n",
        "\n"
      ]
    },
    {
      "cell_type": "markdown",
      "source": [
        "# Configuración del Entorno"
      ],
      "metadata": {
        "id": "IChJvke8AOxS"
      }
    },
    {
      "cell_type": "code",
      "execution_count": null,
      "metadata": {
        "id": "jjNMt4V2yBZO"
      },
      "outputs": [],
      "source": [
        "import os\n",
        "from google.colab import userdata\n",
        "\n",
        "os.environ[\"OPENAI_API_KEY\"] = userdata.get('OPENAI_API_KEY')"
      ]
    },
    {
      "cell_type": "code",
      "source": [
        "from google.colab import drive\n",
        "drive.mount('/content/drive')\n"
      ],
      "metadata": {
        "colab": {
          "base_uri": "https://localhost:8080/"
        },
        "id": "reWQceUa7XBZ",
        "outputId": "04d10b01-76e5-4804-9b04-a3d820265a39"
      },
      "execution_count": null,
      "outputs": [
        {
          "output_type": "stream",
          "name": "stdout",
          "text": [
            "Mounted at /content/drive\n"
          ]
        }
      ]
    },
    {
      "cell_type": "code",
      "source": [
        "import fitz  # PyMuPDF\n",
        "from tqdm import tqdm\n",
        "import os\n",
        "from langchain.document_loaders import PyPDFLoader"
      ],
      "metadata": {
        "id": "RF0LH-aiIPfd"
      },
      "execution_count": null,
      "outputs": []
    },
    {
      "cell_type": "markdown",
      "source": [
        "Carga y Procesamiento de Documentos PDF"
      ],
      "metadata": {
        "id": "skqBk0ZfAfur"
      }
    },
    {
      "cell_type": "code",
      "source": [
        "!pip install pypdf"
      ],
      "metadata": {
        "colab": {
          "base_uri": "https://localhost:8080/"
        },
        "id": "_u0qrINDA6Xr",
        "outputId": "31cd2f79-a5aa-4cfb-d11e-8b360aa9c32b",
        "collapsed": true
      },
      "execution_count": null,
      "outputs": [
        {
          "output_type": "stream",
          "name": "stdout",
          "text": [
            "Collecting pypdf\n",
            "  Downloading pypdf-4.3.0-py3-none-any.whl.metadata (7.4 kB)\n",
            "Requirement already satisfied: typing_extensions>=4.0 in /usr/local/lib/python3.10/dist-packages (from pypdf) (4.12.2)\n",
            "Downloading pypdf-4.3.0-py3-none-any.whl (295 kB)\n",
            "\u001b[?25l   \u001b[90m━━━━━━━━━━━━━━━━━━━━━━━━━━━━━━━━━━━━━━━━\u001b[0m \u001b[32m0.0/295.7 kB\u001b[0m \u001b[31m?\u001b[0m eta \u001b[36m-:--:--\u001b[0m\r\u001b[2K   \u001b[90m━━━━━━━━━━━━━━━━━━━━━━━━━━━━━━━━━━━━━━━━\u001b[0m \u001b[32m295.7/295.7 kB\u001b[0m \u001b[31m13.2 MB/s\u001b[0m eta \u001b[36m0:00:00\u001b[0m\n",
            "\u001b[?25hInstalling collected packages: pypdf\n",
            "Successfully installed pypdf-4.3.0\n",
            "\u001b[33mWARNING: Running pip as the 'root' user can result in broken permissions and conflicting behaviour with the system package manager, possibly rendering your system unusable.It is recommended to use a virtual environment instead: https://pip.pypa.io/warnings/venv. Use the --root-user-action option if you know what you are doing and want to suppress this warning.\u001b[0m\u001b[33m\n",
            "\u001b[0m"
          ]
        }
      ]
    },
    {
      "cell_type": "code",
      "source": [
        "loaders = []\n",
        "for archivo in os.listdir('/content/drive/My Drive/UCU-NLP/RAG'):\n",
        "  # Add a '/' between the directory path and the filename\n",
        "  file_path = os.path.join('/content/drive/My Drive/UCU-NLP/RAG', archivo)\n",
        "  loaders.append(PyPDFLoader(file_path))\n",
        "\n",
        "docs = []\n",
        "for loader in loaders:\n",
        "    docs.extend(loader.load())"
      ],
      "metadata": {
        "id": "TouAcsfTIyJ5"
      },
      "execution_count": null,
      "outputs": []
    },
    {
      "cell_type": "code",
      "source": [
        "#To count the number of items in the 'documents' list, use the len() function\n",
        "num_pdfs = len(loaders)\n",
        "print(num_pdfs)"
      ],
      "metadata": {
        "colab": {
          "base_uri": "https://localhost:8080/"
        },
        "id": "sV0srdEoOy4o",
        "outputId": "7737032d-c40d-4994-b5a1-cf483b2ddd4f"
      },
      "execution_count": null,
      "outputs": [
        {
          "output_type": "stream",
          "name": "stdout",
          "text": [
            "13\n"
          ]
        }
      ]
    },
    {
      "cell_type": "code",
      "source": [
        "#To count the number of items in the 'documents' list, use the len() function\n",
        "num_documents = len(docs)\n",
        "print(num_documents)"
      ],
      "metadata": {
        "colab": {
          "base_uri": "https://localhost:8080/"
        },
        "id": "mZnFMc_2I3Kt",
        "outputId": "87881dce-942b-4095-e283-09136e17403a"
      },
      "execution_count": null,
      "outputs": [
        {
          "output_type": "stream",
          "name": "stdout",
          "text": [
            "247\n"
          ]
        }
      ]
    },
    {
      "cell_type": "markdown",
      "source": [
        "División de Documentos en Fragmentos (Chuncks)"
      ],
      "metadata": {
        "id": "6hFxDF6BBEsE"
      }
    },
    {
      "cell_type": "code",
      "source": [
        "# Define the Text Splitter\n",
        "from langchain.text_splitter import RecursiveCharacterTextSplitter\n",
        "text_splitter = RecursiveCharacterTextSplitter(\n",
        "    chunk_size = 1500,\n",
        "    chunk_overlap = 150\n",
        ")\n",
        "\n",
        "#Create a split of the document using the text splitter\n",
        "splits = text_splitter.split_documents(docs)"
      ],
      "metadata": {
        "id": "4bYMp5iaJjHc"
      },
      "execution_count": null,
      "outputs": []
    },
    {
      "cell_type": "code",
      "source": [
        "!pip install sentence-transformers"
      ],
      "metadata": {
        "colab": {
          "base_uri": "https://localhost:8080/"
        },
        "id": "XNR9USQUJTVR",
        "outputId": "a6291d14-ab96-4a90-c0ab-da3f0cfbe4b3",
        "collapsed": true
      },
      "execution_count": null,
      "outputs": [
        {
          "output_type": "stream",
          "name": "stdout",
          "text": [
            "Requirement already satisfied: sentence-transformers in /usr/local/lib/python3.10/dist-packages (3.0.1)\n",
            "Requirement already satisfied: transformers<5.0.0,>=4.34.0 in /usr/local/lib/python3.10/dist-packages (from sentence-transformers) (4.42.4)\n",
            "Requirement already satisfied: tqdm in /usr/local/lib/python3.10/dist-packages (from sentence-transformers) (4.66.4)\n",
            "Requirement already satisfied: torch>=1.11.0 in /usr/local/lib/python3.10/dist-packages (from sentence-transformers) (2.3.1+cu121)\n",
            "Requirement already satisfied: numpy in /usr/local/lib/python3.10/dist-packages (from sentence-transformers) (1.25.2)\n",
            "Requirement already satisfied: scikit-learn in /usr/local/lib/python3.10/dist-packages (from sentence-transformers) (1.2.2)\n",
            "Requirement already satisfied: scipy in /usr/local/lib/python3.10/dist-packages (from sentence-transformers) (1.11.4)\n",
            "Requirement already satisfied: huggingface-hub>=0.15.1 in /usr/local/lib/python3.10/dist-packages (from sentence-transformers) (0.23.5)\n",
            "Requirement already satisfied: Pillow in /usr/local/lib/python3.10/dist-packages (from sentence-transformers) (9.4.0)\n",
            "Requirement already satisfied: filelock in /usr/local/lib/python3.10/dist-packages (from huggingface-hub>=0.15.1->sentence-transformers) (3.15.4)\n",
            "Requirement already satisfied: fsspec>=2023.5.0 in /usr/local/lib/python3.10/dist-packages (from huggingface-hub>=0.15.1->sentence-transformers) (2023.6.0)\n",
            "Requirement already satisfied: packaging>=20.9 in /usr/local/lib/python3.10/dist-packages (from huggingface-hub>=0.15.1->sentence-transformers) (24.1)\n",
            "Requirement already satisfied: pyyaml>=5.1 in /usr/local/lib/python3.10/dist-packages (from huggingface-hub>=0.15.1->sentence-transformers) (6.0.1)\n",
            "Requirement already satisfied: requests in /usr/local/lib/python3.10/dist-packages (from huggingface-hub>=0.15.1->sentence-transformers) (2.31.0)\n",
            "Requirement already satisfied: typing-extensions>=3.7.4.3 in /usr/local/lib/python3.10/dist-packages (from huggingface-hub>=0.15.1->sentence-transformers) (4.12.2)\n",
            "Requirement already satisfied: sympy in /usr/local/lib/python3.10/dist-packages (from torch>=1.11.0->sentence-transformers) (1.13.0)\n",
            "Requirement already satisfied: networkx in /usr/local/lib/python3.10/dist-packages (from torch>=1.11.0->sentence-transformers) (3.3)\n",
            "Requirement already satisfied: jinja2 in /usr/local/lib/python3.10/dist-packages (from torch>=1.11.0->sentence-transformers) (3.1.4)\n",
            "Requirement already satisfied: nvidia-cuda-nvrtc-cu12==12.1.105 in /usr/local/lib/python3.10/dist-packages (from torch>=1.11.0->sentence-transformers) (12.1.105)\n",
            "Requirement already satisfied: nvidia-cuda-runtime-cu12==12.1.105 in /usr/local/lib/python3.10/dist-packages (from torch>=1.11.0->sentence-transformers) (12.1.105)\n",
            "Requirement already satisfied: nvidia-cuda-cupti-cu12==12.1.105 in /usr/local/lib/python3.10/dist-packages (from torch>=1.11.0->sentence-transformers) (12.1.105)\n",
            "Requirement already satisfied: nvidia-cudnn-cu12==8.9.2.26 in /usr/local/lib/python3.10/dist-packages (from torch>=1.11.0->sentence-transformers) (8.9.2.26)\n",
            "Requirement already satisfied: nvidia-cublas-cu12==12.1.3.1 in /usr/local/lib/python3.10/dist-packages (from torch>=1.11.0->sentence-transformers) (12.1.3.1)\n",
            "Requirement already satisfied: nvidia-cufft-cu12==11.0.2.54 in /usr/local/lib/python3.10/dist-packages (from torch>=1.11.0->sentence-transformers) (11.0.2.54)\n",
            "Requirement already satisfied: nvidia-curand-cu12==10.3.2.106 in /usr/local/lib/python3.10/dist-packages (from torch>=1.11.0->sentence-transformers) (10.3.2.106)\n",
            "Requirement already satisfied: nvidia-cusolver-cu12==11.4.5.107 in /usr/local/lib/python3.10/dist-packages (from torch>=1.11.0->sentence-transformers) (11.4.5.107)\n",
            "Requirement already satisfied: nvidia-cusparse-cu12==12.1.0.106 in /usr/local/lib/python3.10/dist-packages (from torch>=1.11.0->sentence-transformers) (12.1.0.106)\n",
            "Requirement already satisfied: nvidia-nccl-cu12==2.20.5 in /usr/local/lib/python3.10/dist-packages (from torch>=1.11.0->sentence-transformers) (2.20.5)\n",
            "Requirement already satisfied: nvidia-nvtx-cu12==12.1.105 in /usr/local/lib/python3.10/dist-packages (from torch>=1.11.0->sentence-transformers) (12.1.105)\n",
            "Requirement already satisfied: triton==2.3.1 in /usr/local/lib/python3.10/dist-packages (from torch>=1.11.0->sentence-transformers) (2.3.1)\n",
            "Requirement already satisfied: nvidia-nvjitlink-cu12 in /usr/local/lib/python3.10/dist-packages (from nvidia-cusolver-cu12==11.4.5.107->torch>=1.11.0->sentence-transformers) (12.5.82)\n",
            "Requirement already satisfied: regex!=2019.12.17 in /usr/local/lib/python3.10/dist-packages (from transformers<5.0.0,>=4.34.0->sentence-transformers) (2024.5.15)\n",
            "Requirement already satisfied: safetensors>=0.4.1 in /usr/local/lib/python3.10/dist-packages (from transformers<5.0.0,>=4.34.0->sentence-transformers) (0.4.3)\n",
            "Requirement already satisfied: tokenizers<0.20,>=0.19 in /usr/local/lib/python3.10/dist-packages (from transformers<5.0.0,>=4.34.0->sentence-transformers) (0.19.1)\n",
            "Requirement already satisfied: joblib>=1.1.1 in /usr/local/lib/python3.10/dist-packages (from scikit-learn->sentence-transformers) (1.4.2)\n",
            "Requirement already satisfied: threadpoolctl>=2.0.0 in /usr/local/lib/python3.10/dist-packages (from scikit-learn->sentence-transformers) (3.5.0)\n",
            "Requirement already satisfied: MarkupSafe>=2.0 in /usr/local/lib/python3.10/dist-packages (from jinja2->torch>=1.11.0->sentence-transformers) (2.1.5)\n",
            "Requirement already satisfied: charset-normalizer<4,>=2 in /usr/local/lib/python3.10/dist-packages (from requests->huggingface-hub>=0.15.1->sentence-transformers) (3.3.2)\n",
            "Requirement already satisfied: idna<4,>=2.5 in /usr/local/lib/python3.10/dist-packages (from requests->huggingface-hub>=0.15.1->sentence-transformers) (3.7)\n",
            "Requirement already satisfied: urllib3<3,>=1.21.1 in /usr/local/lib/python3.10/dist-packages (from requests->huggingface-hub>=0.15.1->sentence-transformers) (2.0.7)\n",
            "Requirement already satisfied: certifi>=2017.4.17 in /usr/local/lib/python3.10/dist-packages (from requests->huggingface-hub>=0.15.1->sentence-transformers) (2024.7.4)\n",
            "Requirement already satisfied: mpmath<1.4,>=1.1.0 in /usr/local/lib/python3.10/dist-packages (from sympy->torch>=1.11.0->sentence-transformers) (1.3.0)\n",
            "\u001b[33mWARNING: Running pip as the 'root' user can result in broken permissions and conflicting behaviour with the system package manager, possibly rendering your system unusable.It is recommended to use a virtual environment instead: https://pip.pypa.io/warnings/venv. Use the --root-user-action option if you know what you are doing and want to suppress this warning.\u001b[0m\u001b[33m\n",
            "\u001b[0m"
          ]
        }
      ]
    },
    {
      "cell_type": "code",
      "source": [
        "!pip install langchain_chroma"
      ],
      "metadata": {
        "colab": {
          "base_uri": "https://localhost:8080/"
        },
        "id": "9mlLUrRuKDOZ",
        "outputId": "354ada68-0bcc-4b3d-9ca0-b9e19a1218d0",
        "collapsed": true
      },
      "execution_count": null,
      "outputs": [
        {
          "output_type": "stream",
          "name": "stdout",
          "text": [
            "Requirement already satisfied: langchain_chroma in /usr/local/lib/python3.10/dist-packages (0.1.2)\n",
            "Requirement already satisfied: chromadb<0.6.0,>=0.4.0 in /usr/local/lib/python3.10/dist-packages (from langchain_chroma) (0.5.4)\n",
            "Requirement already satisfied: fastapi<1,>=0.95.2 in /usr/local/lib/python3.10/dist-packages (from langchain_chroma) (0.111.1)\n",
            "Requirement already satisfied: langchain-core<0.3,>=0.1.40 in /usr/local/lib/python3.10/dist-packages (from langchain_chroma) (0.2.21)\n",
            "Requirement already satisfied: numpy<2,>=1 in /usr/local/lib/python3.10/dist-packages (from langchain_chroma) (1.25.2)\n",
            "Requirement already satisfied: build>=1.0.3 in /usr/local/lib/python3.10/dist-packages (from chromadb<0.6.0,>=0.4.0->langchain_chroma) (1.2.1)\n",
            "Requirement already satisfied: pydantic>=1.9 in /usr/local/lib/python3.10/dist-packages (from chromadb<0.6.0,>=0.4.0->langchain_chroma) (2.8.2)\n",
            "Requirement already satisfied: chroma-hnswlib==0.7.5 in /usr/local/lib/python3.10/dist-packages (from chromadb<0.6.0,>=0.4.0->langchain_chroma) (0.7.5)\n",
            "Requirement already satisfied: uvicorn>=0.18.3 in /usr/local/lib/python3.10/dist-packages (from uvicorn[standard]>=0.18.3->chromadb<0.6.0,>=0.4.0->langchain_chroma) (0.30.1)\n",
            "Requirement already satisfied: posthog>=2.4.0 in /usr/local/lib/python3.10/dist-packages (from chromadb<0.6.0,>=0.4.0->langchain_chroma) (3.5.0)\n",
            "Requirement already satisfied: typing-extensions>=4.5.0 in /usr/local/lib/python3.10/dist-packages (from chromadb<0.6.0,>=0.4.0->langchain_chroma) (4.12.2)\n",
            "Requirement already satisfied: onnxruntime>=1.14.1 in /usr/local/lib/python3.10/dist-packages (from chromadb<0.6.0,>=0.4.0->langchain_chroma) (1.18.1)\n",
            "Requirement already satisfied: opentelemetry-api>=1.2.0 in /usr/local/lib/python3.10/dist-packages (from chromadb<0.6.0,>=0.4.0->langchain_chroma) (1.25.0)\n",
            "Requirement already satisfied: opentelemetry-exporter-otlp-proto-grpc>=1.2.0 in /usr/local/lib/python3.10/dist-packages (from chromadb<0.6.0,>=0.4.0->langchain_chroma) (1.25.0)\n",
            "Requirement already satisfied: opentelemetry-instrumentation-fastapi>=0.41b0 in /usr/local/lib/python3.10/dist-packages (from chromadb<0.6.0,>=0.4.0->langchain_chroma) (0.46b0)\n",
            "Requirement already satisfied: opentelemetry-sdk>=1.2.0 in /usr/local/lib/python3.10/dist-packages (from chromadb<0.6.0,>=0.4.0->langchain_chroma) (1.25.0)\n",
            "Requirement already satisfied: tokenizers>=0.13.2 in /usr/local/lib/python3.10/dist-packages (from chromadb<0.6.0,>=0.4.0->langchain_chroma) (0.19.1)\n",
            "Requirement already satisfied: pypika>=0.48.9 in /usr/local/lib/python3.10/dist-packages (from chromadb<0.6.0,>=0.4.0->langchain_chroma) (0.48.9)\n",
            "Requirement already satisfied: tqdm>=4.65.0 in /usr/local/lib/python3.10/dist-packages (from chromadb<0.6.0,>=0.4.0->langchain_chroma) (4.66.4)\n",
            "Requirement already satisfied: overrides>=7.3.1 in /usr/local/lib/python3.10/dist-packages (from chromadb<0.6.0,>=0.4.0->langchain_chroma) (7.7.0)\n",
            "Requirement already satisfied: importlib-resources in /usr/local/lib/python3.10/dist-packages (from chromadb<0.6.0,>=0.4.0->langchain_chroma) (6.4.0)\n",
            "Requirement already satisfied: grpcio>=1.58.0 in /usr/local/lib/python3.10/dist-packages (from chromadb<0.6.0,>=0.4.0->langchain_chroma) (1.64.1)\n",
            "Requirement already satisfied: bcrypt>=4.0.1 in /usr/local/lib/python3.10/dist-packages (from chromadb<0.6.0,>=0.4.0->langchain_chroma) (4.1.3)\n",
            "Requirement already satisfied: typer>=0.9.0 in /usr/local/lib/python3.10/dist-packages (from chromadb<0.6.0,>=0.4.0->langchain_chroma) (0.12.3)\n",
            "Requirement already satisfied: kubernetes>=28.1.0 in /usr/local/lib/python3.10/dist-packages (from chromadb<0.6.0,>=0.4.0->langchain_chroma) (30.1.0)\n",
            "Requirement already satisfied: tenacity>=8.2.3 in /usr/local/lib/python3.10/dist-packages (from chromadb<0.6.0,>=0.4.0->langchain_chroma) (8.5.0)\n",
            "Requirement already satisfied: PyYAML>=6.0.0 in /usr/local/lib/python3.10/dist-packages (from chromadb<0.6.0,>=0.4.0->langchain_chroma) (6.0.1)\n",
            "Requirement already satisfied: mmh3>=4.0.1 in /usr/local/lib/python3.10/dist-packages (from chromadb<0.6.0,>=0.4.0->langchain_chroma) (4.1.0)\n",
            "Requirement already satisfied: orjson>=3.9.12 in /usr/local/lib/python3.10/dist-packages (from chromadb<0.6.0,>=0.4.0->langchain_chroma) (3.10.6)\n",
            "Requirement already satisfied: httpx>=0.27.0 in /usr/local/lib/python3.10/dist-packages (from chromadb<0.6.0,>=0.4.0->langchain_chroma) (0.27.0)\n",
            "Requirement already satisfied: starlette<0.38.0,>=0.37.2 in /usr/local/lib/python3.10/dist-packages (from fastapi<1,>=0.95.2->langchain_chroma) (0.37.2)\n",
            "Requirement already satisfied: fastapi-cli>=0.0.2 in /usr/local/lib/python3.10/dist-packages (from fastapi<1,>=0.95.2->langchain_chroma) (0.0.4)\n",
            "Requirement already satisfied: jinja2>=2.11.2 in /usr/local/lib/python3.10/dist-packages (from fastapi<1,>=0.95.2->langchain_chroma) (3.1.4)\n",
            "Requirement already satisfied: python-multipart>=0.0.7 in /usr/local/lib/python3.10/dist-packages (from fastapi<1,>=0.95.2->langchain_chroma) (0.0.9)\n",
            "Requirement already satisfied: email_validator>=2.0.0 in /usr/local/lib/python3.10/dist-packages (from fastapi<1,>=0.95.2->langchain_chroma) (2.2.0)\n",
            "Requirement already satisfied: jsonpatch<2.0,>=1.33 in /usr/local/lib/python3.10/dist-packages (from langchain-core<0.3,>=0.1.40->langchain_chroma) (1.33)\n",
            "Requirement already satisfied: langsmith<0.2.0,>=0.1.75 in /usr/local/lib/python3.10/dist-packages (from langchain-core<0.3,>=0.1.40->langchain_chroma) (0.1.90)\n",
            "Requirement already satisfied: packaging<25,>=23.2 in /usr/local/lib/python3.10/dist-packages (from langchain-core<0.3,>=0.1.40->langchain_chroma) (24.1)\n",
            "Requirement already satisfied: pyproject_hooks in /usr/local/lib/python3.10/dist-packages (from build>=1.0.3->chromadb<0.6.0,>=0.4.0->langchain_chroma) (1.1.0)\n",
            "Requirement already satisfied: tomli>=1.1.0 in /usr/local/lib/python3.10/dist-packages (from build>=1.0.3->chromadb<0.6.0,>=0.4.0->langchain_chroma) (2.0.1)\n",
            "Requirement already satisfied: dnspython>=2.0.0 in /usr/local/lib/python3.10/dist-packages (from email_validator>=2.0.0->fastapi<1,>=0.95.2->langchain_chroma) (2.6.1)\n",
            "Requirement already satisfied: idna>=2.0.0 in /usr/local/lib/python3.10/dist-packages (from email_validator>=2.0.0->fastapi<1,>=0.95.2->langchain_chroma) (3.7)\n",
            "Requirement already satisfied: anyio in /usr/local/lib/python3.10/dist-packages (from httpx>=0.27.0->chromadb<0.6.0,>=0.4.0->langchain_chroma) (3.7.1)\n",
            "Requirement already satisfied: certifi in /usr/local/lib/python3.10/dist-packages (from httpx>=0.27.0->chromadb<0.6.0,>=0.4.0->langchain_chroma) (2024.7.4)\n",
            "Requirement already satisfied: httpcore==1.* in /usr/local/lib/python3.10/dist-packages (from httpx>=0.27.0->chromadb<0.6.0,>=0.4.0->langchain_chroma) (1.0.5)\n",
            "Requirement already satisfied: sniffio in /usr/local/lib/python3.10/dist-packages (from httpx>=0.27.0->chromadb<0.6.0,>=0.4.0->langchain_chroma) (1.3.1)\n",
            "Requirement already satisfied: h11<0.15,>=0.13 in /usr/local/lib/python3.10/dist-packages (from httpcore==1.*->httpx>=0.27.0->chromadb<0.6.0,>=0.4.0->langchain_chroma) (0.14.0)\n",
            "Requirement already satisfied: MarkupSafe>=2.0 in /usr/local/lib/python3.10/dist-packages (from jinja2>=2.11.2->fastapi<1,>=0.95.2->langchain_chroma) (2.1.5)\n",
            "Requirement already satisfied: jsonpointer>=1.9 in /usr/local/lib/python3.10/dist-packages (from jsonpatch<2.0,>=1.33->langchain-core<0.3,>=0.1.40->langchain_chroma) (3.0.0)\n",
            "Requirement already satisfied: six>=1.9.0 in /usr/local/lib/python3.10/dist-packages (from kubernetes>=28.1.0->chromadb<0.6.0,>=0.4.0->langchain_chroma) (1.16.0)\n",
            "Requirement already satisfied: python-dateutil>=2.5.3 in /usr/local/lib/python3.10/dist-packages (from kubernetes>=28.1.0->chromadb<0.6.0,>=0.4.0->langchain_chroma) (2.8.2)\n",
            "Requirement already satisfied: google-auth>=1.0.1 in /usr/local/lib/python3.10/dist-packages (from kubernetes>=28.1.0->chromadb<0.6.0,>=0.4.0->langchain_chroma) (2.27.0)\n",
            "Requirement already satisfied: websocket-client!=0.40.0,!=0.41.*,!=0.42.*,>=0.32.0 in /usr/local/lib/python3.10/dist-packages (from kubernetes>=28.1.0->chromadb<0.6.0,>=0.4.0->langchain_chroma) (1.8.0)\n",
            "Requirement already satisfied: requests in /usr/local/lib/python3.10/dist-packages (from kubernetes>=28.1.0->chromadb<0.6.0,>=0.4.0->langchain_chroma) (2.31.0)\n",
            "Requirement already satisfied: requests-oauthlib in /usr/local/lib/python3.10/dist-packages (from kubernetes>=28.1.0->chromadb<0.6.0,>=0.4.0->langchain_chroma) (1.3.1)\n",
            "Requirement already satisfied: oauthlib>=3.2.2 in /usr/local/lib/python3.10/dist-packages (from kubernetes>=28.1.0->chromadb<0.6.0,>=0.4.0->langchain_chroma) (3.2.2)\n",
            "Requirement already satisfied: urllib3>=1.24.2 in /usr/local/lib/python3.10/dist-packages (from kubernetes>=28.1.0->chromadb<0.6.0,>=0.4.0->langchain_chroma) (2.0.7)\n",
            "Requirement already satisfied: coloredlogs in /usr/local/lib/python3.10/dist-packages (from onnxruntime>=1.14.1->chromadb<0.6.0,>=0.4.0->langchain_chroma) (15.0.1)\n",
            "Requirement already satisfied: flatbuffers in /usr/local/lib/python3.10/dist-packages (from onnxruntime>=1.14.1->chromadb<0.6.0,>=0.4.0->langchain_chroma) (24.3.25)\n",
            "Requirement already satisfied: protobuf in /usr/local/lib/python3.10/dist-packages (from onnxruntime>=1.14.1->chromadb<0.6.0,>=0.4.0->langchain_chroma) (3.20.3)\n",
            "Requirement already satisfied: sympy in /usr/local/lib/python3.10/dist-packages (from onnxruntime>=1.14.1->chromadb<0.6.0,>=0.4.0->langchain_chroma) (1.13.0)\n",
            "Requirement already satisfied: deprecated>=1.2.6 in /usr/local/lib/python3.10/dist-packages (from opentelemetry-api>=1.2.0->chromadb<0.6.0,>=0.4.0->langchain_chroma) (1.2.14)\n",
            "Requirement already satisfied: importlib-metadata<=7.1,>=6.0 in /usr/local/lib/python3.10/dist-packages (from opentelemetry-api>=1.2.0->chromadb<0.6.0,>=0.4.0->langchain_chroma) (7.1.0)\n",
            "Requirement already satisfied: googleapis-common-protos~=1.52 in /usr/local/lib/python3.10/dist-packages (from opentelemetry-exporter-otlp-proto-grpc>=1.2.0->chromadb<0.6.0,>=0.4.0->langchain_chroma) (1.63.2)\n",
            "Requirement already satisfied: opentelemetry-exporter-otlp-proto-common==1.25.0 in /usr/local/lib/python3.10/dist-packages (from opentelemetry-exporter-otlp-proto-grpc>=1.2.0->chromadb<0.6.0,>=0.4.0->langchain_chroma) (1.25.0)\n",
            "Requirement already satisfied: opentelemetry-proto==1.25.0 in /usr/local/lib/python3.10/dist-packages (from opentelemetry-exporter-otlp-proto-grpc>=1.2.0->chromadb<0.6.0,>=0.4.0->langchain_chroma) (1.25.0)\n",
            "Requirement already satisfied: opentelemetry-instrumentation-asgi==0.46b0 in /usr/local/lib/python3.10/dist-packages (from opentelemetry-instrumentation-fastapi>=0.41b0->chromadb<0.6.0,>=0.4.0->langchain_chroma) (0.46b0)\n",
            "Requirement already satisfied: opentelemetry-instrumentation==0.46b0 in /usr/local/lib/python3.10/dist-packages (from opentelemetry-instrumentation-fastapi>=0.41b0->chromadb<0.6.0,>=0.4.0->langchain_chroma) (0.46b0)\n",
            "Requirement already satisfied: opentelemetry-semantic-conventions==0.46b0 in /usr/local/lib/python3.10/dist-packages (from opentelemetry-instrumentation-fastapi>=0.41b0->chromadb<0.6.0,>=0.4.0->langchain_chroma) (0.46b0)\n",
            "Requirement already satisfied: opentelemetry-util-http==0.46b0 in /usr/local/lib/python3.10/dist-packages (from opentelemetry-instrumentation-fastapi>=0.41b0->chromadb<0.6.0,>=0.4.0->langchain_chroma) (0.46b0)\n",
            "Requirement already satisfied: setuptools>=16.0 in /usr/local/lib/python3.10/dist-packages (from opentelemetry-instrumentation==0.46b0->opentelemetry-instrumentation-fastapi>=0.41b0->chromadb<0.6.0,>=0.4.0->langchain_chroma) (67.7.2)\n",
            "Requirement already satisfied: wrapt<2.0.0,>=1.0.0 in /usr/local/lib/python3.10/dist-packages (from opentelemetry-instrumentation==0.46b0->opentelemetry-instrumentation-fastapi>=0.41b0->chromadb<0.6.0,>=0.4.0->langchain_chroma) (1.14.1)\n",
            "Requirement already satisfied: asgiref~=3.0 in /usr/local/lib/python3.10/dist-packages (from opentelemetry-instrumentation-asgi==0.46b0->opentelemetry-instrumentation-fastapi>=0.41b0->chromadb<0.6.0,>=0.4.0->langchain_chroma) (3.8.1)\n",
            "Requirement already satisfied: monotonic>=1.5 in /usr/local/lib/python3.10/dist-packages (from posthog>=2.4.0->chromadb<0.6.0,>=0.4.0->langchain_chroma) (1.6)\n",
            "Requirement already satisfied: backoff>=1.10.0 in /usr/local/lib/python3.10/dist-packages (from posthog>=2.4.0->chromadb<0.6.0,>=0.4.0->langchain_chroma) (2.2.1)\n",
            "Requirement already satisfied: annotated-types>=0.4.0 in /usr/local/lib/python3.10/dist-packages (from pydantic>=1.9->chromadb<0.6.0,>=0.4.0->langchain_chroma) (0.7.0)\n",
            "Requirement already satisfied: pydantic-core==2.20.1 in /usr/local/lib/python3.10/dist-packages (from pydantic>=1.9->chromadb<0.6.0,>=0.4.0->langchain_chroma) (2.20.1)\n",
            "Requirement already satisfied: huggingface-hub<1.0,>=0.16.4 in /usr/local/lib/python3.10/dist-packages (from tokenizers>=0.13.2->chromadb<0.6.0,>=0.4.0->langchain_chroma) (0.23.5)\n",
            "Requirement already satisfied: click>=8.0.0 in /usr/local/lib/python3.10/dist-packages (from typer>=0.9.0->chromadb<0.6.0,>=0.4.0->langchain_chroma) (8.1.7)\n",
            "Requirement already satisfied: shellingham>=1.3.0 in /usr/local/lib/python3.10/dist-packages (from typer>=0.9.0->chromadb<0.6.0,>=0.4.0->langchain_chroma) (1.5.4)\n",
            "Requirement already satisfied: rich>=10.11.0 in /usr/local/lib/python3.10/dist-packages (from typer>=0.9.0->chromadb<0.6.0,>=0.4.0->langchain_chroma) (13.7.1)\n",
            "Requirement already satisfied: httptools>=0.5.0 in /usr/local/lib/python3.10/dist-packages (from uvicorn[standard]>=0.18.3->chromadb<0.6.0,>=0.4.0->langchain_chroma) (0.6.1)\n",
            "Requirement already satisfied: python-dotenv>=0.13 in /usr/local/lib/python3.10/dist-packages (from uvicorn[standard]>=0.18.3->chromadb<0.6.0,>=0.4.0->langchain_chroma) (1.0.1)\n",
            "Requirement already satisfied: uvloop!=0.15.0,!=0.15.1,>=0.14.0 in /usr/local/lib/python3.10/dist-packages (from uvicorn[standard]>=0.18.3->chromadb<0.6.0,>=0.4.0->langchain_chroma) (0.19.0)\n",
            "Requirement already satisfied: watchfiles>=0.13 in /usr/local/lib/python3.10/dist-packages (from uvicorn[standard]>=0.18.3->chromadb<0.6.0,>=0.4.0->langchain_chroma) (0.22.0)\n",
            "Requirement already satisfied: websockets>=10.4 in /usr/local/lib/python3.10/dist-packages (from uvicorn[standard]>=0.18.3->chromadb<0.6.0,>=0.4.0->langchain_chroma) (12.0)\n",
            "Requirement already satisfied: exceptiongroup in /usr/local/lib/python3.10/dist-packages (from anyio->httpx>=0.27.0->chromadb<0.6.0,>=0.4.0->langchain_chroma) (1.2.2)\n",
            "Requirement already satisfied: cachetools<6.0,>=2.0.0 in /usr/local/lib/python3.10/dist-packages (from google-auth>=1.0.1->kubernetes>=28.1.0->chromadb<0.6.0,>=0.4.0->langchain_chroma) (5.4.0)\n",
            "Requirement already satisfied: pyasn1-modules>=0.2.1 in /usr/local/lib/python3.10/dist-packages (from google-auth>=1.0.1->kubernetes>=28.1.0->chromadb<0.6.0,>=0.4.0->langchain_chroma) (0.4.0)\n",
            "Requirement already satisfied: rsa<5,>=3.1.4 in /usr/local/lib/python3.10/dist-packages (from google-auth>=1.0.1->kubernetes>=28.1.0->chromadb<0.6.0,>=0.4.0->langchain_chroma) (4.9)\n",
            "Requirement already satisfied: filelock in /usr/local/lib/python3.10/dist-packages (from huggingface-hub<1.0,>=0.16.4->tokenizers>=0.13.2->chromadb<0.6.0,>=0.4.0->langchain_chroma) (3.15.4)\n",
            "Requirement already satisfied: fsspec>=2023.5.0 in /usr/local/lib/python3.10/dist-packages (from huggingface-hub<1.0,>=0.16.4->tokenizers>=0.13.2->chromadb<0.6.0,>=0.4.0->langchain_chroma) (2023.6.0)\n",
            "Requirement already satisfied: zipp>=0.5 in /usr/local/lib/python3.10/dist-packages (from importlib-metadata<=7.1,>=6.0->opentelemetry-api>=1.2.0->chromadb<0.6.0,>=0.4.0->langchain_chroma) (3.19.2)\n",
            "Requirement already satisfied: charset-normalizer<4,>=2 in /usr/local/lib/python3.10/dist-packages (from requests->kubernetes>=28.1.0->chromadb<0.6.0,>=0.4.0->langchain_chroma) (3.3.2)\n",
            "Requirement already satisfied: markdown-it-py>=2.2.0 in /usr/local/lib/python3.10/dist-packages (from rich>=10.11.0->typer>=0.9.0->chromadb<0.6.0,>=0.4.0->langchain_chroma) (3.0.0)\n",
            "Requirement already satisfied: pygments<3.0.0,>=2.13.0 in /usr/local/lib/python3.10/dist-packages (from rich>=10.11.0->typer>=0.9.0->chromadb<0.6.0,>=0.4.0->langchain_chroma) (2.16.1)\n",
            "Requirement already satisfied: humanfriendly>=9.1 in /usr/local/lib/python3.10/dist-packages (from coloredlogs->onnxruntime>=1.14.1->chromadb<0.6.0,>=0.4.0->langchain_chroma) (10.0)\n",
            "Requirement already satisfied: mpmath<1.4,>=1.1.0 in /usr/local/lib/python3.10/dist-packages (from sympy->onnxruntime>=1.14.1->chromadb<0.6.0,>=0.4.0->langchain_chroma) (1.3.0)\n",
            "Requirement already satisfied: mdurl~=0.1 in /usr/local/lib/python3.10/dist-packages (from markdown-it-py>=2.2.0->rich>=10.11.0->typer>=0.9.0->chromadb<0.6.0,>=0.4.0->langchain_chroma) (0.1.2)\n",
            "Requirement already satisfied: pyasn1<0.7.0,>=0.4.6 in /usr/local/lib/python3.10/dist-packages (from pyasn1-modules>=0.2.1->google-auth>=1.0.1->kubernetes>=28.1.0->chromadb<0.6.0,>=0.4.0->langchain_chroma) (0.6.0)\n",
            "\u001b[33mWARNING: Running pip as the 'root' user can result in broken permissions and conflicting behaviour with the system package manager, possibly rendering your system unusable.It is recommended to use a virtual environment instead: https://pip.pypa.io/warnings/venv. Use the --root-user-action option if you know what you are doing and want to suppress this warning.\u001b[0m\u001b[33m\n",
            "\u001b[0m"
          ]
        }
      ]
    },
    {
      "cell_type": "code",
      "source": [
        "# Create vectod db with open ai embbedings\n",
        "from langchain.vectorstores import Chroma\n",
        "from langchain.embeddings.openai import OpenAIEmbeddings\n",
        "\n",
        "embedding = OpenAIEmbeddings()\n",
        "persist_directory = 'content/chroma/'\n",
        "\n",
        "# Create the vector store\n",
        "vectordb = Chroma.from_documents(\n",
        "    documents=splits,\n",
        "    embedding=embedding,\n",
        "    persist_directory=persist_directory\n",
        ")\n",
        "\n",
        "print(vectordb._collection.count())\n",
        "\n"
      ],
      "metadata": {
        "colab": {
          "base_uri": "https://localhost:8080/"
        },
        "id": "BDPLBvm3LTke",
        "outputId": "6664ccbf-5e45-4b22-e656-c58df88394d5"
      },
      "execution_count": null,
      "outputs": [
        {
          "output_type": "stream",
          "name": "stdout",
          "text": [
            "1344\n"
          ]
        }
      ]
    },
    {
      "cell_type": "markdown",
      "source": [
        "Consultas en la Base de Datos Vectorial"
      ],
      "metadata": {
        "id": "3O3pJTEjBszW"
      }
    },
    {
      "cell_type": "code",
      "source": [
        "query = \"What does the acronym BERT stands for?\"\n",
        "docs = vectordb.similarity_search(query)\n",
        "print(docs[0].page_content)\n",
        "\n",
        "docs = vectordb.similarity_search_with_score(query)\n",
        "print(docs[0][0].page_content, docs[0][1])\n",
        "\n",
        "docs_marg_relevance = vectordb.max_marginal_relevance_search(query, k=2, fetch_k=3)\n",
        "print(docs_marg_relevance[0])\n",
        "print(docs_marg_relevance[1])\n"
      ],
      "metadata": {
        "colab": {
          "base_uri": "https://localhost:8080/"
        },
        "id": "7Iz3Gme2BovP",
        "outputId": "25186b73-5161-48a1-c580-a9c70f177104",
        "collapsed": true
      },
      "execution_count": null,
      "outputs": [
        {
          "output_type": "stream",
          "name": "stdout",
          "text": [
            "tional Institute for Clinical Excellence; \n",
            "2003.\n",
            "140. Steinsbekk A, Rygg L, Lisulo M et al. \n",
            "Group based diabetes self-manage -\n",
            "ment education compared to routine \n",
            "treatment for people with type 2 di -\n",
            "abetes mellitus. A systematic review \n",
            "with meta-analysis. BMC Health Serv \n",
            "Res 2012;12:213.\n",
            "141. Ramadasa A, Queka KF, Chana CKY\n",
            "tional Institute for Clinical Excellence; \n",
            "2003.\n",
            "140. Steinsbekk A, Rygg L, Lisulo M et al. \n",
            "Group based diabetes self-manage -\n",
            "ment education compared to routine \n",
            "treatment for people with type 2 di -\n",
            "abetes mellitus. A systematic review \n",
            "with meta-analysis. BMC Health Serv \n",
            "Res 2012;12:213.\n",
            "141. Ramadasa A, Queka KF, Chana CKY 0.5206233859062195\n",
            "page_content='tional Institute for Clinical Excellence; \n",
            "2003.\n",
            "140. Steinsbekk A, Rygg L, Lisulo M et al. \n",
            "Group based diabetes self-manage -\n",
            "ment education compared to routine \n",
            "treatment for people with type 2 di -\n",
            "abetes mellitus. A systematic review \n",
            "with meta-analysis. BMC Health Serv \n",
            "Res 2012;12:213.\n",
            "141. Ramadasa A, Queka KF, Chana CKY' metadata={'page': 115, 'source': '/content/drive/My Drive/UCU-NLP/RAG/guia_diabetes_msp_fnr.pdf'}\n",
            "page_content='Applied Research and Education. Jan -\n",
            "uary 2016 Volume 39, Supplement 1.\n",
            "115. Christopher P. Cannon, M.D., Michael \n",
            "A. Blazing, M.D., Robert P. Giuglia -\n",
            "no, M.D., et al for the IMPROVE-IT \n",
            "Investigators* N Engl J Med 2015; \n",
            "372:2387-2397June 18, 2015DOI: \n",
            "10.1056/NEJMoa1410489\n",
            "116. Cannon CP, Blazing MA, Giugliano RP, \n",
            "et al. Ezetimibe added to statin ther -\n",
            "apy after acute coronary syndromes.' metadata={'page': 113, 'source': '/content/drive/My Drive/UCU-NLP/RAG/guia_diabetes_msp_fnr.pdf'}\n"
          ]
        }
      ]
    },
    {
      "cell_type": "markdown",
      "source": [
        "Recuperación Contextual y Compresión"
      ],
      "metadata": {
        "id": "xZ_vJrFeBxCU"
      }
    },
    {
      "cell_type": "code",
      "source": [
        "from langchain.retrievers import ContextualCompressionRetriever\n",
        "from langchain.retrievers.document_compressors import LLMChainExtractor\n",
        "from langchain.llms import OpenAI\n",
        "\n",
        "# Wrap our vectorstore\n",
        "llm = OpenAI(temperature=0)\n",
        "compressor = LLMChainExtractor.from_llm(llm)\n",
        "\n",
        "compression_retriever = ContextualCompressionRetriever(\n",
        "    base_compressor=compressor,\n",
        "    base_retriever=vectordb.as_retriever()\n",
        ")\n",
        "\n",
        "question = \"what did the papers say about self rag?\"\n",
        "compressed_docs = compression_retriever.get_relevant_documents(question)\n",
        "print(compressed_docs[0].page_content)"
      ],
      "metadata": {
        "colab": {
          "base_uri": "https://localhost:8080/"
        },
        "id": "0yIia7ZlKzRH",
        "outputId": "36d527f6-a8a1-467b-e2e9-19ae2526ac57",
        "collapsed": true
      },
      "execution_count": null,
      "outputs": [
        {
          "output_type": "stream",
          "name": "stderr",
          "text": [
            "/usr/local/lib/python3.10/dist-packages/langchain_core/_api/deprecation.py:139: LangChainDeprecationWarning: The class `OpenAI` was deprecated in LangChain 0.0.10 and will be removed in 0.3.0. An updated version of the class exists in the langchain-openai package and should be used instead. To use it run `pip install -U langchain-openai` and import as `from langchain_openai import OpenAI`.\n",
            "  warn_deprecated(\n",
            "/usr/local/lib/python3.10/dist-packages/langchain_core/_api/deprecation.py:139: LangChainDeprecationWarning: The method `BaseRetriever.get_relevant_documents` was deprecated in langchain-core 0.1.46 and will be removed in 0.3.0. Use invoke instead.\n",
            "  warn_deprecated(\n"
          ]
        },
        {
          "output_type": "stream",
          "name": "stdout",
          "text": [
            "115. Christopher P. Cannon, M.D., Michael \n",
            "A. Blazing, M.D., Robert P. Giuglia -\n",
            "no, M.D., et al for the IMPROVE-IT \n",
            "Investigators* N Engl J Med 2015; \n",
            "372:2387-2397June 18, 2015DOI: \n",
            "10.1056/NEJMoa1410489\n",
            "116. Cannon CP, Blazing MA, Giugliano RP, \n",
            "et al. Ezetimibe added to statin ther -\n",
            "apy after acute coronary syndromes.\n"
          ]
        }
      ]
    },
    {
      "cell_type": "markdown",
      "source": [
        "Cadena de QA y Ejecución de Consultas"
      ],
      "metadata": {
        "id": "ujqQ1XCkB7DZ"
      }
    },
    {
      "cell_type": "code",
      "source": [
        "from langchain.chat_models import ChatOpenAI\n",
        "\n",
        "llm = OpenAI(temperature=0)\n",
        "from langchain.chains import RetrievalQA\n",
        "\n",
        "qa_chain = RetrievalQA.from_chain_type(\n",
        "    llm,\n",
        "    retriever=vectordb.as_retriever()\n",
        ")\n",
        "\n",
        "# Pass question to the qa_chain\n",
        "question = \"¿Cuándo y cómo se debe iniciar tratamiento con antiagregantes plaquetarios en pacientes con DM2?\"\n",
        "result = qa_chain({\"query\": question})\n",
        "result[\"result\"]"
      ],
      "metadata": {
        "colab": {
          "base_uri": "https://localhost:8080/",
          "height": 128
        },
        "id": "M5pRuK99Mo58",
        "outputId": "2016c957-a172-4b3d-e833-55b7382fe5e6",
        "collapsed": true
      },
      "execution_count": null,
      "outputs": [
        {
          "output_type": "stream",
          "name": "stderr",
          "text": [
            "/usr/local/lib/python3.10/dist-packages/langchain_core/_api/deprecation.py:139: LangChainDeprecationWarning: The method `Chain.__call__` was deprecated in langchain 0.1.0 and will be removed in 0.3.0. Use invoke instead.\n",
            "  warn_deprecated(\n"
          ]
        },
        {
          "output_type": "execute_result",
          "data": {
            "text/plain": [
              "' Según los estudios mencionados, se recomienda iniciar tratamiento con ácido acetil salicílico (AAS) o clopidogrel en pacientes con DM2 que presenten riesgo cardiovascular, como prevención secundaria. La dosis y frecuencia de administración dependerá de cada caso en particular y debe ser evaluada por un médico.'"
            ],
            "application/vnd.google.colaboratory.intrinsic+json": {
              "type": "string"
            }
          },
          "metadata": {},
          "execution_count": 15
        }
      ]
    },
    {
      "cell_type": "code",
      "source": [
        "#question = \"Any of the papers mention what BERT acronym means?\"\n",
        "question=\"¿Cuándo y cómo se debe iniciar tratamiento con antiagregantes plaquetarios en pacientes con DM2?\"\n",
        "\n",
        "result = qa_chain({\"query\": question})\n",
        "# Check the result of the query\n",
        "result[\"result\"]"
      ],
      "metadata": {
        "colab": {
          "base_uri": "https://localhost:8080/",
          "height": 70
        },
        "id": "E_0FtQUDCc3j",
        "outputId": "01bd1026-3dbc-49d9-8736-d77f0c52c48c"
      },
      "execution_count": null,
      "outputs": [
        {
          "output_type": "execute_result",
          "data": {
            "text/plain": [
              "' Según el contexto proporcionado, el tratamiento con antiagregantes plaquetarios en pacientes con DM2 se debe iniciar en la prevención secundaria, es decir, en aquellos pacientes que ya han sufrido un evento cardiovascular. Se recomienda el uso de ácido acetil salicílico (AAS) o clopidogrel, y la dosis y frecuencia de administración deben ser determinadas por un médico.'"
            ],
            "application/vnd.google.colaboratory.intrinsic+json": {
              "type": "string"
            }
          },
          "metadata": {},
          "execution_count": 34
        }
      ]
    },
    {
      "cell_type": "markdown",
      "source": [
        "Cadena de QA con Recuperación de Contexto (RAG)"
      ],
      "metadata": {
        "id": "piP_W2uWIrrq"
      }
    },
    {
      "cell_type": "markdown",
      "source": [
        "Implementación de un Prompt Personalizado para el RAG"
      ],
      "metadata": {
        "id": "JTs5S29qDuz-"
      }
    },
    {
      "cell_type": "code",
      "source": [
        "from langchain.prompts import PromptTemplate\n",
        "\n",
        "# Build prompt\n",
        "template = \"\"\"Use the following pieces of context to answer the question at the end.\n",
        "If you don't know the answer, just say that you don't know, don't try to make up an answer.\n",
        "Use three sentences maximum. Keep the answer as concise as possible.\n",
        "Always say \"thanks for asking!\" at the end of the answer.\n",
        "{context}\n",
        "Question: {question}\n",
        "Helpful Answer:\"\"\"\n",
        "RAG_PROMPT = PromptTemplate.from_template(template)# Run chain\n",
        "qa_chain = RetrievalQA.from_chain_type(\n",
        "   llm,\n",
        "    retriever=vectordb.as_retriever(),\n",
        "    return_source_documents=True,\n",
        "    chain_type_kwargs={\"prompt\": RAG_PROMPT}\n",
        ")"
      ],
      "metadata": {
        "id": "jlMl0Pf9OSwh"
      },
      "execution_count": null,
      "outputs": []
    },
    {
      "cell_type": "code",
      "source": [
        "# Realizar consultas de prueba\n",
        "resultado=test_qa('para que puedo utilizar k-means ?')\n",
        "print(resultado)"
      ],
      "metadata": {
        "colab": {
          "base_uri": "https://localhost:8080/"
        },
        "id": "uFuFTbiZSXkz",
        "outputId": "8cc5fc6b-1501-4262-d815-be7a8dd1f17c"
      },
      "execution_count": null,
      "outputs": [
        {
          "output_type": "stream",
          "name": "stdout",
          "text": [
            "Consulta: para que puedo utilizar k-means ?\n",
            "Respuesta: {'query': 'para que puedo utilizar k-means ?', 'result': ' K-means puede ser utilizado para agrupar a los sujetos con diagnóstico reciente de diabetes en función de seis variables clínicas preestablecidas, lo que permite identificar diferentes fenotipos de diabetes y adaptar estrategias terapéuticas específicas para cada grupo. Gracias por preguntar!', 'source_documents': [Document(metadata={'page': 4, 'source': '/content/drive/My Drive/UCU-NLP/RAG/revistadiabetes_or.pdf'}, page_content='DEBES SABERDiabetes6\\nUtilizando registros médicos electróni-\\ncos y datos extensos de genes, se han \\nbuscado modelos basados en métodos \\nde topología, de índices de riesgo genéti-\\nco, de análisis trayectoria de parámetros \\nclínicos y técnicas de agrupamiento so-\\nbre variables clínicas.\\nLa última metodología es la que más re-\\npercusión clínica ha tenido en base a los \\nestudios de Ahlqvist y cols. Con el algo-\\nritmo “K-means”, agrupan a los sujetos \\ncon diagnóstico reciente de diabetes en \\nfunción de seis variables clínicas preesta-\\nblecidas: presencia de autoanticuerpos \\nGAD65, edad en el momento del diag-\\nnóstico de diabetes, valor de HbA1c, \\níndice de masa corporal y sensibilidad insulina (HOMA2-IR), función célula beta \\n(HOMA2-B). Los resultados muestran \\nla existencia de 5 fenotipos diferencia-\\ndos. Uno de ellos con autoanticuerpos \\nGAD65+, posiblemente fenotipo LADA \\nmal etiquetado, pero los otros 4 son fe-\\nnotipos claramente diferenciados dentro \\nde la DM2, disminuyendo la heterogenei-\\ndad intragrupo con respecto a la simple \\netiqueta de DM2 (figura 2).\\nEstos subgrupos muestran patrones clíni-\\ncos distintos, diferente progresión de ini-\\ncio de comorbilidades y complicaciones, \\nsiendo el fenotipo con mayor resistencia \\na la insulina el de mayor riesgo de hígado \\ngraso y de enfermedad cardiorrenal, por \\nejemplo. Es importante destacar que la pertenen-\\ncia o no a un grupo no depende de un \\nsolo parámetro, sino de estar localizado \\ndentro del espacio multidimensional pe-'), Document(metadata={'page': 4, 'source': '/content/drive/My Drive/UCU-NLP/RAG/revistadiabetes_or.pdf'}, page_content='cia o no a un grupo no depende de un \\nsolo parámetro, sino de estar localizado \\ndentro del espacio multidimensional pe-\\nrimetrado por las variables que definen \\nel grupo.  En el caso de Ahlqvist y cols. \\n(2018), la variable Ac-GAD65 es binaria: \\npositiva o negativa, pero las demás son \\nde grado y no utilizan niveles de corte. \\nPor lo tanto, definen un espacio de pen-\\ntadimensional (hexátetron) en el que el \\nsujeto está o no está, según el criterio de \\nla sistemática utilizada (figura 3). \\nHay varias cuestiones metodológicas y \\nprácticas que necesitan más estudio en \\nla confección de estos grupos, tanto por \\nel método utilizado para definir subgru-FIGURA 3. Con 6 variables y un algoritmo de agrupamiento sobre bases de datos de sujetos con diabetes tipo 2 recién diagnosticada, describen 5 fenotipos de diabetes. La \\nvariable anticuerpos GAD65 es binaria. Sin embargo, el valor de las 5 variables restantes son las coordenadas que perimetran un espacio pentadimensional (hexátreton) en el \\nque se agrupan/distribuyen los sujetos de cada fenotipo.\\n»\\n»\\nSAID (severe autoimmune diabetes) \\nSIDD (severe insuline deficient diabetes) SIRD (severe insuline-resistant diabetes)\\nMOD (mild obesity-related diabetes) MARD (mild age-related diabetes)'), Document(metadata={'page': 5, 'source': '/content/drive/My Drive/UCU-NLP/RAG/revistadiabetes_or.pdf'}, page_content='tado en el camino hacia la medicina de \\nprecisión.\\n¿QUÉ UTILIDAD TIENE FENOTIPAR \\nEN DM2 EN LA ACTUALIDAD?\\nAún es pronto para poder utilizar todo \\nel potencial de la estrategia de feno-\\ntipado. Si bien se ha teorizado que los \\npacientes de estos subgrupos se bene-\\nficiarían de abordajes específicos, se ne-\\ncesitan estudios aleatorizados y contro-\\nlados para evaluar la utilidad clínica de \\nestrategias terapéuticas diferenciadas \\nen función del grupo, tanto en alimen-tación como en actividad física o asocia-\\nciones farmacológicas. \\nSin duda faltan datos, pero es posible \\napreciar su potencial en la medicina de \\nprecisión. Posiblemente, en el momen-\\nto actual sólo hemos pasado de un cajón \\nmuy heterogéneo, denominado DM2,  \\na 4 cajones con más homogeneidad, \\npero aún heterogéneos y, por lo tanto, \\ncon subgrupos dentro de ellos aún por \\ndefinir.\\nNo obstante, fenotipar a los sujetos con \\neste modelo de Ahlqvist y cols. (2018). \\ndesde el mismo momento del diagnósti-\\nco de DM2 permite sospechar el tipo de \\ncomplicaciones que presentarán posible-\\nmente con mayor frecuencia, la veloci-\\ndad de deterioro de la célula beta o la vía \\nfisiopatológica predominante y, en fun-\\nción de ello, se elegir una estrategia tera-\\npéutica más temprana y eficiente desde \\nel diagnóstico. En función del fenotipo, \\npodemos considerar la utilidad de modi-ficar la relación de macronutrientes de la \\nalimentación, individualizar la proporción \\nentre el volumen de ejercicio de fuerza'), Document(metadata={'page': 3, 'source': '/content/drive/My Drive/UCU-NLP/RAG/revistadiabetes_or.pdf'}, page_content='ca de un fenotipo. No es fácil acotar un \\nendotipo en DM2. Buscando entre los \\ngrupos de respondedores a un trata-\\nmiento se puede encontrar el endotipo subyacente a ese fenotipo de respon-\\ndedor que sirva para estratificar a los \\nsujetos pensando en el riesgo de com-\\nplicaciones y permita en la adopción de \\nestrategias clínicas más individualizadas.  \\nEn conclusión, el genotipo es necesario \\npara el diagnóstico de las diabetes mo-\\nnogénicas, pero la estimación del riesgo \\ngenético no tiene suficiente potencial \\npredictivo en la DM2 por el impacto del \\nestilo de vida y variables medioambienta-\\nles que complican la detección de endo-\\ntipos. Por otro lado, hay limitaciones por \\nbarreras de accesibilidad y asequibilidad \\npara los estudios genéticos en la práctica \\nclínica diaria. \\nPor el contrario, la categorización en fe-\\nnotipos en función de variables clínicas \\nes accesible y asequible en la práctica \\nmédica diaria. Es una forma posibilista \\nde asumir el enfoque de una diabetes de \\nprecisión en la actualidad.\\nMODELOS DE FENOTIPADO  \\nEN FUNCIÓN DE VARIABLES CLÍNICAS: \\n¿CÓMO FENOTIPAR?\\nCon las herramientas de minería de da-\\ntos y “machine learning”, por su capa-\\ncidad para manejar grandes cantidades \\nde datos y generar modelos predictivos, \\nse consigue profundizar en la diversidad \\ngenética, fisiopatológica y clínica de \\nla DM y con esa base desarrollar unos  \\nfenotipos en DM2 que nos permitan \\nmejorar la precisión de las estrategias \\nterapéuticas.')]}\n",
            "\n",
            "None\n"
          ]
        }
      ]
    },
    {
      "cell_type": "markdown",
      "source": [
        "Ejecución de Consultas de Prueba y Almacenamiento de Resultados"
      ],
      "metadata": {
        "id": "0UX6OVcOCC82"
      }
    },
    {
      "cell_type": "code",
      "source": [
        "import pandas as pd\n",
        "\n",
        "# Lista para almacenar preguntas y respuestas\n",
        "qa_pairs = []\n",
        "\n",
        "# Función para realizar una consulta y guardar la respuesta\n",
        "# Función para realizar una consulta y guardar la respuesta con metadatos\n",
        "def test_qa(query):\n",
        "    result = qa_chain({\"query\": query})\n",
        "    qa_pairs.append({\"Pregunta\": query, \"Respuesta\": result})\n",
        "    print(\"Consulta:\", query)\n",
        "    print(\"Respuesta:\", result)\n",
        "    print()\n",
        "\n",
        "# Ejemplos de consultas de prueba\n",
        "test_queries = [\n",
        "    \"¿Cuál es la capital de Francia?\",\n",
        "    \"¿Qué es la diabetes gestacional?\",\n",
        "    \"¿Necesito tomar insulina durante el resto de mi vida si tengo diabetes tipo 1?\",\n",
        "    \"¿Qué es el machine learning?\",\n",
        "    \"¿Cómo se trata la diabetes tipo 2?\"\n",
        "    \"¿Cuáles son los factores de riesgo para desarrollar diabetes tipo 2?\"\n",
        "    \"¿Es necesario monitorear el azúcar en sangre aún cuando me siento bien?\"\n",
        "]\n",
        "# Realizar consultas de prueba\n",
        "\n",
        "\n",
        "# Realizar consultas de prueba\n",
        "for query in test_queries:\n",
        "    test_qa(query)\n",
        "\n",
        "\n",
        "# Crear un DataFrame con las preguntas, respuestas y contextos\n",
        "df = pd.DataFrame(qa_pairs)\n",
        "\n",
        "# Mostrar el DataFrame\n",
        "print(df)\n",
        "\n",
        "# Guardar el DataFrame en un archivo CSV\n",
        "df.to_csv('/content/drive/MyDrive/UCU-NLP/preguntas_respuestas_langchain_v2.csv', index=False)"
      ],
      "metadata": {
        "colab": {
          "base_uri": "https://localhost:8080/"
        },
        "id": "hXtEQfdww-2i",
        "outputId": "06b86c12-0ab9-4ac3-f3d3-9d30cd867b6f",
        "collapsed": true
      },
      "execution_count": null,
      "outputs": [
        {
          "output_type": "stream",
          "name": "stdout",
          "text": [
            "Consulta: ¿Cuál es la capital de Francia?\n",
            "Respuesta: {'query': '¿Cuál es la capital de Francia?', 'result': ' Lo siento, no tengo esa información. Gracias por preguntar.', 'source_documents': [Document(metadata={'page': 31, 'source': '/content/drive/My Drive/UCU-NLP/RAG/navarra_es.pdf'}, page_content='Más ejemplares e información: \\nINSTITUTO DE SALUD PÚBLICA\\nSección de Promoción de Salud\\nTfno. 848 42 34 50\\nwww.cfnavarra.es/isp'), Document(metadata={'page': 29, 'source': '/content/drive/My Drive/UCU-NLP/RAG/navarra_es.pdf'}, page_content='Federación de Diabéticos Españoles \\nC/ Francisco de Rojas, 9, 1° dcha. 4 \\n28010 Madrid \\nApartado de Correos 3206 \\nTel. 91 447 00 35 - Fax 91 447 00 35\\ne-mail: fede@federaciondiabetes.org\\nwww.federaciondiabetes.org\\nAsociación Navarra de Diabéticos Tipo 1\\nC/ Carlos III, 30-1°. Oficina 6 - 31002\\nPamplona \\nTel. 948 153586\\nAsociación de Diabéticos ¨La Ribera”\\nCentro Cívico Lestonac\\nC/ San MarciaI, 25  - 31500 Tudela \\nTel. 948 826 367\\nFederación de Asociaciones\\nde Diabéticos de Euskadi\\nC/ Iparraguirre, 46, 3° 1 - 48010 Bilbao\\nTel. 94 444 66 06 -  Fax 94 444 66 06\\nDiabéticos Asociados Riojanos \\nC/ Hermanos Moroy, 1, prl. B- nº 23 \\n26001 Logroño \\nTel. 941 231 278\\nAsociación para la Formación\\ny Ayuda al Diabético AFAD\\nC/ Francisco de Rojas, 9 1° dcha- 3\\n28010 Madrid\\nTfno/Fax/Contestador: 91 447 00 35\\n28Para más información...'), Document(metadata={'page': 3, 'source': '/content/drive/My Drive/UCU-NLP/RAG/iris_paho.pdf'}, page_content='Notas de descargo generales: las denominaciones empleadas en esta publicación y la forma en que \\naparecen presentados los datos que contiene no implican, por parte de la OPS, juicio alguno sobre la \\ncondición jurídica de países, territorios, ciudades o zonas, o de sus autoridades, ni respecto del trazado \\nde sus fronteras o límites. Las líneas discontinuas en los mapas representan de manera aproximada \\nfronteras respecto de las cuales puede que no haya pleno acuerdo.\\nLa mención de determinadas sociedades mercantiles o de nombres comerciales de ciertos productos no \\nimplica que la OPS los apruebe o recomiende con preferencia a otros análogos. Salvo error u omisión, \\nlas denominaciones de productos patentados llevan letra inicial mayúscula.\\nLa OPS ha adoptado todas las precauciones razonables para verificar la información que figura en la \\npresente publicación. No obstante, el material publicado se distribuye sin garantía de ningún tipo, ni \\nexplícita ni implícita. El lector es responsable de la interpretación y el uso que haga de ese material, y en \\nningún caso la OPS podrá ser considerada responsable de daño alguno causado por su utilización.\\nNMH/NV-2020'), Document(metadata={'page': 1, 'source': '/content/drive/My Drive/UCU-NLP/RAG/navarra_es.pdf'}, page_content='Dirección y coordinación: Sección de Intervenciones\\nPoblacionales y Promoción de la Salud, Instituto de SaludPública (ISP).\\nElaborado por: Mª Asunción Salcedo Miqueleiz, Mª José\\nPérez Jarauta y Margarita Echauri Ozcoidi.\\nCon las aportaciones de: Eugenia Ancizu (C.S. Chantrea),\\nLuisa Aragón (GEDAPS. C.S. Tafalla), Maite Arizaleta (C.S.Iturrama), Conchita Arroyo (C.S. Chantrea), Dolores Artajo(C.S. Tudela Oeste), Maite Ayarra (C.S. Huarte-Pamplona),Javier Díez Espino (GEDAPS. C.S. Tafalla), Mª José Echarte (C.S.Chantrea), Mª Jesús Erice (C.S. Ermitagaña), Lourdes Galdeano(C.S. Ancín-Amescoa), Javier Lafita (GEDAPS. Servicio deEndocrinología del Hospital de Navarra), Arantxa Legarra (C.S.Barañain), Araceli Martínez de Zúñiga (C.S. Iturrama), CristinaRodríguez (GEDAPS. C.S. San Jorge), Carlos Sanjuan (GEDAPS.C.S. Burlada), Javier Ulibarri (GEDAPS. C.S. San Jorge), MaiteVelasco (C.S. Iturrama), Ignacio Yurss (Sección deProgramación y Docencia de la Dirección de AtenciónPrimaria), Blanca Zudaire (C.S. San Jorge).\\nTrabajo administrativo: Mar Lainez.\\nSección de Promoción de la Salud (ISP).\\nIlustración y diseño gráfico: Ana Goikoetxea\\nImpresión: Espace Grafic. \\nFinanciación: Instituto de Salud Pública\\nDepósito legal: NA - 1480 / 2008\\n© GOBIERNO DE NAVARRA')]}\n",
            "\n",
            "Consulta: ¿Qué es la diabetes gestacional?\n",
            "Respuesta: {'query': '¿Qué es la diabetes gestacional?', 'result': ' La diabetes gestacional es una condición en la que una mujer desarrolla diabetes durante el embarazo. Aproximadamente el 4% de las mujeres embarazadas la desarrollan y requiere tratamiento especializado durante el resto del embarazo. Después del embarazo, la mayoría de las mujeres vuelven a tener niveles normales de azúcar en sangre, pero tienen un mayor riesgo de desarrollar diabetes en el futuro. ¡Gracias por preguntar!', 'source_documents': [Document(metadata={'page': 0, 'source': '/content/drive/My Drive/UCU-NLP/RAG/Diabetes gestacional.pdf'}, page_content='Diabetes gestacional  \\nLa diabetes gestacional se refiere a la diabetes diagnosticada durante el embarazo. Cerca del 4% de \\nlas mujeres embarazadas desarrollará diabetes gestacional.  \\nLa diabetes gestacional requiere tratamiento especializado durante el resto del embarazo. Después de \\nque termina el embarazo, la mayoría de las mujeres tendrá nuevamente niveles normales de azúcar \\nen sangre; sin embargo, seguirá en riesgo de tener diabetes . Entre el 20 al 50 %, se le diagnosticará \\ndiabetes durante los siguientes 5 -10 años y es probable que la diabetes gestacional recurra durante \\nembarazos subsiguientes.  \\n \\nFuente: https://dtc.ucsf.edu/es/tipos -de-diabetes/diabetes -gestacional/'), Document(metadata={'page': 3, 'source': '/content/drive/My Drive/UCU-NLP/RAG/diagnostico_diabetes_mellitus_revista_espanola.pdf'}, page_content='asociados con un riesgo incrementado de padecer enfer-\\nmedad microvascular a la hora de definir DM, la mayor\\nparte de la morbimortalidad de esta afección está aso-\\nciada a la enfermedad macrovascular y a las complica-\\nciones que de ésta se derivan. En general, existe con-\\nsenso a la hora de afirmar que la glucemia posterior a\\nuna PTOG determina mejor el riesgo de enfermedad\\ncardiovascular y que, por tanto, la evaluación metabóli-\\nca únicamente en ayunas puede ser insuficiente.\\nDiagnóstico de la diabetes gestacional\\nPor diabetes gestacional (DG) se entiende toda\\naquella alteración del metabolismo hidrocarbonado\\nque se diagnostica por vez primera durante el embara-\\nzo. Los criterios para su diagnóstico han variado a lo\\nlargo de los últimos años y aún hoy día existen diver-\\nsas recomendaciones al uso.\\nEl grupo español de diabetes y embarazo adoptó en el\\naño 2000 unos criterios parecidos a los promulgados\\npor la ADA16,17. Estos criterios establecen la realización\\nde una prueba de cribado (test de O’Sullivan con 50 g\\nde glucosa e independientemente de la presencia o au-\\nsencia de período de ayuno previo), que consiste en la\\nvaloración de la glucemia al administrar 50 g de gluco-\\nsa por vía oral. La prueba es positiva cuando la gluce-\\nmia plasmática es ≥140 mg/dl. Esta prueba debe reali-\\nzarse de manera universal a toda gestante en el segundo\\ntrimestre (24-28 semanas) y en el primero si existen\\nfactores de riesgo, como historia de macrosomía fetal,'), Document(metadata={'page': 0, 'source': '/content/drive/My Drive/UCU-NLP/RAG/cardiosalud.pdf'}, page_content='\\uf0b7 La diabetes  gestacional,  que puede  identificarse  en el segundo  o tercer  trimestre  del embarazo  y se vincula  a cambios  metabólicos  de la \\nmujer  durante  el mismo.  En este caso,  la mujer  puede  o no mantener  las hiperglicemias  luego  de finalizada  la gestación  y ser finalment e \\ndiagnosticada  con diabetes  tipo II.  \\n\\uf0b7 Otros  tipos  de diabetes  asociadas  a causas  específicas,  como  ser enfermedades  del páncreas  (como  la pancreatitis  o fibrosis  quística),  la \\ndiabetes  inducida  por fármacos  o síndromes  de diabetes  vinculadas  a defectos  genéticos  de las células  del páncreas  productoras  de insulina.  \\n¿Cómo  se diagnostica?  \\nEl diagnóstico  puede  hacerse  midiendo  la cantidad  de azúcares  en sangre  (glicemia)  en \\nayunas,  tras una prueba  de tolerancia  oral a la glucosa  (conocida  frecuentemente  como  \\n“la curva”)  o una determinación  al azar de glicemia  si usted  tiene  síntomas.   \\nLos síntomas  que podrían  hacer  sospechar  que una persona  tiene  diabetes  son: sed \\nexcesiva  y urgente,  orina  a repetición,  pérdida  de peso no intencionada  o sin explicación  \\naparente.  \\n¿Se puede  evitar?  \\nEn muchos  casos  sí. Si bien la diabetes  tipo 2, que es la más común  de las diabetes,  \\ntiene  un componente  genético  que aumenta  el riesgo  de padecerla  (si por ejemplo  uno \\nde nuestros  padres  lo tiene  tenemos  más chance  de desarrollarla),  hay muchos  otros'), Document(metadata={'page': 10, 'source': '/content/drive/My Drive/UCU-NLP/RAG/iris_paho.pdf'}, page_content='en el momento del diagnóstico.\\nHiperglucemia detectada por primera vez durante el embarazo\\nDiabetes mellitus del \\nembarazoDiabetes de tipo 1 o de tipo 2 que se diagnostica durante el \\nembarazo.\\nDiabetes mellitus \\ngestacionalHiperglucemia por debajo de los umbrales de diagnóstico para la \\ndiabetes durante el embarazo.\\n11\\nHEARTS – D  Diagnóstico y manejo de la diabetes de tipo 2')]}\n",
            "\n",
            "Consulta: ¿Necesito tomar insulina durante el resto de mi vida si tengo diabetes tipo 1?\n",
            "Respuesta: {'query': '¿Necesito tomar insulina durante el resto de mi vida si tengo diabetes tipo 1?', 'result': ' Sí, la mayoría de las personas con diabetes tipo 1 necesitan tomar insulina durante el resto de su vida ya que su cuerpo no produce suficiente por sí mismo. Sin embargo, hay nuevas tecnologías como la bomba de insulina que pueden ayudar a administrarla de manera más conveniente. Gracias por preguntar!', 'source_documents': [Document(metadata={'page': 0, 'source': '/content/drive/My Drive/UCU-NLP/RAG/Preguntas más frecuentes sobre la Diabetes tipo 1.pdf'}, page_content='Preguntas más frecuentes sobre la Diabetes tipo \\n1 \\n \\nPreguntas más frecuentes (FAQs)  \\n• ¿Necesito tomar insulina durante el resto de mi vida?  \\n• ¿El ejercicio me ayudará a controlar la diabetes?  \\n• ¿Puedo dejar de tomar insulina si elimino las golosinas y galletas dulces de la dieta?  \\n• ¿Necesito monitorear el azúcar en sangre aún cuando me siento bien?  \\n• Tengo diabetes tipo 1. ¿Están en riesgo mis hijos?  \\n¿Necesito tomar insulina durante el resto de mi vida?  \\nSí. La gente con diabetes tipo 1 no fabrica suficiente  insulina  con su propio cuerpo. La mayoría de la \\ngente se inyecta insulina por lo menos cuatro veces por día. Sin embargo, la bomba de insulina, o \\nuna infusión de insulina continua subcutánea (CSII) , está reemplazando lentamente a las inyecciones \\nfrecuentes como sistema de entrega preferido. Con la bomba, se inserta un catéter nuevo cada pocos \\ndías debajo de la piel, y la insulina se infunde continuamente dentro del cuerpo. La bomba no es la \\npalabra final en sistemas de entrega de insulina, y se están realizando ensayos clínicos para probar \\ntanto un parche como un spray nasal como posibles sistemas de entrega de insulina.  \\n¿El ejercicio me ayudará a controlar la diabetes?  \\nEn general, el  ejercicio  puede ser beneficioso en el manejo de la diabetes tipo 1, además de tomar \\ninsulina y comer una dieta saludable. Siempre consulte con su médico acerca de las pautas para hacer \\nejercicio, para ejercitarse de manera segura y reducir los riesgos.'), Document(metadata={'page': 1, 'source': '/content/drive/My Drive/UCU-NLP/RAG/Preguntas más frecuentes sobre la Diabetes tipo 2.pdf'}, page_content='insulina para controlar sus niveles de azúcar en sangre.  \\nvolver arriba  \\nComo alguien con diabetes tipo 2, ¿me convierto en un diabético tipo 1 cuando tomo \\ninsulina?  \\nNo. Usar  insulina  no significa que tenga diabetes tipo 1. Su tipo de diabetes está determinado por la \\ngenética, no por el tipo de terapia.'), Document(metadata={'page': 2, 'source': '/content/drive/My Drive/UCU-NLP/RAG/Preguntas más frecuentes sobre la Diabetes tipo 2.pdf'}, page_content='volver arriba  \\nSi tengo diabetes tipo 2 y tomo insulina, ¿la tengo que tomar para siempre?  \\nNo necesariamente. Si puede  perder peso , cambiar la dieta , incrementar su  nivel de actividad , o \\ncambiar los  medicamentos  quizá pueda reducir o detener la  terapia con insulina . Bajo ciertas \\ncircunstancias, quizá sólo necesite la insulina de forma temporal, tal como durante el embarazo, \\nenfermedad aguda, después de una cirugía, o cuando esté en tratamiento con drogas que \\nincrementen la resistencia del cuerpo a la acción de la in sulina (tales como la prednisona o \\nesteroides). Con frecuencia, la terapia con insulina puede detenerse después del evento o cuando pasó \\nel estrés.  \\nvolver arriba  \\n¿Ayudará el ejercicio a mi diabetes?  \\nEl ejercicio  es muy beneficioso en el manejo de la diabetes tipo 2. Siempre consulte con su médico \\nacerca de las pautas para hacer ejercicio, para ejercitarse de manera segura y reducir los riesgos.  \\nvolver arriba  \\nSi tengo diabetes tipo 2, ¿puedo dejar de tomar medicamentos para la diabetes si elimino \\nlas golosinas y galletas dulces de la dieta?  \\nSi elimina las  fuentes concentradas de carbohidratos  (comidas que se convierten en azúcar en la \\ncorriente sanguínea) como las golosinas y las galletas dulces, quizá pueda reducir o eliminar la \\nnecesidad de medicamentos para la diabetes. Todos los que tienen diabetes tipo 2 se beneficiarán con \\nuna dieta mejo rada, pero todavía necesitarán otras intervenciones, tales como actividad física'), Document(metadata={'page': 18, 'source': '/content/drive/My Drive/UCU-NLP/RAG/navarra_es.pdf'}, page_content='Al ponerse insulina se puede sentir cierto miedo\\na los pinchazos pero las agujas para inyectarlason muy finas,como uncabello dela cabeza.\\nEn la diabetes tipo 1 es necesario usar insulina\\ndesde el inicio. En el tipo 2 , cada tipo de trata-\\nmiento ayuda en una etapa de la evolución de ladiabetes. En general, al inicio se puede controlarexclusivamente con dieta y ejercicio, después conantidiabéticos orales y después con insulina. A veces se usan varios medicamentos en combi-nación o insulina de forma temporal.\\nAunque habitualmente no ocurre, la glucosa en\\nla sangre puede disminuir demasiado con lamedicación, y por ello conviene llevar siempre encima glucosa (ver página 9).\\nCuando se tiene que tomar otros \\nmedicamentos es importante decir que se tiene diabetes.\\n17Se toman pastillas si el cuerpo \\nproduce aún insulina.\\nSi no, ponerse insulina\\nes imprescindible.')]}\n",
            "\n",
            "Consulta: ¿Qué es el machine learning?\n",
            "Respuesta: {'query': '¿Qué es el machine learning?', 'result': ' El machine learning es una técnica de inteligencia artificial que permite a las computadoras aprender y mejorar a partir de datos sin ser programadas explícitamente. Utiliza algoritmos y modelos estadísticos para analizar grandes cantidades de datos y encontrar patrones y relaciones que pueden ser utilizados para tomar decisiones o hacer predicciones. Gracias por preguntar!', 'source_documents': [Document(metadata={'page': 1, 'source': '/content/drive/My Drive/UCU-NLP/RAG/revistadiabetes_or.pdf'}, page_content='Cómo eres\\nGenética\\nEpigenéticaCómo vives\\nEstilo de vidaCómo respondes\\nFarmacogenómica\\nNutrigenómica\\nEjercicio\\nQúe te conviene\\nAlimentación\\nEjercicio\\nFármacosCómo estás\\nBiométricos,\\nAntropométricos,\\nFactores de RiesgoCómo serás\\nComplicaciones\\n*Entendiendo por medicina de precisión la estratificación de grupos de pacientes con bases moleculares, biomarcadores\\ngenéticos, medio ambientales y características clínicas que permitan optimizar los resultados terapéuticos.'), Document(metadata={'page': 4, 'source': '/content/drive/My Drive/UCU-NLP/RAG/revistadiabetes_or.pdf'}, page_content='DEBES SABERDiabetes6\\nUtilizando registros médicos electróni-\\ncos y datos extensos de genes, se han \\nbuscado modelos basados en métodos \\nde topología, de índices de riesgo genéti-\\nco, de análisis trayectoria de parámetros \\nclínicos y técnicas de agrupamiento so-\\nbre variables clínicas.\\nLa última metodología es la que más re-\\npercusión clínica ha tenido en base a los \\nestudios de Ahlqvist y cols. Con el algo-\\nritmo “K-means”, agrupan a los sujetos \\ncon diagnóstico reciente de diabetes en \\nfunción de seis variables clínicas preesta-\\nblecidas: presencia de autoanticuerpos \\nGAD65, edad en el momento del diag-\\nnóstico de diabetes, valor de HbA1c, \\níndice de masa corporal y sensibilidad insulina (HOMA2-IR), función célula beta \\n(HOMA2-B). Los resultados muestran \\nla existencia de 5 fenotipos diferencia-\\ndos. Uno de ellos con autoanticuerpos \\nGAD65+, posiblemente fenotipo LADA \\nmal etiquetado, pero los otros 4 son fe-\\nnotipos claramente diferenciados dentro \\nde la DM2, disminuyendo la heterogenei-\\ndad intragrupo con respecto a la simple \\netiqueta de DM2 (figura 2).\\nEstos subgrupos muestran patrones clíni-\\ncos distintos, diferente progresión de ini-\\ncio de comorbilidades y complicaciones, \\nsiendo el fenotipo con mayor resistencia \\na la insulina el de mayor riesgo de hígado \\ngraso y de enfermedad cardiorrenal, por \\nejemplo. Es importante destacar que la pertenen-\\ncia o no a un grupo no depende de un \\nsolo parámetro, sino de estar localizado \\ndentro del espacio multidimensional pe-'), Document(metadata={'page': 3, 'source': '/content/drive/My Drive/UCU-NLP/RAG/revistadiabetes_or.pdf'}, page_content='la DM y con esa base desarrollar unos  \\nfenotipos en DM2 que nos permitan \\nmejorar la precisión de las estrategias \\nterapéuticas.\\nLAS DIFICULTADES PARA LA CLASIFICACIÓN CLÁSICA APARECEN CUANDO \\nSUJETOS ADULTOS ETIQUETADOS COMO DM2 MUESTRAN CARACTERÍSTICAS \\nINMUNOLÓGICAS SIMILARES A LA DIABETES TIPO 1, SUJETOS CON DM1 \\nMUESTRAN INSULINRESISTENCIA U OBESIDAD TÍPICA DE LA DM2, ALGUNOS  \\nSUJETOS CON DM2 PUEDEN PRESENTAN CETOACIDOSIS O NIÑOS \\nCON HIPERGLUCEMIAS MÁS PARECIDAS A LAS DE SUJETOS ADULTOS (MODY)»\\n»'), Document(metadata={'page': 3, 'source': '/content/drive/My Drive/UCU-NLP/RAG/revistadiabetes_or.pdf'}, page_content='ca de un fenotipo. No es fácil acotar un \\nendotipo en DM2. Buscando entre los \\ngrupos de respondedores a un trata-\\nmiento se puede encontrar el endotipo subyacente a ese fenotipo de respon-\\ndedor que sirva para estratificar a los \\nsujetos pensando en el riesgo de com-\\nplicaciones y permita en la adopción de \\nestrategias clínicas más individualizadas.  \\nEn conclusión, el genotipo es necesario \\npara el diagnóstico de las diabetes mo-\\nnogénicas, pero la estimación del riesgo \\ngenético no tiene suficiente potencial \\npredictivo en la DM2 por el impacto del \\nestilo de vida y variables medioambienta-\\nles que complican la detección de endo-\\ntipos. Por otro lado, hay limitaciones por \\nbarreras de accesibilidad y asequibilidad \\npara los estudios genéticos en la práctica \\nclínica diaria. \\nPor el contrario, la categorización en fe-\\nnotipos en función de variables clínicas \\nes accesible y asequible en la práctica \\nmédica diaria. Es una forma posibilista \\nde asumir el enfoque de una diabetes de \\nprecisión en la actualidad.\\nMODELOS DE FENOTIPADO  \\nEN FUNCIÓN DE VARIABLES CLÍNICAS: \\n¿CÓMO FENOTIPAR?\\nCon las herramientas de minería de da-\\ntos y “machine learning”, por su capa-\\ncidad para manejar grandes cantidades \\nde datos y generar modelos predictivos, \\nse consigue profundizar en la diversidad \\ngenética, fisiopatológica y clínica de \\nla DM y con esa base desarrollar unos  \\nfenotipos en DM2 que nos permitan \\nmejorar la precisión de las estrategias \\nterapéuticas.')]}\n",
            "\n",
            "Consulta: ¿Cómo se trata la diabetes tipo 2?¿Cuáles son los factores de riesgo para desarrollar diabetes tipo 2?¿Es necesario monitorear el azúcar en sangre aún cuando me siento bien?\n",
            "Respuesta: {'query': '¿Cómo se trata la diabetes tipo 2?¿Cuáles son los factores de riesgo para desarrollar diabetes tipo 2?¿Es necesario monitorear el azúcar en sangre aún cuando me siento bien?', 'result': ' La diabetes tipo 2 se trata con una dieta saludable, actividad física y pérdida de peso. Los factores de riesgo para desarrollar diabetes tipo 2 incluyen antecedentes familiares, sobrepeso, sedentarismo y otros factores de riesgo. Sí, es necesario monitorear el azúcar en sangre regularmente, incluso si se siente bien, ya que los síntomas pueden no aparecer de inmediato y puede haber daños graves sin saberlo. Gracias por preguntar!', 'source_documents': [Document(metadata={'page': 2, 'source': '/content/drive/My Drive/UCU-NLP/RAG/Preguntas más frecuentes sobre la Diabetes tipo 2.pdf'}, page_content='una dieta mejo rada, pero todavía necesitarán otras intervenciones, tales como actividad física \\nincrementada, pérdida de peso o medicamentos para mantener los niveles de azúcar en sangre en el \\nrango objetivo. Verifique con el médico acerca de cualquier ajuste en la dosis  de la medicación para la \\ndiabetes que pueda ser necesaria si cambia la dieta.  \\nvolver arriba  \\n¿Necesito monitorear el azúcar en sangre cuando tengo diabetes tipo 2?  \\nQuizá se sienta bien, pero eso no es garantía de que sus niveles de azúcar en sangre estén en el \\nrango objetivo. Recuerde, las  complicaciones  derivadas de la diabetes no aparecen inmediatamente. Y \\nlas complicaciones pueden desarrollarse aún cuando el azúcar en sangre esté apenas ligeramente \\nelevada. El  monitoreo de azúcar en sangre  regular puede ayudarlo a mantener los niveles de azúcar \\nen sangre bajo control y evitar daños graves a la vista, riñones y nervios. Si sus niveles de azúcar \\nestán fuera de lo normal, consulte con su médico.  \\nvolver arriba  \\n¿Mis hijos están en riesgo?  \\nSí. La diabetes tipo 2  es una enfermedad genética. El riesgo es más alto cuando múltiples miembros \\nde la familia tienen diabetes, y si los hijos también tienen sobrepeso, son sedentarios y tienen otros \\nfactores de riesgo para la diabetes tipo 2. Su hijo tiene una posibilidad de l 10-15% de desarrollar \\ndiabetes tipo 2 cuando usted tiene diabetes tipo 2. Y si un gemelo idéntico tiene diabetes tipo 2, existe'), Document(metadata={'page': 1, 'source': '/content/drive/My Drive/UCU-NLP/RAG/Preguntas más frecuentes sobre la Diabetes tipo 2.pdf'}, page_content='¿Puede desaparecer la diabetes tipo 2? Y si mi azúcar en sangre vuelve a ser normal, \\n¿todavía tengo diabetes?  \\nLa diabetes tipo 2  es una condición o predisposición genética que no se va con tratamiento. Pero la \\ndiabetes se define como un nivel elevado de azúcar en sangre.  \\nCuando el azúcar en sangre es normal sin tratamiento, entonces se considera que la diabetes \\ndesapareció. Sin embargo, aún cuando los niveles de azúcar en sangre estén controlados, como la \\ndiabetes tipo 2 es una condición genética, la predisposición para la  diabetes existe siempre. Los \\nniveles altos de azúcar en sangre pueden regresar.  \\nSi tiene diabetes tipo 2 y el azúcar en sangre está controlada durante el tratamiento (dieta, ejercicios \\ny medicamentos), significa que el plan de tratamiento está funcionando. Está teniendo un buen nivel \\nde azúcar en sangre por el tratamiento, NO porque h aya desparecido la predisposición para la \\ndiabetes. Tendrá que continuar el tratamiento; si no, su azúcar en sangre volverá a elevarse.  \\n \\nvolver arriba  \\n¿Necesitaré tomar insulina si tengo diabetes tipo 2?  \\nQuizá. Históricamente, el 30% o más de la gente con diabetes tipo 2 necesitó  terapia con insulina . Sin \\nembargo, existen muchas drogas nuevas disponibles que pueden retrasar o evitar la necesidad de \\nterapia con insulina. Se espera que cada vez menos y menos individuos necesiten reemplazo de \\ninsulina para controlar sus niveles de azúcar en sangre.  \\nvolver arriba'), Document(metadata={'page': 0, 'source': '/content/drive/My Drive/UCU-NLP/RAG/Preguntas más frecuentes sobre la Diabetes tipo 2.pdf'}, page_content='Preguntas más frecuentes sobre la Diabetes tipo \\n2 \\n¿Cómo se trata la diabetes tipo 2?  \\nCuando tiene  diabetes tipo 2 , lo primero que necesita es comer una  dieta saludable , \\nmantenerse  activo físicamente  y perder todo el peso extra . Si estos cambios en el estilo de vida no \\npueden controlar su azúcar en sangre, también quizá necesite tomar comprimidos y otros \\nmedicamentos inyectables, incluyendo insulina.  \\nComer una dieta saludable, estar activo físicamente y perder cualquier peso extra es el primer paso de \\nla terapia. “Dieta y ejercicio“ es la base de todo el manejo de la diabetes porque hace que las células \\ndel cuerpo respondan mejor a la insulina (en otra s palabras, disminuye la resistencia a la insulina) y \\nbaja los niveles de azúcar en sangre.  \\nSi no puede normalizar o controlar los niveles de azúcar en sangre con la dieta, pérdida de peso y \\nejercicio, la siguiente fase de tratamiento es tomar medicamentos ya sea por vía oral o inyectable.  \\nLas pastillas para la diabetes funcionan de formas diferentes: algunas bajan la resistencia a la \\ninsulina, otras desaceleran la digestión de la comida o incrementan los niveles de insulina en la \\ncorriente sanguínea. Las medicaciones inyectables que no cont ienen insulina para la diabetes tipo 2 \\ntienen una acción complicada pero básicamente bajan la glucosa en sangre después de comer. La \\nterapia con insulina simplemente incrementa la insulina en la circulación.'), Document(metadata={'page': 0, 'source': '/content/drive/My Drive/UCU-NLP/RAG/Preguntas más frecuentes sobre la Diabetes tipo 1.pdf'}, page_content='ejercicio, para ejercitarse de manera segura y reducir los riesgos.  \\n¿Puedo dejar de tomar insulina si elimino las golosinas y galletas dulces de la \\ndieta?  \\nAunque eliminase las fuentes concentradas de  carbohidratos  (comidas que se convierten en azúcar en \\nsu corriente sanguínea) como las golosinas y las galletas dulces, siempre tiene que tomar insulina \\ncuando tiene diabetes tipo 1. Verifique con el médico acerca de cualquier ajuste en la dosis de insulina \\nque pueda s er necesario si cambia la dieta.  \\n¿Necesito monitorear el azúcar en sangre aún cuando me siento bien?  \\nSentirse bien no es garantía de que los niveles de azúcar en sangre estén en el rango objetivo. \\nRecuerde, los síntomas no aparecen inmediatamente. Sin un  monitoreo de azúcar en sangre regular , \\npuede haber  daños graves  a la vista, riñones, pies, hasta al cerebro, sin que lo sepa. Si sus niveles de \\nazúcar están fuera de lo normal, consulte con su médico.  \\nTengo diabetes tipo 1. ¿Mis hijos están en riesgo?  \\nSí, pero el riego es bajo. A pesar de que la diabetes tipo 1 es una enfermedad  genética , sólo cerca del \\n3% al 6% de los hijos de diabéticos tipo 1 desarrollarán diabetes. El riesgo varía con la edad, género, \\ny otros factores relacionados con el padre con diabetes. Puede aprender más acerca de estas \\nposibilidades al someter a los niños a cier tas pruebas genéticas.  \\nCuestionario de autoevaluación')]}\n",
            "\n",
            "                                            Pregunta  \\\n",
            "0                    ¿Cuál es la capital de Francia?   \n",
            "1                   ¿Qué es la diabetes gestacional?   \n",
            "2  ¿Necesito tomar insulina durante el resto de m...   \n",
            "3                       ¿Qué es el machine learning?   \n",
            "4  ¿Cómo se trata la diabetes tipo 2?¿Cuáles son ...   \n",
            "\n",
            "                                           Respuesta  \n",
            "0  {'query': '¿Cuál es la capital de Francia?', '...  \n",
            "1  {'query': '¿Qué es la diabetes gestacional?', ...  \n",
            "2  {'query': '¿Necesito tomar insulina durante el...  \n",
            "3  {'query': '¿Qué es el machine learning?', 'res...  \n",
            "4  {'query': '¿Cómo se trata la diabetes tipo 2?¿...  \n"
          ]
        }
      ]
    }
  ],
  "metadata": {
    "kernelspec": {
      "display_name": "Python 3",
      "name": "python3"
    },
    "language_info": {
      "codemirror_mode": {
        "name": "ipython",
        "version": 3
      },
      "file_extension": ".py",
      "mimetype": "text/x-python",
      "name": "python",
      "nbconvert_exporter": "python",
      "pygments_lexer": "ipython3",
      "version": "3.11.9"
    },
    "colab": {
      "provenance": [],
      "machine_shape": "hm",
      "include_colab_link": true
    }
  },
  "nbformat": 4,
  "nbformat_minor": 0
}