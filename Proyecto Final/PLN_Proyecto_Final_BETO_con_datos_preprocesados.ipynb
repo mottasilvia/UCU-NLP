{
  "nbformat": 4,
  "nbformat_minor": 0,
  "metadata": {
    "colab": {
      "provenance": [],
      "gpuType": "T4",
      "include_colab_link": true
    },
    "kernelspec": {
      "name": "python3",
      "display_name": "Python 3"
    },
    "accelerator": "GPU"
  },
  "cells": [
    {
      "cell_type": "markdown",
      "metadata": {
        "id": "view-in-github",
        "colab_type": "text"
      },
      "source": [
        "<a href=\"https://colab.research.google.com/github/mottasilvia/UCU-NLP/blob/main/Proyecto%20Final/PLN_Proyecto_Final_BETO_con_datos_preprocesados.ipynb\" target=\"_parent\"><img src=\"https://colab.research.google.com/assets/colab-badge.svg\" alt=\"Open In Colab\"/></a>"
      ]
    },
    {
      "cell_type": "markdown",
      "source": [
        "# Modelo BETO CASED con datos preprocesados y clases agrupadas y combinadas"
      ],
      "metadata": {
        "id": "b3z3rlvH5OoV"
      }
    },
    {
      "cell_type": "markdown",
      "source": [
        "| **Clase**                | **Precision** | **Recall** | **F1-score** | **Support** |\n",
        "|--------------------------|---------------|------------|--------------|-------------|\n",
        "| agradecimiento o saludo  | 0.94          | 0.96       | 0.95         | 463         |\n",
        "| autorespuesta            | 1.00          | 0.90       | 0.95         | 21          |\n",
        "| baja                     | 0.88          | 0.79       | 0.83         | 19          |\n",
        "| equivocado               | 0.87          | 0.81       | 0.84         | 16          |\n",
        "| glicemia                 | 0.62          | 0.29       | 0.40         | 17          |\n",
        "| medicación o turno       | 0.78          | 0.68       | 0.72         | 37          |\n",
        "| optin                    | 0.98          | 0.90       | 0.94         | 383         |\n",
        "| otros                    | 0.74          | 0.78       | 0.76         | 51          |\n",
        "| respuesta                | 0.84          | 0.92       | 0.88         | 395         |\n",
        "| **accuracy**             |               |            | 0.91         | 1402        |\n",
        "| **macro avg**            | 0.85          | 0.78       | 0.81         | 1402        |\n",
        "| **weighted avg**         | 0.91          | 0.91       | 0.91         | 1402        |\n"
      ],
      "metadata": {
        "id": "lrjrhQfRrG36"
      }
    },
    {
      "cell_type": "code",
      "source": [
        "!pip install transformers pandas scikit-learn accelerate emoji\n",
        "\n"
      ],
      "metadata": {
        "colab": {
          "base_uri": "https://localhost:8080/"
        },
        "id": "0LpT4PpL0EsT",
        "outputId": "4a517fb4-1f7a-4a63-db57-9cd913e1926a",
        "collapsed": true
      },
      "execution_count": null,
      "outputs": [
        {
          "output_type": "stream",
          "name": "stdout",
          "text": [
            "Requirement already satisfied: transformers in /usr/local/lib/python3.10/dist-packages (4.41.2)\n",
            "Requirement already satisfied: pandas in /usr/local/lib/python3.10/dist-packages (2.0.3)\n",
            "Requirement already satisfied: scikit-learn in /usr/local/lib/python3.10/dist-packages (1.2.2)\n",
            "Collecting accelerate\n",
            "  Downloading accelerate-0.32.1-py3-none-any.whl (314 kB)\n",
            "\u001b[2K     \u001b[90m━━━━━━━━━━━━━━━━━━━━━━━━━━━━━━━━━━━━━━━━\u001b[0m \u001b[32m314.1/314.1 kB\u001b[0m \u001b[31m2.6 MB/s\u001b[0m eta \u001b[36m0:00:00\u001b[0m\n",
            "\u001b[?25hCollecting emoji\n",
            "  Downloading emoji-2.12.1-py3-none-any.whl (431 kB)\n",
            "\u001b[2K     \u001b[90m━━━━━━━━━━━━━━━━━━━━━━━━━━━━━━━━━━━━━━━━\u001b[0m \u001b[32m431.4/431.4 kB\u001b[0m \u001b[31m24.3 MB/s\u001b[0m eta \u001b[36m0:00:00\u001b[0m\n",
            "\u001b[?25hRequirement already satisfied: filelock in /usr/local/lib/python3.10/dist-packages (from transformers) (3.15.4)\n",
            "Requirement already satisfied: huggingface-hub<1.0,>=0.23.0 in /usr/local/lib/python3.10/dist-packages (from transformers) (0.23.4)\n",
            "Requirement already satisfied: numpy>=1.17 in /usr/local/lib/python3.10/dist-packages (from transformers) (1.25.2)\n",
            "Requirement already satisfied: packaging>=20.0 in /usr/local/lib/python3.10/dist-packages (from transformers) (24.1)\n",
            "Requirement already satisfied: pyyaml>=5.1 in /usr/local/lib/python3.10/dist-packages (from transformers) (6.0.1)\n",
            "Requirement already satisfied: regex!=2019.12.17 in /usr/local/lib/python3.10/dist-packages (from transformers) (2024.5.15)\n",
            "Requirement already satisfied: requests in /usr/local/lib/python3.10/dist-packages (from transformers) (2.31.0)\n",
            "Requirement already satisfied: tokenizers<0.20,>=0.19 in /usr/local/lib/python3.10/dist-packages (from transformers) (0.19.1)\n",
            "Requirement already satisfied: safetensors>=0.4.1 in /usr/local/lib/python3.10/dist-packages (from transformers) (0.4.3)\n",
            "Requirement already satisfied: tqdm>=4.27 in /usr/local/lib/python3.10/dist-packages (from transformers) (4.66.4)\n",
            "Requirement already satisfied: python-dateutil>=2.8.2 in /usr/local/lib/python3.10/dist-packages (from pandas) (2.8.2)\n",
            "Requirement already satisfied: pytz>=2020.1 in /usr/local/lib/python3.10/dist-packages (from pandas) (2023.4)\n",
            "Requirement already satisfied: tzdata>=2022.1 in /usr/local/lib/python3.10/dist-packages (from pandas) (2024.1)\n",
            "Requirement already satisfied: scipy>=1.3.2 in /usr/local/lib/python3.10/dist-packages (from scikit-learn) (1.11.4)\n",
            "Requirement already satisfied: joblib>=1.1.1 in /usr/local/lib/python3.10/dist-packages (from scikit-learn) (1.4.2)\n",
            "Requirement already satisfied: threadpoolctl>=2.0.0 in /usr/local/lib/python3.10/dist-packages (from scikit-learn) (3.5.0)\n",
            "Requirement already satisfied: psutil in /usr/local/lib/python3.10/dist-packages (from accelerate) (5.9.5)\n",
            "Requirement already satisfied: torch>=1.10.0 in /usr/local/lib/python3.10/dist-packages (from accelerate) (2.3.0+cu121)\n",
            "Requirement already satisfied: typing-extensions>=4.7.0 in /usr/local/lib/python3.10/dist-packages (from emoji) (4.12.2)\n",
            "Requirement already satisfied: fsspec>=2023.5.0 in /usr/local/lib/python3.10/dist-packages (from huggingface-hub<1.0,>=0.23.0->transformers) (2023.6.0)\n",
            "Requirement already satisfied: six>=1.5 in /usr/local/lib/python3.10/dist-packages (from python-dateutil>=2.8.2->pandas) (1.16.0)\n",
            "Requirement already satisfied: sympy in /usr/local/lib/python3.10/dist-packages (from torch>=1.10.0->accelerate) (1.13.0)\n",
            "Requirement already satisfied: networkx in /usr/local/lib/python3.10/dist-packages (from torch>=1.10.0->accelerate) (3.3)\n",
            "Requirement already satisfied: jinja2 in /usr/local/lib/python3.10/dist-packages (from torch>=1.10.0->accelerate) (3.1.4)\n",
            "Collecting nvidia-cuda-nvrtc-cu12==12.1.105 (from torch>=1.10.0->accelerate)\n",
            "  Using cached nvidia_cuda_nvrtc_cu12-12.1.105-py3-none-manylinux1_x86_64.whl (23.7 MB)\n",
            "Collecting nvidia-cuda-runtime-cu12==12.1.105 (from torch>=1.10.0->accelerate)\n",
            "  Using cached nvidia_cuda_runtime_cu12-12.1.105-py3-none-manylinux1_x86_64.whl (823 kB)\n",
            "Collecting nvidia-cuda-cupti-cu12==12.1.105 (from torch>=1.10.0->accelerate)\n",
            "  Using cached nvidia_cuda_cupti_cu12-12.1.105-py3-none-manylinux1_x86_64.whl (14.1 MB)\n",
            "Collecting nvidia-cudnn-cu12==8.9.2.26 (from torch>=1.10.0->accelerate)\n",
            "  Using cached nvidia_cudnn_cu12-8.9.2.26-py3-none-manylinux1_x86_64.whl (731.7 MB)\n",
            "Collecting nvidia-cublas-cu12==12.1.3.1 (from torch>=1.10.0->accelerate)\n",
            "  Using cached nvidia_cublas_cu12-12.1.3.1-py3-none-manylinux1_x86_64.whl (410.6 MB)\n",
            "Collecting nvidia-cufft-cu12==11.0.2.54 (from torch>=1.10.0->accelerate)\n",
            "  Using cached nvidia_cufft_cu12-11.0.2.54-py3-none-manylinux1_x86_64.whl (121.6 MB)\n",
            "Collecting nvidia-curand-cu12==10.3.2.106 (from torch>=1.10.0->accelerate)\n",
            "  Using cached nvidia_curand_cu12-10.3.2.106-py3-none-manylinux1_x86_64.whl (56.5 MB)\n",
            "Collecting nvidia-cusolver-cu12==11.4.5.107 (from torch>=1.10.0->accelerate)\n",
            "  Using cached nvidia_cusolver_cu12-11.4.5.107-py3-none-manylinux1_x86_64.whl (124.2 MB)\n",
            "Collecting nvidia-cusparse-cu12==12.1.0.106 (from torch>=1.10.0->accelerate)\n",
            "  Using cached nvidia_cusparse_cu12-12.1.0.106-py3-none-manylinux1_x86_64.whl (196.0 MB)\n",
            "Collecting nvidia-nccl-cu12==2.20.5 (from torch>=1.10.0->accelerate)\n",
            "  Using cached nvidia_nccl_cu12-2.20.5-py3-none-manylinux2014_x86_64.whl (176.2 MB)\n",
            "Collecting nvidia-nvtx-cu12==12.1.105 (from torch>=1.10.0->accelerate)\n",
            "  Using cached nvidia_nvtx_cu12-12.1.105-py3-none-manylinux1_x86_64.whl (99 kB)\n",
            "Requirement already satisfied: triton==2.3.0 in /usr/local/lib/python3.10/dist-packages (from torch>=1.10.0->accelerate) (2.3.0)\n",
            "Collecting nvidia-nvjitlink-cu12 (from nvidia-cusolver-cu12==11.4.5.107->torch>=1.10.0->accelerate)\n",
            "  Downloading nvidia_nvjitlink_cu12-12.5.82-py3-none-manylinux2014_x86_64.whl (21.3 MB)\n",
            "\u001b[2K     \u001b[90m━━━━━━━━━━━━━━━━━━━━━━━━━━━━━━━━━━━━━━━━\u001b[0m \u001b[32m21.3/21.3 MB\u001b[0m \u001b[31m49.4 MB/s\u001b[0m eta \u001b[36m0:00:00\u001b[0m\n",
            "\u001b[?25hRequirement already satisfied: charset-normalizer<4,>=2 in /usr/local/lib/python3.10/dist-packages (from requests->transformers) (3.3.2)\n",
            "Requirement already satisfied: idna<4,>=2.5 in /usr/local/lib/python3.10/dist-packages (from requests->transformers) (3.7)\n",
            "Requirement already satisfied: urllib3<3,>=1.21.1 in /usr/local/lib/python3.10/dist-packages (from requests->transformers) (2.0.7)\n",
            "Requirement already satisfied: certifi>=2017.4.17 in /usr/local/lib/python3.10/dist-packages (from requests->transformers) (2024.7.4)\n",
            "Requirement already satisfied: MarkupSafe>=2.0 in /usr/local/lib/python3.10/dist-packages (from jinja2->torch>=1.10.0->accelerate) (2.1.5)\n",
            "Requirement already satisfied: mpmath<1.4,>=1.1.0 in /usr/local/lib/python3.10/dist-packages (from sympy->torch>=1.10.0->accelerate) (1.3.0)\n",
            "Installing collected packages: nvidia-nvtx-cu12, nvidia-nvjitlink-cu12, nvidia-nccl-cu12, nvidia-curand-cu12, nvidia-cufft-cu12, nvidia-cuda-runtime-cu12, nvidia-cuda-nvrtc-cu12, nvidia-cuda-cupti-cu12, nvidia-cublas-cu12, emoji, nvidia-cusparse-cu12, nvidia-cudnn-cu12, nvidia-cusolver-cu12, accelerate\n",
            "Successfully installed accelerate-0.32.1 emoji-2.12.1 nvidia-cublas-cu12-12.1.3.1 nvidia-cuda-cupti-cu12-12.1.105 nvidia-cuda-nvrtc-cu12-12.1.105 nvidia-cuda-runtime-cu12-12.1.105 nvidia-cudnn-cu12-8.9.2.26 nvidia-cufft-cu12-11.0.2.54 nvidia-curand-cu12-10.3.2.106 nvidia-cusolver-cu12-11.4.5.107 nvidia-cusparse-cu12-12.1.0.106 nvidia-nccl-cu12-2.20.5 nvidia-nvjitlink-cu12-12.5.82 nvidia-nvtx-cu12-12.1.105\n"
          ]
        }
      ]
    },
    {
      "cell_type": "code",
      "source": [
        "import os\n",
        "os.environ['CUDA_LAUNCH_BLOCKING'] = \"1\""
      ],
      "metadata": {
        "id": "YhzHXe8KQAzA"
      },
      "execution_count": null,
      "outputs": []
    },
    {
      "cell_type": "code",
      "source": [
        "import pandas as pd\n",
        "import torch\n",
        "from sklearn.model_selection import train_test_split\n",
        "from sklearn.utils.class_weight import compute_class_weight\n",
        "from torch.utils.data import Dataset\n",
        "from transformers import BertTokenizer, BertForSequenceClassification, Trainer, TrainingArguments\n",
        "from google.colab import drive\n",
        "import emoji"
      ],
      "metadata": {
        "id": "BwAGy1Ii4Dwk"
      },
      "execution_count": null,
      "outputs": []
    },
    {
      "cell_type": "code",
      "source": [
        "# Verificar si hay una GPU disponible y establecer el dispositivo\n",
        "device = torch.device(\"cuda\" if torch.cuda.is_available() else \"cpu\")\n",
        "print(f\"Usando dispositivo: {device}\")\n",
        "\n",
        "# Imprimir información sobre los dispositivos CUDA\n",
        "print(torch.cuda.is_available())\n",
        "print(torch.cuda.device_count())\n",
        "if torch.cuda.is_available():\n",
        "    print(torch.cuda.get_device_name(0))\n"
      ],
      "metadata": {
        "colab": {
          "base_uri": "https://localhost:8080/"
        },
        "id": "yjnHQUo7UbWc",
        "outputId": "0cf06f23-7b32-4210-fe2d-816edcb18759"
      },
      "execution_count": null,
      "outputs": [
        {
          "output_type": "stream",
          "name": "stdout",
          "text": [
            "Usando dispositivo: cuda\n",
            "True\n",
            "1\n",
            "Tesla T4\n"
          ]
        }
      ]
    },
    {
      "cell_type": "code",
      "source": [
        "_# ejecutar luego de subir archivo excel o tener vinculado Google Drive\n",
        "import os\n",
        "import pandas as pd\n",
        "from google.colab import drive\n",
        "\n",
        "if os.path.isfile(\"/content/mensajes_trabajo_final.xlsx\"):\n",
        "  data = pd.read_excel(\"/content/mensajes_trabajo_final.xlsx\")\n",
        "else:\n",
        "  # Montar Google Drive\n",
        "  drive.mount('/content/drive')\n",
        "\n",
        "  # Cambia el path al archivo que hayas subido a tu Google Drive\n",
        "  file_path = '/content/drive/MyDrive/UCU-NLP/mensajes_preprocesados.csv'\n",
        "\n",
        "  # Cargar el archivo Excel\n",
        "  data = pd.read_csv(file_path)\n",
        "\n",
        "print(\"Datos cargados\")"
      ],
      "metadata": {
        "colab": {
          "base_uri": "https://localhost:8080/"
        },
        "id": "oxgnILgKoXiu",
        "outputId": "4a965c2c-fedc-4686-baac-973b3565da66"
      },
      "execution_count": null,
      "outputs": [
        {
          "output_type": "stream",
          "name": "stdout",
          "text": [
            "Drive already mounted at /content/drive; to attempt to forcibly remount, call drive.mount(\"/content/drive\", force_remount=True).\n",
            "Datos cargados\n"
          ]
        }
      ]
    },
    {
      "cell_type": "code",
      "source": [
        "# Cargar el archivo csv\n",
        "data = pd.read_csv(file_path)\n"
      ],
      "metadata": {
        "id": "es5cmzEEelFc"
      },
      "execution_count": null,
      "outputs": []
    },
    {
      "cell_type": "code",
      "source": [
        "# Seleccionar las columnas relevantes\n",
        "data = data[['enviado','recibido', 'sin_stop_words_significado_emoticones','clase']]\n",
        "\n",
        "# Mostrar las primeras filas del archivo\n",
        "print(data.head())"
      ],
      "metadata": {
        "colab": {
          "base_uri": "https://localhost:8080/"
        },
        "id": "ljLxBIRnv-Q2",
        "outputId": "84519466-01a4-4c56-ee35-db2df35778bd"
      },
      "execution_count": null,
      "outputs": [
        {
          "output_type": "stream",
          "name": "stdout",
          "text": [
            "                                             enviado  \\\n",
            "0   ¡Limpiar la casa, subir escaleras, trabajar e...   \n",
            "1   ¡Limpiar la casa, subir escaleras, trabajar e...   \n",
            "2   ¡Limpiar la casa, subir escaleras, trabajar e...   \n",
            "3   ¡Limpiar la casa, subir escaleras, trabajar e...   \n",
            "4   ¡Limpiar la casa, subir escaleras, trabajar e...   \n",
            "\n",
            "                                            recibido  \\\n",
            "0                                               👍🏽🫶🏽   \n",
            "1                                           Hola....   \n",
            "2                                       👏🏻👏🏻 gracias   \n",
            "3                                            Gracias   \n",
            "4  Hola .. si suele..cuando me...desvelo..o de ta...   \n",
            "\n",
            "  sin_stop_words_significado_emoticones                           clase  \n",
            "0                     aprobación afecto                  agradecimiento  \n",
            "1                                  hola                          saludo  \n",
            "2             aplausos aplausos gracias                  agradecimiento  \n",
            "3                               gracias                  agradecimiento  \n",
            "4    hola si suele cuando desvelo tarde  respuesta a consejo o pregunta  \n"
          ]
        }
      ]
    },
    {
      "cell_type": "code",
      "source": [
        "# unir enviado con recibido\n",
        "#data['recibido_original'] = data['recibido']\n",
        "data['recibido'] = data['enviado'] + \" | \" + data['sin_stop_words_significado_emoticones'].astype(str)\n",
        "#data['recibido'] = data['enviado'] + \" | \" + data['recibido'].astype(str)"
      ],
      "metadata": {
        "id": "f1jz2vhllCuF"
      },
      "execution_count": null,
      "outputs": []
    },
    {
      "cell_type": "code",
      "source": [
        "# Seleccionar las columnas relevantes\n",
        "data = data[[ 'recibido',  'clase']]"
      ],
      "metadata": {
        "id": "216qCcFsdCNB"
      },
      "execution_count": null,
      "outputs": []
    },
    {
      "cell_type": "code",
      "source": [
        "print(data.head())"
      ],
      "metadata": {
        "colab": {
          "base_uri": "https://localhost:8080/"
        },
        "id": "iD3tMQlBlquw",
        "outputId": "58158dcc-be8a-4c47-b41b-5297742ab274"
      },
      "execution_count": null,
      "outputs": [
        {
          "output_type": "stream",
          "name": "stdout",
          "text": [
            "                                             enviado  \\\n",
            "0   ¡Limpiar la casa, subir escaleras, trabajar e...   \n",
            "1   ¡Limpiar la casa, subir escaleras, trabajar e...   \n",
            "2   ¡Limpiar la casa, subir escaleras, trabajar e...   \n",
            "3   ¡Limpiar la casa, subir escaleras, trabajar e...   \n",
            "4   ¡Limpiar la casa, subir escaleras, trabajar e...   \n",
            "\n",
            "                                            recibido                    clase  \n",
            "0   ¡Limpiar la casa, subir escaleras, trabajar e...  agradecimiento o saludo  \n",
            "1   ¡Limpiar la casa, subir escaleras, trabajar e...  agradecimiento o saludo  \n",
            "2   ¡Limpiar la casa, subir escaleras, trabajar e...  agradecimiento o saludo  \n",
            "3   ¡Limpiar la casa, subir escaleras, trabajar e...  agradecimiento o saludo  \n",
            "4   ¡Limpiar la casa, subir escaleras, trabajar e...                respuesta  \n"
          ]
        }
      ]
    },
    {
      "cell_type": "code",
      "source": [
        "# agrupar clases\n",
        "\n",
        "data.loc[data['clase'] == 'agradecimiento', 'clase'] = 'agradecimiento o saludo'\n",
        "data.loc[data['clase'] == 'saludo', 'clase'] = 'agradecimiento o saludo'\n",
        "data.loc[data['clase'] == 'medicación', 'clase'] = 'medicación o turno'\n",
        "data.loc[data['clase'] == 'turno', 'clase'] = 'medicación o turno'\n",
        "data.loc[data['clase'] == 'queja', 'clase'] = 'otros'\n",
        "data.loc[data['clase'] == 'pregunta', 'clase'] = 'otros'\n",
        "data.loc[data['clase'] == 'respuesta a consejo o pregunta', 'clase'] = 'respuesta'"
      ],
      "metadata": {
        "id": "4WdKdxRhoqZd"
      },
      "execution_count": null,
      "outputs": []
    },
    {
      "cell_type": "code",
      "source": [
        "# Convertir etiquetas de clase a representación numérica (suponiendo que son cadenas)\n",
        "data['clase'] = data['clase'].astype('category')\n",
        "data['clases_cat'] = data['clase'].cat.codes"
      ],
      "metadata": {
        "id": "tqZ676TS7enH"
      },
      "execution_count": null,
      "outputs": []
    },
    {
      "cell_type": "code",
      "source": [],
      "metadata": {
        "id": "Ednm_oC8B3At"
      },
      "execution_count": null,
      "outputs": []
    },
    {
      "cell_type": "code",
      "source": [
        "data.head()"
      ],
      "metadata": {
        "colab": {
          "base_uri": "https://localhost:8080/",
          "height": 206
        },
        "id": "UOmlbTBj7loe",
        "outputId": "f518f3ba-a9d5-48f6-c473-6489b67743e9"
      },
      "execution_count": null,
      "outputs": [
        {
          "output_type": "execute_result",
          "data": {
            "text/plain": [
              "                                            recibido                    clase  \\\n",
              "0   ¡Limpiar la casa, subir escaleras, trabajar e...  agradecimiento o saludo   \n",
              "1   ¡Limpiar la casa, subir escaleras, trabajar e...  agradecimiento o saludo   \n",
              "2   ¡Limpiar la casa, subir escaleras, trabajar e...  agradecimiento o saludo   \n",
              "3   ¡Limpiar la casa, subir escaleras, trabajar e...  agradecimiento o saludo   \n",
              "4   ¡Limpiar la casa, subir escaleras, trabajar e...                respuesta   \n",
              "\n",
              "   clases_cat  \n",
              "0           0  \n",
              "1           0  \n",
              "2           0  \n",
              "3           0  \n",
              "4           8  "
            ],
            "text/html": [
              "\n",
              "  <div id=\"df-aab7babd-7dc7-40f4-b98a-8bf781e3062b\" class=\"colab-df-container\">\n",
              "    <div>\n",
              "<style scoped>\n",
              "    .dataframe tbody tr th:only-of-type {\n",
              "        vertical-align: middle;\n",
              "    }\n",
              "\n",
              "    .dataframe tbody tr th {\n",
              "        vertical-align: top;\n",
              "    }\n",
              "\n",
              "    .dataframe thead th {\n",
              "        text-align: right;\n",
              "    }\n",
              "</style>\n",
              "<table border=\"1\" class=\"dataframe\">\n",
              "  <thead>\n",
              "    <tr style=\"text-align: right;\">\n",
              "      <th></th>\n",
              "      <th>recibido</th>\n",
              "      <th>clase</th>\n",
              "      <th>clases_cat</th>\n",
              "    </tr>\n",
              "  </thead>\n",
              "  <tbody>\n",
              "    <tr>\n",
              "      <th>0</th>\n",
              "      <td>¡Limpiar la casa, subir escaleras, trabajar e...</td>\n",
              "      <td>agradecimiento o saludo</td>\n",
              "      <td>0</td>\n",
              "    </tr>\n",
              "    <tr>\n",
              "      <th>1</th>\n",
              "      <td>¡Limpiar la casa, subir escaleras, trabajar e...</td>\n",
              "      <td>agradecimiento o saludo</td>\n",
              "      <td>0</td>\n",
              "    </tr>\n",
              "    <tr>\n",
              "      <th>2</th>\n",
              "      <td>¡Limpiar la casa, subir escaleras, trabajar e...</td>\n",
              "      <td>agradecimiento o saludo</td>\n",
              "      <td>0</td>\n",
              "    </tr>\n",
              "    <tr>\n",
              "      <th>3</th>\n",
              "      <td>¡Limpiar la casa, subir escaleras, trabajar e...</td>\n",
              "      <td>agradecimiento o saludo</td>\n",
              "      <td>0</td>\n",
              "    </tr>\n",
              "    <tr>\n",
              "      <th>4</th>\n",
              "      <td>¡Limpiar la casa, subir escaleras, trabajar e...</td>\n",
              "      <td>respuesta</td>\n",
              "      <td>8</td>\n",
              "    </tr>\n",
              "  </tbody>\n",
              "</table>\n",
              "</div>\n",
              "    <div class=\"colab-df-buttons\">\n",
              "\n",
              "  <div class=\"colab-df-container\">\n",
              "    <button class=\"colab-df-convert\" onclick=\"convertToInteractive('df-aab7babd-7dc7-40f4-b98a-8bf781e3062b')\"\n",
              "            title=\"Convert this dataframe to an interactive table.\"\n",
              "            style=\"display:none;\">\n",
              "\n",
              "  <svg xmlns=\"http://www.w3.org/2000/svg\" height=\"24px\" viewBox=\"0 -960 960 960\">\n",
              "    <path d=\"M120-120v-720h720v720H120Zm60-500h600v-160H180v160Zm220 220h160v-160H400v160Zm0 220h160v-160H400v160ZM180-400h160v-160H180v160Zm440 0h160v-160H620v160ZM180-180h160v-160H180v160Zm440 0h160v-160H620v160Z\"/>\n",
              "  </svg>\n",
              "    </button>\n",
              "\n",
              "  <style>\n",
              "    .colab-df-container {\n",
              "      display:flex;\n",
              "      gap: 12px;\n",
              "    }\n",
              "\n",
              "    .colab-df-convert {\n",
              "      background-color: #E8F0FE;\n",
              "      border: none;\n",
              "      border-radius: 50%;\n",
              "      cursor: pointer;\n",
              "      display: none;\n",
              "      fill: #1967D2;\n",
              "      height: 32px;\n",
              "      padding: 0 0 0 0;\n",
              "      width: 32px;\n",
              "    }\n",
              "\n",
              "    .colab-df-convert:hover {\n",
              "      background-color: #E2EBFA;\n",
              "      box-shadow: 0px 1px 2px rgba(60, 64, 67, 0.3), 0px 1px 3px 1px rgba(60, 64, 67, 0.15);\n",
              "      fill: #174EA6;\n",
              "    }\n",
              "\n",
              "    .colab-df-buttons div {\n",
              "      margin-bottom: 4px;\n",
              "    }\n",
              "\n",
              "    [theme=dark] .colab-df-convert {\n",
              "      background-color: #3B4455;\n",
              "      fill: #D2E3FC;\n",
              "    }\n",
              "\n",
              "    [theme=dark] .colab-df-convert:hover {\n",
              "      background-color: #434B5C;\n",
              "      box-shadow: 0px 1px 3px 1px rgba(0, 0, 0, 0.15);\n",
              "      filter: drop-shadow(0px 1px 2px rgba(0, 0, 0, 0.3));\n",
              "      fill: #FFFFFF;\n",
              "    }\n",
              "  </style>\n",
              "\n",
              "    <script>\n",
              "      const buttonEl =\n",
              "        document.querySelector('#df-aab7babd-7dc7-40f4-b98a-8bf781e3062b button.colab-df-convert');\n",
              "      buttonEl.style.display =\n",
              "        google.colab.kernel.accessAllowed ? 'block' : 'none';\n",
              "\n",
              "      async function convertToInteractive(key) {\n",
              "        const element = document.querySelector('#df-aab7babd-7dc7-40f4-b98a-8bf781e3062b');\n",
              "        const dataTable =\n",
              "          await google.colab.kernel.invokeFunction('convertToInteractive',\n",
              "                                                    [key], {});\n",
              "        if (!dataTable) return;\n",
              "\n",
              "        const docLinkHtml = 'Like what you see? Visit the ' +\n",
              "          '<a target=\"_blank\" href=https://colab.research.google.com/notebooks/data_table.ipynb>data table notebook</a>'\n",
              "          + ' to learn more about interactive tables.';\n",
              "        element.innerHTML = '';\n",
              "        dataTable['output_type'] = 'display_data';\n",
              "        await google.colab.output.renderOutput(dataTable, element);\n",
              "        const docLink = document.createElement('div');\n",
              "        docLink.innerHTML = docLinkHtml;\n",
              "        element.appendChild(docLink);\n",
              "      }\n",
              "    </script>\n",
              "  </div>\n",
              "\n",
              "\n",
              "<div id=\"df-188b1704-a1ef-43fc-a4f4-f26d18d466b4\">\n",
              "  <button class=\"colab-df-quickchart\" onclick=\"quickchart('df-188b1704-a1ef-43fc-a4f4-f26d18d466b4')\"\n",
              "            title=\"Suggest charts\"\n",
              "            style=\"display:none;\">\n",
              "\n",
              "<svg xmlns=\"http://www.w3.org/2000/svg\" height=\"24px\"viewBox=\"0 0 24 24\"\n",
              "     width=\"24px\">\n",
              "    <g>\n",
              "        <path d=\"M19 3H5c-1.1 0-2 .9-2 2v14c0 1.1.9 2 2 2h14c1.1 0 2-.9 2-2V5c0-1.1-.9-2-2-2zM9 17H7v-7h2v7zm4 0h-2V7h2v10zm4 0h-2v-4h2v4z\"/>\n",
              "    </g>\n",
              "</svg>\n",
              "  </button>\n",
              "\n",
              "<style>\n",
              "  .colab-df-quickchart {\n",
              "      --bg-color: #E8F0FE;\n",
              "      --fill-color: #1967D2;\n",
              "      --hover-bg-color: #E2EBFA;\n",
              "      --hover-fill-color: #174EA6;\n",
              "      --disabled-fill-color: #AAA;\n",
              "      --disabled-bg-color: #DDD;\n",
              "  }\n",
              "\n",
              "  [theme=dark] .colab-df-quickchart {\n",
              "      --bg-color: #3B4455;\n",
              "      --fill-color: #D2E3FC;\n",
              "      --hover-bg-color: #434B5C;\n",
              "      --hover-fill-color: #FFFFFF;\n",
              "      --disabled-bg-color: #3B4455;\n",
              "      --disabled-fill-color: #666;\n",
              "  }\n",
              "\n",
              "  .colab-df-quickchart {\n",
              "    background-color: var(--bg-color);\n",
              "    border: none;\n",
              "    border-radius: 50%;\n",
              "    cursor: pointer;\n",
              "    display: none;\n",
              "    fill: var(--fill-color);\n",
              "    height: 32px;\n",
              "    padding: 0;\n",
              "    width: 32px;\n",
              "  }\n",
              "\n",
              "  .colab-df-quickchart:hover {\n",
              "    background-color: var(--hover-bg-color);\n",
              "    box-shadow: 0 1px 2px rgba(60, 64, 67, 0.3), 0 1px 3px 1px rgba(60, 64, 67, 0.15);\n",
              "    fill: var(--button-hover-fill-color);\n",
              "  }\n",
              "\n",
              "  .colab-df-quickchart-complete:disabled,\n",
              "  .colab-df-quickchart-complete:disabled:hover {\n",
              "    background-color: var(--disabled-bg-color);\n",
              "    fill: var(--disabled-fill-color);\n",
              "    box-shadow: none;\n",
              "  }\n",
              "\n",
              "  .colab-df-spinner {\n",
              "    border: 2px solid var(--fill-color);\n",
              "    border-color: transparent;\n",
              "    border-bottom-color: var(--fill-color);\n",
              "    animation:\n",
              "      spin 1s steps(1) infinite;\n",
              "  }\n",
              "\n",
              "  @keyframes spin {\n",
              "    0% {\n",
              "      border-color: transparent;\n",
              "      border-bottom-color: var(--fill-color);\n",
              "      border-left-color: var(--fill-color);\n",
              "    }\n",
              "    20% {\n",
              "      border-color: transparent;\n",
              "      border-left-color: var(--fill-color);\n",
              "      border-top-color: var(--fill-color);\n",
              "    }\n",
              "    30% {\n",
              "      border-color: transparent;\n",
              "      border-left-color: var(--fill-color);\n",
              "      border-top-color: var(--fill-color);\n",
              "      border-right-color: var(--fill-color);\n",
              "    }\n",
              "    40% {\n",
              "      border-color: transparent;\n",
              "      border-right-color: var(--fill-color);\n",
              "      border-top-color: var(--fill-color);\n",
              "    }\n",
              "    60% {\n",
              "      border-color: transparent;\n",
              "      border-right-color: var(--fill-color);\n",
              "    }\n",
              "    80% {\n",
              "      border-color: transparent;\n",
              "      border-right-color: var(--fill-color);\n",
              "      border-bottom-color: var(--fill-color);\n",
              "    }\n",
              "    90% {\n",
              "      border-color: transparent;\n",
              "      border-bottom-color: var(--fill-color);\n",
              "    }\n",
              "  }\n",
              "</style>\n",
              "\n",
              "  <script>\n",
              "    async function quickchart(key) {\n",
              "      const quickchartButtonEl =\n",
              "        document.querySelector('#' + key + ' button');\n",
              "      quickchartButtonEl.disabled = true;  // To prevent multiple clicks.\n",
              "      quickchartButtonEl.classList.add('colab-df-spinner');\n",
              "      try {\n",
              "        const charts = await google.colab.kernel.invokeFunction(\n",
              "            'suggestCharts', [key], {});\n",
              "      } catch (error) {\n",
              "        console.error('Error during call to suggestCharts:', error);\n",
              "      }\n",
              "      quickchartButtonEl.classList.remove('colab-df-spinner');\n",
              "      quickchartButtonEl.classList.add('colab-df-quickchart-complete');\n",
              "    }\n",
              "    (() => {\n",
              "      let quickchartButtonEl =\n",
              "        document.querySelector('#df-188b1704-a1ef-43fc-a4f4-f26d18d466b4 button');\n",
              "      quickchartButtonEl.style.display =\n",
              "        google.colab.kernel.accessAllowed ? 'block' : 'none';\n",
              "    })();\n",
              "  </script>\n",
              "</div>\n",
              "\n",
              "    </div>\n",
              "  </div>\n"
            ],
            "application/vnd.google.colaboratory.intrinsic+json": {
              "type": "dataframe",
              "variable_name": "data",
              "summary": "{\n  \"name\": \"data\",\n  \"rows\": 7050,\n  \"fields\": [\n    {\n      \"column\": \"recibido\",\n      \"properties\": {\n        \"dtype\": \"string\",\n        \"num_unique_values\": 4141,\n        \"samples\": [\n          \" Si sos diab\\u00e9tico ten\\u00e9s que hacerte un fondo de ojo todos los a\\u00f1os. \\u00bfCu\\u00e1ndo fue la \\u00faltima vez que visitaste al oculista? | a\\u00f1o pasado\",\n          \" Se puede llevar una vida normal teniendo DIABETES. S\\u00f3lo es necesario comer sano, hacer ejercicios habitualmente y tomar los medicamentos que te da el m\\u00e9dico. | si gracias\",\n          \" Las metas son algo que deseamos, planeamos y nos comprometemos a hacer. Es importante pensar nuestras metas antes de pensar un cambio de h\\u00e1bito. \\u00bfPensaste alguna vez en qu\\u00e9 metas quer\\u00e9s cumplir? | si meta principal tengo tres ni\\u00f1as chicas chiquita 2 a\\u00f1os sigue 7 a\\u00f1os grande 12 a\\u00f1os meta quiero verlas todas bien d\\u00eda ma\\u00f1ana grandes estudiadas entiende gracias meta\"\n        ],\n        \"semantic_type\": \"\",\n        \"description\": \"\"\n      }\n    },\n    {\n      \"column\": \"clase\",\n      \"properties\": {\n        \"dtype\": \"category\",\n        \"num_unique_values\": 9,\n        \"samples\": [\n          \"autorespuesta\",\n          \"respuesta\",\n          \"optin\"\n        ],\n        \"semantic_type\": \"\",\n        \"description\": \"\"\n      }\n    },\n    {\n      \"column\": \"clases_cat\",\n      \"properties\": {\n        \"dtype\": \"int8\",\n        \"num_unique_values\": 10,\n        \"samples\": [\n          1,\n          8,\n          6\n        ],\n        \"semantic_type\": \"\",\n        \"description\": \"\"\n      }\n    }\n  ]\n}"
            }
          },
          "metadata": {},
          "execution_count": 75
        }
      ]
    },
    {
      "cell_type": "code",
      "source": [
        "import torch\n",
        "\n",
        "if torch.cuda.is_available():\n",
        "    device = torch.device(\"cuda\")\n",
        "    print(\"GPU está disponible y se usará.\")\n",
        "else:\n",
        "  device = torch.device(\"cpu\")\n",
        "  print(\"GPU no está disponible, se usará la CPU.\")\n"
      ],
      "metadata": {
        "colab": {
          "base_uri": "https://localhost:8080/"
        },
        "id": "liCrBiOjvapp",
        "outputId": "824d13c2-738b-4c1c-9f0e-1cde2d8c54f3"
      },
      "execution_count": null,
      "outputs": [
        {
          "output_type": "stream",
          "name": "stdout",
          "text": [
            "GPU está disponible y se usará.\n"
          ]
        }
      ]
    },
    {
      "cell_type": "code",
      "source": [
        "## Aplicar la conversión de emoticones a la columna 'recibido'\n",
        "#data['recibido'] = data['recibido'].apply(convertir_emoticones)\n",
        "\n",
        "# Convertir etiquetas de clase a representación numérica (suponiendo que son cadenas)\n",
        "#data['clase'] = data['clase'].astype('category')\n",
        "#data['clases_cat'] = data['clase'].cat.codes\n",
        "\n",
        "# Filtrar las filas con etiquetas inválidas\n",
        "data = data[data['clases_cat'] >= 0]\n",
        "\n",
        "# Verificar que todas las etiquetas estén en el rango correcto\n",
        "num_labels = len(data['clase'].unique())\n",
        "print(f\"Numero de etiquetas: {num_labels}\")\n",
        "print(f\"Etiquetas unicas: {data['clases_cat'].unique()}\")\n",
        "assert data['clases_cat'].min() >= 0 and data['clases_cat'].max() < num_labels"
      ],
      "metadata": {
        "colab": {
          "base_uri": "https://localhost:8080/"
        },
        "id": "vFCl5PVaGoMk",
        "outputId": "2537a49d-9dee-4a34-97e0-839f862cfcfd"
      },
      "execution_count": null,
      "outputs": [
        {
          "output_type": "stream",
          "name": "stdout",
          "text": [
            "Numero de etiquetas: 9\n",
            "Etiquetas unicas: [0 8 2 3 7 6 5 1 4]\n"
          ]
        }
      ]
    },
    {
      "cell_type": "code",
      "source": [
        "# Seleccionar las columnas relevantes\n",
        "data = data[[ 'recibido',  'clase','clases_cat']]"
      ],
      "metadata": {
        "id": "CjBepBI0d1VT"
      },
      "execution_count": null,
      "outputs": []
    },
    {
      "cell_type": "code",
      "source": [],
      "metadata": {
        "id": "GbOt7lP-d1TN"
      },
      "execution_count": null,
      "outputs": []
    },
    {
      "cell_type": "code",
      "source": [
        "data.head()"
      ],
      "metadata": {
        "colab": {
          "base_uri": "https://localhost:8080/",
          "height": 206
        },
        "id": "GLeLQhzUaGEt",
        "outputId": "f7f0eee5-7348-4bf3-e49e-f960950f2d5a"
      },
      "execution_count": null,
      "outputs": [
        {
          "output_type": "execute_result",
          "data": {
            "text/plain": [
              "                                            recibido                    clase  \\\n",
              "0   ¡Limpiar la casa, subir escaleras, trabajar e...  agradecimiento o saludo   \n",
              "1   ¡Limpiar la casa, subir escaleras, trabajar e...  agradecimiento o saludo   \n",
              "2   ¡Limpiar la casa, subir escaleras, trabajar e...  agradecimiento o saludo   \n",
              "3   ¡Limpiar la casa, subir escaleras, trabajar e...  agradecimiento o saludo   \n",
              "4   ¡Limpiar la casa, subir escaleras, trabajar e...                respuesta   \n",
              "\n",
              "   clases_cat  \n",
              "0           0  \n",
              "1           0  \n",
              "2           0  \n",
              "3           0  \n",
              "4           8  "
            ],
            "text/html": [
              "\n",
              "  <div id=\"df-cd2fbc68-a96f-4f55-90d3-00a7172b5c4d\" class=\"colab-df-container\">\n",
              "    <div>\n",
              "<style scoped>\n",
              "    .dataframe tbody tr th:only-of-type {\n",
              "        vertical-align: middle;\n",
              "    }\n",
              "\n",
              "    .dataframe tbody tr th {\n",
              "        vertical-align: top;\n",
              "    }\n",
              "\n",
              "    .dataframe thead th {\n",
              "        text-align: right;\n",
              "    }\n",
              "</style>\n",
              "<table border=\"1\" class=\"dataframe\">\n",
              "  <thead>\n",
              "    <tr style=\"text-align: right;\">\n",
              "      <th></th>\n",
              "      <th>recibido</th>\n",
              "      <th>clase</th>\n",
              "      <th>clases_cat</th>\n",
              "    </tr>\n",
              "  </thead>\n",
              "  <tbody>\n",
              "    <tr>\n",
              "      <th>0</th>\n",
              "      <td>¡Limpiar la casa, subir escaleras, trabajar e...</td>\n",
              "      <td>agradecimiento o saludo</td>\n",
              "      <td>0</td>\n",
              "    </tr>\n",
              "    <tr>\n",
              "      <th>1</th>\n",
              "      <td>¡Limpiar la casa, subir escaleras, trabajar e...</td>\n",
              "      <td>agradecimiento o saludo</td>\n",
              "      <td>0</td>\n",
              "    </tr>\n",
              "    <tr>\n",
              "      <th>2</th>\n",
              "      <td>¡Limpiar la casa, subir escaleras, trabajar e...</td>\n",
              "      <td>agradecimiento o saludo</td>\n",
              "      <td>0</td>\n",
              "    </tr>\n",
              "    <tr>\n",
              "      <th>3</th>\n",
              "      <td>¡Limpiar la casa, subir escaleras, trabajar e...</td>\n",
              "      <td>agradecimiento o saludo</td>\n",
              "      <td>0</td>\n",
              "    </tr>\n",
              "    <tr>\n",
              "      <th>4</th>\n",
              "      <td>¡Limpiar la casa, subir escaleras, trabajar e...</td>\n",
              "      <td>respuesta</td>\n",
              "      <td>8</td>\n",
              "    </tr>\n",
              "  </tbody>\n",
              "</table>\n",
              "</div>\n",
              "    <div class=\"colab-df-buttons\">\n",
              "\n",
              "  <div class=\"colab-df-container\">\n",
              "    <button class=\"colab-df-convert\" onclick=\"convertToInteractive('df-cd2fbc68-a96f-4f55-90d3-00a7172b5c4d')\"\n",
              "            title=\"Convert this dataframe to an interactive table.\"\n",
              "            style=\"display:none;\">\n",
              "\n",
              "  <svg xmlns=\"http://www.w3.org/2000/svg\" height=\"24px\" viewBox=\"0 -960 960 960\">\n",
              "    <path d=\"M120-120v-720h720v720H120Zm60-500h600v-160H180v160Zm220 220h160v-160H400v160Zm0 220h160v-160H400v160ZM180-400h160v-160H180v160Zm440 0h160v-160H620v160ZM180-180h160v-160H180v160Zm440 0h160v-160H620v160Z\"/>\n",
              "  </svg>\n",
              "    </button>\n",
              "\n",
              "  <style>\n",
              "    .colab-df-container {\n",
              "      display:flex;\n",
              "      gap: 12px;\n",
              "    }\n",
              "\n",
              "    .colab-df-convert {\n",
              "      background-color: #E8F0FE;\n",
              "      border: none;\n",
              "      border-radius: 50%;\n",
              "      cursor: pointer;\n",
              "      display: none;\n",
              "      fill: #1967D2;\n",
              "      height: 32px;\n",
              "      padding: 0 0 0 0;\n",
              "      width: 32px;\n",
              "    }\n",
              "\n",
              "    .colab-df-convert:hover {\n",
              "      background-color: #E2EBFA;\n",
              "      box-shadow: 0px 1px 2px rgba(60, 64, 67, 0.3), 0px 1px 3px 1px rgba(60, 64, 67, 0.15);\n",
              "      fill: #174EA6;\n",
              "    }\n",
              "\n",
              "    .colab-df-buttons div {\n",
              "      margin-bottom: 4px;\n",
              "    }\n",
              "\n",
              "    [theme=dark] .colab-df-convert {\n",
              "      background-color: #3B4455;\n",
              "      fill: #D2E3FC;\n",
              "    }\n",
              "\n",
              "    [theme=dark] .colab-df-convert:hover {\n",
              "      background-color: #434B5C;\n",
              "      box-shadow: 0px 1px 3px 1px rgba(0, 0, 0, 0.15);\n",
              "      filter: drop-shadow(0px 1px 2px rgba(0, 0, 0, 0.3));\n",
              "      fill: #FFFFFF;\n",
              "    }\n",
              "  </style>\n",
              "\n",
              "    <script>\n",
              "      const buttonEl =\n",
              "        document.querySelector('#df-cd2fbc68-a96f-4f55-90d3-00a7172b5c4d button.colab-df-convert');\n",
              "      buttonEl.style.display =\n",
              "        google.colab.kernel.accessAllowed ? 'block' : 'none';\n",
              "\n",
              "      async function convertToInteractive(key) {\n",
              "        const element = document.querySelector('#df-cd2fbc68-a96f-4f55-90d3-00a7172b5c4d');\n",
              "        const dataTable =\n",
              "          await google.colab.kernel.invokeFunction('convertToInteractive',\n",
              "                                                    [key], {});\n",
              "        if (!dataTable) return;\n",
              "\n",
              "        const docLinkHtml = 'Like what you see? Visit the ' +\n",
              "          '<a target=\"_blank\" href=https://colab.research.google.com/notebooks/data_table.ipynb>data table notebook</a>'\n",
              "          + ' to learn more about interactive tables.';\n",
              "        element.innerHTML = '';\n",
              "        dataTable['output_type'] = 'display_data';\n",
              "        await google.colab.output.renderOutput(dataTable, element);\n",
              "        const docLink = document.createElement('div');\n",
              "        docLink.innerHTML = docLinkHtml;\n",
              "        element.appendChild(docLink);\n",
              "      }\n",
              "    </script>\n",
              "  </div>\n",
              "\n",
              "\n",
              "<div id=\"df-ea029345-21ab-40e1-b46b-0d488bd90ef3\">\n",
              "  <button class=\"colab-df-quickchart\" onclick=\"quickchart('df-ea029345-21ab-40e1-b46b-0d488bd90ef3')\"\n",
              "            title=\"Suggest charts\"\n",
              "            style=\"display:none;\">\n",
              "\n",
              "<svg xmlns=\"http://www.w3.org/2000/svg\" height=\"24px\"viewBox=\"0 0 24 24\"\n",
              "     width=\"24px\">\n",
              "    <g>\n",
              "        <path d=\"M19 3H5c-1.1 0-2 .9-2 2v14c0 1.1.9 2 2 2h14c1.1 0 2-.9 2-2V5c0-1.1-.9-2-2-2zM9 17H7v-7h2v7zm4 0h-2V7h2v10zm4 0h-2v-4h2v4z\"/>\n",
              "    </g>\n",
              "</svg>\n",
              "  </button>\n",
              "\n",
              "<style>\n",
              "  .colab-df-quickchart {\n",
              "      --bg-color: #E8F0FE;\n",
              "      --fill-color: #1967D2;\n",
              "      --hover-bg-color: #E2EBFA;\n",
              "      --hover-fill-color: #174EA6;\n",
              "      --disabled-fill-color: #AAA;\n",
              "      --disabled-bg-color: #DDD;\n",
              "  }\n",
              "\n",
              "  [theme=dark] .colab-df-quickchart {\n",
              "      --bg-color: #3B4455;\n",
              "      --fill-color: #D2E3FC;\n",
              "      --hover-bg-color: #434B5C;\n",
              "      --hover-fill-color: #FFFFFF;\n",
              "      --disabled-bg-color: #3B4455;\n",
              "      --disabled-fill-color: #666;\n",
              "  }\n",
              "\n",
              "  .colab-df-quickchart {\n",
              "    background-color: var(--bg-color);\n",
              "    border: none;\n",
              "    border-radius: 50%;\n",
              "    cursor: pointer;\n",
              "    display: none;\n",
              "    fill: var(--fill-color);\n",
              "    height: 32px;\n",
              "    padding: 0;\n",
              "    width: 32px;\n",
              "  }\n",
              "\n",
              "  .colab-df-quickchart:hover {\n",
              "    background-color: var(--hover-bg-color);\n",
              "    box-shadow: 0 1px 2px rgba(60, 64, 67, 0.3), 0 1px 3px 1px rgba(60, 64, 67, 0.15);\n",
              "    fill: var(--button-hover-fill-color);\n",
              "  }\n",
              "\n",
              "  .colab-df-quickchart-complete:disabled,\n",
              "  .colab-df-quickchart-complete:disabled:hover {\n",
              "    background-color: var(--disabled-bg-color);\n",
              "    fill: var(--disabled-fill-color);\n",
              "    box-shadow: none;\n",
              "  }\n",
              "\n",
              "  .colab-df-spinner {\n",
              "    border: 2px solid var(--fill-color);\n",
              "    border-color: transparent;\n",
              "    border-bottom-color: var(--fill-color);\n",
              "    animation:\n",
              "      spin 1s steps(1) infinite;\n",
              "  }\n",
              "\n",
              "  @keyframes spin {\n",
              "    0% {\n",
              "      border-color: transparent;\n",
              "      border-bottom-color: var(--fill-color);\n",
              "      border-left-color: var(--fill-color);\n",
              "    }\n",
              "    20% {\n",
              "      border-color: transparent;\n",
              "      border-left-color: var(--fill-color);\n",
              "      border-top-color: var(--fill-color);\n",
              "    }\n",
              "    30% {\n",
              "      border-color: transparent;\n",
              "      border-left-color: var(--fill-color);\n",
              "      border-top-color: var(--fill-color);\n",
              "      border-right-color: var(--fill-color);\n",
              "    }\n",
              "    40% {\n",
              "      border-color: transparent;\n",
              "      border-right-color: var(--fill-color);\n",
              "      border-top-color: var(--fill-color);\n",
              "    }\n",
              "    60% {\n",
              "      border-color: transparent;\n",
              "      border-right-color: var(--fill-color);\n",
              "    }\n",
              "    80% {\n",
              "      border-color: transparent;\n",
              "      border-right-color: var(--fill-color);\n",
              "      border-bottom-color: var(--fill-color);\n",
              "    }\n",
              "    90% {\n",
              "      border-color: transparent;\n",
              "      border-bottom-color: var(--fill-color);\n",
              "    }\n",
              "  }\n",
              "</style>\n",
              "\n",
              "  <script>\n",
              "    async function quickchart(key) {\n",
              "      const quickchartButtonEl =\n",
              "        document.querySelector('#' + key + ' button');\n",
              "      quickchartButtonEl.disabled = true;  // To prevent multiple clicks.\n",
              "      quickchartButtonEl.classList.add('colab-df-spinner');\n",
              "      try {\n",
              "        const charts = await google.colab.kernel.invokeFunction(\n",
              "            'suggestCharts', [key], {});\n",
              "      } catch (error) {\n",
              "        console.error('Error during call to suggestCharts:', error);\n",
              "      }\n",
              "      quickchartButtonEl.classList.remove('colab-df-spinner');\n",
              "      quickchartButtonEl.classList.add('colab-df-quickchart-complete');\n",
              "    }\n",
              "    (() => {\n",
              "      let quickchartButtonEl =\n",
              "        document.querySelector('#df-ea029345-21ab-40e1-b46b-0d488bd90ef3 button');\n",
              "      quickchartButtonEl.style.display =\n",
              "        google.colab.kernel.accessAllowed ? 'block' : 'none';\n",
              "    })();\n",
              "  </script>\n",
              "</div>\n",
              "\n",
              "    </div>\n",
              "  </div>\n"
            ],
            "application/vnd.google.colaboratory.intrinsic+json": {
              "type": "dataframe",
              "variable_name": "data",
              "summary": "{\n  \"name\": \"data\",\n  \"rows\": 7008,\n  \"fields\": [\n    {\n      \"column\": \"recibido\",\n      \"properties\": {\n        \"dtype\": \"string\",\n        \"num_unique_values\": 4100,\n        \"samples\": [\n          \"\\u00bfSab\\u00edas que los medicamentos para la DIABETES y la insulina se entregan gratis para las personas que no tienen obra social? | si gracias\",\n          \" Disminuir el consumo de gaseosas y jugos artificiales (como Carioca, Mocoret\\u00e1, Tang) te va a ayudar a bajar de peso y a controlar el az\\u00facar en sangre. \\u00bfQu\\u00e9 te parece solo tomarlo en ocasiones especiales? | gracias\",\n          \"\\u00a1Te damos la bienvenida! Recibir\\u00e1s un mensaje semanal con consejos para cuidarte y mejorar tu salud. Pod\\u00e9s dejar de recibir estos mensajes enviando 'BAJA' a este n\\u00famero. | si aprobaci\\u00f3n\"\n        ],\n        \"semantic_type\": \"\",\n        \"description\": \"\"\n      }\n    },\n    {\n      \"column\": \"clase\",\n      \"properties\": {\n        \"dtype\": \"category\",\n        \"num_unique_values\": 9,\n        \"samples\": [\n          \"autorespuesta\",\n          \"respuesta\",\n          \"optin\"\n        ],\n        \"semantic_type\": \"\",\n        \"description\": \"\"\n      }\n    },\n    {\n      \"column\": \"clases_cat\",\n      \"properties\": {\n        \"dtype\": \"int8\",\n        \"num_unique_values\": 9,\n        \"samples\": [\n          1,\n          8,\n          6\n        ],\n        \"semantic_type\": \"\",\n        \"description\": \"\"\n      }\n    }\n  ]\n}"
            }
          },
          "metadata": {},
          "execution_count": 79
        }
      ]
    },
    {
      "cell_type": "code",
      "source": [],
      "metadata": {
        "id": "iJkQZjrOdv4u"
      },
      "execution_count": null,
      "outputs": []
    },
    {
      "cell_type": "code",
      "source": [
        "from sklearn.model_selection import train_test_split\n",
        "\n",
        "# Dividir el dataset en conjuntos de entrenamiento y prueba\n",
        "train_data, test_data = train_test_split(data, test_size=0.2, random_state=42)\n",
        "\n",
        "\n",
        "print(f'Tamaño del conjunto de entrenamiento: {len(train_data)}')\n",
        "print(f'Tamaño del conjunto de prueba: {len(test_data)}')"
      ],
      "metadata": {
        "colab": {
          "base_uri": "https://localhost:8080/"
        },
        "id": "gY3F6gp6CqUE",
        "outputId": "4bed9183-4396-41fe-c68f-165d676fc98a"
      },
      "execution_count": null,
      "outputs": [
        {
          "output_type": "stream",
          "name": "stdout",
          "text": [
            "Tamaño del conjunto de entrenamiento: 5606\n",
            "Tamaño del conjunto de prueba: 1402\n"
          ]
        }
      ]
    },
    {
      "cell_type": "code",
      "source": [
        "# Crear el tokenizador\n",
        "tokenizer = BertTokenizer.from_pretrained(\"dccuchile/bert-base-spanish-wwm-cased\")"
      ],
      "metadata": {
        "id": "XRPhHmF0C1ba"
      },
      "execution_count": null,
      "outputs": []
    },
    {
      "cell_type": "code",
      "source": [
        "# Función para tokenizar y convertir en tensores\n",
        "def tokenize_data(data):\n",
        "    # Asegurar que la columna 'recibido' contenga solo cadenas\n",
        "    data['recibido'] = data['recibido'].astype(str)\n",
        "\n",
        "    # Tokenizar los datos\n",
        "    inputs = tokenizer(data['recibido'].tolist(), padding=True, truncation=True, return_tensors=\"pt\")\n",
        "\n",
        "    # Convertir etiquetas de clase a tensores\n",
        "    labels = torch.tensor(data['clases_cat'].tolist())\n",
        "    inputs['labels'] = labels\n",
        "\n",
        "    return inputs\n"
      ],
      "metadata": {
        "id": "p5vONx4PC7AK"
      },
      "execution_count": null,
      "outputs": []
    },
    {
      "cell_type": "code",
      "source": [
        "# Tokenizar los datos de entrenamiento y prueba\n",
        "train_inputs = tokenize_data(train_data)\n",
        "test_inputs = tokenize_data(test_data)\n",
        "\n",
        "# Calcular los pesos de las clases en la CPU\n",
        "class_weights = compute_class_weight(class_weight='balanced', classes=data['clases_cat'].unique(), y=train_data['clases_cat'])\n",
        "class_weights = torch.tensor(class_weights, dtype=torch.float)\n"
      ],
      "metadata": {
        "id": "1opXpQagC_1h"
      },
      "execution_count": null,
      "outputs": []
    },
    {
      "cell_type": "code",
      "source": [
        "train_data.head()"
      ],
      "metadata": {
        "colab": {
          "base_uri": "https://localhost:8080/",
          "height": 206
        },
        "id": "z3lKQUu2dgz4",
        "outputId": "36811ab3-2d52-425a-ea2b-f5c277f21be0"
      },
      "execution_count": null,
      "outputs": [
        {
          "output_type": "execute_result",
          "data": {
            "text/plain": [
              "                                               recibido  \\\n",
              "1756   La DIABETES es una enfermedad que dura toda l...   \n",
              "3138   Tomar medicamentos para la DIABETES evita que...   \n",
              "1885   La insulina evita que la DIABETES avance. Ayu...   \n",
              "4676  ¿Sabías que los bizcochos, las galletitas, y l...   \n",
              "390    ¿Sabías que la DIABETES es una enfermedad que...   \n",
              "\n",
              "                        clase  clases_cat  \n",
              "1756                    otros           7  \n",
              "3138                respuesta           8  \n",
              "1885  agradecimiento o saludo           0  \n",
              "4676                respuesta           8  \n",
              "390                 respuesta           8  "
            ],
            "text/html": [
              "\n",
              "  <div id=\"df-f0545823-1f19-4798-88be-883dd670ce4c\" class=\"colab-df-container\">\n",
              "    <div>\n",
              "<style scoped>\n",
              "    .dataframe tbody tr th:only-of-type {\n",
              "        vertical-align: middle;\n",
              "    }\n",
              "\n",
              "    .dataframe tbody tr th {\n",
              "        vertical-align: top;\n",
              "    }\n",
              "\n",
              "    .dataframe thead th {\n",
              "        text-align: right;\n",
              "    }\n",
              "</style>\n",
              "<table border=\"1\" class=\"dataframe\">\n",
              "  <thead>\n",
              "    <tr style=\"text-align: right;\">\n",
              "      <th></th>\n",
              "      <th>recibido</th>\n",
              "      <th>clase</th>\n",
              "      <th>clases_cat</th>\n",
              "    </tr>\n",
              "  </thead>\n",
              "  <tbody>\n",
              "    <tr>\n",
              "      <th>1756</th>\n",
              "      <td>La DIABETES es una enfermedad que dura toda l...</td>\n",
              "      <td>otros</td>\n",
              "      <td>7</td>\n",
              "    </tr>\n",
              "    <tr>\n",
              "      <th>3138</th>\n",
              "      <td>Tomar medicamentos para la DIABETES evita que...</td>\n",
              "      <td>respuesta</td>\n",
              "      <td>8</td>\n",
              "    </tr>\n",
              "    <tr>\n",
              "      <th>1885</th>\n",
              "      <td>La insulina evita que la DIABETES avance. Ayu...</td>\n",
              "      <td>agradecimiento o saludo</td>\n",
              "      <td>0</td>\n",
              "    </tr>\n",
              "    <tr>\n",
              "      <th>4676</th>\n",
              "      <td>¿Sabías que los bizcochos, las galletitas, y l...</td>\n",
              "      <td>respuesta</td>\n",
              "      <td>8</td>\n",
              "    </tr>\n",
              "    <tr>\n",
              "      <th>390</th>\n",
              "      <td>¿Sabías que la DIABETES es una enfermedad que...</td>\n",
              "      <td>respuesta</td>\n",
              "      <td>8</td>\n",
              "    </tr>\n",
              "  </tbody>\n",
              "</table>\n",
              "</div>\n",
              "    <div class=\"colab-df-buttons\">\n",
              "\n",
              "  <div class=\"colab-df-container\">\n",
              "    <button class=\"colab-df-convert\" onclick=\"convertToInteractive('df-f0545823-1f19-4798-88be-883dd670ce4c')\"\n",
              "            title=\"Convert this dataframe to an interactive table.\"\n",
              "            style=\"display:none;\">\n",
              "\n",
              "  <svg xmlns=\"http://www.w3.org/2000/svg\" height=\"24px\" viewBox=\"0 -960 960 960\">\n",
              "    <path d=\"M120-120v-720h720v720H120Zm60-500h600v-160H180v160Zm220 220h160v-160H400v160Zm0 220h160v-160H400v160ZM180-400h160v-160H180v160Zm440 0h160v-160H620v160ZM180-180h160v-160H180v160Zm440 0h160v-160H620v160Z\"/>\n",
              "  </svg>\n",
              "    </button>\n",
              "\n",
              "  <style>\n",
              "    .colab-df-container {\n",
              "      display:flex;\n",
              "      gap: 12px;\n",
              "    }\n",
              "\n",
              "    .colab-df-convert {\n",
              "      background-color: #E8F0FE;\n",
              "      border: none;\n",
              "      border-radius: 50%;\n",
              "      cursor: pointer;\n",
              "      display: none;\n",
              "      fill: #1967D2;\n",
              "      height: 32px;\n",
              "      padding: 0 0 0 0;\n",
              "      width: 32px;\n",
              "    }\n",
              "\n",
              "    .colab-df-convert:hover {\n",
              "      background-color: #E2EBFA;\n",
              "      box-shadow: 0px 1px 2px rgba(60, 64, 67, 0.3), 0px 1px 3px 1px rgba(60, 64, 67, 0.15);\n",
              "      fill: #174EA6;\n",
              "    }\n",
              "\n",
              "    .colab-df-buttons div {\n",
              "      margin-bottom: 4px;\n",
              "    }\n",
              "\n",
              "    [theme=dark] .colab-df-convert {\n",
              "      background-color: #3B4455;\n",
              "      fill: #D2E3FC;\n",
              "    }\n",
              "\n",
              "    [theme=dark] .colab-df-convert:hover {\n",
              "      background-color: #434B5C;\n",
              "      box-shadow: 0px 1px 3px 1px rgba(0, 0, 0, 0.15);\n",
              "      filter: drop-shadow(0px 1px 2px rgba(0, 0, 0, 0.3));\n",
              "      fill: #FFFFFF;\n",
              "    }\n",
              "  </style>\n",
              "\n",
              "    <script>\n",
              "      const buttonEl =\n",
              "        document.querySelector('#df-f0545823-1f19-4798-88be-883dd670ce4c button.colab-df-convert');\n",
              "      buttonEl.style.display =\n",
              "        google.colab.kernel.accessAllowed ? 'block' : 'none';\n",
              "\n",
              "      async function convertToInteractive(key) {\n",
              "        const element = document.querySelector('#df-f0545823-1f19-4798-88be-883dd670ce4c');\n",
              "        const dataTable =\n",
              "          await google.colab.kernel.invokeFunction('convertToInteractive',\n",
              "                                                    [key], {});\n",
              "        if (!dataTable) return;\n",
              "\n",
              "        const docLinkHtml = 'Like what you see? Visit the ' +\n",
              "          '<a target=\"_blank\" href=https://colab.research.google.com/notebooks/data_table.ipynb>data table notebook</a>'\n",
              "          + ' to learn more about interactive tables.';\n",
              "        element.innerHTML = '';\n",
              "        dataTable['output_type'] = 'display_data';\n",
              "        await google.colab.output.renderOutput(dataTable, element);\n",
              "        const docLink = document.createElement('div');\n",
              "        docLink.innerHTML = docLinkHtml;\n",
              "        element.appendChild(docLink);\n",
              "      }\n",
              "    </script>\n",
              "  </div>\n",
              "\n",
              "\n",
              "<div id=\"df-36fb35dd-49ff-459e-9008-318b16741a55\">\n",
              "  <button class=\"colab-df-quickchart\" onclick=\"quickchart('df-36fb35dd-49ff-459e-9008-318b16741a55')\"\n",
              "            title=\"Suggest charts\"\n",
              "            style=\"display:none;\">\n",
              "\n",
              "<svg xmlns=\"http://www.w3.org/2000/svg\" height=\"24px\"viewBox=\"0 0 24 24\"\n",
              "     width=\"24px\">\n",
              "    <g>\n",
              "        <path d=\"M19 3H5c-1.1 0-2 .9-2 2v14c0 1.1.9 2 2 2h14c1.1 0 2-.9 2-2V5c0-1.1-.9-2-2-2zM9 17H7v-7h2v7zm4 0h-2V7h2v10zm4 0h-2v-4h2v4z\"/>\n",
              "    </g>\n",
              "</svg>\n",
              "  </button>\n",
              "\n",
              "<style>\n",
              "  .colab-df-quickchart {\n",
              "      --bg-color: #E8F0FE;\n",
              "      --fill-color: #1967D2;\n",
              "      --hover-bg-color: #E2EBFA;\n",
              "      --hover-fill-color: #174EA6;\n",
              "      --disabled-fill-color: #AAA;\n",
              "      --disabled-bg-color: #DDD;\n",
              "  }\n",
              "\n",
              "  [theme=dark] .colab-df-quickchart {\n",
              "      --bg-color: #3B4455;\n",
              "      --fill-color: #D2E3FC;\n",
              "      --hover-bg-color: #434B5C;\n",
              "      --hover-fill-color: #FFFFFF;\n",
              "      --disabled-bg-color: #3B4455;\n",
              "      --disabled-fill-color: #666;\n",
              "  }\n",
              "\n",
              "  .colab-df-quickchart {\n",
              "    background-color: var(--bg-color);\n",
              "    border: none;\n",
              "    border-radius: 50%;\n",
              "    cursor: pointer;\n",
              "    display: none;\n",
              "    fill: var(--fill-color);\n",
              "    height: 32px;\n",
              "    padding: 0;\n",
              "    width: 32px;\n",
              "  }\n",
              "\n",
              "  .colab-df-quickchart:hover {\n",
              "    background-color: var(--hover-bg-color);\n",
              "    box-shadow: 0 1px 2px rgba(60, 64, 67, 0.3), 0 1px 3px 1px rgba(60, 64, 67, 0.15);\n",
              "    fill: var(--button-hover-fill-color);\n",
              "  }\n",
              "\n",
              "  .colab-df-quickchart-complete:disabled,\n",
              "  .colab-df-quickchart-complete:disabled:hover {\n",
              "    background-color: var(--disabled-bg-color);\n",
              "    fill: var(--disabled-fill-color);\n",
              "    box-shadow: none;\n",
              "  }\n",
              "\n",
              "  .colab-df-spinner {\n",
              "    border: 2px solid var(--fill-color);\n",
              "    border-color: transparent;\n",
              "    border-bottom-color: var(--fill-color);\n",
              "    animation:\n",
              "      spin 1s steps(1) infinite;\n",
              "  }\n",
              "\n",
              "  @keyframes spin {\n",
              "    0% {\n",
              "      border-color: transparent;\n",
              "      border-bottom-color: var(--fill-color);\n",
              "      border-left-color: var(--fill-color);\n",
              "    }\n",
              "    20% {\n",
              "      border-color: transparent;\n",
              "      border-left-color: var(--fill-color);\n",
              "      border-top-color: var(--fill-color);\n",
              "    }\n",
              "    30% {\n",
              "      border-color: transparent;\n",
              "      border-left-color: var(--fill-color);\n",
              "      border-top-color: var(--fill-color);\n",
              "      border-right-color: var(--fill-color);\n",
              "    }\n",
              "    40% {\n",
              "      border-color: transparent;\n",
              "      border-right-color: var(--fill-color);\n",
              "      border-top-color: var(--fill-color);\n",
              "    }\n",
              "    60% {\n",
              "      border-color: transparent;\n",
              "      border-right-color: var(--fill-color);\n",
              "    }\n",
              "    80% {\n",
              "      border-color: transparent;\n",
              "      border-right-color: var(--fill-color);\n",
              "      border-bottom-color: var(--fill-color);\n",
              "    }\n",
              "    90% {\n",
              "      border-color: transparent;\n",
              "      border-bottom-color: var(--fill-color);\n",
              "    }\n",
              "  }\n",
              "</style>\n",
              "\n",
              "  <script>\n",
              "    async function quickchart(key) {\n",
              "      const quickchartButtonEl =\n",
              "        document.querySelector('#' + key + ' button');\n",
              "      quickchartButtonEl.disabled = true;  // To prevent multiple clicks.\n",
              "      quickchartButtonEl.classList.add('colab-df-spinner');\n",
              "      try {\n",
              "        const charts = await google.colab.kernel.invokeFunction(\n",
              "            'suggestCharts', [key], {});\n",
              "      } catch (error) {\n",
              "        console.error('Error during call to suggestCharts:', error);\n",
              "      }\n",
              "      quickchartButtonEl.classList.remove('colab-df-spinner');\n",
              "      quickchartButtonEl.classList.add('colab-df-quickchart-complete');\n",
              "    }\n",
              "    (() => {\n",
              "      let quickchartButtonEl =\n",
              "        document.querySelector('#df-36fb35dd-49ff-459e-9008-318b16741a55 button');\n",
              "      quickchartButtonEl.style.display =\n",
              "        google.colab.kernel.accessAllowed ? 'block' : 'none';\n",
              "    })();\n",
              "  </script>\n",
              "</div>\n",
              "\n",
              "    </div>\n",
              "  </div>\n"
            ],
            "application/vnd.google.colaboratory.intrinsic+json": {
              "type": "dataframe",
              "variable_name": "train_data",
              "summary": "{\n  \"name\": \"train_data\",\n  \"rows\": 5606,\n  \"fields\": [\n    {\n      \"column\": \"recibido\",\n      \"properties\": {\n        \"dtype\": \"string\",\n        \"num_unique_values\": 3368,\n        \"samples\": [\n          \"\\u00bfQuer\\u00e9s empezar a hacer actividad f\\u00edsica? Busc\\u00e1 algo que te divierta. \\u00bfQu\\u00e9 te parece bailar? Lo pod\\u00e9s hacer solo/a o acompa\\u00f1ado. Es una muy buena decisi\\u00f3n, \\u00a1VAMOS! | si nunca baile intento\",\n          \" \\u00bfSab\\u00edas que la DIABETES es una enfermedad que se puede prevenir? | hola no sabia\",\n          \"Necesitamos tu aprobaci\\u00f3n para enviarte mensajes con consejos saludables semanales por WhatsApp. Si no quer\\u00e9s recibirlos, respond\\u00e9 'NO quiero recibirlos'. Si quer\\u00e9s recibirlos, por favor respond\\u00e9 'S\\u00cd quiero recibirlos' a este mensaje. | buen\\u00edsimo cuiden salud hay demaciado floja hacernos atender gracias dios bendiga\"\n        ],\n        \"semantic_type\": \"\",\n        \"description\": \"\"\n      }\n    },\n    {\n      \"column\": \"clase\",\n      \"properties\": {\n        \"dtype\": \"category\",\n        \"num_unique_values\": 9,\n        \"samples\": [\n          \"medicaci\\u00f3n o turno\",\n          \"respuesta\",\n          \"baja\"\n        ],\n        \"semantic_type\": \"\",\n        \"description\": \"\"\n      }\n    },\n    {\n      \"column\": \"clases_cat\",\n      \"properties\": {\n        \"dtype\": \"int8\",\n        \"num_unique_values\": 9,\n        \"samples\": [\n          5,\n          8,\n          2\n        ],\n        \"semantic_type\": \"\",\n        \"description\": \"\"\n      }\n    }\n  ]\n}"
            }
          },
          "metadata": {},
          "execution_count": 84
        }
      ]
    },
    {
      "cell_type": "code",
      "source": [
        "# Definir un Dataset personalizado\n",
        "class CustomDataset(Dataset):\n",
        "    def __init__(self, inputs):\n",
        "        self.inputs = inputs\n",
        "\n",
        "    def __len__(self):\n",
        "        return len(self.inputs['input_ids'])\n",
        "\n",
        "    def __getitem__(self, idx):\n",
        "        # Removed the .to(device) call as tensors will be moved to device in the Trainer\n",
        "        item = {key: val[idx] for key, val in self.inputs.items()}\n",
        "        return item\n",
        "\n",
        "train_dataset = CustomDataset(train_inputs)\n",
        "test_dataset = CustomDataset(test_inputs)"
      ],
      "metadata": {
        "id": "PyM_6RwBVeXp"
      },
      "execution_count": null,
      "outputs": []
    },
    {
      "cell_type": "code",
      "source": [
        "\n",
        "\n",
        "# Crear el modelo\n",
        "model = BertForSequenceClassification.from_pretrained(\"dccuchile/bert-base-spanish-wwm-cased\", num_labels=num_labels)\n",
        "model.to(device)\n"
      ],
      "metadata": {
        "colab": {
          "base_uri": "https://localhost:8080/"
        },
        "id": "hfypyXYpDGTJ",
        "outputId": "5dce5ad2-9435-493e-ca43-b2296dd2d726"
      },
      "execution_count": null,
      "outputs": [
        {
          "output_type": "stream",
          "name": "stderr",
          "text": [
            "Some weights of BertForSequenceClassification were not initialized from the model checkpoint at dccuchile/bert-base-spanish-wwm-cased and are newly initialized: ['bert.pooler.dense.bias', 'bert.pooler.dense.weight', 'classifier.bias', 'classifier.weight']\n",
            "You should probably TRAIN this model on a down-stream task to be able to use it for predictions and inference.\n"
          ]
        },
        {
          "output_type": "execute_result",
          "data": {
            "text/plain": [
              "BertForSequenceClassification(\n",
              "  (bert): BertModel(\n",
              "    (embeddings): BertEmbeddings(\n",
              "      (word_embeddings): Embedding(31002, 768, padding_idx=1)\n",
              "      (position_embeddings): Embedding(512, 768)\n",
              "      (token_type_embeddings): Embedding(2, 768)\n",
              "      (LayerNorm): LayerNorm((768,), eps=1e-12, elementwise_affine=True)\n",
              "      (dropout): Dropout(p=0.1, inplace=False)\n",
              "    )\n",
              "    (encoder): BertEncoder(\n",
              "      (layer): ModuleList(\n",
              "        (0-11): 12 x BertLayer(\n",
              "          (attention): BertAttention(\n",
              "            (self): BertSdpaSelfAttention(\n",
              "              (query): Linear(in_features=768, out_features=768, bias=True)\n",
              "              (key): Linear(in_features=768, out_features=768, bias=True)\n",
              "              (value): Linear(in_features=768, out_features=768, bias=True)\n",
              "              (dropout): Dropout(p=0.1, inplace=False)\n",
              "            )\n",
              "            (output): BertSelfOutput(\n",
              "              (dense): Linear(in_features=768, out_features=768, bias=True)\n",
              "              (LayerNorm): LayerNorm((768,), eps=1e-12, elementwise_affine=True)\n",
              "              (dropout): Dropout(p=0.1, inplace=False)\n",
              "            )\n",
              "          )\n",
              "          (intermediate): BertIntermediate(\n",
              "            (dense): Linear(in_features=768, out_features=3072, bias=True)\n",
              "            (intermediate_act_fn): GELUActivation()\n",
              "          )\n",
              "          (output): BertOutput(\n",
              "            (dense): Linear(in_features=3072, out_features=768, bias=True)\n",
              "            (LayerNorm): LayerNorm((768,), eps=1e-12, elementwise_affine=True)\n",
              "            (dropout): Dropout(p=0.1, inplace=False)\n",
              "          )\n",
              "        )\n",
              "      )\n",
              "    )\n",
              "    (pooler): BertPooler(\n",
              "      (dense): Linear(in_features=768, out_features=768, bias=True)\n",
              "      (activation): Tanh()\n",
              "    )\n",
              "  )\n",
              "  (dropout): Dropout(p=0.1, inplace=False)\n",
              "  (classifier): Linear(in_features=768, out_features=9, bias=True)\n",
              ")"
            ]
          },
          "metadata": {},
          "execution_count": 86
        }
      ]
    },
    {
      "cell_type": "code",
      "source": [
        " # Crear una función de pérdida personalizada para incluir los pesos de las clases\n",
        "class WeightedLossTrainer(Trainer):\n",
        "    def compute_loss(self, model, inputs, return_outputs=False):\n",
        "        labels = inputs.get(\"labels\").to(device)\n",
        "        inputs = {k: v.to(device) for k, v in inputs.items() if k != \"labels\"}\n",
        "        outputs = model(**inputs)\n",
        "        logits = outputs.get(\"logits\")\n",
        "        loss_fct = torch.nn.CrossEntropyLoss(weight=class_weights.to(device))\n",
        "        loss = loss_fct(logits, labels)\n",
        "        return (loss, outputs) if return_outputs else loss\n",
        "\n",
        "# Crear el objeto Trainer con la función de pérdida personalizada\n",
        "training_args = TrainingArguments(\n",
        "    output_dir='./results',\n",
        "    evaluation_strategy=\"epoch\",  # Cambiado a evaluation_strategy\n",
        "    per_device_train_batch_size=4,  # Reducir el tamaño del lote para evitar problemas de memoria\n",
        "    per_device_eval_batch_size=4,   # Reducir el tamaño del lote para evaluación también\n",
        "    num_train_epochs=3,\n",
        "    weight_decay=0.01,\n",
        ")\n",
        "\n",
        "trainer = WeightedLossTrainer(\n",
        "    model=model,\n",
        "    args=training_args,\n",
        "    train_dataset=train_dataset,\n",
        "    eval_dataset=test_dataset,\n",
        ")"
      ],
      "metadata": {
        "colab": {
          "base_uri": "https://localhost:8080/"
        },
        "id": "LE6aZc85ag52",
        "outputId": "2f05ddc8-af77-44a3-9f69-bc3a2b0d4a17"
      },
      "execution_count": null,
      "outputs": [
        {
          "output_type": "stream",
          "name": "stderr",
          "text": [
            "/usr/local/lib/python3.10/dist-packages/transformers/training_args.py:1474: FutureWarning: `evaluation_strategy` is deprecated and will be removed in version 4.46 of 🤗 Transformers. Use `eval_strategy` instead\n",
            "  warnings.warn(\n"
          ]
        }
      ]
    },
    {
      "cell_type": "code",
      "source": [
        "# Entrenar el modelo\n",
        "trainer.train()"
      ],
      "metadata": {
        "colab": {
          "base_uri": "https://localhost:8080/",
          "height": 205
        },
        "id": "p5IY0VMdEd2V",
        "outputId": "28376b8f-3dc2-4915-99b4-b2229ccdddb3"
      },
      "execution_count": null,
      "outputs": [
        {
          "output_type": "display_data",
          "data": {
            "text/plain": [
              "<IPython.core.display.HTML object>"
            ],
            "text/html": [
              "\n",
              "    <div>\n",
              "      \n",
              "      <progress value='4206' max='4206' style='width:300px; height:20px; vertical-align: middle;'></progress>\n",
              "      [4206/4206 18:25, Epoch 3/3]\n",
              "    </div>\n",
              "    <table border=\"1\" class=\"dataframe\">\n",
              "  <thead>\n",
              " <tr style=\"text-align: left;\">\n",
              "      <th>Epoch</th>\n",
              "      <th>Training Loss</th>\n",
              "      <th>Validation Loss</th>\n",
              "    </tr>\n",
              "  </thead>\n",
              "  <tbody>\n",
              "    <tr>\n",
              "      <td>1</td>\n",
              "      <td>0.539300</td>\n",
              "      <td>0.481005</td>\n",
              "    </tr>\n",
              "    <tr>\n",
              "      <td>2</td>\n",
              "      <td>0.343700</td>\n",
              "      <td>0.448778</td>\n",
              "    </tr>\n",
              "    <tr>\n",
              "      <td>3</td>\n",
              "      <td>0.139000</td>\n",
              "      <td>0.489872</td>\n",
              "    </tr>\n",
              "  </tbody>\n",
              "</table><p>"
            ]
          },
          "metadata": {}
        },
        {
          "output_type": "execute_result",
          "data": {
            "text/plain": [
              "TrainOutput(global_step=4206, training_loss=0.3680028176228319, metrics={'train_runtime': 1106.0123, 'train_samples_per_second': 15.206, 'train_steps_per_second': 3.803, 'total_flos': 1953346179895704.0, 'train_loss': 0.3680028176228319, 'epoch': 3.0})"
            ]
          },
          "metadata": {},
          "execution_count": 88
        }
      ]
    },
    {
      "cell_type": "code",
      "source": [
        "# Evaluar el modelo\n",
        "eval_results = trainer.evaluate()\n",
        "print(f\"Resultados de la evaluación: {eval_results}\")\n",
        "\n",
        "# Evaluación detallada con classification_report y confusion_matrix\n",
        "from sklearn.metrics import classification_report, confusion_matrix\n",
        "\n",
        "# Predecir etiquetas para el conjunto de prueba\n",
        "y_pred = trainer.predict(test_dataset).predictions.argmax(axis=1)\n",
        "y_true = test_inputs['labels'].numpy()\n",
        "\n",
        "# Imprimir el reporte de clasificación\n",
        "report = classification_report(y_true, y_pred, target_names=data['clase'].cat.categories)\n",
        "print(report)\n",
        "\n",
        "# Imprimir la matriz de confusión\n",
        "cm = confusion_matrix(y_true, y_pred)\n",
        "print(cm)"
      ],
      "metadata": {
        "colab": {
          "base_uri": "https://localhost:8080/",
          "height": 506
        },
        "id": "zEJOhTKSbTjN",
        "outputId": "8702f4fa-c707-4322-e850-24ce2cf395db"
      },
      "execution_count": null,
      "outputs": [
        {
          "output_type": "display_data",
          "data": {
            "text/plain": [
              "<IPython.core.display.HTML object>"
            ],
            "text/html": []
          },
          "metadata": {}
        },
        {
          "output_type": "stream",
          "name": "stdout",
          "text": [
            "Resultados de la evaluación: {'eval_loss': 0.4898715019226074, 'eval_runtime': 15.1043, 'eval_samples_per_second': 92.821, 'eval_steps_per_second': 23.238, 'epoch': 3.0}\n",
            "                         precision    recall  f1-score   support\n",
            "\n",
            "agradecimiento o saludo       0.97      0.97      0.97       463\n",
            "          autorespuesta       1.00      0.95      0.98        21\n",
            "                   baja       0.94      0.84      0.89        19\n",
            "             equivocado       0.81      0.81      0.81        16\n",
            "               glicemia       0.93      0.76      0.84        17\n",
            "     medicación o turno       0.72      0.76      0.74        37\n",
            "                  optin       0.99      0.98      0.99       383\n",
            "                  otros       0.65      0.61      0.63        51\n",
            "              respuesta       0.89      0.91      0.90       395\n",
            "\n",
            "               accuracy                           0.93      1402\n",
            "              macro avg       0.88      0.84      0.86      1402\n",
            "           weighted avg       0.93      0.93      0.93      1402\n",
            "\n",
            "[[449   0   0   0   0   0   0   1  13]\n",
            " [  0  20   0   0   0   0   0   0   1]\n",
            " [  0   0  16   0   0   0   0   0   3]\n",
            " [  0   0   0  13   0   0   0   1   2]\n",
            " [  0   0   0   0  13   0   0   0   4]\n",
            " [  0   0   0   0   0  28   0   4   5]\n",
            " [  1   0   0   1   0   1 376   0   4]\n",
            " [  2   0   0   2   0   1   1  31  14]\n",
            " [ 11   0   1   0   1   9   2  11 360]]\n"
          ]
        }
      ]
    },
    {
      "cell_type": "markdown",
      "source": [
        "| **Clase**                | **Precision** | **Recall** | **F1-score** | **Support** |\n",
        "|--------------------------|---------------|------------|--------------|-------------|\n",
        "| agradecimiento o saludo  | 0.94          | 0.96       | 0.95         | 463         |\n",
        "| autorespuesta            | 1.00          | 0.90       | 0.95         | 21          |\n",
        "| baja                     | 0.88          | 0.79       | 0.83         | 19          |\n",
        "| equivocado               | 0.87          | 0.81       | 0.84         | 16          |\n",
        "| glicemia                 | 0.62          | 0.29       | 0.40         | 17          |\n",
        "| medicación o turno       | 0.78          | 0.68       | 0.72         | 37          |\n",
        "| optin                    | 0.98          | 0.90       | 0.94         | 383         |\n",
        "| otros                    | 0.74          | 0.78       | 0.76         | 51          |\n",
        "| respuesta                | 0.84          | 0.92       | 0.88         | 395         |\n",
        "| **accuracy**             |               |            | 0.91         | 1402        |\n",
        "| **macro avg**            | 0.85          | 0.78       | 0.81         | 1402        |\n",
        "| **weighted avg**         | 0.91          | 0.91       | 0.91         | 1402        |\n"
      ],
      "metadata": {
        "id": "d_6SEnBMrDRJ"
      }
    },
    {
      "cell_type": "code",
      "source": [],
      "metadata": {
        "id": "qkXDftIArDCK"
      },
      "execution_count": null,
      "outputs": []
    },
    {
      "cell_type": "code",
      "source": [
        "# Mostrar y_true y y_pred\n",
        "print(\"y_true:\", y_true)\n",
        "print(\"y_pred:\", y_pred)"
      ],
      "metadata": {
        "colab": {
          "base_uri": "https://localhost:8080/"
        },
        "id": "gmVhiL5Ci8Jy",
        "outputId": "0ae51c5a-26ce-42db-eeb4-8c0137edca3a"
      },
      "execution_count": null,
      "outputs": [
        {
          "output_type": "stream",
          "name": "stdout",
          "text": [
            "y_true: [6 0 0 ... 6 8 5]\n",
            "y_pred: [6 0 0 ... 6 8 5]\n"
          ]
        }
      ]
    },
    {
      "cell_type": "code",
      "source": [
        "# Mostrar y_true, y_pred y los datos originales\n",
        "results = pd.DataFrame({\n",
        "    'Mensaje Original': test_data['recibido'],\n",
        "    'Etiqueta Real': y_true,\n",
        "    'Predicción': y_pred,\n",
        "    'Clase Real': test_data['clase'].cat.categories[y_true],\n",
        "    'Clase Predicha': test_data['clase'].cat.categories[y_pred]\n",
        "})\n",
        "\n",
        "print(results)"
      ],
      "metadata": {
        "colab": {
          "base_uri": "https://localhost:8080/"
        },
        "id": "4z2uZYqSj0OI",
        "outputId": "0bb4e83f-20e3-42b8-9b9c-8aa2f42ddfd6"
      },
      "execution_count": null,
      "outputs": [
        {
          "output_type": "stream",
          "name": "stdout",
          "text": [
            "                                       Mensaje Original  Etiqueta Real  \\\n",
            "5153  El Programa de Diabetes nunca te va a pedir un...              6   \n",
            "3607  ¡Te damos la bienvenida! Recibirás un mensaje ...              0   \n",
            "246    ¿Qué podés hacer hoy para acercarte a cumplir...              0   \n",
            "3291  ¡Te damos la bienvenida! Recibirás un mensaje ...              6   \n",
            "5843  Necesitamos tu aprobación para enviarte mensaj...              3   \n",
            "...                                                 ...            ...   \n",
            "3657  ¡Te damos la bienvenida! Recibirás un mensaje ...              6   \n",
            "4180  ¡Te damos la bienvenida! Recibirás un mensaje ...              6   \n",
            "6929  Te damos la bienvenida al programa de prevenci...              6   \n",
            "1335   En la visita con el médico, habla los temas q...              8   \n",
            "5215  En la visita con el médico, habla los temas qu...              5   \n",
            "\n",
            "      Predicción               Clase Real           Clase Predicha  \n",
            "5153           6                    optin                    optin  \n",
            "3607           0  agradecimiento o saludo  agradecimiento o saludo  \n",
            "246            0  agradecimiento o saludo  agradecimiento o saludo  \n",
            "3291           6                    optin                    optin  \n",
            "5843           3               equivocado               equivocado  \n",
            "...          ...                      ...                      ...  \n",
            "3657           6                    optin                    optin  \n",
            "4180           6                    optin                    optin  \n",
            "6929           6                    optin                    optin  \n",
            "1335           8                respuesta                respuesta  \n",
            "5215           5       medicación o turno       medicación o turno  \n",
            "\n",
            "[1402 rows x 5 columns]\n"
          ]
        }
      ]
    },
    {
      "cell_type": "code",
      "source": [
        "# Guardar el DataFrame en un archivo CSV\n",
        "if os.path.isfile(\"/content/mensajes_trabajo_final.xlsx\"):\n",
        "  results.to_csv('/content/resultados_detallados.csv', index=False)\n",
        "  print(\"Resultados guardados en '/content/drive/MyDrive/UCU-NLP/resultados_detallados_combinados_preprocesados.csv'\")\n",
        "else:\n",
        "  results.to_csv('/content/drive/MyDrive/UCU-NLP/resultados_detallados_combinados_preprocesados.csv', index=False)\n",
        "  print(\"Resultados guardados en '/content/drive/MyDrive/UCU-NLP/resultados_detallados_combinados_preprocesados.csv'\")\n"
      ],
      "metadata": {
        "colab": {
          "base_uri": "https://localhost:8080/"
        },
        "id": "Tz3gjadgc87Y",
        "outputId": "bad97f35-8121-4b3c-d5f9-e9d109009807"
      },
      "execution_count": null,
      "outputs": [
        {
          "output_type": "stream",
          "name": "stdout",
          "text": [
            "Resultados guardados en '/content/drive/MyDrive/UCU-NLP/resultados_detallados_combinados_preprocesados.csv'\n"
          ]
        }
      ]
    },
    {
      "cell_type": "markdown",
      "source": [
        "#\n",
        "################################################################################################################################################################"
      ],
      "metadata": {
        "id": "e063MeaR5ZXd"
      }
    }
  ]
}